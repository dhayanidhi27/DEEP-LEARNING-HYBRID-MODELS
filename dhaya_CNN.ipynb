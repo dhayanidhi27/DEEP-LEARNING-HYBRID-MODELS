{
  "nbformat": 4,
  "nbformat_minor": 0,
  "metadata": {
    "colab": {
      "name": "manjari-CNN.ipynb",
      "provenance": [],
      "collapsed_sections": []
    },
    "kernelspec": {
      "name": "python3",
      "display_name": "Python 3"
    },
    "language_info": {
      "name": "python"
    }
  },
  "cells": [
    {
      "cell_type": "code",
      "execution_count": null,
      "metadata": {
        "id": "__ZAs5qkvQPW"
      },
      "outputs": [],
      "source": [
        "import pandas as pd\n",
        "from datetime import datetime\n",
        "from math import sqrt\n",
        "import numpy as np\n",
        "from numpy import concatenate\n",
        "from matplotlib import pyplot\n",
        "from pandas import read_csv\n",
        "from pandas import DataFrame\n",
        "from keras.layers import Dropout\n",
        "from keras.layers import TimeDistributed\n",
        "from tensorflow.keras.callbacks import ModelCheckpoint\n",
        "from tensorflow.keras.optimizers import Adam\n",
        "from pandas import concat\n",
        "from sklearn.preprocessing import MinMaxScaler\n",
        "from sklearn.preprocessing import StandardScaler\n",
        "from sklearn.preprocessing import LabelEncoder\n",
        "from sklearn.metrics import mean_squared_error\n",
        "from keras.models import Sequential\n",
        "from keras.layers import Dense\n",
        "from keras.layers import LSTM,Bidirectional\n",
        "import pandas as pd\n",
        "from keras.layers import Flatten\n",
        "from keras.layers.convolutional import Conv1D\n",
        "from keras.layers.convolutional import MaxPooling1D\n",
        "from keras.layers import SimpleRNN\n",
        "from tensorflow import optimizers\n"
      ]
    },
    {
      "cell_type": "code",
      "source": [
        "# load dataset\n",
        "dataset = read_csv('DATASETAIML3.csv', header=0, index_col=0)\n",
        "values = dataset.values"
      ],
      "metadata": {
        "id": "d9gvWUY9v_Fy"
      },
      "execution_count": null,
      "outputs": []
    },
    {
      "cell_type": "code",
      "source": [
        "dataset.head()"
      ],
      "metadata": {
        "colab": {
          "base_uri": "https://localhost:8080/",
          "height": 206
        },
        "id": "kaLxyb38wzHO",
        "outputId": "d6b9e748-ecac-4913-f239-65de029c438a"
      },
      "execution_count": null,
      "outputs": [
        {
          "output_type": "execute_result",
          "data": {
            "text/plain": [
              "         Date  Time  WS [m/s]  DIR [°]\n",
              "0  1201950000     0      6.99    37.08\n",
              "1  1201950100   100      6.73    34.21\n",
              "2  1201950200   200      6.55    31.23\n",
              "3  1201950300   300      6.44    29.75\n",
              "4  1201950400   400      6.33    28.83"
            ],
            "text/html": [
              "\n",
              "  <div id=\"df-e49f3129-4824-4c88-ac95-7a680cf041e9\">\n",
              "    <div class=\"colab-df-container\">\n",
              "      <div>\n",
              "<style scoped>\n",
              "    .dataframe tbody tr th:only-of-type {\n",
              "        vertical-align: middle;\n",
              "    }\n",
              "\n",
              "    .dataframe tbody tr th {\n",
              "        vertical-align: top;\n",
              "    }\n",
              "\n",
              "    .dataframe thead th {\n",
              "        text-align: right;\n",
              "    }\n",
              "</style>\n",
              "<table border=\"1\" class=\"dataframe\">\n",
              "  <thead>\n",
              "    <tr style=\"text-align: right;\">\n",
              "      <th></th>\n",
              "      <th>Date</th>\n",
              "      <th>Time</th>\n",
              "      <th>WS [m/s]</th>\n",
              "      <th>DIR [°]</th>\n",
              "    </tr>\n",
              "  </thead>\n",
              "  <tbody>\n",
              "    <tr>\n",
              "      <th>0</th>\n",
              "      <td>1201950000</td>\n",
              "      <td>0</td>\n",
              "      <td>6.99</td>\n",
              "      <td>37.08</td>\n",
              "    </tr>\n",
              "    <tr>\n",
              "      <th>1</th>\n",
              "      <td>1201950100</td>\n",
              "      <td>100</td>\n",
              "      <td>6.73</td>\n",
              "      <td>34.21</td>\n",
              "    </tr>\n",
              "    <tr>\n",
              "      <th>2</th>\n",
              "      <td>1201950200</td>\n",
              "      <td>200</td>\n",
              "      <td>6.55</td>\n",
              "      <td>31.23</td>\n",
              "    </tr>\n",
              "    <tr>\n",
              "      <th>3</th>\n",
              "      <td>1201950300</td>\n",
              "      <td>300</td>\n",
              "      <td>6.44</td>\n",
              "      <td>29.75</td>\n",
              "    </tr>\n",
              "    <tr>\n",
              "      <th>4</th>\n",
              "      <td>1201950400</td>\n",
              "      <td>400</td>\n",
              "      <td>6.33</td>\n",
              "      <td>28.83</td>\n",
              "    </tr>\n",
              "  </tbody>\n",
              "</table>\n",
              "</div>\n",
              "      <button class=\"colab-df-convert\" onclick=\"convertToInteractive('df-e49f3129-4824-4c88-ac95-7a680cf041e9')\"\n",
              "              title=\"Convert this dataframe to an interactive table.\"\n",
              "              style=\"display:none;\">\n",
              "        \n",
              "  <svg xmlns=\"http://www.w3.org/2000/svg\" height=\"24px\"viewBox=\"0 0 24 24\"\n",
              "       width=\"24px\">\n",
              "    <path d=\"M0 0h24v24H0V0z\" fill=\"none\"/>\n",
              "    <path d=\"M18.56 5.44l.94 2.06.94-2.06 2.06-.94-2.06-.94-.94-2.06-.94 2.06-2.06.94zm-11 1L8.5 8.5l.94-2.06 2.06-.94-2.06-.94L8.5 2.5l-.94 2.06-2.06.94zm10 10l.94 2.06.94-2.06 2.06-.94-2.06-.94-.94-2.06-.94 2.06-2.06.94z\"/><path d=\"M17.41 7.96l-1.37-1.37c-.4-.4-.92-.59-1.43-.59-.52 0-1.04.2-1.43.59L10.3 9.45l-7.72 7.72c-.78.78-.78 2.05 0 2.83L4 21.41c.39.39.9.59 1.41.59.51 0 1.02-.2 1.41-.59l7.78-7.78 2.81-2.81c.8-.78.8-2.07 0-2.86zM5.41 20L4 18.59l7.72-7.72 1.47 1.35L5.41 20z\"/>\n",
              "  </svg>\n",
              "      </button>\n",
              "      \n",
              "  <style>\n",
              "    .colab-df-container {\n",
              "      display:flex;\n",
              "      flex-wrap:wrap;\n",
              "      gap: 12px;\n",
              "    }\n",
              "\n",
              "    .colab-df-convert {\n",
              "      background-color: #E8F0FE;\n",
              "      border: none;\n",
              "      border-radius: 50%;\n",
              "      cursor: pointer;\n",
              "      display: none;\n",
              "      fill: #1967D2;\n",
              "      height: 32px;\n",
              "      padding: 0 0 0 0;\n",
              "      width: 32px;\n",
              "    }\n",
              "\n",
              "    .colab-df-convert:hover {\n",
              "      background-color: #E2EBFA;\n",
              "      box-shadow: 0px 1px 2px rgba(60, 64, 67, 0.3), 0px 1px 3px 1px rgba(60, 64, 67, 0.15);\n",
              "      fill: #174EA6;\n",
              "    }\n",
              "\n",
              "    [theme=dark] .colab-df-convert {\n",
              "      background-color: #3B4455;\n",
              "      fill: #D2E3FC;\n",
              "    }\n",
              "\n",
              "    [theme=dark] .colab-df-convert:hover {\n",
              "      background-color: #434B5C;\n",
              "      box-shadow: 0px 1px 3px 1px rgba(0, 0, 0, 0.15);\n",
              "      filter: drop-shadow(0px 1px 2px rgba(0, 0, 0, 0.3));\n",
              "      fill: #FFFFFF;\n",
              "    }\n",
              "  </style>\n",
              "\n",
              "      <script>\n",
              "        const buttonEl =\n",
              "          document.querySelector('#df-e49f3129-4824-4c88-ac95-7a680cf041e9 button.colab-df-convert');\n",
              "        buttonEl.style.display =\n",
              "          google.colab.kernel.accessAllowed ? 'block' : 'none';\n",
              "\n",
              "        async function convertToInteractive(key) {\n",
              "          const element = document.querySelector('#df-e49f3129-4824-4c88-ac95-7a680cf041e9');\n",
              "          const dataTable =\n",
              "            await google.colab.kernel.invokeFunction('convertToInteractive',\n",
              "                                                     [key], {});\n",
              "          if (!dataTable) return;\n",
              "\n",
              "          const docLinkHtml = 'Like what you see? Visit the ' +\n",
              "            '<a target=\"_blank\" href=https://colab.research.google.com/notebooks/data_table.ipynb>data table notebook</a>'\n",
              "            + ' to learn more about interactive tables.';\n",
              "          element.innerHTML = '';\n",
              "          dataTable['output_type'] = 'display_data';\n",
              "          await google.colab.output.renderOutput(dataTable, element);\n",
              "          const docLink = document.createElement('div');\n",
              "          docLink.innerHTML = docLinkHtml;\n",
              "          element.appendChild(docLink);\n",
              "        }\n",
              "      </script>\n",
              "    </div>\n",
              "  </div>\n",
              "  "
            ]
          },
          "metadata": {},
          "execution_count": 3
        }
      ]
    },
    {
      "cell_type": "code",
      "source": [
        "# dataset.dropna()\n",
        "dataset.drop(dataset.columns[[1]], axis = 1, inplace = True)\n",
        "print(dataset.head())"
      ],
      "metadata": {
        "colab": {
          "base_uri": "https://localhost:8080/"
        },
        "id": "dKQ8ZJk5xe3E",
        "outputId": "b1a5bd86-2539-4fca-af38-f94d436bfbf1"
      },
      "execution_count": null,
      "outputs": [
        {
          "output_type": "stream",
          "name": "stdout",
          "text": [
            "         Date  WS [m/s]  DIR [°]\n",
            "0  1201950000      6.99    37.08\n",
            "1  1201950100      6.73    34.21\n",
            "2  1201950200      6.55    31.23\n",
            "3  1201950300      6.44    29.75\n",
            "4  1201950400      6.33    28.83\n"
          ]
        }
      ]
    },
    {
      "cell_type": "code",
      "source": [
        "# convert series to supervised learning\n",
        "def series_to_supervised(data, n_in=1, n_out=1, dropnan=True):\n",
        "\tn_vars = 1 if type(data) is list else data.shape[1]\n",
        "\tdf = DataFrame(data)\n",
        "\tcols, names = list(), list()\n",
        "\t# input sequence (t-n, ... t-1)\n",
        "\tfor i in range(n_in, 0, -1):\n",
        "\t\tcols.append(df.shift(i))\n",
        "\t\tnames += [('var%d(t-%d)' % (j+1, i)) for j in range(n_vars)]\n",
        "\t# forecast sequence (t, t+1, ... t+n)\n",
        "\tfor i in range(0, n_out):\n",
        "\t\tcols.append(df.shift(-i))\n",
        "\t\tif i == 0:\n",
        "\t\t\tnames += [('var%d(t)' % (j+1)) for j in range(n_vars)]\n",
        "\t\telse:\n",
        "\t\t\tnames += [('var%d(t+%d)' % (j+1, i)) for j in range(n_vars)]\n",
        "\t# put it all together\n",
        "\tagg = concat(cols, axis=1)\n",
        "\tagg.columns = names\n",
        "\t# drop rows with NaN values\n",
        "\tif dropnan:\n",
        "\t\tagg.dropna(inplace=True)\n",
        "\treturn agg"
      ],
      "metadata": {
        "id": "OCwQqZ7sxoOg"
      },
      "execution_count": null,
      "outputs": []
    },
    {
      "cell_type": "code",
      "source": [
        "#dataset['Day'] = pd.to_datetime(dataset['Day'])\n",
        "dataset = dataset.set_index('Date')\n",
        "values = dataset.values\n",
        "encoder = LabelEncoder()\n",
        "values[:, 1] = encoder.fit_transform(values[:, 1])\n",
        "values = values.astype(float)\n",
        "scaler = StandardScaler()\n",
        "scaled = scaler.fit_transform(values)\n",
        "print()\n",
        "print(scaled[:, 1])"
      ],
      "metadata": {
        "colab": {
          "base_uri": "https://localhost:8080/"
        },
        "id": "w5GqOdnMx0ZB",
        "outputId": "406c942a-419d-471c-86a8-72d6b2f7a548"
      },
      "execution_count": null,
      "outputs": [
        {
          "output_type": "stream",
          "name": "stdout",
          "text": [
            "\n",
            "[-1.41118727 -1.44509529 -1.48030291 ... -1.39405605 -1.44769451\n",
            " -1.4983793 ]\n"
          ]
        }
      ]
    },
    {
      "cell_type": "code",
      "source": [
        "n_input = 3\n",
        "n_features = 2\n",
        "\n",
        "reframed = series_to_supervised(scaled, n_input, 1)\n",
        "#Splitting the dataset\n",
        "values = reframed.values\n",
        "train = values[:140000, :]\n",
        "test = values[140000:, :]\n",
        "\n",
        "n_obs = n_input * n_features\n",
        "train_X, train_y = train[:, :n_obs], train[:, -n_features]\n",
        "test_X, test_y = test[:, :n_obs], test[:, -n_features]\n",
        "print(train_X.shape, len(train_X), train_y.shape)\n",
        "\n",
        "train_X = train_X.reshape((train_X.shape[0], n_input, n_features))\n",
        "test_X = test_X.reshape((test_X.shape[0], n_input, n_features))\n",
        "print(train_X.shape, train_y.shape, test_X.shape, test_y.shape)"
      ],
      "metadata": {
        "colab": {
          "base_uri": "https://localhost:8080/"
        },
        "id": "SiYDU1lsyU6k",
        "outputId": "dd065cfb-389e-4818-8768-569ce3ba7ce3"
      },
      "execution_count": null,
      "outputs": [
        {
          "output_type": "stream",
          "name": "stdout",
          "text": [
            "(140000, 6) 140000 (140000,)\n",
            "(140000, 3, 2) (140000,) (35317, 3, 2) (35317,)\n"
          ]
        }
      ]
    },
    {
      "cell_type": "code",
      "source": [
        "model = Sequential()\n",
        "model.add(Conv1D(filters=64, kernel_size=2, activation='relu', input_shape=(n_input, n_features)))\n",
        "model.add(MaxPooling1D(pool_size=2))\n",
        "model.add(Flatten())\n",
        "#model.add(Dropout(0.2))\n",
        "model.add(Dense(50, activation='relu'))\n",
        "model.add(Dense(1))\n",
        "opt = Adam(learning_rate=0.0001)\n",
        "model.compile(optimizer=opt, loss=\"mse\")\n",
        "# fit network\n",
        "history = model.fit(train_X, train_y, epochs=50, batch_size=72, validation_data=(test_X, test_y), verbose=2, shuffle=False)\n",
        "# plot history\n",
        "pyplot.plot(history.history['loss'], label='train')\n",
        "pyplot.plot(history.history['val_loss'], label='test')\n",
        "pyplot.legend()\n",
        "pyplot.show()"
      ],
      "metadata": {
        "colab": {
          "base_uri": "https://localhost:8080/",
          "height": 1000
        },
        "id": "soJXD6dY4aYB",
        "outputId": "f2cc625b-3263-4800-d414-98619684668d"
      },
      "execution_count": null,
      "outputs": [
        {
          "output_type": "stream",
          "name": "stdout",
          "text": [
            "Epoch 1/50\n",
            "1945/1945 - 4s - loss: 0.1783 - val_loss: 0.0454 - 4s/epoch - 2ms/step\n",
            "Epoch 2/50\n",
            "1945/1945 - 3s - loss: 0.0317 - val_loss: 0.0245 - 3s/epoch - 2ms/step\n",
            "Epoch 3/50\n",
            "1945/1945 - 4s - loss: 0.0177 - val_loss: 0.0218 - 4s/epoch - 2ms/step\n",
            "Epoch 4/50\n",
            "1945/1945 - 4s - loss: 0.0154 - val_loss: 0.0213 - 4s/epoch - 2ms/step\n",
            "Epoch 5/50\n",
            "1945/1945 - 3s - loss: 0.0148 - val_loss: 0.0210 - 3s/epoch - 2ms/step\n",
            "Epoch 6/50\n",
            "1945/1945 - 4s - loss: 0.0144 - val_loss: 0.0208 - 4s/epoch - 2ms/step\n",
            "Epoch 7/50\n",
            "1945/1945 - 3s - loss: 0.0140 - val_loss: 0.0205 - 3s/epoch - 2ms/step\n",
            "Epoch 8/50\n",
            "1945/1945 - 3s - loss: 0.0138 - val_loss: 0.0203 - 3s/epoch - 2ms/step\n",
            "Epoch 9/50\n",
            "1945/1945 - 3s - loss: 0.0135 - val_loss: 0.0202 - 3s/epoch - 2ms/step\n",
            "Epoch 10/50\n",
            "1945/1945 - 3s - loss: 0.0133 - val_loss: 0.0199 - 3s/epoch - 2ms/step\n",
            "Epoch 11/50\n",
            "1945/1945 - 3s - loss: 0.0132 - val_loss: 0.0197 - 3s/epoch - 2ms/step\n",
            "Epoch 12/50\n",
            "1945/1945 - 3s - loss: 0.0130 - val_loss: 0.0195 - 3s/epoch - 2ms/step\n",
            "Epoch 13/50\n",
            "1945/1945 - 3s - loss: 0.0129 - val_loss: 0.0192 - 3s/epoch - 2ms/step\n",
            "Epoch 14/50\n",
            "1945/1945 - 3s - loss: 0.0127 - val_loss: 0.0190 - 3s/epoch - 2ms/step\n",
            "Epoch 15/50\n",
            "1945/1945 - 3s - loss: 0.0126 - val_loss: 0.0189 - 3s/epoch - 2ms/step\n",
            "Epoch 16/50\n",
            "1945/1945 - 3s - loss: 0.0125 - val_loss: 0.0187 - 3s/epoch - 2ms/step\n",
            "Epoch 17/50\n",
            "1945/1945 - 3s - loss: 0.0124 - val_loss: 0.0187 - 3s/epoch - 2ms/step\n",
            "Epoch 18/50\n",
            "1945/1945 - 3s - loss: 0.0123 - val_loss: 0.0184 - 3s/epoch - 2ms/step\n",
            "Epoch 19/50\n",
            "1945/1945 - 3s - loss: 0.0121 - val_loss: 0.0182 - 3s/epoch - 2ms/step\n",
            "Epoch 20/50\n",
            "1945/1945 - 3s - loss: 0.0120 - val_loss: 0.0180 - 3s/epoch - 2ms/step\n",
            "Epoch 21/50\n",
            "1945/1945 - 3s - loss: 0.0119 - val_loss: 0.0179 - 3s/epoch - 2ms/step\n",
            "Epoch 22/50\n",
            "1945/1945 - 3s - loss: 0.0118 - val_loss: 0.0177 - 3s/epoch - 2ms/step\n",
            "Epoch 23/50\n",
            "1945/1945 - 3s - loss: 0.0117 - val_loss: 0.0176 - 3s/epoch - 2ms/step\n",
            "Epoch 24/50\n",
            "1945/1945 - 4s - loss: 0.0116 - val_loss: 0.0173 - 4s/epoch - 2ms/step\n",
            "Epoch 25/50\n",
            "1945/1945 - 3s - loss: 0.0115 - val_loss: 0.0171 - 3s/epoch - 2ms/step\n",
            "Epoch 26/50\n",
            "1945/1945 - 3s - loss: 0.0113 - val_loss: 0.0169 - 3s/epoch - 2ms/step\n",
            "Epoch 27/50\n",
            "1945/1945 - 3s - loss: 0.0112 - val_loss: 0.0168 - 3s/epoch - 2ms/step\n",
            "Epoch 28/50\n",
            "1945/1945 - 3s - loss: 0.0111 - val_loss: 0.0166 - 3s/epoch - 2ms/step\n",
            "Epoch 29/50\n",
            "1945/1945 - 3s - loss: 0.0110 - val_loss: 0.0165 - 3s/epoch - 2ms/step\n",
            "Epoch 30/50\n",
            "1945/1945 - 3s - loss: 0.0109 - val_loss: 0.0164 - 3s/epoch - 2ms/step\n",
            "Epoch 31/50\n",
            "1945/1945 - 3s - loss: 0.0108 - val_loss: 0.0163 - 3s/epoch - 2ms/step\n",
            "Epoch 32/50\n",
            "1945/1945 - 3s - loss: 0.0107 - val_loss: 0.0162 - 3s/epoch - 2ms/step\n",
            "Epoch 33/50\n",
            "1945/1945 - 3s - loss: 0.0106 - val_loss: 0.0161 - 3s/epoch - 2ms/step\n",
            "Epoch 34/50\n",
            "1945/1945 - 3s - loss: 0.0105 - val_loss: 0.0160 - 3s/epoch - 2ms/step\n",
            "Epoch 35/50\n",
            "1945/1945 - 3s - loss: 0.0105 - val_loss: 0.0159 - 3s/epoch - 2ms/step\n",
            "Epoch 36/50\n",
            "1945/1945 - 3s - loss: 0.0104 - val_loss: 0.0158 - 3s/epoch - 2ms/step\n",
            "Epoch 37/50\n",
            "1945/1945 - 3s - loss: 0.0103 - val_loss: 0.0157 - 3s/epoch - 2ms/step\n",
            "Epoch 38/50\n",
            "1945/1945 - 3s - loss: 0.0102 - val_loss: 0.0156 - 3s/epoch - 2ms/step\n",
            "Epoch 39/50\n",
            "1945/1945 - 3s - loss: 0.0101 - val_loss: 0.0155 - 3s/epoch - 2ms/step\n",
            "Epoch 40/50\n",
            "1945/1945 - 3s - loss: 0.0100 - val_loss: 0.0154 - 3s/epoch - 2ms/step\n",
            "Epoch 41/50\n",
            "1945/1945 - 3s - loss: 0.0100 - val_loss: 0.0154 - 3s/epoch - 2ms/step\n",
            "Epoch 42/50\n",
            "1945/1945 - 3s - loss: 0.0099 - val_loss: 0.0153 - 3s/epoch - 2ms/step\n",
            "Epoch 43/50\n",
            "1945/1945 - 3s - loss: 0.0098 - val_loss: 0.0152 - 3s/epoch - 2ms/step\n",
            "Epoch 44/50\n",
            "1945/1945 - 3s - loss: 0.0097 - val_loss: 0.0151 - 3s/epoch - 2ms/step\n",
            "Epoch 45/50\n",
            "1945/1945 - 3s - loss: 0.0097 - val_loss: 0.0150 - 3s/epoch - 2ms/step\n",
            "Epoch 46/50\n",
            "1945/1945 - 3s - loss: 0.0096 - val_loss: 0.0150 - 3s/epoch - 2ms/step\n",
            "Epoch 47/50\n",
            "1945/1945 - 3s - loss: 0.0095 - val_loss: 0.0149 - 3s/epoch - 2ms/step\n",
            "Epoch 48/50\n",
            "1945/1945 - 3s - loss: 0.0095 - val_loss: 0.0147 - 3s/epoch - 2ms/step\n",
            "Epoch 49/50\n",
            "1945/1945 - 3s - loss: 0.0094 - val_loss: 0.0146 - 3s/epoch - 2ms/step\n",
            "Epoch 50/50\n",
            "1945/1945 - 3s - loss: 0.0093 - val_loss: 0.0144 - 3s/epoch - 2ms/step\n"
          ]
        },
        {
          "output_type": "display_data",
          "data": {
            "text/plain": [
              "<Figure size 432x288 with 1 Axes>"
            ],
            "image/png": "[encoded data removed]"
          },
          "metadata": {
            "needs_background": "light"
          }
        }
      ]
    },
    {
      "cell_type": "code",
      "source": [
        "yhat = model.predict(test_X)\n",
        "test_X = test_X.reshape((test_X.shape[0], n_input*n_features))\n",
        "print(yhat.shape)\n",
        "print(len(yhat))\n",
        "print(test_y.shape)"
      ],
      "metadata": {
        "id": "R0kc5WhK5JpJ",
        "colab": {
          "base_uri": "https://localhost:8080/"
        },
        "outputId": "91e3b22c-9f58-433f-ceaf-a107e6ac0245"
      },
      "execution_count": null,
      "outputs": [
        {
          "output_type": "stream",
          "name": "stdout",
          "text": [
            "(35317, 1)\n",
            "35317\n",
            "(35317,)\n"
          ]
        }
      ]
    },
    {
      "cell_type": "code",
      "source": [
        "rmse = sqrt(mean_squared_error(test_y, yhat))\n",
        "print('Test RMSE: %.3f' % rmse)"
      ],
      "metadata": {
        "id": "Xkre04Do5U_i",
        "colab": {
          "base_uri": "https://localhost:8080/"
        },
        "outputId": "9f5a2e6d-e040-4519-d41f-392d2abd1bb3"
      },
      "execution_count": null,
      "outputs": [
        {
          "output_type": "stream",
          "name": "stdout",
          "text": [
            "Test RMSE: 0.120\n"
          ]
        }
      ]
    },
    {
      "cell_type": "code",
      "source": [
        "prediction_copies = np.repeat(yhat, scaled.shape[1], axis=-1)\n",
        "#y_pred_future = scaler.inverse_transform(prediction_copies)[:,0]"
      ],
      "metadata": {
        "id": "xJW5CcWX5aEg"
      },
      "execution_count": null,
      "outputs": []
    },
    {
      "cell_type": "code",
      "source": [
        "#inv_yhat = concatenate((prediction_copies, test_X[:, -2:]), axis=1)\n",
        "inv_yhat = scaler.inverse_transform(prediction_copies)\n",
        "inv_yhat = inv_yhat[:,0]"
      ],
      "metadata": {
        "id": "j49AOIwK5pE3"
      },
      "execution_count": null,
      "outputs": []
    },
    {
      "cell_type": "code",
      "source": [
        "test_y = test_y.reshape((len(test_y), 1))\n",
        "#inv_y = concatenate((test_y, test_X[:, -2:]), axis=1)\n",
        "\n",
        "test_copies = np.repeat(test_y, scaled.shape[1], axis=-1)\n",
        "#y_pred_future = scaler.inverse_transform(prediction_copies)[:,0]\n",
        "\n",
        "inv_y = scaler.inverse_transform(test_copies)\n",
        "inv_y = inv_y[:,0]\n",
        "\n",
        "mse = mean_squared_error(inv_y, inv_yhat)\n",
        "print('Test MSE: %.3f' % mse)\n",
        "\n",
        "rmse = sqrt(mean_squared_error(inv_y, inv_yhat))\n",
        "print('Test RMSE: %.3f' % rmse)\n",
        "\n",
        "from sklearn.metrics import mean_absolute_error,mean_absolute_percentage_error\n",
        "mae = mean_absolute_error(inv_y, inv_yhat)\n",
        "print('Test MAE: %.3f' % mae)\n",
        "\n",
        "mape = mean_absolute_percentage_error(inv_y, inv_yhat)\n",
        "print('Test MAPE: %.3f' % mape)"
      ],
      "metadata": {
        "id": "jv3W6uqn5srY",
        "colab": {
          "base_uri": "https://localhost:8080/"
        },
        "outputId": "7d051b5a-0689-44b7-9202-ec4b729674ed"
      },
      "execution_count": null,
      "outputs": [
        {
          "output_type": "stream",
          "name": "stdout",
          "text": [
            "Test MSE: 0.074\n",
            "Test RMSE: 0.271\n",
            "Test MAE: 0.210\n",
            "Test MAPE: 0.045\n"
          ]
        }
      ]
    },
    {
      "cell_type": "code",
      "source": [
        "#print(yhat)\n",
        "print(inv_yhat)"
      ],
      "metadata": {
        "id": "vczPOPni50bM",
        "colab": {
          "base_uri": "https://localhost:8080/"
        },
        "outputId": "441c738e-d85a-4eb0-a502-9c6b83c5be2b"
      },
      "execution_count": null,
      "outputs": [
        {
          "output_type": "stream",
          "name": "stdout",
          "text": [
            "[7.561812  7.5220594 7.5171857 ... 5.6878667 6.014875  6.1965246]\n"
          ]
        }
      ]
    },
    {
      "cell_type": "code",
      "source": [
        "from matplotlib import pyplot as plt\n",
        "\n",
        "#Plot the graph between actual vs predicted values\n",
        "plt.figure(figsize=(10,6))\n",
        "plt.plot(inv_y[:300], color= 'green',label = 'ACTUAL WIND SPEED ')\n",
        "plt.plot(inv_yhat[:300] , color = 'red',label = 'FORECASTED WIND SPEED ')\n",
        "plt.title(\"WIND SPEED FORECASTING USING CNN\")\n",
        "plt.xlabel(\"TIME INTERVAL (1 HOUR )\")\n",
        "plt.ylabel(\"SPEED OF WIND(KMPH)\")\n",
        "plt.legend()\n",
        "plt.show()\n",
        "plt.savefig('graph.png')"
      ],
      "metadata": {
        "id": "zZ6SdnjA54dS",
        "colab": {
          "base_uri": "https://localhost:8080/",
          "height": 421
        },
        "outputId": "08f440d7-425b-42a0-cfd5-203962e2f63e"
      },
      "execution_count": null,
      "outputs": [
        {
          "output_type": "display_data",
          "data": {
            "text/plain": [
              "<Figure size 720x432 with 1 Axes>"
            ],
            "image/png": "[encoded data removed]"
          },
          "metadata": {
            "needs_background": "light"
          }
        },
        {
          "output_type": "display_data",
          "data": {
            "text/plain": [
              "<Figure size 432x288 with 0 Axes>"
            ]
          },
          "metadata": {}
        }
      ]
    },
    {
      "cell_type": "code",
      "source": [],
      "metadata": {
        "id": "w8-znAaP6YCW"
      },
      "execution_count": null,
      "outputs": []
    },
    {
      "cell_type": "code",
      "source": [
        "print(inv_y[:724])"
      ],
      "metadata": {
        "id": "8g1zDvtU6Z16",
        "colab": {
          "base_uri": "https://localhost:8080/"
        },
        "outputId": "dee33930-db3b-4d40-cf91-90a40e025cf1"
      },
      "execution_count": null,
      "outputs": [
        {
          "output_type": "stream",
          "name": "stdout",
          "text": [
            "[7.6  7.64 7.6  7.53 7.54 7.42 6.97 6.69 6.65 6.61 6.64 6.58 6.41 6.22\n",
            " 6.05 5.95 5.84 5.8  5.81 5.84 5.79 5.49 6.01 6.67 7.01 7.13 7.19 7.2\n",
            " 6.99 6.5  6.08 5.98 6.17 6.37 6.39 6.29 6.2  6.13 6.12 6.15 6.14 6.19\n",
            " 6.26 6.27 6.22 5.97 6.53 7.88 8.73 9.18 9.45 9.57 9.34 8.82 8.   7.68\n",
            " 7.69 7.71 7.7  7.66 7.58 7.5  7.41 7.38 7.13 6.89 6.76 6.62 6.37 5.83\n",
            " 6.44 7.24 7.71 7.88 7.98 8.15 8.22 8.12 7.74 7.72 7.91 8.06 8.18 8.17\n",
            " 8.04 7.92 7.8  7.73 7.54 7.34 7.13 6.91 6.63 6.21 6.51 7.   6.93 6.88\n",
            " 6.88 6.94 7.01 6.91 6.73 6.66 6.63 6.65 6.77 6.94 7.14 7.22 7.28 7.35\n",
            " 7.43 7.51 7.59 7.69 7.74 7.72 7.83 8.06 8.34 8.58 8.66 8.58 8.27 8.06\n",
            " 8.06 8.18 8.28 8.27 8.3  8.3  8.14 7.9  7.57 7.28 6.92 6.66 6.54 6.51\n",
            " 6.56 6.53 7.06 7.15 6.98 6.99 6.94 6.93 6.83 6.64 6.51 6.55 6.57 6.54\n",
            " 6.46 6.27 5.91 5.72 5.67 5.52 5.37 5.35 5.28 5.18 5.08 4.87 4.73 4.87\n",
            " 5.02 4.99 4.88 4.85 4.55 4.18 3.98 3.92 3.83 3.61 3.33 2.89 2.38 2.1\n",
            " 1.84 1.53 1.39 1.43 1.5  1.43 1.13 0.98 1.03 0.86 0.74 0.49 0.35 0.57\n",
            " 1.1  1.61 2.1  2.53 2.85 3.06 2.86 2.48 2.08 1.7  1.25 0.84 0.8  0.97\n",
            " 1.3  1.77 2.29 2.71 3.12 3.57 4.1  4.62 5.03 5.13 5.03 4.89 4.59 4.56\n",
            " 4.73 4.89 5.24 5.45 5.54 5.59 5.52 5.37 4.95 4.53 4.23 3.9  3.66 3.59\n",
            " 3.89 4.18 4.16 4.16 4.22 4.26 4.18 4.02 3.52 3.01 2.81 2.8  3.32 3.97\n",
            " 4.52 5.01 5.35 5.46 5.09 4.62 4.19 3.72 3.33 3.15 3.76 4.23 4.45 4.57\n",
            " 4.57 4.47 4.19 3.85 3.63 3.69 3.8  3.97 4.22 4.4  4.36 4.25 4.08 3.96\n",
            " 3.93 3.95 4.06 4.24 4.28 4.09 4.27 4.32 4.1  3.85 3.66 3.46 3.31 3.26\n",
            " 3.33 3.54 3.68 3.6  3.49 3.32 3.05 2.74 2.36 1.94 1.54 1.17 0.9  0.76\n",
            " 0.68 0.91 1.49 1.63 1.74 1.74 1.55 1.23 1.16 1.68 2.7  3.46 4.23 4.45\n",
            " 4.36 4.19 3.96 3.73 3.53 3.22 2.78 2.39 2.16 2.02 1.84 1.58 1.39 1.23\n",
            " 1.56 2.22 2.77 3.11 3.3  3.5  3.4  3.16 2.99 3.01 3.03 3.02 2.92 2.97\n",
            " 3.13 3.35 3.56 3.68 3.72 3.72 3.68 3.48 3.79 4.14 4.53 4.84 5.   5.04\n",
            " 5.12 5.14 4.98 4.87 5.01 5.19 5.31 5.37 5.4  5.41 5.36 5.29 4.93 4.57\n",
            " 4.3  4.1  3.97 3.66 4.15 4.84 5.31 5.64 5.88 6.1  6.39 6.51 6.01 5.92\n",
            " 6.05 6.13 6.16 6.17 6.18 6.14 6.01 5.85 5.76 5.84 5.98 6.11 6.1  5.65\n",
            " 6.38 7.16 7.49 7.65 7.75 7.8  7.74 7.58 6.98 6.79 6.83 6.8  6.56 6.29\n",
            " 6.01 5.81 5.6  5.39 5.2  4.96 4.76 4.66 4.62 4.23 4.16 4.36 4.6  4.81\n",
            " 4.86 4.92 4.9  4.86 4.68 4.62 4.76 4.85 5.19 5.44 5.52 5.47 5.44 5.4\n",
            " 5.17 4.96 4.87 4.7  4.45 3.98 4.06 4.01 3.84 3.65 3.48 3.34 3.15 3.03\n",
            " 2.96 2.97 3.1  3.32 3.73 4.05 4.22 4.34 4.42 4.44 4.24 4.04 3.89 3.79\n",
            " 3.7  3.52 4.15 4.79 5.05 5.04 5.01 4.98 4.9  4.91 4.86 4.89 5.04 5.19\n",
            " 5.39 5.53 5.53 5.44 5.27 5.05 4.58 4.16 3.89 3.75 3.64 3.51 4.06 4.39\n",
            " 4.53 4.6  4.67 4.78 5.09 5.37 5.3  5.26 5.37 5.51 5.63 5.61 5.52 5.37\n",
            " 5.16 4.97 4.63 4.3  4.14 4.09 4.08 3.88 4.29 5.27 6.07 6.65 7.17 7.65\n",
            " 7.29 6.94 6.72 6.77 7.   7.3  7.53 7.61 7.62 7.6  7.53 7.45 7.17 6.94\n",
            " 6.78 6.63 6.45 6.06 6.35 6.99 7.25 7.24 7.18 7.1  6.87 6.41 5.97 6.\n",
            " 6.23 6.45 6.5  6.38 6.15 5.99 5.86 5.83 5.71 5.61 5.65 5.63 5.48 5.21\n",
            " 5.74 6.51 6.97 7.15 7.21 7.36 7.36 7.27 6.78 6.59 6.74 6.94 7.16 7.25\n",
            " 7.24 7.23 7.24 7.22 6.62 5.86 5.22 4.7  4.28 3.97 4.6  5.3  5.65 5.77\n",
            " 5.72 5.62 5.76 5.92 5.71 5.72 5.85 6.09 6.23 6.25 6.26 6.23 6.23 6.28\n",
            " 6.22 6.15 6.17 6.24 6.25 6.13 6.64 7.51 8.27 8.61 8.74 8.69 8.5  7.79\n",
            " 7.01 6.78 6.87 7.09 7.21 7.15 6.98 6.75 6.53 6.35 6.12 5.96 5.89 5.82\n",
            " 5.74 5.39 5.72 6.72 7.46 7.88 8.12 8.27 8.25 8.05 7.43 7.3  7.37 7.37\n",
            " 7.36 7.39 7.28 7.06 6.88 6.77 6.57 6.43 6.36 6.33 6.28 6.02 6.63 7.62\n",
            " 8.27 8.63 8.81 8.95 8.79 8.43 8.05 8.01 8.1  8.28 8.47 8.49 8.22 7.86\n",
            " 7.52 7.18 6.84 6.61 6.56 6.54 6.45 6.14 6.3  6.63 6.77 6.76 6.66 6.51\n",
            " 6.44 6.07 5.6  5.57 5.77 5.92 6.   6.15 6.34 6.56 6.83 7.11 7.21 7.1\n",
            " 6.98 6.89 6.8  6.58 6.51 7.12 7.75 8.07 8.13 8.07]\n"
          ]
        }
      ]
    },
    {
      "cell_type": "code",
      "source": [
        "x=print(inv_yhat[:724])"
      ],
      "metadata": {
        "id": "ltyFdied6Gaf",
        "colab": {
          "base_uri": "https://localhost:8080/"
        },
        "outputId": "fd9cdbe0-9750-4ad9-b7bf-5501f68b1fd0"
      },
      "execution_count": null,
      "outputs": [
        {
          "output_type": "stream",
          "name": "stdout",
          "text": [
            "[7.561812   7.5220594  7.5171857  7.4569335  7.3306456  7.3352175\n",
            " 7.254777   6.7931275  6.420017   6.4572535  6.453024   6.501589\n",
            " 6.492777   6.2787523  6.0269547  5.8670225  5.8236823  5.744375\n",
            " 5.7142615  5.756024   5.8116827  5.782542   5.464028   6.141475\n",
            " 6.98589    7.0029945  7.067855   7.106941   7.0539274  6.825925\n",
            " 6.165213   5.6477     5.6773024  6.1179657  6.4276404  6.343892\n",
            " 6.2119513  6.0356073  5.9888897  6.015548   6.120288   6.1058664\n",
            " 6.182683   6.2728543  6.2449317  6.188812   5.9238367  6.727252\n",
            " 8.84146    8.923605   9.240372   9.4064     9.33132    9.017662\n",
            " 8.398984   7.5726347  7.2441626  7.402578   7.518609   7.510943\n",
            " 7.462339   7.374279   7.2944326  7.2269425  7.202264   7.0140266\n",
            " 6.6524873  6.5758505  6.4733     6.2234783  5.6417365  6.4999104\n",
            " 7.5547547  7.7250667  7.7549615  7.830177   8.052805   8.045697\n",
            " 7.9471917  7.48146    7.4091215  7.816784   7.951285   8.065091\n",
            " 7.992969   7.818201   7.624427   7.5220985  7.4801655  7.329083\n",
            " 7.0821543  6.880404   6.670982   6.404163   6.000077   6.443307\n",
            " 7.2389803  7.0222235  6.7277093  6.74954    6.8294854  6.9190216\n",
            " 6.837227   6.5574875  6.479845   6.485772   6.5328116  6.7713723\n",
            " 6.9774947  7.168952   7.1321363  7.1698     7.2356     7.311517\n",
            " 7.3752103  7.454729   7.556747   7.575849   7.551622   7.645214\n",
            " 8.022335   8.320399   8.4785795  8.447346   8.291694   7.941856\n",
            " 7.6166244  7.6751895  7.918926   8.015263   7.962008   7.9253564\n",
            " 7.939989   7.793677   7.456069   7.0673385  6.753508   6.3973694\n",
            " 6.169071   6.1141677  6.167576   6.292532   6.2561316  7.0582657\n",
            " 6.815814   6.4307737  6.3426733  6.30116    6.262594   6.135215\n",
            " 5.8858666  5.757734   5.798773   5.8843274  5.8269305  5.7557383\n",
            " 5.5789623  5.216884   5.1836634  5.1630774  5.0520406  4.874259\n",
            " 4.931022   4.897      4.8003607  4.728503   4.495268   4.3900886\n",
            " 4.650447   4.8941464  4.854884   4.573414   4.503455   4.2117367\n",
            " 3.6683087  3.5580547  3.6243951  3.5653598  3.279386   2.9070115\n",
            " 2.3833     1.8269606  1.6969728  1.5167556  1.1922021  1.2174973\n",
            " 1.4195237  1.4538898  1.327919   0.86759806 0.66696787 0.8219366\n",
            " 0.67973757 0.4702306  0.25437072 0.55967855 1.0111728  1.3809323\n",
            " 1.822732   2.284582   2.6923864  2.9874585  3.172054   2.980068\n",
            " 2.096271   1.6231432  1.2839942  0.8927851  0.68604183 0.80189896\n",
            " 0.9588113  1.3913193  2.0025685  2.6215794  2.990684   3.3347936\n",
            " 3.7825418  4.384906   4.9067593  5.1926436  5.183739   5.0795493\n",
            " 4.7565103  4.414793   4.4389005  4.774891   4.9427767  5.491126\n",
            " 5.5566487  5.597285   5.5975633  5.525652   5.280959   4.760145\n",
            " 4.261027   4.0015454  3.6632411  3.4524117  3.4524646  3.9294405\n",
            " 4.18592    4.3661475  4.1946573  4.3100657  4.2989845  4.1348357\n",
            " 3.854034   3.153959   2.4792447  2.386709   2.7166417  3.5222445\n",
            " 4.4229455  4.809462   5.2921643  5.5530243  5.5074515  5.076011\n",
            " 4.237863   3.8332205  3.36821    2.967411   2.885131   3.972925\n",
            " 4.520828   4.5953674  4.5875883  4.593085   4.4319806  4.06189\n",
            " 3.606197   3.4052317  3.6183927  3.83141    4.04398    4.342752\n",
            " 4.4810576  4.421353   4.193848   3.9922056  3.8787954  3.8924055\n",
            " 3.9236777  4.083659   4.334841   4.3209367  4.138721   4.254333\n",
            " 4.387108   4.1437793  3.6711762  3.520256   3.3085492  3.1268733\n",
            " 3.135407   3.2905252  3.5814326  3.65998    3.47037    3.1809676\n",
            " 2.9921694  2.6505787  2.3014317  1.9131074  1.4716554  1.1382861\n",
            " 0.8444681  0.6522465  0.58850765 0.5967269  1.0117488  1.9436965\n",
            " 2.0416615  1.7384033  1.7869468  1.480041   1.0837889  1.115408\n",
            " 1.97385    3.2444687  3.8384516  4.5591774  4.5730805  4.334342\n",
            " 3.9183095  3.6162603  3.348231   3.1720135  2.835426   2.3017788\n",
            " 1.8989942  1.8199     1.7974219  1.6038342  1.3020835  1.3032846\n",
            " 1.3591871  1.7769852  2.6748552  3.1455216  3.4557843  3.4527636\n",
            " 3.5178704  3.4316328  2.8225632  2.6034389  2.7992024  2.9285994\n",
            " 2.987366   2.9093683  3.021996   3.2763479  3.5439703  3.7754076\n",
            " 3.8571312  3.8124774  3.722574   3.6642969  3.4670224  3.8302617\n",
            " 4.303892   4.764862   4.9972305  5.067643   5.0446987  5.139927\n",
            " 5.14064    4.9649105  4.744991   4.9885316  5.2893786  5.3510065\n",
            " 5.3737783  5.391079   5.3911047  5.33214    5.21703    4.7914414\n",
            " 4.3254304  4.1046567  3.9496398  3.8316631  3.5228522  4.2213035\n",
            " 5.3011756  5.51956    5.7449985  5.9255934  6.15696    6.513466\n",
            " 6.4747915  6.088203   5.762485   6.029506   6.114755   6.1146026\n",
            " 6.12533    6.1184263  6.092025   5.9273086  5.7120404  5.6546206\n",
            " 5.8247128  6.0532365  6.155703   6.100684   5.6903195  6.573236\n",
            " 7.422624   7.439647   7.5482945  7.604003   7.651905   7.596227\n",
            " 7.3552065  6.80835    6.546692   6.6750236  6.6946716  6.448912\n",
            " 6.075743   5.7837315  5.6326632  5.448596   5.2297807  5.0539327\n",
            " 4.828032   4.6284537  4.5160184  4.4798613  4.182971   3.9810684\n",
            " 4.451069   4.7415357  4.9349656  4.9204774  4.9306664  4.8969984\n",
            " 4.786381   4.5764155  4.5159698  4.7448115  4.8530173  5.4179745\n",
            " 5.5637503  5.546957   5.488412   5.3492737  5.3147416  5.042279\n",
            " 4.777401   4.743218   4.633267   4.301631   3.7315972  4.0220666\n",
            " 4.120534   3.8325577  3.4718347  3.217078   3.041294   2.8080585\n",
            " 2.7466497  2.8353105  2.984932   3.2366405  3.5064073  4.002859\n",
            " 4.2359443  4.351243   4.388536   4.437778   4.4598184  4.2410884\n",
            " 3.901365   3.7757208  3.7168238  3.6349683  3.4572027  4.3855667\n",
            " 5.1335     5.164625   5.0947866  5.0074134  4.961053   4.8642173\n",
            " 4.8880997  4.8136306  4.850903   5.092099   5.269342   5.503878\n",
            " 5.5641484  5.5463877  5.3990726  5.1378856  4.8504853  4.2891445\n",
            " 3.8423395  3.676515   3.6145568  3.536548   3.4047909  4.293627\n",
            " 4.5939026  4.5852966  4.6214066  4.681423   4.815488   5.2849407\n",
            " 5.5120792  5.3819036  5.1543245  5.311856   5.5607634  5.6442814\n",
            " 5.60882    5.4020705  5.193429   4.9379625  4.762585   4.408837\n",
            " 4.0673757  4.0051923  4.020432   4.0267177  3.8850713  4.3770795\n",
            " 6.0539894  6.3603225  6.7588935  7.263654   7.7258925  7.4648995\n",
            " 6.5876417  6.459895   6.5840554  7.0718827  7.402496   7.5024834\n",
            " 7.476401   7.4626527  7.421323   7.341019   7.2524543  6.9904475\n",
            " 6.678361   6.5724063  6.4455523  6.2857137  5.9128284  6.305649\n",
            " 7.3656135  7.1940384  7.206817   7.023932   6.9126873  6.6988177\n",
            " 6.1757693  5.602055   5.7933583  6.35199    6.5001717  6.465139\n",
            " 6.3346086  5.993123   5.8137937  5.7180886  5.734545   5.6605725\n",
            " 5.514074   5.5995975  5.5979614  5.4613194  5.075744   5.8785973\n",
            " 6.9372125  6.999413   7.1176214  7.1484256  7.2868905  7.2792206\n",
            " 7.11447    6.6571655  6.371312   6.6110544  7.007123   7.1895227\n",
            " 7.163809   7.1420145  7.064489   7.0817313  7.0626063  6.588539\n",
            " 5.409625   4.7444797  4.3324137  3.968278   3.699244   4.8166566\n",
            " 5.716911   5.7906713  5.7936015  5.7429047  5.4904947  5.68716\n",
            " 5.954136   5.715131   5.509394   5.848366   6.243485   6.24623\n",
            " 6.2149997  6.1857996  6.152997   6.1221023  6.2422023  6.1868744\n",
            " 6.043483   6.0922265  6.240302   6.208933   6.1131506  6.8626313\n",
            " 8.033665   8.42454    8.527353   8.5702     8.425807   8.183824\n",
            " 7.447142   6.423256   6.347647   6.6724634  7.1407046  7.1335144\n",
            " 7.039683   6.800792   6.539074   6.29856    6.1482716  5.931536\n",
            " 5.8060465  5.793938   5.748189   5.674246   5.3293343  5.698446\n",
            " 7.414662   7.5646496  7.8885193  8.069796   8.185042   8.086076\n",
            " 7.828125   7.183249   7.0006022  7.1985035  7.2471905  7.1999917\n",
            " 7.239177   7.1751213  6.863563   6.6465607  6.60198    6.4228077\n",
            " 6.270572   6.2495656  6.258335   6.229779   5.981722   6.845709\n",
            " 8.167623   8.371929   8.641034   8.727816   8.740573   8.561577\n",
            " 8.09832    7.6475835  7.6485157  7.8805857  8.221803   8.435191\n",
            " 8.347618   8.036658   7.532358   7.1756907  6.862951   6.550901\n",
            " 6.3957524  6.428581   6.4581623  6.3937     6.056314   6.254571\n",
            " 6.7410383  6.7313123  6.7493863  6.5598674  6.3650246  6.2970223\n",
            " 5.9963937  5.310566   5.433243   5.835715   5.9387884  6.0129895\n",
            " 6.22886    6.446298   6.646767   6.9320107  7.2149844  7.225255\n",
            " 7.0786633  6.808273   6.7319264  6.6575685  6.4606843  6.3816314\n",
            " 7.4074864  7.962991   8.059034   7.9882293 ]\n"
          ]
        }
      ]
    },
    {
      "cell_type": "code",
      "source": [
        "from numpy import savetxt\n",
        "savetxt('M_CNN.csv', inv_yhat, delimiter='/n')\n",
        "open(\"new.csv\")"
      ],
      "metadata": {
        "id": "NxukD2d_7Ydk",
        "colab": {
          "base_uri": "https://localhost:8080/",
          "height": 200
        },
        "outputId": "1b7adeb2-fe7c-4e01-bea3-78f7d3abae09"
      },
      "execution_count": null,
      "outputs": [
        {
          "output_type": "error",
          "ename": "FileNotFoundError",
          "evalue": "ignored",
          "traceback": [
            "\u001b[0;31m---------------------------------------------------------------------------\u001b[0m",
            "\u001b[0;31mFileNotFoundError\u001b[0m                         Traceback (most recent call last)",
            "\u001b[0;32m<ipython-input-18-b7f5187a20d0>\u001b[0m in \u001b[0;36m<module>\u001b[0;34m\u001b[0m\n\u001b[1;32m      1\u001b[0m \u001b[0;32mfrom\u001b[0m \u001b[0mnumpy\u001b[0m \u001b[0;32mimport\u001b[0m \u001b[0msavetxt\u001b[0m\u001b[0;34m\u001b[0m\u001b[0;34m\u001b[0m\u001b[0m\n\u001b[1;32m      2\u001b[0m \u001b[0msavetxt\u001b[0m\u001b[0;34m(\u001b[0m\u001b[0;34m'M_CNN.csv'\u001b[0m\u001b[0;34m,\u001b[0m \u001b[0minv_yhat\u001b[0m\u001b[0;34m,\u001b[0m \u001b[0mdelimiter\u001b[0m\u001b[0;34m=\u001b[0m\u001b[0;34m'/n'\u001b[0m\u001b[0;34m)\u001b[0m\u001b[0;34m\u001b[0m\u001b[0;34m\u001b[0m\u001b[0m\n\u001b[0;32m----> 3\u001b[0;31m \u001b[0mopen\u001b[0m\u001b[0;34m(\u001b[0m\u001b[0;34m\"new.csv\"\u001b[0m\u001b[0;34m)\u001b[0m\u001b[0;34m\u001b[0m\u001b[0;34m\u001b[0m\u001b[0m\n\u001b[0m",
            "\u001b[0;31mFileNotFoundError\u001b[0m: [Errno 2] No such file or directory: 'new.csv'"
          ]
        }
      ]
    },
    {
      "cell_type": "code",
      "source": [
        "from numpy import savetxt\n",
        "savetxt('newa.csv', inv_y, delimiter='/n')\n",
        "open(\"newa.csv\")"
      ],
      "metadata": {
        "id": "SXR9q1uB8dfD"
      },
      "execution_count": null,
      "outputs": []
    }
  ]
}