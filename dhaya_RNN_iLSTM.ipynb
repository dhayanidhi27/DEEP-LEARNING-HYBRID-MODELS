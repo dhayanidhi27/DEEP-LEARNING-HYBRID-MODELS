{
  "nbformat": 4,
  "nbformat_minor": 0,
  "metadata": {
    "colab": {
      "name": "manjari-RNN_iLSTM.ipynb",
      "provenance": [],
      "collapsed_sections": []
    },
    "kernelspec": {
      "name": "python3",
      "display_name": "Python 3"
    },
    "language_info": {
      "name": "python"
    }
  },
  "cells": [
    {
      "cell_type": "code",
      "execution_count": null,
      "metadata": {
        "id": "__ZAs5qkvQPW"
      },
      "outputs": [],
      "source": [
        "import pandas as pd\n",
        "from datetime import datetime\n",
        "from math import sqrt\n",
        "import numpy as np\n",
        "from numpy import concatenate\n",
        "from matplotlib import pyplot\n",
        "from pandas import read_csv\n",
        "from pandas import DataFrame\n",
        "from keras.layers import Dropout\n",
        "from keras.layers import TimeDistributed\n",
        "from tensorflow.keras.callbacks import ModelCheckpoint\n",
        "from tensorflow.keras.optimizers import Adam\n",
        "from pandas import concat\n",
        "from sklearn.preprocessing import StandardScaler\n",
        "from sklearn.preprocessing import MinMaxScaler\n",
        "from sklearn.preprocessing import LabelEncoder\n",
        "from sklearn.metrics import mean_squared_error\n",
        "from keras.models import Sequential\n",
        "from keras.layers import Dense\n",
        "from keras.layers import LSTM,Bidirectional\n",
        "import pandas as pd\n",
        "from keras.layers import Flatten\n",
        "from keras.layers.convolutional import Conv1D\n",
        "from keras.layers.convolutional import MaxPooling1D\n",
        "from keras.layers import SimpleRNN\n",
        "from tensorflow import optimizers\n"
      ]
    },
    {
      "cell_type": "code",
      "source": [
        "# load dataset\n",
        "dataset = read_csv('DATASETAIML3.csv', header=0, index_col=0)\n",
        "values = dataset.values"
      ],
      "metadata": {
        "id": "d9gvWUY9v_Fy"
      },
      "execution_count": null,
      "outputs": []
    },
    {
      "cell_type": "code",
      "source": [
        "dataset.head()"
      ],
      "metadata": {
        "colab": {
          "base_uri": "https://localhost:8080/",
          "height": 206
        },
        "id": "kaLxyb38wzHO",
        "outputId": "10e80e9b-75b2-430d-85e0-715af595ac0f"
      },
      "execution_count": null,
      "outputs": [
        {
          "output_type": "execute_result",
          "data": {
            "text/plain": [
              "         Date  Time  WS [m/s]  DIR [°]\n",
              "0  1201950000     0      6.99    37.08\n",
              "1  1201950100   100      6.73    34.21\n",
              "2  1201950200   200      6.55    31.23\n",
              "3  1201950300   300      6.44    29.75\n",
              "4  1201950400   400      6.33    28.83"
            ],
            "text/html": [
              "\n",
              "  <div id=\"df-86b8aaef-5263-49f2-9532-75875952d5b0\">\n",
              "    <div class=\"colab-df-container\">\n",
              "      <div>\n",
              "<style scoped>\n",
              "    .dataframe tbody tr th:only-of-type {\n",
              "        vertical-align: middle;\n",
              "    }\n",
              "\n",
              "    .dataframe tbody tr th {\n",
              "        vertical-align: top;\n",
              "    }\n",
              "\n",
              "    .dataframe thead th {\n",
              "        text-align: right;\n",
              "    }\n",
              "</style>\n",
              "<table border=\"1\" class=\"dataframe\">\n",
              "  <thead>\n",
              "    <tr style=\"text-align: right;\">\n",
              "      <th></th>\n",
              "      <th>Date</th>\n",
              "      <th>Time</th>\n",
              "      <th>WS [m/s]</th>\n",
              "      <th>DIR [°]</th>\n",
              "    </tr>\n",
              "  </thead>\n",
              "  <tbody>\n",
              "    <tr>\n",
              "      <th>0</th>\n",
              "      <td>1201950000</td>\n",
              "      <td>0</td>\n",
              "      <td>6.99</td>\n",
              "      <td>37.08</td>\n",
              "    </tr>\n",
              "    <tr>\n",
              "      <th>1</th>\n",
              "      <td>1201950100</td>\n",
              "      <td>100</td>\n",
              "      <td>6.73</td>\n",
              "      <td>34.21</td>\n",
              "    </tr>\n",
              "    <tr>\n",
              "      <th>2</th>\n",
              "      <td>1201950200</td>\n",
              "      <td>200</td>\n",
              "      <td>6.55</td>\n",
              "      <td>31.23</td>\n",
              "    </tr>\n",
              "    <tr>\n",
              "      <th>3</th>\n",
              "      <td>1201950300</td>\n",
              "      <td>300</td>\n",
              "      <td>6.44</td>\n",
              "      <td>29.75</td>\n",
              "    </tr>\n",
              "    <tr>\n",
              "      <th>4</th>\n",
              "      <td>1201950400</td>\n",
              "      <td>400</td>\n",
              "      <td>6.33</td>\n",
              "      <td>28.83</td>\n",
              "    </tr>\n",
              "  </tbody>\n",
              "</table>\n",
              "</div>\n",
              "      <button class=\"colab-df-convert\" onclick=\"convertToInteractive('df-86b8aaef-5263-49f2-9532-75875952d5b0')\"\n",
              "              title=\"Convert this dataframe to an interactive table.\"\n",
              "              style=\"display:none;\">\n",
              "        \n",
              "  <svg xmlns=\"http://www.w3.org/2000/svg\" height=\"24px\"viewBox=\"0 0 24 24\"\n",
              "       width=\"24px\">\n",
              "    <path d=\"M0 0h24v24H0V0z\" fill=\"none\"/>\n",
              "    <path d=\"M18.56 5.44l.94 2.06.94-2.06 2.06-.94-2.06-.94-.94-2.06-.94 2.06-2.06.94zm-11 1L8.5 8.5l.94-2.06 2.06-.94-2.06-.94L8.5 2.5l-.94 2.06-2.06.94zm10 10l.94 2.06.94-2.06 2.06-.94-2.06-.94-.94-2.06-.94 2.06-2.06.94z\"/><path d=\"M17.41 7.96l-1.37-1.37c-.4-.4-.92-.59-1.43-.59-.52 0-1.04.2-1.43.59L10.3 9.45l-7.72 7.72c-.78.78-.78 2.05 0 2.83L4 21.41c.39.39.9.59 1.41.59.51 0 1.02-.2 1.41-.59l7.78-7.78 2.81-2.81c.8-.78.8-2.07 0-2.86zM5.41 20L4 18.59l7.72-7.72 1.47 1.35L5.41 20z\"/>\n",
              "  </svg>\n",
              "      </button>\n",
              "      \n",
              "  <style>\n",
              "    .colab-df-container {\n",
              "      display:flex;\n",
              "      flex-wrap:wrap;\n",
              "      gap: 12px;\n",
              "    }\n",
              "\n",
              "    .colab-df-convert {\n",
              "      background-color: #E8F0FE;\n",
              "      border: none;\n",
              "      border-radius: 50%;\n",
              "      cursor: pointer;\n",
              "      display: none;\n",
              "      fill: #1967D2;\n",
              "      height: 32px;\n",
              "      padding: 0 0 0 0;\n",
              "      width: 32px;\n",
              "    }\n",
              "\n",
              "    .colab-df-convert:hover {\n",
              "      background-color: #E2EBFA;\n",
              "      box-shadow: 0px 1px 2px rgba(60, 64, 67, 0.3), 0px 1px 3px 1px rgba(60, 64, 67, 0.15);\n",
              "      fill: #174EA6;\n",
              "    }\n",
              "\n",
              "    [theme=dark] .colab-df-convert {\n",
              "      background-color: #3B4455;\n",
              "      fill: #D2E3FC;\n",
              "    }\n",
              "\n",
              "    [theme=dark] .colab-df-convert:hover {\n",
              "      background-color: #434B5C;\n",
              "      box-shadow: 0px 1px 3px 1px rgba(0, 0, 0, 0.15);\n",
              "      filter: drop-shadow(0px 1px 2px rgba(0, 0, 0, 0.3));\n",
              "      fill: #FFFFFF;\n",
              "    }\n",
              "  </style>\n",
              "\n",
              "      <script>\n",
              "        const buttonEl =\n",
              "          document.querySelector('#df-86b8aaef-5263-49f2-9532-75875952d5b0 button.colab-df-convert');\n",
              "        buttonEl.style.display =\n",
              "          google.colab.kernel.accessAllowed ? 'block' : 'none';\n",
              "\n",
              "        async function convertToInteractive(key) {\n",
              "          const element = document.querySelector('#df-86b8aaef-5263-49f2-9532-75875952d5b0');\n",
              "          const dataTable =\n",
              "            await google.colab.kernel.invokeFunction('convertToInteractive',\n",
              "                                                     [key], {});\n",
              "          if (!dataTable) return;\n",
              "\n",
              "          const docLinkHtml = 'Like what you see? Visit the ' +\n",
              "            '<a target=\"_blank\" href=https://colab.research.google.com/notebooks/data_table.ipynb>data table notebook</a>'\n",
              "            + ' to learn more about interactive tables.';\n",
              "          element.innerHTML = '';\n",
              "          dataTable['output_type'] = 'display_data';\n",
              "          await google.colab.output.renderOutput(dataTable, element);\n",
              "          const docLink = document.createElement('div');\n",
              "          docLink.innerHTML = docLinkHtml;\n",
              "          element.appendChild(docLink);\n",
              "        }\n",
              "      </script>\n",
              "    </div>\n",
              "  </div>\n",
              "  "
            ]
          },
          "metadata": {},
          "execution_count": 3
        }
      ]
    },
    {
      "cell_type": "code",
      "source": [
        "# dataset.dropna()\n",
        "dataset.drop(dataset.columns[[1]], axis = 1, inplace = True)\n",
        "print(dataset.head())"
      ],
      "metadata": {
        "colab": {
          "base_uri": "https://localhost:8080/"
        },
        "id": "dKQ8ZJk5xe3E",
        "outputId": "2aa6b806-0636-46a0-bb78-8c99448be250"
      },
      "execution_count": null,
      "outputs": [
        {
          "output_type": "stream",
          "name": "stdout",
          "text": [
            "         Date  WS [m/s]  DIR [°]\n",
            "0  1201950000      6.99    37.08\n",
            "1  1201950100      6.73    34.21\n",
            "2  1201950200      6.55    31.23\n",
            "3  1201950300      6.44    29.75\n",
            "4  1201950400      6.33    28.83\n"
          ]
        }
      ]
    },
    {
      "cell_type": "code",
      "source": [
        "# convert series to supervised learning\n",
        "def series_to_supervised(data, n_in=1, n_out=1, dropnan=True):\n",
        "\tn_vars = 1 if type(data) is list else data.shape[1]\n",
        "\tdf = DataFrame(data)\n",
        "\tcols, names = list(), list()\n",
        "\t# input sequence (t-n, ... t-1)\n",
        "\tfor i in range(n_in, 0, -1):\n",
        "\t\tcols.append(df.shift(i))\n",
        "\t\tnames += [('var%d(t-%d)' % (j+1, i)) for j in range(n_vars)]\n",
        "\t# forecast sequence (t, t+1, ... t+n)\n",
        "\tfor i in range(0, n_out):\n",
        "\t\tcols.append(df.shift(-i))\n",
        "\t\tif i == 0:\n",
        "\t\t\tnames += [('var%d(t)' % (j+1)) for j in range(n_vars)]\n",
        "\t\telse:\n",
        "\t\t\tnames += [('var%d(t+%d)' % (j+1, i)) for j in range(n_vars)]\n",
        "\t# put it all together\n",
        "\tagg = concat(cols, axis=1)\n",
        "\tagg.columns = names\n",
        "\t# drop rows with NaN values\n",
        "\tif dropnan:\n",
        "\t\tagg.dropna(inplace=True)\n",
        "\treturn agg"
      ],
      "metadata": {
        "id": "OCwQqZ7sxoOg"
      },
      "execution_count": null,
      "outputs": []
    },
    {
      "cell_type": "code",
      "source": [
        "#dataset['Day'] = pd.to_datetime(dataset['Day'])\n",
        "dataset = dataset.set_index('Date')\n",
        "values = dataset.values\n",
        "encoder = LabelEncoder()\n",
        "values[:, 1] = encoder.fit_transform(values[:, 1])\n",
        "values = values.astype(float)\n",
        "scaler =  StandardScaler()\n",
        "scaled = scaler.fit_transform(values)\n",
        "print()\n",
        "print(scaled[:, 1])"
      ],
      "metadata": {
        "colab": {
          "base_uri": "https://localhost:8080/"
        },
        "id": "w5GqOdnMx0ZB",
        "outputId": "24a361b6-9a18-4616-a6a8-3de1101d43f8"
      },
      "execution_count": null,
      "outputs": [
        {
          "output_type": "stream",
          "name": "stdout",
          "text": [
            "\n",
            "[-1.41118727 -1.44509529 -1.48030291 ... -1.39405605 -1.44769451\n",
            " -1.4983793 ]\n"
          ]
        }
      ]
    },
    {
      "cell_type": "code",
      "source": [
        "n_input = 3\n",
        "n_features = 2\n",
        "\n",
        "reframed = series_to_supervised(scaled, n_input, 1)\n",
        "#Splitting the dataset\n",
        "values = reframed.values\n",
        "train = values[:140000, :]\n",
        "test = values[140000:, :]\n",
        "\n",
        "n_obs = n_input * n_features\n",
        "train_X, train_y = train[:, :n_obs], train[:, -n_features]\n",
        "test_X, test_y = test[:, :n_obs], test[:, -n_features]\n",
        "print(train_X.shape, len(train_X), train_y.shape)\n",
        "\n",
        "train_X = train_X.reshape((train_X.shape[0], n_input, n_features))\n",
        "test_X = test_X.reshape((test_X.shape[0], n_input, n_features))\n",
        "print(train_X.shape, train_y.shape, test_X.shape, test_y.shape)"
      ],
      "metadata": {
        "colab": {
          "base_uri": "https://localhost:8080/"
        },
        "id": "SiYDU1lsyU6k",
        "outputId": "d74d2ba0-b5bf-4118-a463-005a859289b7"
      },
      "execution_count": null,
      "outputs": [
        {
          "output_type": "stream",
          "name": "stdout",
          "text": [
            "(140000, 6) 140000 (140000,)\n",
            "(140000, 3, 2) (140000,) (35317, 3, 2) (35317,)\n"
          ]
        }
      ]
    },
    {
      "cell_type": "code",
      "source": [
        "model = Sequential()\n",
        "model.add(SimpleRNN(units=64, input_shape=(n_input, n_features), activation=\"relu\",return_sequences=True))\n",
        "model.add(LSTM(100,activation='relu'))\n",
        "model.add(Dense(8, activation=\"relu\")) \n",
        "model.add(Dense(1))\n",
        "model.compile(loss='mean_squared_error', optimizer='rmsprop')\n",
        "model.summary()\n",
        "# fit network\n",
        "history = model.fit(train_X, train_y, epochs=50, batch_size=72, validation_data=(test_X, test_y), verbose=2, shuffle=False)\n",
        "# plot history\n",
        "pyplot.plot(history.history['loss'], label='train')\n",
        "pyplot.plot(history.history['val_loss'], label='test')\n",
        "pyplot.legend()\n",
        "pyplot.show()"
      ],
      "metadata": {
        "colab": {
          "base_uri": "https://localhost:8080/",
          "height": 1000
        },
        "id": "soJXD6dY4aYB",
        "outputId": "7b79db7c-7de1-4162-dab2-d00e282bae9b"
      },
      "execution_count": null,
      "outputs": [
        {
          "output_type": "stream",
          "name": "stdout",
          "text": [
            "Model: \"sequential\"\n",
            "_________________________________________________________________\n",
            " Layer (type)                Output Shape              Param #   \n",
            "=================================================================\n",
            " simple_rnn (SimpleRNN)      (None, 3, 64)             4288      \n",
            "                                                                 \n",
            " lstm (LSTM)                 (None, 100)               66000     \n",
            "                                                                 \n",
            " dense (Dense)               (None, 8)                 808       \n",
            "                                                                 \n",
            " dense_1 (Dense)             (None, 1)                 9         \n",
            "                                                                 \n",
            "=================================================================\n",
            "Total params: 71,105\n",
            "Trainable params: 71,105\n",
            "Non-trainable params: 0\n",
            "_________________________________________________________________\n",
            "Epoch 1/50\n",
            "1945/1945 - 16s - loss: 0.0395 - val_loss: 0.0139 - 16s/epoch - 8ms/step\n",
            "Epoch 2/50\n",
            "1945/1945 - 13s - loss: 0.0131 - val_loss: 0.0116 - 13s/epoch - 7ms/step\n",
            "Epoch 3/50\n",
            "1945/1945 - 13s - loss: 0.0103 - val_loss: 0.0105 - 13s/epoch - 7ms/step\n",
            "Epoch 4/50\n",
            "1945/1945 - 13s - loss: 0.0093 - val_loss: 0.0099 - 13s/epoch - 7ms/step\n",
            "Epoch 5/50\n",
            "1945/1945 - 13s - loss: 0.0087 - val_loss: 0.0082 - 13s/epoch - 7ms/step\n",
            "Epoch 6/50\n",
            "1945/1945 - 13s - loss: 0.0083 - val_loss: 0.0100 - 13s/epoch - 7ms/step\n",
            "Epoch 7/50\n",
            "1945/1945 - 13s - loss: 0.0081 - val_loss: 0.0080 - 13s/epoch - 7ms/step\n",
            "Epoch 8/50\n",
            "1945/1945 - 14s - loss: 0.0078 - val_loss: 0.0092 - 14s/epoch - 7ms/step\n",
            "Epoch 9/50\n",
            "1945/1945 - 13s - loss: 0.0077 - val_loss: 0.0091 - 13s/epoch - 7ms/step\n",
            "Epoch 10/50\n",
            "1945/1945 - 14s - loss: 0.0076 - val_loss: 0.0083 - 14s/epoch - 7ms/step\n",
            "Epoch 11/50\n",
            "1945/1945 - 13s - loss: 0.0075 - val_loss: 0.0077 - 13s/epoch - 7ms/step\n",
            "Epoch 12/50\n",
            "1945/1945 - 13s - loss: 0.0074 - val_loss: 0.0075 - 13s/epoch - 7ms/step\n",
            "Epoch 13/50\n",
            "1945/1945 - 13s - loss: 0.0073 - val_loss: 0.0076 - 13s/epoch - 7ms/step\n",
            "Epoch 14/50\n",
            "1945/1945 - 13s - loss: 0.0073 - val_loss: 0.0076 - 13s/epoch - 7ms/step\n",
            "Epoch 15/50\n",
            "1945/1945 - 13s - loss: 0.0072 - val_loss: 0.0078 - 13s/epoch - 7ms/step\n",
            "Epoch 16/50\n",
            "1945/1945 - 14s - loss: 0.0072 - val_loss: 0.0078 - 14s/epoch - 7ms/step\n",
            "Epoch 17/50\n",
            "1945/1945 - 13s - loss: 0.0071 - val_loss: 0.0077 - 13s/epoch - 7ms/step\n",
            "Epoch 18/50\n",
            "1945/1945 - 13s - loss: 0.0071 - val_loss: 0.0077 - 13s/epoch - 7ms/step\n",
            "Epoch 19/50\n",
            "1945/1945 - 13s - loss: 0.0070 - val_loss: 0.0076 - 13s/epoch - 7ms/step\n",
            "Epoch 20/50\n",
            "1945/1945 - 14s - loss: 0.0070 - val_loss: 0.0078 - 14s/epoch - 7ms/step\n",
            "Epoch 21/50\n",
            "1945/1945 - 13s - loss: 0.0070 - val_loss: 0.0077 - 13s/epoch - 7ms/step\n",
            "Epoch 22/50\n",
            "1945/1945 - 13s - loss: 0.0069 - val_loss: 0.0075 - 13s/epoch - 7ms/step\n",
            "Epoch 23/50\n",
            "1945/1945 - 13s - loss: 0.0069 - val_loss: 0.0078 - 13s/epoch - 7ms/step\n",
            "Epoch 24/50\n",
            "1945/1945 - 14s - loss: 0.0069 - val_loss: 0.0078 - 14s/epoch - 7ms/step\n",
            "Epoch 25/50\n",
            "1945/1945 - 14s - loss: 0.0069 - val_loss: 0.0080 - 14s/epoch - 7ms/step\n",
            "Epoch 26/50\n",
            "1945/1945 - 13s - loss: 0.0068 - val_loss: 0.0078 - 13s/epoch - 7ms/step\n",
            "Epoch 27/50\n",
            "1945/1945 - 13s - loss: 0.0069 - val_loss: 0.0076 - 13s/epoch - 7ms/step\n",
            "Epoch 28/50\n",
            "1945/1945 - 13s - loss: 0.0068 - val_loss: 0.0078 - 13s/epoch - 7ms/step\n",
            "Epoch 29/50\n",
            "1945/1945 - 13s - loss: 0.0068 - val_loss: 0.0078 - 13s/epoch - 7ms/step\n",
            "Epoch 30/50\n",
            "1945/1945 - 14s - loss: 0.0068 - val_loss: 0.0080 - 14s/epoch - 7ms/step\n",
            "Epoch 31/50\n",
            "1945/1945 - 13s - loss: 0.0068 - val_loss: 0.0080 - 13s/epoch - 7ms/step\n",
            "Epoch 32/50\n",
            "1945/1945 - 13s - loss: 0.0068 - val_loss: 0.0079 - 13s/epoch - 7ms/step\n",
            "Epoch 33/50\n",
            "1945/1945 - 14s - loss: 0.0068 - val_loss: 0.0077 - 14s/epoch - 7ms/step\n",
            "Epoch 34/50\n",
            "1945/1945 - 14s - loss: 0.0068 - val_loss: 0.0077 - 14s/epoch - 7ms/step\n",
            "Epoch 35/50\n",
            "1945/1945 - 13s - loss: 0.0067 - val_loss: 0.0076 - 13s/epoch - 7ms/step\n",
            "Epoch 36/50\n",
            "1945/1945 - 13s - loss: 0.0067 - val_loss: 0.0076 - 13s/epoch - 7ms/step\n",
            "Epoch 37/50\n",
            "1945/1945 - 14s - loss: 0.0067 - val_loss: 0.0078 - 14s/epoch - 7ms/step\n",
            "Epoch 38/50\n",
            "1945/1945 - 14s - loss: 0.0067 - val_loss: 0.0079 - 14s/epoch - 7ms/step\n",
            "Epoch 39/50\n",
            "1945/1945 - 14s - loss: 0.0067 - val_loss: 0.0078 - 14s/epoch - 7ms/step\n",
            "Epoch 40/50\n",
            "1945/1945 - 14s - loss: 0.0067 - val_loss: 0.0080 - 14s/epoch - 7ms/step\n",
            "Epoch 41/50\n",
            "1945/1945 - 14s - loss: 0.0067 - val_loss: 0.0078 - 14s/epoch - 7ms/step\n",
            "Epoch 42/50\n",
            "1945/1945 - 14s - loss: 0.0067 - val_loss: 0.0077 - 14s/epoch - 7ms/step\n",
            "Epoch 43/50\n",
            "1945/1945 - 13s - loss: 0.0067 - val_loss: 0.0075 - 13s/epoch - 7ms/step\n",
            "Epoch 44/50\n",
            "1945/1945 - 14s - loss: 0.0066 - val_loss: 0.0077 - 14s/epoch - 7ms/step\n",
            "Epoch 45/50\n",
            "1945/1945 - 14s - loss: 0.0066 - val_loss: 0.0079 - 14s/epoch - 7ms/step\n",
            "Epoch 46/50\n",
            "1945/1945 - 15s - loss: 0.0066 - val_loss: 0.0083 - 15s/epoch - 8ms/step\n",
            "Epoch 47/50\n",
            "1945/1945 - 14s - loss: 0.0066 - val_loss: 0.0077 - 14s/epoch - 7ms/step\n",
            "Epoch 48/50\n",
            "1945/1945 - 14s - loss: 0.0066 - val_loss: 0.0076 - 14s/epoch - 7ms/step\n",
            "Epoch 49/50\n",
            "1945/1945 - 14s - loss: 0.0066 - val_loss: 0.0076 - 14s/epoch - 7ms/step\n",
            "Epoch 50/50\n",
            "1945/1945 - 15s - loss: 0.0066 - val_loss: 0.0080 - 15s/epoch - 8ms/step\n"
          ]
        },
        {
          "output_type": "display_data",
          "data": {
            "text/plain": [
              "<Figure size 432x288 with 1 Axes>"
            ],
            "image/png": "[encoded data removed]"
          },
          "metadata": {
            "needs_background": "light"
          }
        }
      ]
    },
    {
      "cell_type": "code",
      "source": [
        "yhat = model.predict(test_X)\n",
        "test_X = test_X.reshape((test_X.shape[0], n_input*n_features))\n",
        "print(yhat.shape)\n",
        "print(len(yhat))\n",
        "print(test_y.shape)"
      ],
      "metadata": {
        "id": "R0kc5WhK5JpJ",
        "colab": {
          "base_uri": "https://localhost:8080/"
        },
        "outputId": "507d911d-5ad4-446f-f65a-f1aa2150939c"
      },
      "execution_count": null,
      "outputs": [
        {
          "output_type": "stream",
          "name": "stdout",
          "text": [
            "(35317, 1)\n",
            "35317\n",
            "(35317,)\n"
          ]
        }
      ]
    },
    {
      "cell_type": "code",
      "source": [
        "rmse = sqrt(mean_squared_error(test_y, yhat))\n",
        "print('Test RMSE: %.3f' % rmse)"
      ],
      "metadata": {
        "id": "Xkre04Do5U_i",
        "colab": {
          "base_uri": "https://localhost:8080/"
        },
        "outputId": "106a132b-d6f8-4509-f43e-d4b571e8d4bf"
      },
      "execution_count": null,
      "outputs": [
        {
          "output_type": "stream",
          "name": "stdout",
          "text": [
            "Test RMSE: 0.089\n"
          ]
        }
      ]
    },
    {
      "cell_type": "code",
      "source": [
        "prediction_copies = np.repeat(yhat, scaled.shape[1], axis=-1)\n",
        "#y_pred_future = scaler.inverse_transform(prediction_copies)[:,0]"
      ],
      "metadata": {
        "id": "xJW5CcWX5aEg"
      },
      "execution_count": null,
      "outputs": []
    },
    {
      "cell_type": "code",
      "source": [
        "#inv_yhat = concatenate((prediction_copies, test_X[:, -2:]), axis=1)\n",
        "inv_yhat = scaler.inverse_transform(prediction_copies)\n",
        "inv_yhat = inv_yhat[:,0]"
      ],
      "metadata": {
        "id": "j49AOIwK5pE3"
      },
      "execution_count": null,
      "outputs": []
    },
    {
      "cell_type": "code",
      "source": [
        "test_y = test_y.reshape((len(test_y), 1))\n",
        "#inv_y = concatenate((test_y, test_X[:, -2:]), axis=1)\n",
        "\n",
        "test_copies = np.repeat(test_y, scaled.shape[1], axis=-1)\n",
        "#y_pred_future = scaler.inverse_transform(prediction_copies)[:,0]\n",
        "\n",
        "inv_y = scaler.inverse_transform(test_copies)\n",
        "inv_y = inv_y[:,0]\n",
        "\n",
        "mse = mean_squared_error(inv_y, inv_yhat)\n",
        "print('Test MSE: %.3f' % mse)\n",
        "\n",
        "rmse = sqrt(mean_squared_error(inv_y, inv_yhat))\n",
        "print('Test RMSE: %.3f' % rmse)\n",
        "\n",
        "from sklearn.metrics import mean_absolute_error,mean_absolute_percentage_error\n",
        "mae = mean_absolute_error(inv_y, inv_yhat)\n",
        "print('Test MAE: %.3f' % mae)\n",
        "\n",
        "mape = mean_absolute_percentage_error(inv_y, inv_yhat)\n",
        "print('Test MAPE: %.3f' % mape)"
      ],
      "metadata": {
        "id": "jv3W6uqn5srY",
        "colab": {
          "base_uri": "https://localhost:8080/"
        },
        "outputId": "8fda88ea-a55a-4b4d-c7a7-2c6852c2052e"
      },
      "execution_count": null,
      "outputs": [
        {
          "output_type": "stream",
          "name": "stdout",
          "text": [
            "Test MSE: 0.041\n",
            "Test RMSE: 0.202\n",
            "Test MAE: 0.154\n",
            "Test MAPE: 0.039\n"
          ]
        }
      ]
    },
    {
      "cell_type": "code",
      "source": [
        "#print(yhat)\n",
        "print(inv_yhat)"
      ],
      "metadata": {
        "id": "vczPOPni50bM",
        "colab": {
          "base_uri": "https://localhost:8080/"
        },
        "outputId": "7945c439-54ef-41d0-d91a-1a6b19de7c88"
      },
      "execution_count": null,
      "outputs": [
        {
          "output_type": "stream",
          "name": "stdout",
          "text": [
            "[7.7228227 7.669828  7.7164235 ... 5.7845325 6.1316633 6.292985 ]\n"
          ]
        }
      ]
    },
    {
      "cell_type": "code",
      "source": [
        "from matplotlib import pyplot as plt\n",
        "\n",
        "#Plot the graph between actual vs predicted values\n",
        "plt.figure(figsize=(10,6))\n",
        "plt.plot(inv_y[:300], color= 'green',label = 'ACTUAL WIND SPEED ')\n",
        "plt.plot(inv_yhat[:300] , color = 'red',label = 'FORECASTED WIND SPEED ')\n",
        "plt.title(\"WIND SPEED FORECASTING USING RNN-LSTM\")\n",
        "plt.xlabel(\"TIME INTERVAL (1 DAY)\")\n",
        "plt.ylabel(\"SPEED OF WIND(KMPH)\")\n",
        "plt.legend()\n",
        "plt.show()\n",
        "plt.savefig('graph.png')"
      ],
      "metadata": {
        "id": "zZ6SdnjA54dS",
        "colab": {
          "base_uri": "https://localhost:8080/"
        },
        "outputId": "cb61107d-1ae7-4f0b-a846-be39e6859253"
      },
      "execution_count": null,
      "outputs": [
        {
          "output_type": "display_data",
          "data": {
            "text/plain": [
              "<Figure size 720x432 with 1 Axes>"
            ],
            "image/png": "[encoded data removed]"
          },
          "metadata": {
            "needs_background": "light"
          }
        },
        {
          "output_type": "display_data",
          "data": {
            "text/plain": [
              "<Figure size 432x288 with 0 Axes>"
            ]
          },
          "metadata": {}
        }
      ]
    },
    {
      "cell_type": "code",
      "source": [],
      "metadata": {
        "id": "w8-znAaP6YCW"
      },
      "execution_count": null,
      "outputs": []
    },
    {
      "cell_type": "code",
      "source": [
        "print(inv_y[:724])"
      ],
      "metadata": {
        "id": "8g1zDvtU6Z16",
        "colab": {
          "base_uri": "https://localhost:8080/"
        },
        "outputId": "6cacc4a2-8b3f-45a7-e8b5-e9d8cb636cf7"
      },
      "execution_count": null,
      "outputs": [
        {
          "output_type": "stream",
          "name": "stdout",
          "text": [
            "[7.6  7.64 7.6  7.53 7.54 7.42 6.97 6.69 6.65 6.61 6.64 6.58 6.41 6.22\n",
            " 6.05 5.95 5.84 5.8  5.81 5.84 5.79 5.49 6.01 6.67 7.01 7.13 7.19 7.2\n",
            " 6.99 6.5  6.08 5.98 6.17 6.37 6.39 6.29 6.2  6.13 6.12 6.15 6.14 6.19\n",
            " 6.26 6.27 6.22 5.97 6.53 7.88 8.73 9.18 9.45 9.57 9.34 8.82 8.   7.68\n",
            " 7.69 7.71 7.7  7.66 7.58 7.5  7.41 7.38 7.13 6.89 6.76 6.62 6.37 5.83\n",
            " 6.44 7.24 7.71 7.88 7.98 8.15 8.22 8.12 7.74 7.72 7.91 8.06 8.18 8.17\n",
            " 8.04 7.92 7.8  7.73 7.54 7.34 7.13 6.91 6.63 6.21 6.51 7.   6.93 6.88\n",
            " 6.88 6.94 7.01 6.91 6.73 6.66 6.63 6.65 6.77 6.94 7.14 7.22 7.28 7.35\n",
            " 7.43 7.51 7.59 7.69 7.74 7.72 7.83 8.06 8.34 8.58 8.66 8.58 8.27 8.06\n",
            " 8.06 8.18 8.28 8.27 8.3  8.3  8.14 7.9  7.57 7.28 6.92 6.66 6.54 6.51\n",
            " 6.56 6.53 7.06 7.15 6.98 6.99 6.94 6.93 6.83 6.64 6.51 6.55 6.57 6.54\n",
            " 6.46 6.27 5.91 5.72 5.67 5.52 5.37 5.35 5.28 5.18 5.08 4.87 4.73 4.87\n",
            " 5.02 4.99 4.88 4.85 4.55 4.18 3.98 3.92 3.83 3.61 3.33 2.89 2.38 2.1\n",
            " 1.84 1.53 1.39 1.43 1.5  1.43 1.13 0.98 1.03 0.86 0.74 0.49 0.35 0.57\n",
            " 1.1  1.61 2.1  2.53 2.85 3.06 2.86 2.48 2.08 1.7  1.25 0.84 0.8  0.97\n",
            " 1.3  1.77 2.29 2.71 3.12 3.57 4.1  4.62 5.03 5.13 5.03 4.89 4.59 4.56\n",
            " 4.73 4.89 5.24 5.45 5.54 5.59 5.52 5.37 4.95 4.53 4.23 3.9  3.66 3.59\n",
            " 3.89 4.18 4.16 4.16 4.22 4.26 4.18 4.02 3.52 3.01 2.81 2.8  3.32 3.97\n",
            " 4.52 5.01 5.35 5.46 5.09 4.62 4.19 3.72 3.33 3.15 3.76 4.23 4.45 4.57\n",
            " 4.57 4.47 4.19 3.85 3.63 3.69 3.8  3.97 4.22 4.4  4.36 4.25 4.08 3.96\n",
            " 3.93 3.95 4.06 4.24 4.28 4.09 4.27 4.32 4.1  3.85 3.66 3.46 3.31 3.26\n",
            " 3.33 3.54 3.68 3.6  3.49 3.32 3.05 2.74 2.36 1.94 1.54 1.17 0.9  0.76\n",
            " 0.68 0.91 1.49 1.63 1.74 1.74 1.55 1.23 1.16 1.68 2.7  3.46 4.23 4.45\n",
            " 4.36 4.19 3.96 3.73 3.53 3.22 2.78 2.39 2.16 2.02 1.84 1.58 1.39 1.23\n",
            " 1.56 2.22 2.77 3.11 3.3  3.5  3.4  3.16 2.99 3.01 3.03 3.02 2.92 2.97\n",
            " 3.13 3.35 3.56 3.68 3.72 3.72 3.68 3.48 3.79 4.14 4.53 4.84 5.   5.04\n",
            " 5.12 5.14 4.98 4.87 5.01 5.19 5.31 5.37 5.4  5.41 5.36 5.29 4.93 4.57\n",
            " 4.3  4.1  3.97 3.66 4.15 4.84 5.31 5.64 5.88 6.1  6.39 6.51 6.01 5.92\n",
            " 6.05 6.13 6.16 6.17 6.18 6.14 6.01 5.85 5.76 5.84 5.98 6.11 6.1  5.65\n",
            " 6.38 7.16 7.49 7.65 7.75 7.8  7.74 7.58 6.98 6.79 6.83 6.8  6.56 6.29\n",
            " 6.01 5.81 5.6  5.39 5.2  4.96 4.76 4.66 4.62 4.23 4.16 4.36 4.6  4.81\n",
            " 4.86 4.92 4.9  4.86 4.68 4.62 4.76 4.85 5.19 5.44 5.52 5.47 5.44 5.4\n",
            " 5.17 4.96 4.87 4.7  4.45 3.98 4.06 4.01 3.84 3.65 3.48 3.34 3.15 3.03\n",
            " 2.96 2.97 3.1  3.32 3.73 4.05 4.22 4.34 4.42 4.44 4.24 4.04 3.89 3.79\n",
            " 3.7  3.52 4.15 4.79 5.05 5.04 5.01 4.98 4.9  4.91 4.86 4.89 5.04 5.19\n",
            " 5.39 5.53 5.53 5.44 5.27 5.05 4.58 4.16 3.89 3.75 3.64 3.51 4.06 4.39\n",
            " 4.53 4.6  4.67 4.78 5.09 5.37 5.3  5.26 5.37 5.51 5.63 5.61 5.52 5.37\n",
            " 5.16 4.97 4.63 4.3  4.14 4.09 4.08 3.88 4.29 5.27 6.07 6.65 7.17 7.65\n",
            " 7.29 6.94 6.72 6.77 7.   7.3  7.53 7.61 7.62 7.6  7.53 7.45 7.17 6.94\n",
            " 6.78 6.63 6.45 6.06 6.35 6.99 7.25 7.24 7.18 7.1  6.87 6.41 5.97 6.\n",
            " 6.23 6.45 6.5  6.38 6.15 5.99 5.86 5.83 5.71 5.61 5.65 5.63 5.48 5.21\n",
            " 5.74 6.51 6.97 7.15 7.21 7.36 7.36 7.27 6.78 6.59 6.74 6.94 7.16 7.25\n",
            " 7.24 7.23 7.24 7.22 6.62 5.86 5.22 4.7  4.28 3.97 4.6  5.3  5.65 5.77\n",
            " 5.72 5.62 5.76 5.92 5.71 5.72 5.85 6.09 6.23 6.25 6.26 6.23 6.23 6.28\n",
            " 6.22 6.15 6.17 6.24 6.25 6.13 6.64 7.51 8.27 8.61 8.74 8.69 8.5  7.79\n",
            " 7.01 6.78 6.87 7.09 7.21 7.15 6.98 6.75 6.53 6.35 6.12 5.96 5.89 5.82\n",
            " 5.74 5.39 5.72 6.72 7.46 7.88 8.12 8.27 8.25 8.05 7.43 7.3  7.37 7.37\n",
            " 7.36 7.39 7.28 7.06 6.88 6.77 6.57 6.43 6.36 6.33 6.28 6.02 6.63 7.62\n",
            " 8.27 8.63 8.81 8.95 8.79 8.43 8.05 8.01 8.1  8.28 8.47 8.49 8.22 7.86\n",
            " 7.52 7.18 6.84 6.61 6.56 6.54 6.45 6.14 6.3  6.63 6.77 6.76 6.66 6.51\n",
            " 6.44 6.07 5.6  5.57 5.77 5.92 6.   6.15 6.34 6.56 6.83 7.11 7.21 7.1\n",
            " 6.98 6.89 6.8  6.58 6.51 7.12 7.75 8.07 8.13 8.07]\n"
          ]
        }
      ]
    },
    {
      "cell_type": "code",
      "source": [
        "x=print(inv_yhat[:724])"
      ],
      "metadata": {
        "id": "ltyFdied6Gaf",
        "colab": {
          "base_uri": "https://localhost:8080/"
        },
        "outputId": "53975a9c-6b96-4c29-f0bb-3f6c77ca8ed6"
      },
      "execution_count": null,
      "outputs": [
        {
          "output_type": "stream",
          "name": "stdout",
          "text": [
            "[7.7228227  7.669828   7.7164235  7.653642   7.586679   7.669712\n",
            " 7.418931   6.751647   6.6709833  6.838184   6.656236   6.771674\n",
            " 6.568625   6.3166146  6.1686277  6.045326   6.0380874  5.873474\n",
            " 5.92087    5.9457173  5.968482   5.842372   5.4819007  6.613085\n",
            " 7.044347   7.1996727  7.2700405  7.332584   7.313579   6.915568\n",
            " 6.1209836  5.9238057  6.1667247  6.542125   6.574615   6.3804555\n",
            " 6.2365932  6.237202   6.1952496  6.249659   6.2871118  6.2037497\n",
            " 6.340365   6.3957844  6.341074   6.275151   5.9186354  7.225616\n",
            " 8.585964   9.186267   9.407817   9.531946   9.544566   9.04479\n",
            " 8.385832   7.551704   7.754717   7.9247622  7.811147   7.7769012\n",
            " 7.708262   7.592718   7.5403876  7.4518166  7.4927926  6.967848\n",
            " 6.8067575  6.8326035  6.6527424  6.3499103  5.7840147  7.251297\n",
            " 7.6291337  7.906347   7.996379   8.095543   8.332587   8.282323\n",
            " 8.058345   7.5256767  7.953663   8.163399   8.206069   8.3085575\n",
            " 8.190245   7.981958   7.921803   7.794706   7.7863746  7.4555044\n",
            " 7.312457   7.0653005  6.8200626  6.4950886  5.9707804  7.130202\n",
            " 7.391304   6.842384   6.946592   6.998407   7.1125283  7.1655707\n",
            " 6.8620257  6.6463556  6.7532115  6.710762   6.7681274  6.986213\n",
            " 7.151043   7.36371    7.324565   7.4234204  7.520449   7.5986786\n",
            " 7.656916   7.728755   7.839558   7.828501   7.753019   7.9968896\n",
            " 8.259316   8.511779   8.684963   8.620537   8.441183   7.986933\n",
            " 7.9284177  8.039785   8.181638   8.20501    8.098911   8.195146\n",
            " 8.151142   7.896174   7.674589   7.319396   7.062466   6.638202\n",
            " 6.499371   6.5462523  6.5499496  6.6649714  6.4540515  7.424335\n",
            " 6.8819366  6.575554   6.8545947  6.627524   6.6877832  6.475738\n",
            " 6.287607   6.2853737  6.425591   6.304483   6.255862   6.205952\n",
            " 5.925373   5.511048   5.687869   5.696007   5.319678   5.252354\n",
            " 5.4050207  5.1760364  5.0812616  5.0026226  4.644474   4.662452\n",
            " 5.1047516  5.020201   4.74271    4.661798   4.7885528  4.148348\n",
            " 3.8501482  3.8760028  3.8804765  3.6753602  3.3329787  3.0839787\n",
            " 2.5426009  2.037588   2.0552526  1.7620506  1.4476833  1.4392204\n",
            " 1.561183   1.6277695  1.4007325  0.99041605 1.1259975  1.2860637\n",
            " 0.93998957 0.96935177 0.67735004 0.82175255 1.0914798  1.7096739\n",
            " 2.1062794  2.5695283  2.9373622  3.1107705  3.1897595  2.60747\n",
            " 2.171514   1.8506122  1.5506287  1.1191978  1.0040021  1.1749296\n",
            " 1.2832975  1.6730132  2.2644203  2.7974746  3.071864   3.48984\n",
            " 3.989697   4.5505896  4.987078   5.323131   5.195476   5.0094514\n",
            " 4.8437095  4.4588885  4.7191978  4.98047    5.0382433  5.5744214\n",
            " 5.544747   5.585105   5.67068    5.45446    5.2851524  4.758113\n",
            " 4.3579707  4.1904964  3.875172   3.7202299  3.7543967  4.2733345\n",
            " 4.4658604  4.25112    4.306494   4.4211297  4.411155   4.171258\n",
            " 3.9365437  3.1604114  2.7862678  2.9157794  2.990513   4.016075\n",
            " 4.5788445  4.9535623  5.360367   5.556945   5.4274693  4.814491\n",
            " 4.337943   4.0184712  3.5119777  3.2656124  3.2790344  4.4974785\n",
            " 4.6116576  4.581626   4.6721425  4.6012745  4.4664145  4.087991\n",
            " 3.738925   3.6899476  3.9810755  4.0071793  4.215593   4.510313\n",
            " 4.545839   4.325475   4.2355857  4.0487943  3.9967048  4.0564203\n",
            " 4.1123567  4.2715373  4.4413614  4.337529   4.100518   4.5718384\n",
            " 4.4331365  4.0979557  3.8660326  3.7124305  3.528094   3.4273221\n",
            " 3.4457083  3.5623705  3.8777974  3.7765443  3.4348347  3.3934631\n",
            " 3.157488   2.7971644  2.4937286  2.0929298  1.7044272  1.3769999\n",
            " 1.0883107  0.9834204  0.9709635  0.9467106  1.4467845  2.139325\n",
            " 1.7189169  1.9494884  1.8215733  1.4995213  1.11835    1.4159923\n",
            " 2.522416   3.834518   3.9282887  4.7259293  4.414133   4.1274242\n",
            " 3.9696562  3.7293222  3.520471   3.356102   2.9160748  2.4305925\n",
            " 2.170929   2.1126134  2.000828   1.7671638  1.6022358  1.5956459\n",
            " 1.4423022  2.0751789  2.9218426  3.264896   3.355711   3.4494746\n",
            " 3.7525918  3.2635236  2.976093   2.922369   3.1673307  3.099354\n",
            " 3.062829   2.90083    3.2241607  3.4311683  3.6766412  3.8326356\n",
            " 3.8447456  3.8339095  3.8395905  3.783541   3.520258   4.242679\n",
            " 4.471226   4.8383765  5.057772   5.102785   5.078143   5.2452035\n",
            " 5.1966786  4.9116235  4.89131    5.234984   5.3566976  5.3790684\n",
            " 5.42822    5.429031   5.439129   5.3381505  5.2797594  4.723947\n",
            " 4.434555   4.272905   4.141983   4.0633473  3.6916902  4.6684\n",
            " 5.2984376  5.588365   5.857701   6.045382   6.2882314  6.6620436\n",
            " 6.594826   5.79874    6.194678   6.3690057  6.255892   6.2589707\n",
            " 6.2819977  6.3036394  6.2153006  5.993294   5.822006   5.854034\n",
            " 6.0665183  6.158209   6.254228   6.1321535  5.67926    7.203351\n",
            " 7.567248   7.64374    7.7935863  7.8775797  7.900579   7.747141\n",
            " 7.546664   6.7549458  6.9219756  7.071873   6.8322854  6.3862467\n",
            " 6.163197   5.865095   5.8111486  5.5248027  5.3183994  5.1447215\n",
            " 4.8811045  4.7505817  4.7421746  4.7357707  4.448019   4.3479977\n",
            " 4.6542683  4.827991   5.014007   4.9539294  5.030144   4.9294424\n",
            " 4.8923097  4.6205244  4.6955385  4.9913154  4.9326754  5.5271354\n",
            " 5.5860987  5.527394   5.4082375  5.4616933  5.400576   4.9822435\n",
            " 4.8813233  4.945969   4.687561   4.411964   3.8719835  4.382667\n",
            " 4.0837574  3.8723319  3.704987   3.5225356  3.370081   3.068574\n",
            " 3.0639853  3.0464213  3.144454   3.3669066  3.653509   4.1920557\n",
            " 4.34254    4.383519   4.5029473  4.563522   4.532885   4.2045135\n",
            " 4.0498786  3.958446   3.887871   3.792968   3.564268   4.69842\n",
            " 5.227071   5.1863956  5.0481143  5.058404   5.0296946  4.905537\n",
            " 5.0146165  4.8908916  4.9928355  5.2145786  5.310415   5.57936\n",
            " 5.633399   5.5349092  5.3983827  5.184658   4.9247727  4.3208084\n",
            " 4.009504   3.8597429  3.8375678  3.7216585  3.586714   4.661254\n",
            " 4.613581   4.634087   4.694636   4.7867374  4.927472   5.3931646\n",
            " 5.56964    5.195417   5.2576776  5.5448747  5.6464863  5.737971\n",
            " 5.5458407  5.4450006  5.2603335  5.015634   4.8793054  4.4426312\n",
            " 4.1928864  4.1983967  4.2208123  4.212252   3.8699121  4.7294807\n",
            " 5.9469943  6.549502   7.004953   7.574445   8.021922   7.1425548\n",
            " 6.8120456  6.71374    7.044496   7.384935   7.647386   7.765748\n",
            " 7.7189555  7.6962504  7.6668205  7.5515075  7.4873805  7.0084863\n",
            " 6.8657427  6.7894087  6.6233497  6.4159994  5.8951344  6.918198\n",
            " 7.456973   7.3676105  7.2810016  7.246779   7.156754   6.7574587\n",
            " 6.049124   5.764455   6.3453135  6.5617766  6.670454   6.539261\n",
            " 6.3065505  6.009284   6.016746   5.901536   5.978485   5.668832\n",
            " 5.6301236  5.8349967  5.6719413  5.4504595  5.273112   6.2699747\n",
            " 6.9195414  7.189712   7.2285485  7.336322   7.615153   7.4356766\n",
            " 7.3003435  6.4936805  6.6783752  7.1094832  7.1680245  7.4000764\n",
            " 7.366935   7.2971296  7.3323226  7.3694067  7.3015842  6.354068\n",
            " 5.4921985  5.055021   4.4952126  4.1187787  3.946475   5.1120934\n",
            " 5.7838054  5.857455   5.8826656  5.769558   5.6127715  6.0510607\n",
            " 6.0855494  5.549729   5.9085083  6.0435295  6.355286   6.3476677\n",
            " 6.2754207  6.3482933  6.2817626  6.3528996  6.4383993  6.223082\n",
            " 6.1974545  6.3273807  6.3984585  6.32406    6.129672   7.2755146\n",
            " 8.077365   8.737077   8.759343   8.748245   8.576418   8.312269\n",
            " 7.3995914  6.7172313  6.9486113  7.1986     7.4336824  7.3599067\n",
            " 7.1383524  6.8929563  6.6328015  6.4681964  6.342368   6.026758\n",
            " 6.008007   5.9992995  5.8915224  5.815369   5.4109864  6.1924577\n",
            " 7.1732187  7.8577495  8.170676   8.3091955  8.3951025  8.233008\n",
            " 7.928197   7.0923924  7.5063744  7.632691   7.46017    7.46287\n",
            " 7.545349   7.2370844  6.928129   6.847749   6.8148427  6.4790015\n",
            " 6.4669795  6.453648   6.4333754  6.3552885  6.0177956  7.3307815\n",
            " 8.127952   8.591348   8.840553   8.916383   9.045119   8.679548\n",
            " 8.217533   7.9187207  8.215756   8.265557   8.472631   8.652335\n",
            " 8.519168   7.9998264  7.674657   7.4137115  7.038441   6.664382\n",
            " 6.603202   6.7175155  6.6467104  6.4948993  6.1052437  6.689745\n",
            " 6.9457693  6.8268604  6.785044   6.6597633  6.482744   6.539797\n",
            " 5.862979   5.3315287  5.874904   6.0654464  6.05647    6.104511\n",
            " 6.34997    6.5374756  6.7788095  7.0909305  7.3721128  7.3066125\n",
            " 7.073164   7.0130115  6.9607124  6.8595676  6.5441685  6.639198\n",
            " 7.8159075  8.11444    8.240796   8.152838  ]\n"
          ]
        }
      ]
    },
    {
      "cell_type": "code",
      "source": [
        "from numpy import savetxt\n",
        "savetxt('new.csv', inv_yhat, delimiter='/n')\n",
        "open(\"new.csv\")"
      ],
      "metadata": {
        "id": "NxukD2d_7Ydk",
        "colab": {
          "base_uri": "https://localhost:8080/"
        },
        "outputId": "3d58ab67-4015-4cc2-f406-84a6d9525ff7"
      },
      "execution_count": null,
      "outputs": [
        {
          "output_type": "execute_result",
          "data": {
            "text/plain": [
              "<_io.TextIOWrapper name='new.csv' mode='r' encoding='UTF-8'>"
            ]
          },
          "metadata": {},
          "execution_count": 18
        }
      ]
    },
    {
      "cell_type": "code",
      "source": [
        "from numpy import savetxt\n",
        "savetxt('newa.csv', inv_y, delimiter='/n')\n",
        "open(\"newa.csv\")"
      ],
      "metadata": {
        "id": "SXR9q1uB8dfD",
        "colab": {
          "base_uri": "https://localhost:8080/"
        },
        "outputId": "c92c3328-a577-4578-c3ed-53a51e3242e5"
      },
      "execution_count": null,
      "outputs": [
        {
          "output_type": "execute_result",
          "data": {
            "text/plain": [
              "<_io.TextIOWrapper name='newa.csv' mode='r' encoding='UTF-8'>"
            ]
          },
          "metadata": {},
          "execution_count": 19
        }
      ]
    }
  ]
}