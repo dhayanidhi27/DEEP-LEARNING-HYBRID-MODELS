{
  "nbformat": 4,
  "nbformat_minor": 0,
  "metadata": {
    "colab": {
      "name": "manjari_LSTM.ipynb",
      "provenance": [],
      "collapsed_sections": []
    },
    "kernelspec": {
      "name": "python3",
      "display_name": "Python 3"
    },
    "language_info": {
      "name": "python"
    }
  },
  "cells": [
    {
      "cell_type": "code",
      "execution_count": null,
      "metadata": {
        "id": "__ZAs5qkvQPW"
      },
      "outputs": [],
      "source": [
        "from math import sqrt\n",
        "from numpy import concatenate\n",
        "from matplotlib import pyplot\n",
        "from pandas import read_csv\n",
        "from pandas import DataFrame\n",
        "from sklearn.preprocessing import StandardScaler\n",
        "from pandas import concat\n",
        "from sklearn.preprocessing import MinMaxScaler\n",
        "from sklearn.preprocessing import LabelEncoder\n",
        "from sklearn.metrics import mean_squared_error\n",
        "from keras.models import Sequential\n",
        "from keras.layers import Dense\n",
        "from keras.layers import LSTM\n",
        "import numpy as np"
      ]
    },
    {
      "cell_type": "code",
      "source": [
        "# load dataset\n",
        "dataset = read_csv('/content/DATASETAIML3.csv', header=0, index_col=0)\n",
        "values = dataset.values"
      ],
      "metadata": {
        "id": "d9gvWUY9v_Fy"
      },
      "execution_count": null,
      "outputs": []
    },
    {
      "cell_type": "code",
      "source": [
        "dataset.head()"
      ],
      "metadata": {
        "colab": {
          "base_uri": "https://localhost:8080/",
          "height": 206
        },
        "id": "kaLxyb38wzHO",
        "outputId": "f0e74912-7045-4f25-c325-7d116cccc286"
      },
      "execution_count": null,
      "outputs": [
        {
          "output_type": "execute_result",
          "data": {
            "text/plain": [
              "         Date  Time  WS [m/s]  DIR [°]\n",
              "0  1201950000     0      6.99    37.08\n",
              "1  1201950100   100      6.73    34.21\n",
              "2  1201950200   200      6.55    31.23\n",
              "3  1201950300   300      6.44    29.75\n",
              "4  1201950400   400      6.33    28.83"
            ],
            "text/html": [
              "\n",
              "  <div id=\"df-0cb6ad43-ef5f-44ec-a603-31a7e8860760\">\n",
              "    <div class=\"colab-df-container\">\n",
              "      <div>\n",
              "<style scoped>\n",
              "    .dataframe tbody tr th:only-of-type {\n",
              "        vertical-align: middle;\n",
              "    }\n",
              "\n",
              "    .dataframe tbody tr th {\n",
              "        vertical-align: top;\n",
              "    }\n",
              "\n",
              "    .dataframe thead th {\n",
              "        text-align: right;\n",
              "    }\n",
              "</style>\n",
              "<table border=\"1\" class=\"dataframe\">\n",
              "  <thead>\n",
              "    <tr style=\"text-align: right;\">\n",
              "      <th></th>\n",
              "      <th>Date</th>\n",
              "      <th>Time</th>\n",
              "      <th>WS [m/s]</th>\n",
              "      <th>DIR [°]</th>\n",
              "    </tr>\n",
              "  </thead>\n",
              "  <tbody>\n",
              "    <tr>\n",
              "      <th>0</th>\n",
              "      <td>1201950000</td>\n",
              "      <td>0</td>\n",
              "      <td>6.99</td>\n",
              "      <td>37.08</td>\n",
              "    </tr>\n",
              "    <tr>\n",
              "      <th>1</th>\n",
              "      <td>1201950100</td>\n",
              "      <td>100</td>\n",
              "      <td>6.73</td>\n",
              "      <td>34.21</td>\n",
              "    </tr>\n",
              "    <tr>\n",
              "      <th>2</th>\n",
              "      <td>1201950200</td>\n",
              "      <td>200</td>\n",
              "      <td>6.55</td>\n",
              "      <td>31.23</td>\n",
              "    </tr>\n",
              "    <tr>\n",
              "      <th>3</th>\n",
              "      <td>1201950300</td>\n",
              "      <td>300</td>\n",
              "      <td>6.44</td>\n",
              "      <td>29.75</td>\n",
              "    </tr>\n",
              "    <tr>\n",
              "      <th>4</th>\n",
              "      <td>1201950400</td>\n",
              "      <td>400</td>\n",
              "      <td>6.33</td>\n",
              "      <td>28.83</td>\n",
              "    </tr>\n",
              "  </tbody>\n",
              "</table>\n",
              "</div>\n",
              "      <button class=\"colab-df-convert\" onclick=\"convertToInteractive('df-0cb6ad43-ef5f-44ec-a603-31a7e8860760')\"\n",
              "              title=\"Convert this dataframe to an interactive table.\"\n",
              "              style=\"display:none;\">\n",
              "        \n",
              "  <svg xmlns=\"http://www.w3.org/2000/svg\" height=\"24px\"viewBox=\"0 0 24 24\"\n",
              "       width=\"24px\">\n",
              "    <path d=\"M0 0h24v24H0V0z\" fill=\"none\"/>\n",
              "    <path d=\"M18.56 5.44l.94 2.06.94-2.06 2.06-.94-2.06-.94-.94-2.06-.94 2.06-2.06.94zm-11 1L8.5 8.5l.94-2.06 2.06-.94-2.06-.94L8.5 2.5l-.94 2.06-2.06.94zm10 10l.94 2.06.94-2.06 2.06-.94-2.06-.94-.94-2.06-.94 2.06-2.06.94z\"/><path d=\"M17.41 7.96l-1.37-1.37c-.4-.4-.92-.59-1.43-.59-.52 0-1.04.2-1.43.59L10.3 9.45l-7.72 7.72c-.78.78-.78 2.05 0 2.83L4 21.41c.39.39.9.59 1.41.59.51 0 1.02-.2 1.41-.59l7.78-7.78 2.81-2.81c.8-.78.8-2.07 0-2.86zM5.41 20L4 18.59l7.72-7.72 1.47 1.35L5.41 20z\"/>\n",
              "  </svg>\n",
              "      </button>\n",
              "      \n",
              "  <style>\n",
              "    .colab-df-container {\n",
              "      display:flex;\n",
              "      flex-wrap:wrap;\n",
              "      gap: 12px;\n",
              "    }\n",
              "\n",
              "    .colab-df-convert {\n",
              "      background-color: #E8F0FE;\n",
              "      border: none;\n",
              "      border-radius: 50%;\n",
              "      cursor: pointer;\n",
              "      display: none;\n",
              "      fill: #1967D2;\n",
              "      height: 32px;\n",
              "      padding: 0 0 0 0;\n",
              "      width: 32px;\n",
              "    }\n",
              "\n",
              "    .colab-df-convert:hover {\n",
              "      background-color: #E2EBFA;\n",
              "      box-shadow: 0px 1px 2px rgba(60, 64, 67, 0.3), 0px 1px 3px 1px rgba(60, 64, 67, 0.15);\n",
              "      fill: #174EA6;\n",
              "    }\n",
              "\n",
              "    [theme=dark] .colab-df-convert {\n",
              "      background-color: #3B4455;\n",
              "      fill: #D2E3FC;\n",
              "    }\n",
              "\n",
              "    [theme=dark] .colab-df-convert:hover {\n",
              "      background-color: #434B5C;\n",
              "      box-shadow: 0px 1px 3px 1px rgba(0, 0, 0, 0.15);\n",
              "      filter: drop-shadow(0px 1px 2px rgba(0, 0, 0, 0.3));\n",
              "      fill: #FFFFFF;\n",
              "    }\n",
              "  </style>\n",
              "\n",
              "      <script>\n",
              "        const buttonEl =\n",
              "          document.querySelector('#df-0cb6ad43-ef5f-44ec-a603-31a7e8860760 button.colab-df-convert');\n",
              "        buttonEl.style.display =\n",
              "          google.colab.kernel.accessAllowed ? 'block' : 'none';\n",
              "\n",
              "        async function convertToInteractive(key) {\n",
              "          const element = document.querySelector('#df-0cb6ad43-ef5f-44ec-a603-31a7e8860760');\n",
              "          const dataTable =\n",
              "            await google.colab.kernel.invokeFunction('convertToInteractive',\n",
              "                                                     [key], {});\n",
              "          if (!dataTable) return;\n",
              "\n",
              "          const docLinkHtml = 'Like what you see? Visit the ' +\n",
              "            '<a target=\"_blank\" href=https://colab.research.google.com/notebooks/data_table.ipynb>data table notebook</a>'\n",
              "            + ' to learn more about interactive tables.';\n",
              "          element.innerHTML = '';\n",
              "          dataTable['output_type'] = 'display_data';\n",
              "          await google.colab.output.renderOutput(dataTable, element);\n",
              "          const docLink = document.createElement('div');\n",
              "          docLink.innerHTML = docLinkHtml;\n",
              "          element.appendChild(docLink);\n",
              "        }\n",
              "      </script>\n",
              "    </div>\n",
              "  </div>\n",
              "  "
            ]
          },
          "metadata": {},
          "execution_count": 4
        }
      ]
    },
    {
      "cell_type": "code",
      "source": [
        "# dataset.dropna()\n",
        "dataset.drop(dataset.columns[[1]], axis = 1, inplace = True)\n",
        "print(dataset.head())"
      ],
      "metadata": {
        "colab": {
          "base_uri": "https://localhost:8080/"
        },
        "id": "dKQ8ZJk5xe3E",
        "outputId": "c67494c9-9a9d-4435-c200-45b293b92afb"
      },
      "execution_count": null,
      "outputs": [
        {
          "output_type": "stream",
          "name": "stdout",
          "text": [
            "         Date  WS [m/s]  DIR [°]\n",
            "0  1201950000      6.99    37.08\n",
            "1  1201950100      6.73    34.21\n",
            "2  1201950200      6.55    31.23\n",
            "3  1201950300      6.44    29.75\n",
            "4  1201950400      6.33    28.83\n"
          ]
        }
      ]
    },
    {
      "cell_type": "code",
      "source": [
        "# convert series to supervised learning\n",
        "def series_to_supervised(data, n_in=1, n_out=1, dropnan=True):\n",
        "\tn_vars = 1 if type(data) is list else data.shape[1]\n",
        "\tdf = DataFrame(data)\n",
        "\tcols, names = list(), list()\n",
        "\t# input sequence (t-n, ... t-1)\n",
        "\tfor i in range(n_in, 0, -1):\n",
        "\t\tcols.append(df.shift(i))\n",
        "\t\tnames += [('var%d(t-%d)' % (j+1, i)) for j in range(n_vars)]\n",
        "\t# forecast sequence (t, t+1, ... t+n)\n",
        "\tfor i in range(0, n_out):\n",
        "\t\tcols.append(df.shift(-i))\n",
        "\t\tif i == 0:\n",
        "\t\t\tnames += [('var%d(t)' % (j+1)) for j in range(n_vars)]\n",
        "\t\telse:\n",
        "\t\t\tnames += [('var%d(t+%d)' % (j+1, i)) for j in range(n_vars)]\n",
        "\t# put it all together\n",
        "\tagg = concat(cols, axis=1)\n",
        "\tagg.columns = names\n",
        "\t# drop rows with NaN values\n",
        "\tif dropnan:\n",
        "\t\tagg.dropna(inplace=True)\n",
        "\treturn agg"
      ],
      "metadata": {
        "id": "OCwQqZ7sxoOg"
      },
      "execution_count": null,
      "outputs": []
    },
    {
      "cell_type": "code",
      "source": [
        "#dataset['Day'] = pd.to_datetime(dataset['Day'])\n",
        "dataset = dataset.set_index('Date')\n",
        "values = dataset.values\n",
        "encoder = LabelEncoder()\n",
        "values[:, 1] = encoder.fit_transform(values[:, 1])\n",
        "values = values.astype(float)\n",
        "scaler = StandardScaler()\n",
        "scaled = scaler.fit_transform(values)\n",
        "print()\n",
        "print(scaled[:, 1])"
      ],
      "metadata": {
        "colab": {
          "base_uri": "https://localhost:8080/"
        },
        "id": "w5GqOdnMx0ZB",
        "outputId": "a2969689-0c88-482d-9f8e-d0cc2145cb42"
      },
      "execution_count": null,
      "outputs": [
        {
          "output_type": "stream",
          "name": "stdout",
          "text": [
            "\n",
            "[-1.41118727 -1.44509529 -1.48030291 ... -1.39405605 -1.44769451\n",
            " -1.4983793 ]\n"
          ]
        }
      ]
    },
    {
      "cell_type": "code",
      "source": [
        "n_input = 3\n",
        "n_features = 2\n",
        "\n",
        "reframed = series_to_supervised(scaled, n_input, 1)\n",
        "#Splitting the dataset\n",
        "values = reframed.values\n",
        "train = values[:140000, :]\n",
        "test = values[140000:, :]\n",
        "\n",
        "n_obs = n_input * n_features\n",
        "train_X, train_y = train[:, :n_obs], train[:, -n_features]\n",
        "test_X, test_y = test[:, :n_obs], test[:, -n_features]\n",
        "print(train_X.shape, len(train_X), train_y.shape)\n",
        "\n",
        "train_X = train_X.reshape((train_X.shape[0], n_input, n_features))\n",
        "test_X = test_X.reshape((test_X.shape[0], n_input, n_features))\n",
        "print(train_X.shape, train_y.shape, test_X.shape, test_y.shape)"
      ],
      "metadata": {
        "colab": {
          "base_uri": "https://localhost:8080/"
        },
        "id": "SiYDU1lsyU6k",
        "outputId": "4fddb534-e2f2-4752-e263-0596b3d0239f"
      },
      "execution_count": null,
      "outputs": [
        {
          "output_type": "stream",
          "name": "stdout",
          "text": [
            "(140000, 6) 140000 (140000,)\n",
            "(140000, 3, 2) (140000,) (35317, 3, 2) (35317,)\n"
          ]
        }
      ]
    },
    {
      "cell_type": "code",
      "source": [
        "model = Sequential()\n",
        "model.add(LSTM(100, input_shape=(n_input,n_features)))\n",
        "#model.add(Dropout(0.8))\n",
        "model.add(Dense(1))\n",
        "model.compile(loss='mae', optimizer='adam',metrics=['accuracy'])\n",
        "# fit network\n",
        "history = model.fit(train_X, train_y, epochs=50, batch_size=72, validation_data=(test_X, test_y), verbose=2, shuffle=False)\n",
        "# plot history\n",
        "pyplot.plot(history.history['loss'], label='train')\n",
        "pyplot.plot(history.history['val_loss'], label='test')\n",
        "pyplot.legend()\n",
        "pyplot.show()"
      ],
      "metadata": {
        "colab": {
          "base_uri": "https://localhost:8080/",
          "height": 1000
        },
        "id": "soJXD6dY4aYB",
        "outputId": "fff7c380-cad3-46ec-8a2a-74ced2092666"
      },
      "execution_count": null,
      "outputs": [
        {
          "output_type": "stream",
          "name": "stdout",
          "text": [
            "Epoch 1/50\n",
            "1945/1945 - 21s - loss: 0.1147 - accuracy: 0.0000e+00 - val_loss: 0.0671 - val_accuracy: 0.0000e+00 - 21s/epoch - 11ms/step\n",
            "Epoch 2/50\n",
            "1945/1945 - 16s - loss: 0.0635 - accuracy: 0.0000e+00 - val_loss: 0.0703 - val_accuracy: 0.0000e+00 - 16s/epoch - 8ms/step\n",
            "Epoch 3/50\n",
            "1945/1945 - 13s - loss: 0.0629 - accuracy: 0.0000e+00 - val_loss: 0.0674 - val_accuracy: 0.0000e+00 - 13s/epoch - 7ms/step\n",
            "Epoch 4/50\n",
            "1945/1945 - 15s - loss: 0.0626 - accuracy: 0.0000e+00 - val_loss: 0.0668 - val_accuracy: 0.0000e+00 - 15s/epoch - 8ms/step\n",
            "Epoch 5/50\n",
            "1945/1945 - 13s - loss: 0.0623 - accuracy: 0.0000e+00 - val_loss: 0.0675 - val_accuracy: 0.0000e+00 - 13s/epoch - 7ms/step\n",
            "Epoch 6/50\n",
            "1945/1945 - 13s - loss: 0.0621 - accuracy: 0.0000e+00 - val_loss: 0.0636 - val_accuracy: 0.0000e+00 - 13s/epoch - 6ms/step\n",
            "Epoch 7/50\n",
            "1945/1945 - 13s - loss: 0.0617 - accuracy: 0.0000e+00 - val_loss: 0.0634 - val_accuracy: 0.0000e+00 - 13s/epoch - 7ms/step\n",
            "Epoch 8/50\n",
            "1945/1945 - 15s - loss: 0.0614 - accuracy: 0.0000e+00 - val_loss: 0.0623 - val_accuracy: 0.0000e+00 - 15s/epoch - 8ms/step\n",
            "Epoch 9/50\n",
            "1945/1945 - 13s - loss: 0.0609 - accuracy: 0.0000e+00 - val_loss: 0.0625 - val_accuracy: 0.0000e+00 - 13s/epoch - 7ms/step\n",
            "Epoch 10/50\n",
            "1945/1945 - 13s - loss: 0.0602 - accuracy: 0.0000e+00 - val_loss: 0.0633 - val_accuracy: 0.0000e+00 - 13s/epoch - 7ms/step\n",
            "Epoch 11/50\n",
            "1945/1945 - 12s - loss: 0.0597 - accuracy: 0.0000e+00 - val_loss: 0.0627 - val_accuracy: 0.0000e+00 - 12s/epoch - 6ms/step\n",
            "Epoch 12/50\n",
            "1945/1945 - 14s - loss: 0.0593 - accuracy: 0.0000e+00 - val_loss: 0.0618 - val_accuracy: 0.0000e+00 - 14s/epoch - 7ms/step\n",
            "Epoch 13/50\n",
            "1945/1945 - 13s - loss: 0.0588 - accuracy: 0.0000e+00 - val_loss: 0.0610 - val_accuracy: 0.0000e+00 - 13s/epoch - 7ms/step\n",
            "Epoch 14/50\n",
            "1945/1945 - 13s - loss: 0.0586 - accuracy: 0.0000e+00 - val_loss: 0.0608 - val_accuracy: 0.0000e+00 - 13s/epoch - 7ms/step\n",
            "Epoch 15/50\n",
            "1945/1945 - 14s - loss: 0.0583 - accuracy: 0.0000e+00 - val_loss: 0.0609 - val_accuracy: 0.0000e+00 - 14s/epoch - 7ms/step\n",
            "Epoch 16/50\n",
            "1945/1945 - 15s - loss: 0.0581 - accuracy: 0.0000e+00 - val_loss: 0.0609 - val_accuracy: 0.0000e+00 - 15s/epoch - 8ms/step\n",
            "Epoch 17/50\n",
            "1945/1945 - 13s - loss: 0.0580 - accuracy: 0.0000e+00 - val_loss: 0.0605 - val_accuracy: 0.0000e+00 - 13s/epoch - 7ms/step\n",
            "Epoch 18/50\n",
            "1945/1945 - 14s - loss: 0.0578 - accuracy: 0.0000e+00 - val_loss: 0.0611 - val_accuracy: 0.0000e+00 - 14s/epoch - 7ms/step\n",
            "Epoch 19/50\n",
            "1945/1945 - 13s - loss: 0.0576 - accuracy: 0.0000e+00 - val_loss: 0.0590 - val_accuracy: 0.0000e+00 - 13s/epoch - 7ms/step\n",
            "Epoch 20/50\n",
            "1945/1945 - 13s - loss: 0.0575 - accuracy: 0.0000e+00 - val_loss: 0.0600 - val_accuracy: 0.0000e+00 - 13s/epoch - 6ms/step\n",
            "Epoch 21/50\n",
            "1945/1945 - 13s - loss: 0.0573 - accuracy: 0.0000e+00 - val_loss: 0.0596 - val_accuracy: 0.0000e+00 - 13s/epoch - 7ms/step\n",
            "Epoch 22/50\n",
            "1945/1945 - 13s - loss: 0.0572 - accuracy: 0.0000e+00 - val_loss: 0.0592 - val_accuracy: 0.0000e+00 - 13s/epoch - 6ms/step\n",
            "Epoch 23/50\n",
            "1945/1945 - 13s - loss: 0.0570 - accuracy: 0.0000e+00 - val_loss: 0.0597 - val_accuracy: 0.0000e+00 - 13s/epoch - 7ms/step\n",
            "Epoch 24/50\n",
            "1945/1945 - 13s - loss: 0.0569 - accuracy: 0.0000e+00 - val_loss: 0.0590 - val_accuracy: 0.0000e+00 - 13s/epoch - 7ms/step\n",
            "Epoch 25/50\n",
            "1945/1945 - 13s - loss: 0.0568 - accuracy: 0.0000e+00 - val_loss: 0.0593 - val_accuracy: 0.0000e+00 - 13s/epoch - 6ms/step\n",
            "Epoch 26/50\n",
            "1945/1945 - 12s - loss: 0.0566 - accuracy: 0.0000e+00 - val_loss: 0.0589 - val_accuracy: 0.0000e+00 - 12s/epoch - 6ms/step\n",
            "Epoch 27/50\n",
            "1945/1945 - 12s - loss: 0.0566 - accuracy: 0.0000e+00 - val_loss: 0.0584 - val_accuracy: 0.0000e+00 - 12s/epoch - 6ms/step\n",
            "Epoch 28/50\n",
            "1945/1945 - 12s - loss: 0.0565 - accuracy: 0.0000e+00 - val_loss: 0.0589 - val_accuracy: 0.0000e+00 - 12s/epoch - 6ms/step\n",
            "Epoch 29/50\n",
            "1945/1945 - 13s - loss: 0.0564 - accuracy: 0.0000e+00 - val_loss: 0.0596 - val_accuracy: 0.0000e+00 - 13s/epoch - 6ms/step\n",
            "Epoch 30/50\n",
            "1945/1945 - 12s - loss: 0.0563 - accuracy: 0.0000e+00 - val_loss: 0.0593 - val_accuracy: 0.0000e+00 - 12s/epoch - 6ms/step\n",
            "Epoch 31/50\n",
            "1945/1945 - 12s - loss: 0.0563 - accuracy: 0.0000e+00 - val_loss: 0.0590 - val_accuracy: 0.0000e+00 - 12s/epoch - 6ms/step\n",
            "Epoch 32/50\n",
            "1945/1945 - 12s - loss: 0.0561 - accuracy: 0.0000e+00 - val_loss: 0.0596 - val_accuracy: 0.0000e+00 - 12s/epoch - 6ms/step\n",
            "Epoch 33/50\n",
            "1945/1945 - 12s - loss: 0.0561 - accuracy: 0.0000e+00 - val_loss: 0.0592 - val_accuracy: 0.0000e+00 - 12s/epoch - 6ms/step\n",
            "Epoch 34/50\n",
            "1945/1945 - 12s - loss: 0.0560 - accuracy: 0.0000e+00 - val_loss: 0.0595 - val_accuracy: 0.0000e+00 - 12s/epoch - 6ms/step\n",
            "Epoch 35/50\n",
            "1945/1945 - 13s - loss: 0.0559 - accuracy: 0.0000e+00 - val_loss: 0.0592 - val_accuracy: 0.0000e+00 - 13s/epoch - 7ms/step\n",
            "Epoch 36/50\n",
            "1945/1945 - 15s - loss: 0.0559 - accuracy: 0.0000e+00 - val_loss: 0.0590 - val_accuracy: 0.0000e+00 - 15s/epoch - 8ms/step\n",
            "Epoch 37/50\n",
            "1945/1945 - 13s - loss: 0.0559 - accuracy: 0.0000e+00 - val_loss: 0.0594 - val_accuracy: 0.0000e+00 - 13s/epoch - 7ms/step\n",
            "Epoch 38/50\n",
            "1945/1945 - 13s - loss: 0.0558 - accuracy: 0.0000e+00 - val_loss: 0.0596 - val_accuracy: 0.0000e+00 - 13s/epoch - 7ms/step\n",
            "Epoch 39/50\n",
            "1945/1945 - 12s - loss: 0.0558 - accuracy: 0.0000e+00 - val_loss: 0.0595 - val_accuracy: 0.0000e+00 - 12s/epoch - 6ms/step\n",
            "Epoch 40/50\n",
            "1945/1945 - 12s - loss: 0.0557 - accuracy: 0.0000e+00 - val_loss: 0.0595 - val_accuracy: 0.0000e+00 - 12s/epoch - 6ms/step\n",
            "Epoch 41/50\n",
            "1945/1945 - 14s - loss: 0.0557 - accuracy: 0.0000e+00 - val_loss: 0.0595 - val_accuracy: 0.0000e+00 - 14s/epoch - 7ms/step\n",
            "Epoch 42/50\n",
            "1945/1945 - 13s - loss: 0.0557 - accuracy: 0.0000e+00 - val_loss: 0.0597 - val_accuracy: 0.0000e+00 - 13s/epoch - 7ms/step\n",
            "Epoch 43/50\n",
            "1945/1945 - 13s - loss: 0.0556 - accuracy: 0.0000e+00 - val_loss: 0.0596 - val_accuracy: 0.0000e+00 - 13s/epoch - 6ms/step\n",
            "Epoch 44/50\n",
            "1945/1945 - 14s - loss: 0.0556 - accuracy: 0.0000e+00 - val_loss: 0.0596 - val_accuracy: 0.0000e+00 - 14s/epoch - 7ms/step\n",
            "Epoch 45/50\n",
            "1945/1945 - 12s - loss: 0.0556 - accuracy: 0.0000e+00 - val_loss: 0.0594 - val_accuracy: 0.0000e+00 - 12s/epoch - 6ms/step\n",
            "Epoch 46/50\n",
            "1945/1945 - 12s - loss: 0.0555 - accuracy: 0.0000e+00 - val_loss: 0.0592 - val_accuracy: 0.0000e+00 - 12s/epoch - 6ms/step\n",
            "Epoch 47/50\n",
            "1945/1945 - 13s - loss: 0.0555 - accuracy: 0.0000e+00 - val_loss: 0.0598 - val_accuracy: 0.0000e+00 - 13s/epoch - 6ms/step\n",
            "Epoch 48/50\n",
            "1945/1945 - 13s - loss: 0.0555 - accuracy: 0.0000e+00 - val_loss: 0.0594 - val_accuracy: 0.0000e+00 - 13s/epoch - 6ms/step\n",
            "Epoch 49/50\n",
            "1945/1945 - 13s - loss: 0.0555 - accuracy: 0.0000e+00 - val_loss: 0.0592 - val_accuracy: 0.0000e+00 - 13s/epoch - 7ms/step\n",
            "Epoch 50/50\n",
            "1945/1945 - 13s - loss: 0.0554 - accuracy: 0.0000e+00 - val_loss: 0.0591 - val_accuracy: 0.0000e+00 - 13s/epoch - 7ms/step\n"
          ]
        },
        {
          "output_type": "display_data",
          "data": {
            "text/plain": [
              "<Figure size 432x288 with 1 Axes>"
            ],
            "image/png": "[encoded data removed]"
          },
          "metadata": {
            "needs_background": "light"
          }
        }
      ]
    },
    {
      "cell_type": "code",
      "source": [
        "yhat = model.predict(test_X)\n",
        "test_X = test_X.reshape((test_X.shape[0], n_input*n_features))\n",
        "print(yhat.shape)\n",
        "print(len(yhat))\n",
        "print(test_y.shape)"
      ],
      "metadata": {
        "colab": {
          "base_uri": "https://localhost:8080/"
        },
        "id": "R0kc5WhK5JpJ",
        "outputId": "a627d37c-9066-4842-ff09-d09f124dfa11"
      },
      "execution_count": null,
      "outputs": [
        {
          "output_type": "stream",
          "name": "stdout",
          "text": [
            "(35317, 1)\n",
            "35317\n",
            "(35317,)\n"
          ]
        }
      ]
    },
    {
      "cell_type": "code",
      "source": [
        "rmse = sqrt(mean_squared_error(test_y, yhat))\n",
        "print('Test RMSE: %.3f' % rmse)"
      ],
      "metadata": {
        "colab": {
          "base_uri": "https://localhost:8080/"
        },
        "id": "Xkre04Do5U_i",
        "outputId": "a1da4b9e-09a9-4fe0-81da-9b84c936dd61"
      },
      "execution_count": null,
      "outputs": [
        {
          "output_type": "stream",
          "name": "stdout",
          "text": [
            "Test RMSE: 0.084\n"
          ]
        }
      ]
    },
    {
      "cell_type": "code",
      "source": [
        "prediction_copies = np.repeat(yhat, scaled.shape[1], axis=-1)\n",
        "#y_pred_future = scaler.inverse_transform(prediction_copies)[:,0]"
      ],
      "metadata": {
        "id": "xJW5CcWX5aEg"
      },
      "execution_count": null,
      "outputs": []
    },
    {
      "cell_type": "code",
      "source": [
        "#inv_yhat = concatenate((prediction_copies, test_X[:, -2:]), axis=1)\n",
        "inv_yhat = scaler.inverse_transform(prediction_copies)\n",
        "inv_yhat = inv_yhat[:,0]"
      ],
      "metadata": {
        "id": "j49AOIwK5pE3"
      },
      "execution_count": null,
      "outputs": []
    },
    {
      "cell_type": "code",
      "source": [
        "test_y = test_y.reshape((len(test_y), 1))\n",
        "#inv_y = concatenate((test_y, test_X[:, -2:]), axis=1)\n",
        "\n",
        "test_copies = np.repeat(test_y, scaled.shape[1], axis=-1)\n",
        "#y_pred_future = scaler.inverse_transform(prediction_copies)[:,0]\n",
        "\n",
        "inv_y = scaler.inverse_transform(test_copies)\n",
        "inv_y = inv_y[:,0]\n",
        "\n",
        "mse = mean_squared_error(inv_y, inv_yhat)\n",
        "print('Test MSE: %.3f' % mse)\n",
        "\n",
        "rmse = sqrt(mean_squared_error(inv_y, inv_yhat))\n",
        "print('Test RMSE: %.3f' % rmse)\n",
        "\n",
        "from sklearn.metrics import mean_absolute_error,mean_absolute_percentage_error\n",
        "mae = mean_absolute_error(inv_y, inv_yhat)\n",
        "print('Test MAE: %.3f' % mae)\n",
        "\n",
        "mape = mean_absolute_percentage_error(inv_y, inv_yhat)\n",
        "print('Test MAPE: %.3f' % mape)"
      ],
      "metadata": {
        "colab": {
          "base_uri": "https://localhost:8080/"
        },
        "id": "jv3W6uqn5srY",
        "outputId": "0ef5dada-799d-4ab3-9b4a-e4b5fc85c9e0"
      },
      "execution_count": null,
      "outputs": [
        {
          "output_type": "stream",
          "name": "stdout",
          "text": [
            "Test MSE: 0.036\n",
            "Test RMSE: 0.189\n",
            "Test MAE: 0.133\n",
            "Test MAPE: 0.031\n"
          ]
        }
      ]
    },
    {
      "cell_type": "code",
      "source": [
        "#print(yhat)\n",
        "print(inv_yhat)"
      ],
      "metadata": {
        "colab": {
          "base_uri": "https://localhost:8080/"
        },
        "id": "vczPOPni50bM",
        "outputId": "ed49029f-92b5-4444-df01-985c6d6095b6"
      },
      "execution_count": null,
      "outputs": [
        {
          "output_type": "stream",
          "name": "stdout",
          "text": [
            "[7.6135893 7.540953  7.562417  ... 5.699241  6.0347385 6.2032075]\n"
          ]
        }
      ]
    },
    {
      "cell_type": "code",
      "source": [
        "from matplotlib import pyplot as plt\n",
        "\n",
        "#Plot the graph between actual vs predicted values\n",
        "plt.figure(figsize=(10,6))\n",
        "plt.plot(inv_y[:300], color= 'green',label = 'ACTUAL WIND SPEED ')\n",
        "plt.plot(inv_yhat[:300] , color = 'red',label = 'FORECASTED WIND SPEED ')\n",
        "plt.title(\"WIND SPEED FORECASTING USING LSTM\")\n",
        "plt.xlabel(\"TIME INTERVAL (1 DAY)\")\n",
        "plt.ylabel(\"SPEED OF WIND(KMPH)\")\n",
        "plt.legend()\n",
        "plt.show()\n",
        "plt.savefig('graph.png')"
      ],
      "metadata": {
        "colab": {
          "base_uri": "https://localhost:8080/",
          "height": 421
        },
        "id": "zZ6SdnjA54dS",
        "outputId": "d3ec0b2d-5d4d-40f7-f155-2f2bc6496aea"
      },
      "execution_count": null,
      "outputs": [
        {
          "output_type": "display_data",
          "data": {
            "text/plain": [
              "<Figure size 720x432 with 1 Axes>"
            ],
            "image/png": "[encoded data removed]"
          },
          "metadata": {
            "needs_background": "light"
          }
        },
        {
          "output_type": "display_data",
          "data": {
            "text/plain": [
              "<Figure size 432x288 with 0 Axes>"
            ]
          },
          "metadata": {}
        }
      ]
    },
    {
      "cell_type": "code",
      "source": [],
      "metadata": {
        "id": "w8-znAaP6YCW"
      },
      "execution_count": null,
      "outputs": []
    },
    {
      "cell_type": "code",
      "source": [
        "print(inv_y[:724])"
      ],
      "metadata": {
        "colab": {
          "base_uri": "https://localhost:8080/"
        },
        "id": "8g1zDvtU6Z16",
        "outputId": "79e2ad9a-c5e4-4780-da24-6bd97d8086c0"
      },
      "execution_count": null,
      "outputs": [
        {
          "output_type": "stream",
          "name": "stdout",
          "text": [
            "[7.6  7.64 7.6  7.53 7.54 7.42 6.97 6.69 6.65 6.61 6.64 6.58 6.41 6.22\n",
            " 6.05 5.95 5.84 5.8  5.81 5.84 5.79 5.49 6.01 6.67 7.01 7.13 7.19 7.2\n",
            " 6.99 6.5  6.08 5.98 6.17 6.37 6.39 6.29 6.2  6.13 6.12 6.15 6.14 6.19\n",
            " 6.26 6.27 6.22 5.97 6.53 7.88 8.73 9.18 9.45 9.57 9.34 8.82 8.   7.68\n",
            " 7.69 7.71 7.7  7.66 7.58 7.5  7.41 7.38 7.13 6.89 6.76 6.62 6.37 5.83\n",
            " 6.44 7.24 7.71 7.88 7.98 8.15 8.22 8.12 7.74 7.72 7.91 8.06 8.18 8.17\n",
            " 8.04 7.92 7.8  7.73 7.54 7.34 7.13 6.91 6.63 6.21 6.51 7.   6.93 6.88\n",
            " 6.88 6.94 7.01 6.91 6.73 6.66 6.63 6.65 6.77 6.94 7.14 7.22 7.28 7.35\n",
            " 7.43 7.51 7.59 7.69 7.74 7.72 7.83 8.06 8.34 8.58 8.66 8.58 8.27 8.06\n",
            " 8.06 8.18 8.28 8.27 8.3  8.3  8.14 7.9  7.57 7.28 6.92 6.66 6.54 6.51\n",
            " 6.56 6.53 7.06 7.15 6.98 6.99 6.94 6.93 6.83 6.64 6.51 6.55 6.57 6.54\n",
            " 6.46 6.27 5.91 5.72 5.67 5.52 5.37 5.35 5.28 5.18 5.08 4.87 4.73 4.87\n",
            " 5.02 4.99 4.88 4.85 4.55 4.18 3.98 3.92 3.83 3.61 3.33 2.89 2.38 2.1\n",
            " 1.84 1.53 1.39 1.43 1.5  1.43 1.13 0.98 1.03 0.86 0.74 0.49 0.35 0.57\n",
            " 1.1  1.61 2.1  2.53 2.85 3.06 2.86 2.48 2.08 1.7  1.25 0.84 0.8  0.97\n",
            " 1.3  1.77 2.29 2.71 3.12 3.57 4.1  4.62 5.03 5.13 5.03 4.89 4.59 4.56\n",
            " 4.73 4.89 5.24 5.45 5.54 5.59 5.52 5.37 4.95 4.53 4.23 3.9  3.66 3.59\n",
            " 3.89 4.18 4.16 4.16 4.22 4.26 4.18 4.02 3.52 3.01 2.81 2.8  3.32 3.97\n",
            " 4.52 5.01 5.35 5.46 5.09 4.62 4.19 3.72 3.33 3.15 3.76 4.23 4.45 4.57\n",
            " 4.57 4.47 4.19 3.85 3.63 3.69 3.8  3.97 4.22 4.4  4.36 4.25 4.08 3.96\n",
            " 3.93 3.95 4.06 4.24 4.28 4.09 4.27 4.32 4.1  3.85 3.66 3.46 3.31 3.26\n",
            " 3.33 3.54 3.68 3.6  3.49 3.32 3.05 2.74 2.36 1.94 1.54 1.17 0.9  0.76\n",
            " 0.68 0.91 1.49 1.63 1.74 1.74 1.55 1.23 1.16 1.68 2.7  3.46 4.23 4.45\n",
            " 4.36 4.19 3.96 3.73 3.53 3.22 2.78 2.39 2.16 2.02 1.84 1.58 1.39 1.23\n",
            " 1.56 2.22 2.77 3.11 3.3  3.5  3.4  3.16 2.99 3.01 3.03 3.02 2.92 2.97\n",
            " 3.13 3.35 3.56 3.68 3.72 3.72 3.68 3.48 3.79 4.14 4.53 4.84 5.   5.04\n",
            " 5.12 5.14 4.98 4.87 5.01 5.19 5.31 5.37 5.4  5.41 5.36 5.29 4.93 4.57\n",
            " 4.3  4.1  3.97 3.66 4.15 4.84 5.31 5.64 5.88 6.1  6.39 6.51 6.01 5.92\n",
            " 6.05 6.13 6.16 6.17 6.18 6.14 6.01 5.85 5.76 5.84 5.98 6.11 6.1  5.65\n",
            " 6.38 7.16 7.49 7.65 7.75 7.8  7.74 7.58 6.98 6.79 6.83 6.8  6.56 6.29\n",
            " 6.01 5.81 5.6  5.39 5.2  4.96 4.76 4.66 4.62 4.23 4.16 4.36 4.6  4.81\n",
            " 4.86 4.92 4.9  4.86 4.68 4.62 4.76 4.85 5.19 5.44 5.52 5.47 5.44 5.4\n",
            " 5.17 4.96 4.87 4.7  4.45 3.98 4.06 4.01 3.84 3.65 3.48 3.34 3.15 3.03\n",
            " 2.96 2.97 3.1  3.32 3.73 4.05 4.22 4.34 4.42 4.44 4.24 4.04 3.89 3.79\n",
            " 3.7  3.52 4.15 4.79 5.05 5.04 5.01 4.98 4.9  4.91 4.86 4.89 5.04 5.19\n",
            " 5.39 5.53 5.53 5.44 5.27 5.05 4.58 4.16 3.89 3.75 3.64 3.51 4.06 4.39\n",
            " 4.53 4.6  4.67 4.78 5.09 5.37 5.3  5.26 5.37 5.51 5.63 5.61 5.52 5.37\n",
            " 5.16 4.97 4.63 4.3  4.14 4.09 4.08 3.88 4.29 5.27 6.07 6.65 7.17 7.65\n",
            " 7.29 6.94 6.72 6.77 7.   7.3  7.53 7.61 7.62 7.6  7.53 7.45 7.17 6.94\n",
            " 6.78 6.63 6.45 6.06 6.35 6.99 7.25 7.24 7.18 7.1  6.87 6.41 5.97 6.\n",
            " 6.23 6.45 6.5  6.38 6.15 5.99 5.86 5.83 5.71 5.61 5.65 5.63 5.48 5.21\n",
            " 5.74 6.51 6.97 7.15 7.21 7.36 7.36 7.27 6.78 6.59 6.74 6.94 7.16 7.25\n",
            " 7.24 7.23 7.24 7.22 6.62 5.86 5.22 4.7  4.28 3.97 4.6  5.3  5.65 5.77\n",
            " 5.72 5.62 5.76 5.92 5.71 5.72 5.85 6.09 6.23 6.25 6.26 6.23 6.23 6.28\n",
            " 6.22 6.15 6.17 6.24 6.25 6.13 6.64 7.51 8.27 8.61 8.74 8.69 8.5  7.79\n",
            " 7.01 6.78 6.87 7.09 7.21 7.15 6.98 6.75 6.53 6.35 6.12 5.96 5.89 5.82\n",
            " 5.74 5.39 5.72 6.72 7.46 7.88 8.12 8.27 8.25 8.05 7.43 7.3  7.37 7.37\n",
            " 7.36 7.39 7.28 7.06 6.88 6.77 6.57 6.43 6.36 6.33 6.28 6.02 6.63 7.62\n",
            " 8.27 8.63 8.81 8.95 8.79 8.43 8.05 8.01 8.1  8.28 8.47 8.49 8.22 7.86\n",
            " 7.52 7.18 6.84 6.61 6.56 6.54 6.45 6.14 6.3  6.63 6.77 6.76 6.66 6.51\n",
            " 6.44 6.07 5.6  5.57 5.77 5.92 6.   6.15 6.34 6.56 6.83 7.11 7.21 7.1\n",
            " 6.98 6.89 6.8  6.58 6.51 7.12 7.75 8.07 8.13 8.07]\n"
          ]
        }
      ]
    },
    {
      "cell_type": "code",
      "source": [
        "x=print(inv_yhat[:724])"
      ],
      "metadata": {
        "colab": {
          "base_uri": "https://localhost:8080/"
        },
        "id": "ltyFdied6Gaf",
        "outputId": "908cd320-a1c6-4595-fae8-c280f0faf388"
      },
      "execution_count": null,
      "outputs": [
        {
          "output_type": "stream",
          "name": "stdout",
          "text": [
            "[7.6135893  7.540953   7.562417   7.500333   7.427666   7.529684\n",
            " 7.244883   6.4766583  6.4868526  6.64859    6.520597   6.6309433\n",
            " 6.450149   6.199341   6.035463   5.901518   5.8738074  5.730163\n",
            " 5.7687473  5.8041005  5.831433   5.6998806  5.1941924  6.5291724\n",
            " 6.9981813  7.070168   7.093535   7.1643424  7.130297   6.6744814\n",
            " 5.9296637  5.6963186  5.9591236  6.364697   6.455719   6.269688\n",
            " 6.1040587  6.077207   6.035159   6.0920105  6.147258   6.086541\n",
            " 6.21156    6.2775126  6.2226295  6.135281   5.71767    7.0680194\n",
            " 8.601366   8.9843445  9.286541   9.498405   9.518408   8.991274\n",
            " 8.286595   7.2550826  7.5682373  7.75562    7.668333   7.620789\n",
            " 7.564198   7.4584074  7.3977313  7.301861   7.3439274  6.85721\n",
            " 6.720817   6.7019334  6.5075173  6.1555047  5.3815928  7.059127\n",
            " 7.5360465  7.7876725  7.831489   7.9659567  8.226949   8.173815\n",
            " 7.935456   7.3173065  7.7693644  8.045095   8.079654   8.177643\n",
            " 8.043685   7.840322   7.779246   7.6633534  7.651532   7.3249154\n",
            " 7.165445   6.954657   6.7304826  6.3967505  5.858358   6.901547\n",
            " 7.2721853  6.668444   6.8145566  6.8568373  6.9518323  7.008729\n",
            " 6.724154   6.522702   6.6026425  6.5772357  6.6346474  6.8392687\n",
            " 7.0271997  7.234722   7.1823163  7.262689   7.3497987  7.435572\n",
            " 7.512641   7.589641   7.7060456  7.696484   7.621732   7.889373\n",
            " 8.190187   8.471111   8.642367   8.5573845  8.33996    7.8394313\n",
            " 7.8217077  8.006668   8.163389   8.182812   8.0454645  8.136484\n",
            " 8.084812   7.7588005  7.5051737  7.105428   6.907041   6.444996\n",
            " 6.355023   6.375033   6.4045944  6.512822   6.3434377  7.5921793\n",
            " 6.8265405  6.4902453  6.8509374  6.6688457  6.7553387  6.5271487\n",
            " 6.281035   6.282618   6.508077   6.423258   6.3475413  6.233328\n",
            " 5.964418   5.472764   5.539057   5.584724   5.2524915  5.159048\n",
            " 5.28384    5.083745   4.9709306  4.8879633  4.5446615  4.53556\n",
            " 5.0066304  5.0203285  4.7411704  4.626253   4.7531343  4.0561156\n",
            " 3.717395   3.7974746  3.8410966  3.637613   3.2528052  2.9422257\n",
            " 2.334488   1.8399835  1.9218175  1.5615706  1.2045717  1.3147125\n",
            " 1.4733224  1.5102425  1.2714267  0.7901478  0.9445262  1.1283288\n",
            " 0.6347995  0.70707273 0.38092425 0.5376029  0.894506   1.4663715\n",
            " 1.9803712  2.4494836  2.810175   2.9868784  3.0963266  2.3905914\n",
            " 1.9784205  1.6626635  1.3508062  0.8527646  0.5899148  0.91781425\n",
            " 1.1374145  1.5576682  2.1470869  2.6951861  2.9750118  3.4101326\n",
            " 3.908209   4.5042872  4.974851   5.267469   5.095413   4.874865\n",
            " 4.7465982  4.278644   4.6129103  4.911356   4.987744   5.542849\n",
            " 5.5254097  5.526745   5.5751815  5.392756   5.2010818  4.5242133\n",
            " 4.1957626  4.0238266  3.625515   3.478498   3.5488207  4.156533\n",
            " 4.3418474  4.0441737  4.146697   4.2794437  4.278969   4.043318\n",
            " 3.8093286  2.8735898  2.4995701  2.736707   2.8401356  3.98291\n",
            " 4.5500984  4.905997   5.348703   5.5256276  5.4177065  4.57147\n",
            " 4.15563    3.8162768  3.2833076  3.008211   3.0567148  4.564758\n",
            " 4.5395737  4.5115185  4.6058517  4.503816   4.3313212  3.8710532\n",
            " 3.5183828  3.4681723  3.8368118  3.8861144  4.1100683  4.435058\n",
            " 4.492373   4.2094417  4.100959   3.8870482  3.8527558  3.9108708\n",
            " 3.954774   4.147089   4.3686366  4.24065    3.860093   4.4804645\n",
            " 4.292509   3.835931   3.62401    3.5076432  3.2729776  3.1816883\n",
            " 3.2320788  3.4142463  3.7588956  3.6962266  3.3167915  3.273347\n",
            " 3.0413296  2.670125   2.3613327  1.9177113  1.5049157  1.1798801\n",
            " 0.8696542  0.72832966 0.70179844 0.6461501  1.138001   2.033281\n",
            " 1.556334   1.7724285  1.6484299  1.2769885  0.8928232  1.1561894\n",
            " 2.278864   3.7231743  3.9171486  4.7520113  4.2357526  4.031574\n",
            " 3.9236028  3.6608436  3.4568477  3.2921832  2.8256269  2.2668638\n",
            " 2.0112574  1.9716094  1.8736348  1.613873   1.3434205  1.2885036\n",
            " 1.0999999  1.910346   2.850834   3.1705163  3.2673125  3.3430176\n",
            " 3.6278758  3.1032698  2.807442   2.8021817  3.0395274  2.952629\n",
            " 2.9160373  2.7228374  3.043079   3.289573   3.535699   3.6971884\n",
            " 3.7078252  3.6890762  3.6740801  3.6045125  3.245922   4.1618133\n",
            " 4.3924747  4.8132195  5.0211115  5.0469227  5.0076222  5.1675487\n",
            " 5.111812   4.7812543  4.78378    5.181668   5.31324    5.349805\n",
            " 5.363105   5.3798056  5.378312   5.269415   5.199183   4.5320964\n",
            " 4.2698107  4.100884   3.946193   3.8669825  3.3601964  4.680308\n",
            " 5.3042703  5.5375257  5.783163   5.973358   6.1983447  6.5579476\n",
            " 6.493642   5.4246793  5.964184   6.1799917  6.128055   6.1238775\n",
            " 6.130822   6.1486044  6.0571756  5.849685   5.6911263  5.688024\n",
            " 5.9211493  6.0560803  6.151795   6.0196176  5.212861   7.0828533\n",
            " 7.467038   7.4850864  7.641783   7.743751   7.7644672  7.6159716\n",
            " 7.391255   6.356543   6.75271    6.8891587  6.697899   6.2550945\n",
            " 6.0356283  5.7662635  5.665462   5.4196696  5.213421   5.0456076\n",
            " 4.7502146  4.608198   4.5946636  4.5835624  3.876053   4.153668\n",
            " 4.497026   4.7235155  4.920985   4.831303   4.9484634  4.837606\n",
            " 4.8015375  4.4679604  4.5950375  4.9226527  4.876879   5.5157676\n",
            " 5.564829   5.4832296  5.3465366  5.3864617  5.328088   4.885624\n",
            " 4.772909   4.818783   4.5266542  4.218622   3.5446653  4.2683706\n",
            " 3.9180496  3.6496434  3.4628859  3.304899   3.179514   2.8949585\n",
            " 2.897498   2.869638   2.9750466  3.2346165  3.5146928  4.119254\n",
            " 4.2501454  4.2764473  4.3921256  4.445854   4.41263    3.9861295\n",
            " 3.856849   3.7626839  3.6999803  3.6028345  3.3236616  4.824532\n",
            " 5.2029476  5.1110783  4.93496    4.958018   4.934942   4.805875\n",
            " 4.927346   4.784146   4.9202003  5.1707344  5.2724714  5.525607\n",
            " 5.582514   5.452684   5.3113585  5.0824533  4.833195   4.093707\n",
            " 3.8145614  3.7033668  3.6594632  3.5356917  3.3709037  4.7208657\n",
            " 4.5591564  4.55384    4.6092343  4.703938   4.859214   5.37949\n",
            " 5.544728   5.086954   5.2037344  5.4755397  5.587728   5.6714444\n",
            " 5.495443   5.3742156  5.180738   4.925606   4.787399   4.2663617\n",
            " 4.008802   4.0484796  4.061816   4.0572042  3.6431782  4.7533846\n",
            " 6.024044   6.483107   6.8989215  7.4253006  7.8886166  6.6709433\n",
            " 6.6127367  6.538831   6.8417535  7.1613336  7.4633737  7.594204\n",
            " 7.545876   7.540056   7.5176206  7.410046   7.343652   6.8658385\n",
            " 6.77134    6.6704206  6.506024   6.295216   5.7093067  6.7152143\n",
            " 7.378079   7.2389064  7.098326   7.0756006  6.9849186  6.594005\n",
            " 5.925861   5.5888934  6.154108   6.421221   6.5510063  6.420243\n",
            " 6.1780534  5.896455   5.861698   5.742902   5.8124413  5.568952\n",
            " 5.5255923  5.6910114  5.5696406  5.3204994  4.976199   6.214815\n",
            " 6.8682346  7.0606055  7.1154575  7.160354   7.441535   7.2589855\n",
            " 7.125739   6.2358007  6.516676   6.921163   7.0431476  7.2647095\n",
            " 7.2133617  7.146476   7.174218   7.20301    7.1412373  5.932452\n",
            " 5.193911   4.7484274  4.332302   3.9784017  3.745059   5.282391\n",
            " 5.754511   5.776741   5.7588825  5.5946684  5.4886804  5.9144526\n",
            " 5.988929   5.330739   5.7544374  5.9376373  6.2516494  6.2311964\n",
            " 6.155799   6.2044578  6.1375957  6.1904244  6.286623   6.096331\n",
            " 6.0636525  6.182847   6.268812   6.2023706  5.9790077  7.1125994\n",
            " 8.030483   8.627907   8.641605   8.6731825  8.484179   8.196834\n",
            " 6.976765   6.320215   6.732741   6.982877   7.2195454  7.1801353\n",
            " 6.9695888  6.7574663  6.5094786  6.3271036  6.1930304  5.9025297\n",
            " 5.845805   5.8481684  5.7474008  5.6563034  5.0587544  6.0919476\n",
            " 7.3148727  7.70345    7.9712496  8.153337   8.274921   8.1166725\n",
            " 7.792674   6.7967463  7.338696   7.4379554  7.2937727  7.2995276\n",
            " 7.371395   7.1081567  6.8329597  6.7390714  6.6882153  6.3750086\n",
            " 6.3388557  6.317536   6.293118   6.2085505  5.7685995  7.15894\n",
            " 8.043572   8.432369   8.6967745  8.805248   8.9578905  8.51739\n",
            " 8.048635   7.715128   8.033055   8.137042   8.358714   8.525655\n",
            " 8.371757   7.8671784  7.524899   7.253515   6.9189367  6.585195\n",
            " 6.479202   6.565903   6.5011444  6.3384576  5.8534     6.500731\n",
            " 6.7836123  6.7305703  6.657911   6.5229106  6.3543015  6.386907\n",
            " 5.6820164  5.202212   5.66669    5.94294    5.9650755  5.992883\n",
            " 6.2317014  6.4321523  6.6631355  6.9533153  7.218073   7.164123\n",
            " 6.931122   6.868103   6.8035975  6.7062798  6.368      6.482627\n",
            " 7.58581    7.9954333  8.092837   8.027946  ]\n"
          ]
        }
      ]
    },
    {
      "cell_type": "code",
      "source": [
        "from numpy import savetxt\n",
        "savetxt('M_LSTM.csv', inv_yhat, delimiter='/n')\n",
        "open(\"new.csv\")"
      ],
      "metadata": {
        "colab": {
          "base_uri": "https://localhost:8080/"
        },
        "id": "NxukD2d_7Ydk",
        "outputId": "2794034e-3654-4420-eb79-d3d38c8c3367"
      },
      "execution_count": null,
      "outputs": [
        {
          "output_type": "execute_result",
          "data": {
            "text/plain": [
              "<_io.TextIOWrapper name='new.csv' mode='r' encoding='UTF-8'>"
            ]
          },
          "metadata": {},
          "execution_count": 21
        }
      ]
    },
    {
      "cell_type": "code",
      "source": [
        "from numpy import savetxt\n",
        "savetxt('newa.csv', inv_y, delimiter='/n')\n",
        "open(\"newa.csv\")"
      ],
      "metadata": {
        "colab": {
          "base_uri": "https://localhost:8080/"
        },
        "id": "SXR9q1uB8dfD",
        "outputId": "89bb6f31-9d2f-46ee-e7dd-42c654737498"
      },
      "execution_count": null,
      "outputs": [
        {
          "output_type": "execute_result",
          "data": {
            "text/plain": [
              "<_io.TextIOWrapper name='newa.csv' mode='r' encoding='UTF-8'>"
            ]
          },
          "metadata": {},
          "execution_count": 22
        }
      ]
    },
    {
      "cell_type": "code",
      "source": [],
      "metadata": {
        "id": "F7761se3PpTh"
      },
      "execution_count": null,
      "outputs": []
    }
  ]
}