{
  "cells": [
    {
      "cell_type": "code",
      "execution_count": null,
      "metadata": {
        "id": "__ZAs5qkvQPW"
      },
      "outputs": [],
      "source": [
        "import pandas as pd\n",
        "from datetime import datetime\n",
        "from math import sqrt\n",
        "import numpy as np\n",
        "from numpy import concatenate\n",
        "from matplotlib import pyplot\n",
        "from pandas import read_csv\n",
        "from pandas import DataFrame\n",
        "from keras.layers import Dropout\n",
        "from keras.layers import TimeDistributed\n",
        "from tensorflow.keras.callbacks import ModelCheckpoint\n",
        "from tensorflow.keras.optimizers import Adam\n",
        "from pandas import concat\n",
        "from sklearn.preprocessing import MinMaxScaler\n",
        "from sklearn.preprocessing import StandardScaler\n",
        "from sklearn.preprocessing import LabelEncoder\n",
        "from sklearn.metrics import mean_squared_error\n",
        "from keras.models import Sequential\n",
        "from keras.layers import Dense\n",
        "from keras.layers import LSTM,Bidirectional\n",
        "import pandas as pd\n",
        "from keras.layers import Flatten\n",
        "from keras.layers.convolutional import Conv1D\n",
        "from keras.layers.convolutional import MaxPooling1D\n",
        "from keras.layers import SimpleRNN\n",
        "from tensorflow import optimizers\n"
      ]
    },
    {
      "cell_type": "code",
      "execution_count": null,
      "metadata": {
        "id": "d9gvWUY9v_Fy"
      },
      "outputs": [],
      "source": [
        "# load dataset\n",
        "dataset = read_csv('DATASETAIML3.csv', header=0, index_col=0)\n",
        "values = dataset.values"
      ]
    },
    {
      "cell_type": "code",
      "execution_count": null,
      "metadata": {
        "colab": {
          "base_uri": "https://localhost:8080/",
          "height": 206
        },
        "id": "kaLxyb38wzHO",
        "outputId": "58d80591-9ff1-4858-b6f6-c6070a30b8a4"
      },
      "outputs": [
        {
          "output_type": "execute_result",
          "data": {
            "text/plain": [
              "         Date  Time  WS [m/s]  DIR [°]\n",
              "0  1201950000     0      6.99    37.08\n",
              "1  1201950100   100      6.73    34.21\n",
              "2  1201950200   200      6.55    31.23\n",
              "3  1201950300   300      6.44    29.75\n",
              "4  1201950400   400      6.33    28.83"
            ],
            "text/html": [
              "\n",
              "  <div id=\"df-21b67d3a-b818-47b1-9cf9-fecf070dea17\">\n",
              "    <div class=\"colab-df-container\">\n",
              "      <div>\n",
              "<style scoped>\n",
              "    .dataframe tbody tr th:only-of-type {\n",
              "        vertical-align: middle;\n",
              "    }\n",
              "\n",
              "    .dataframe tbody tr th {\n",
              "        vertical-align: top;\n",
              "    }\n",
              "\n",
              "    .dataframe thead th {\n",
              "        text-align: right;\n",
              "    }\n",
              "</style>\n",
              "<table border=\"1\" class=\"dataframe\">\n",
              "  <thead>\n",
              "    <tr style=\"text-align: right;\">\n",
              "      <th></th>\n",
              "      <th>Date</th>\n",
              "      <th>Time</th>\n",
              "      <th>WS [m/s]</th>\n",
              "      <th>DIR [°]</th>\n",
              "    </tr>\n",
              "  </thead>\n",
              "  <tbody>\n",
              "    <tr>\n",
              "      <th>0</th>\n",
              "      <td>1201950000</td>\n",
              "      <td>0</td>\n",
              "      <td>6.99</td>\n",
              "      <td>37.08</td>\n",
              "    </tr>\n",
              "    <tr>\n",
              "      <th>1</th>\n",
              "      <td>1201950100</td>\n",
              "      <td>100</td>\n",
              "      <td>6.73</td>\n",
              "      <td>34.21</td>\n",
              "    </tr>\n",
              "    <tr>\n",
              "      <th>2</th>\n",
              "      <td>1201950200</td>\n",
              "      <td>200</td>\n",
              "      <td>6.55</td>\n",
              "      <td>31.23</td>\n",
              "    </tr>\n",
              "    <tr>\n",
              "      <th>3</th>\n",
              "      <td>1201950300</td>\n",
              "      <td>300</td>\n",
              "      <td>6.44</td>\n",
              "      <td>29.75</td>\n",
              "    </tr>\n",
              "    <tr>\n",
              "      <th>4</th>\n",
              "      <td>1201950400</td>\n",
              "      <td>400</td>\n",
              "      <td>6.33</td>\n",
              "      <td>28.83</td>\n",
              "    </tr>\n",
              "  </tbody>\n",
              "</table>\n",
              "</div>\n",
              "      <button class=\"colab-df-convert\" onclick=\"convertToInteractive('df-21b67d3a-b818-47b1-9cf9-fecf070dea17')\"\n",
              "              title=\"Convert this dataframe to an interactive table.\"\n",
              "              style=\"display:none;\">\n",
              "        \n",
              "  <svg xmlns=\"http://www.w3.org/2000/svg\" height=\"24px\"viewBox=\"0 0 24 24\"\n",
              "       width=\"24px\">\n",
              "    <path d=\"M0 0h24v24H0V0z\" fill=\"none\"/>\n",
              "    <path d=\"M18.56 5.44l.94 2.06.94-2.06 2.06-.94-2.06-.94-.94-2.06-.94 2.06-2.06.94zm-11 1L8.5 8.5l.94-2.06 2.06-.94-2.06-.94L8.5 2.5l-.94 2.06-2.06.94zm10 10l.94 2.06.94-2.06 2.06-.94-2.06-.94-.94-2.06-.94 2.06-2.06.94z\"/><path d=\"M17.41 7.96l-1.37-1.37c-.4-.4-.92-.59-1.43-.59-.52 0-1.04.2-1.43.59L10.3 9.45l-7.72 7.72c-.78.78-.78 2.05 0 2.83L4 21.41c.39.39.9.59 1.41.59.51 0 1.02-.2 1.41-.59l7.78-7.78 2.81-2.81c.8-.78.8-2.07 0-2.86zM5.41 20L4 18.59l7.72-7.72 1.47 1.35L5.41 20z\"/>\n",
              "  </svg>\n",
              "      </button>\n",
              "      \n",
              "  <style>\n",
              "    .colab-df-container {\n",
              "      display:flex;\n",
              "      flex-wrap:wrap;\n",
              "      gap: 12px;\n",
              "    }\n",
              "\n",
              "    .colab-df-convert {\n",
              "      background-color: #E8F0FE;\n",
              "      border: none;\n",
              "      border-radius: 50%;\n",
              "      cursor: pointer;\n",
              "      display: none;\n",
              "      fill: #1967D2;\n",
              "      height: 32px;\n",
              "      padding: 0 0 0 0;\n",
              "      width: 32px;\n",
              "    }\n",
              "\n",
              "    .colab-df-convert:hover {\n",
              "      background-color: #E2EBFA;\n",
              "      box-shadow: 0px 1px 2px rgba(60, 64, 67, 0.3), 0px 1px 3px 1px rgba(60, 64, 67, 0.15);\n",
              "      fill: #174EA6;\n",
              "    }\n",
              "\n",
              "    [theme=dark] .colab-df-convert {\n",
              "      background-color: #3B4455;\n",
              "      fill: #D2E3FC;\n",
              "    }\n",
              "\n",
              "    [theme=dark] .colab-df-convert:hover {\n",
              "      background-color: #434B5C;\n",
              "      box-shadow: 0px 1px 3px 1px rgba(0, 0, 0, 0.15);\n",
              "      filter: drop-shadow(0px 1px 2px rgba(0, 0, 0, 0.3));\n",
              "      fill: #FFFFFF;\n",
              "    }\n",
              "  </style>\n",
              "\n",
              "      <script>\n",
              "        const buttonEl =\n",
              "          document.querySelector('#df-21b67d3a-b818-47b1-9cf9-fecf070dea17 button.colab-df-convert');\n",
              "        buttonEl.style.display =\n",
              "          google.colab.kernel.accessAllowed ? 'block' : 'none';\n",
              "\n",
              "        async function convertToInteractive(key) {\n",
              "          const element = document.querySelector('#df-21b67d3a-b818-47b1-9cf9-fecf070dea17');\n",
              "          const dataTable =\n",
              "            await google.colab.kernel.invokeFunction('convertToInteractive',\n",
              "                                                     [key], {});\n",
              "          if (!dataTable) return;\n",
              "\n",
              "          const docLinkHtml = 'Like what you see? Visit the ' +\n",
              "            '<a target=\"_blank\" href=https://colab.research.google.com/notebooks/data_table.ipynb>data table notebook</a>'\n",
              "            + ' to learn more about interactive tables.';\n",
              "          element.innerHTML = '';\n",
              "          dataTable['output_type'] = 'display_data';\n",
              "          await google.colab.output.renderOutput(dataTable, element);\n",
              "          const docLink = document.createElement('div');\n",
              "          docLink.innerHTML = docLinkHtml;\n",
              "          element.appendChild(docLink);\n",
              "        }\n",
              "      </script>\n",
              "    </div>\n",
              "  </div>\n",
              "  "
            ]
          },
          "metadata": {},
          "execution_count": 3
        }
      ],
      "source": [
        "dataset.head()"
      ]
    },
    {
      "cell_type": "code",
      "execution_count": null,
      "metadata": {
        "colab": {
          "base_uri": "https://localhost:8080/"
        },
        "id": "dKQ8ZJk5xe3E",
        "outputId": "ea858a55-b18e-4349-8b76-71b1a3625fd5"
      },
      "outputs": [
        {
          "output_type": "stream",
          "name": "stdout",
          "text": [
            "         Date  WS [m/s]  DIR [°]\n",
            "0  1201950000      6.99    37.08\n",
            "1  1201950100      6.73    34.21\n",
            "2  1201950200      6.55    31.23\n",
            "3  1201950300      6.44    29.75\n",
            "4  1201950400      6.33    28.83\n"
          ]
        }
      ],
      "source": [
        "# dataset.dropna()\n",
        "dataset.drop(dataset.columns[[1]], axis = 1, inplace = True)\n",
        "print(dataset.head())"
      ]
    },
    {
      "cell_type": "code",
      "execution_count": null,
      "metadata": {
        "id": "OCwQqZ7sxoOg"
      },
      "outputs": [],
      "source": [
        "# convert series to supervised learning\n",
        "def series_to_supervised(data, n_in=1, n_out=1, dropnan=True):\n",
        "\tn_vars = 1 if type(data) is list else data.shape[1]\n",
        "\tdf = DataFrame(data)\n",
        "\tcols, names = list(), list()\n",
        "\t# input sequence (t-n, ... t-1)\n",
        "\tfor i in range(n_in, 0, -1):\n",
        "\t\tcols.append(df.shift(i))\n",
        "\t\tnames += [('var%d(t-%d)' % (j+1, i)) for j in range(n_vars)]\n",
        "\t# forecast sequence (t, t+1, ... t+n)\n",
        "\tfor i in range(0, n_out):\n",
        "\t\tcols.append(df.shift(-i))\n",
        "\t\tif i == 0:\n",
        "\t\t\tnames += [('var%d(t)' % (j+1)) for j in range(n_vars)]\n",
        "\t\telse:\n",
        "\t\t\tnames += [('var%d(t+%d)' % (j+1, i)) for j in range(n_vars)]\n",
        "\t# put it all together\n",
        "\tagg = concat(cols, axis=1)\n",
        "\tagg.columns = names\n",
        "\t# drop rows with NaN values\n",
        "\tif dropnan:\n",
        "\t\tagg.dropna(inplace=True)\n",
        "\treturn agg"
      ]
    },
    {
      "cell_type": "code",
      "execution_count": null,
      "metadata": {
        "colab": {
          "base_uri": "https://localhost:8080/"
        },
        "id": "w5GqOdnMx0ZB",
        "outputId": "0a9a8527-9068-4ddd-dc1d-a237d9f09e07"
      },
      "outputs": [
        {
          "output_type": "stream",
          "name": "stdout",
          "text": [
            "\n",
            "[-1.41118727 -1.44509529 -1.48030291 ... -1.39405605 -1.44769451\n",
            " -1.4983793 ]\n"
          ]
        }
      ],
      "source": [
        "#dataset['Day'] = pd.to_datetime(dataset['Day'])\n",
        "dataset = dataset.set_index('Date')\n",
        "values = dataset.values\n",
        "encoder = LabelEncoder()\n",
        "values[:, 1] = encoder.fit_transform(values[:, 1])\n",
        "values = values.astype(float)\n",
        "scaler = StandardScaler()\n",
        "scaled = scaler.fit_transform(values)\n",
        "print()\n",
        "print(scaled[:, 1])"
      ]
    },
    {
      "cell_type": "code",
      "execution_count": null,
      "metadata": {
        "colab": {
          "base_uri": "https://localhost:8080/"
        },
        "id": "SiYDU1lsyU6k",
        "outputId": "1797ecbf-7022-4694-cb9b-1502a8e9c758"
      },
      "outputs": [
        {
          "output_type": "stream",
          "name": "stdout",
          "text": [
            "(140000, 6) 140000 (140000,)\n",
            "(140000, 3, 2) (140000,) (35317, 3, 2) (35317,)\n"
          ]
        }
      ],
      "source": [
        "n_input = 3\n",
        "n_features = 2\n",
        "\n",
        "reframed = series_to_supervised(scaled, n_input, 1)\n",
        "#Splitting the dataset\n",
        "values = reframed.values\n",
        "train = values[:140000, :]\n",
        "test = values[140000:, :]\n",
        "\n",
        "n_obs = n_input * n_features\n",
        "train_X, train_y = train[:, :n_obs], train[:, -n_features]\n",
        "test_X, test_y = test[:, :n_obs], test[:, -n_features]\n",
        "print(train_X.shape, len(train_X), train_y.shape)\n",
        "\n",
        "train_X = train_X.reshape((train_X.shape[0], n_input, n_features))\n",
        "test_X = test_X.reshape((test_X.shape[0], n_input, n_features))\n",
        "print(train_X.shape, train_y.shape, test_X.shape, test_y.shape)"
      ]
    },
    {
      "cell_type": "code",
      "execution_count": null,
      "metadata": {
        "colab": {
          "base_uri": "https://localhost:8080/"
        },
        "id": "soJXD6dY4aYB",
        "outputId": "77f8715a-c507-405d-cf0e-456e2413a6a2"
      },
      "outputs": [
        {
          "output_type": "stream",
          "name": "stdout",
          "text": [
            "Epoch 1/50\n",
            "1945/1945 - 41s - loss: 0.1301 - accuracy: 0.0000e+00 - val_loss: 0.0838 - val_accuracy: 0.0000e+00 - 41s/epoch - 21ms/step\n",
            "Epoch 2/50\n",
            "1945/1945 - 36s - loss: 0.0721 - accuracy: 0.0000e+00 - val_loss: 0.0973 - val_accuracy: 0.0000e+00 - 36s/epoch - 19ms/step\n",
            "Epoch 3/50\n",
            "1945/1945 - 36s - loss: 0.0679 - accuracy: 0.0000e+00 - val_loss: 0.0911 - val_accuracy: 0.0000e+00 - 36s/epoch - 19ms/step\n",
            "Epoch 4/50\n",
            "1945/1945 - 37s - loss: 0.0658 - accuracy: 0.0000e+00 - val_loss: 0.0837 - val_accuracy: 0.0000e+00 - 37s/epoch - 19ms/step\n",
            "Epoch 5/50\n",
            "1945/1945 - 37s - loss: 0.0650 - accuracy: 0.0000e+00 - val_loss: 0.0776 - val_accuracy: 0.0000e+00 - 37s/epoch - 19ms/step\n",
            "Epoch 6/50\n",
            "1945/1945 - 36s - loss: 0.0638 - accuracy: 0.0000e+00 - val_loss: 0.0758 - val_accuracy: 0.0000e+00 - 36s/epoch - 19ms/step\n",
            "Epoch 7/50\n",
            "1945/1945 - 36s - loss: 0.0620 - accuracy: 0.0000e+00 - val_loss: 0.0815 - val_accuracy: 0.0000e+00 - 36s/epoch - 19ms/step\n",
            "Epoch 8/50\n",
            "1945/1945 - 36s - loss: 0.0619 - accuracy: 0.0000e+00 - val_loss: 0.0805 - val_accuracy: 0.0000e+00 - 36s/epoch - 19ms/step\n",
            "Epoch 9/50\n",
            "1945/1945 - 36s - loss: 0.0608 - accuracy: 0.0000e+00 - val_loss: 0.0802 - val_accuracy: 0.0000e+00 - 36s/epoch - 19ms/step\n",
            "Epoch 10/50\n",
            "1945/1945 - 36s - loss: 0.0602 - accuracy: 0.0000e+00 - val_loss: 0.0865 - val_accuracy: 0.0000e+00 - 36s/epoch - 18ms/step\n",
            "Epoch 11/50\n",
            "1945/1945 - 35s - loss: 0.0600 - accuracy: 0.0000e+00 - val_loss: 0.0831 - val_accuracy: 0.0000e+00 - 35s/epoch - 18ms/step\n",
            "Epoch 12/50\n",
            "1945/1945 - 36s - loss: 0.0597 - accuracy: 0.0000e+00 - val_loss: 0.0757 - val_accuracy: 0.0000e+00 - 36s/epoch - 18ms/step\n",
            "Epoch 13/50\n",
            "1945/1945 - 36s - loss: 0.0594 - accuracy: 0.0000e+00 - val_loss: 0.0762 - val_accuracy: 0.0000e+00 - 36s/epoch - 19ms/step\n",
            "Epoch 14/50\n",
            "1945/1945 - 36s - loss: 0.0594 - accuracy: 0.0000e+00 - val_loss: 0.0705 - val_accuracy: 0.0000e+00 - 36s/epoch - 19ms/step\n",
            "Epoch 15/50\n",
            "1945/1945 - 36s - loss: 0.0588 - accuracy: 0.0000e+00 - val_loss: 0.0714 - val_accuracy: 0.0000e+00 - 36s/epoch - 19ms/step\n",
            "Epoch 16/50\n",
            "1945/1945 - 35s - loss: 0.0585 - accuracy: 0.0000e+00 - val_loss: 0.0701 - val_accuracy: 0.0000e+00 - 35s/epoch - 18ms/step\n",
            "Epoch 17/50\n",
            "1945/1945 - 35s - loss: 0.0585 - accuracy: 0.0000e+00 - val_loss: 0.0715 - val_accuracy: 0.0000e+00 - 35s/epoch - 18ms/step\n",
            "Epoch 18/50\n",
            "1945/1945 - 35s - loss: 0.0581 - accuracy: 0.0000e+00 - val_loss: 0.0695 - val_accuracy: 0.0000e+00 - 35s/epoch - 18ms/step\n",
            "Epoch 19/50\n",
            "1945/1945 - 35s - loss: 0.0579 - accuracy: 0.0000e+00 - val_loss: 0.0670 - val_accuracy: 0.0000e+00 - 35s/epoch - 18ms/step\n",
            "Epoch 20/50\n",
            "1945/1945 - 35s - loss: 0.0578 - accuracy: 0.0000e+00 - val_loss: 0.0673 - val_accuracy: 0.0000e+00 - 35s/epoch - 18ms/step\n",
            "Epoch 21/50\n",
            "1945/1945 - 36s - loss: 0.0576 - accuracy: 0.0000e+00 - val_loss: 0.0676 - val_accuracy: 0.0000e+00 - 36s/epoch - 19ms/step\n",
            "Epoch 22/50\n",
            "1945/1945 - 36s - loss: 0.0576 - accuracy: 0.0000e+00 - val_loss: 0.0684 - val_accuracy: 0.0000e+00 - 36s/epoch - 18ms/step\n",
            "Epoch 23/50\n",
            "1945/1945 - 35s - loss: 0.0573 - accuracy: 0.0000e+00 - val_loss: 0.0661 - val_accuracy: 0.0000e+00 - 35s/epoch - 18ms/step\n",
            "Epoch 24/50\n",
            "1945/1945 - 36s - loss: 0.0571 - accuracy: 0.0000e+00 - val_loss: 0.0646 - val_accuracy: 0.0000e+00 - 36s/epoch - 19ms/step\n",
            "Epoch 25/50\n",
            "1945/1945 - 37s - loss: 0.0571 - accuracy: 0.0000e+00 - val_loss: 0.0618 - val_accuracy: 0.0000e+00 - 37s/epoch - 19ms/step\n",
            "Epoch 26/50\n",
            "1945/1945 - 37s - loss: 0.0568 - accuracy: 0.0000e+00 - val_loss: 0.0665 - val_accuracy: 0.0000e+00 - 37s/epoch - 19ms/step\n",
            "Epoch 27/50\n",
            "1945/1945 - 35s - loss: 0.0568 - accuracy: 0.0000e+00 - val_loss: 0.0649 - val_accuracy: 0.0000e+00 - 35s/epoch - 18ms/step\n",
            "Epoch 28/50\n",
            "1945/1945 - 35s - loss: 0.0568 - accuracy: 0.0000e+00 - val_loss: 0.0621 - val_accuracy: 0.0000e+00 - 35s/epoch - 18ms/step\n",
            "Epoch 29/50\n",
            "1945/1945 - 34s - loss: 0.0565 - accuracy: 0.0000e+00 - val_loss: 0.0627 - val_accuracy: 0.0000e+00 - 34s/epoch - 18ms/step\n",
            "Epoch 30/50\n",
            "1945/1945 - 36s - loss: 0.0564 - accuracy: 0.0000e+00 - val_loss: 0.0617 - val_accuracy: 0.0000e+00 - 36s/epoch - 19ms/step\n",
            "Epoch 31/50\n",
            "1945/1945 - 35s - loss: 0.0562 - accuracy: 0.0000e+00 - val_loss: 0.0640 - val_accuracy: 0.0000e+00 - 35s/epoch - 18ms/step\n",
            "Epoch 32/50\n",
            "1945/1945 - 35s - loss: 0.0564 - accuracy: 0.0000e+00 - val_loss: 0.0637 - val_accuracy: 0.0000e+00 - 35s/epoch - 18ms/step\n",
            "Epoch 33/50\n",
            "1945/1945 - 35s - loss: 0.0561 - accuracy: 0.0000e+00 - val_loss: 0.0636 - val_accuracy: 0.0000e+00 - 35s/epoch - 18ms/step\n",
            "Epoch 34/50\n",
            "1945/1945 - 35s - loss: 0.0561 - accuracy: 0.0000e+00 - val_loss: 0.0627 - val_accuracy: 0.0000e+00 - 35s/epoch - 18ms/step\n",
            "Epoch 35/50\n",
            "1945/1945 - 36s - loss: 0.0558 - accuracy: 0.0000e+00 - val_loss: 0.0596 - val_accuracy: 0.0000e+00 - 36s/epoch - 18ms/step\n",
            "Epoch 36/50\n",
            "1945/1945 - 36s - loss: 0.0559 - accuracy: 0.0000e+00 - val_loss: 0.0610 - val_accuracy: 0.0000e+00 - 36s/epoch - 18ms/step\n",
            "Epoch 37/50\n",
            "1945/1945 - 35s - loss: 0.0558 - accuracy: 0.0000e+00 - val_loss: 0.0610 - val_accuracy: 0.0000e+00 - 35s/epoch - 18ms/step\n",
            "Epoch 38/50\n",
            "1945/1945 - 35s - loss: 0.0557 - accuracy: 0.0000e+00 - val_loss: 0.0623 - val_accuracy: 0.0000e+00 - 35s/epoch - 18ms/step\n",
            "Epoch 39/50\n",
            "1945/1945 - 35s - loss: 0.0558 - accuracy: 0.0000e+00 - val_loss: 0.0619 - val_accuracy: 0.0000e+00 - 35s/epoch - 18ms/step\n",
            "Epoch 40/50\n",
            "1945/1945 - 35s - loss: 0.0556 - accuracy: 0.0000e+00 - val_loss: 0.0600 - val_accuracy: 0.0000e+00 - 35s/epoch - 18ms/step\n",
            "Epoch 41/50\n",
            "1945/1945 - 34s - loss: 0.0556 - accuracy: 0.0000e+00 - val_loss: 0.0588 - val_accuracy: 0.0000e+00 - 34s/epoch - 18ms/step\n",
            "Epoch 42/50\n",
            "1945/1945 - 35s - loss: 0.0555 - accuracy: 0.0000e+00 - val_loss: 0.0579 - val_accuracy: 0.0000e+00 - 35s/epoch - 18ms/step\n",
            "Epoch 43/50\n",
            "1945/1945 - 35s - loss: 0.0555 - accuracy: 0.0000e+00 - val_loss: 0.0572 - val_accuracy: 0.0000e+00 - 35s/epoch - 18ms/step\n",
            "Epoch 44/50\n",
            "1945/1945 - 35s - loss: 0.0554 - accuracy: 0.0000e+00 - val_loss: 0.0575 - val_accuracy: 0.0000e+00 - 35s/epoch - 18ms/step\n",
            "Epoch 45/50\n",
            "1945/1945 - 36s - loss: 0.0553 - accuracy: 0.0000e+00 - val_loss: 0.0590 - val_accuracy: 0.0000e+00 - 36s/epoch - 18ms/step\n",
            "Epoch 46/50\n",
            "1945/1945 - 36s - loss: 0.0553 - accuracy: 0.0000e+00 - val_loss: 0.0574 - val_accuracy: 0.0000e+00 - 36s/epoch - 18ms/step\n",
            "Epoch 47/50\n",
            "1945/1945 - 36s - loss: 0.0551 - accuracy: 0.0000e+00 - val_loss: 0.0574 - val_accuracy: 0.0000e+00 - 36s/epoch - 19ms/step\n",
            "Epoch 48/50\n",
            "1945/1945 - 35s - loss: 0.0551 - accuracy: 0.0000e+00 - val_loss: 0.0574 - val_accuracy: 0.0000e+00 - 35s/epoch - 18ms/step\n",
            "Epoch 49/50\n",
            "1945/1945 - 36s - loss: 0.0550 - accuracy: 0.0000e+00 - val_loss: 0.0571 - val_accuracy: 0.0000e+00 - 36s/epoch - 19ms/step\n",
            "Epoch 50/50\n",
            "1945/1945 - 36s - loss: 0.0549 - accuracy: 0.0000e+00 - val_loss: 0.0589 - val_accuracy: 0.0000e+00 - 36s/epoch - 18ms/step\n"
          ]
        },
        {
          "output_type": "display_data",
          "data": {
            "text/plain": [
              "<Figure size 432x288 with 1 Axes>"
            ],
            "image/png": "[encoded data removed]"
          },
          "metadata": {
            "needs_background": "light"
          }
        }
      ],
      "source": [
        "model = Sequential()\n",
        "model.add(LSTM(100, activation='relu', return_sequences=True, input_shape=(n_input, n_features)))\n",
        "model.add(Bidirectional(LSTM(100,activation='relu')))\n",
        "#model.add(Dropout(0.2))\n",
        "model.add(Dense(1))\n",
        "model.compile(loss='mae', optimizer='adam',metrics=['accuracy'])\n",
        "# fit network\n",
        "history = model.fit(train_X, train_y, epochs=50, batch_size=72, validation_data=(test_X, test_y), verbose=2, shuffle=False)\n",
        "# plot history\n",
        "pyplot.plot(history.history['loss'], label='train')\n",
        "pyplot.plot(history.history['val_loss'], label='test')\n",
        "pyplot.legend()\n",
        "pyplot.show()"
      ]
    },
    {
      "cell_type": "code",
      "execution_count": null,
      "metadata": {
        "colab": {
          "base_uri": "https://localhost:8080/"
        },
        "id": "R0kc5WhK5JpJ",
        "outputId": "974c81de-e4f7-4ef5-9aa0-d7659106ccdc"
      },
      "outputs": [
        {
          "output_type": "stream",
          "name": "stdout",
          "text": [
            "(35317, 1)\n",
            "35317\n",
            "(35317,)\n"
          ]
        }
      ],
      "source": [
        "yhat = model.predict(test_X)\n",
        "test_X = test_X.reshape((test_X.shape[0], n_input*n_features))\n",
        "print(yhat.shape)\n",
        "print(len(yhat))\n",
        "print(test_y.shape)"
      ]
    },
    {
      "cell_type": "code",
      "execution_count": null,
      "metadata": {
        "colab": {
          "base_uri": "https://localhost:8080/"
        },
        "id": "Xkre04Do5U_i",
        "outputId": "e1e6eb35-71b9-40d9-95f4-fd860c837919"
      },
      "outputs": [
        {
          "output_type": "stream",
          "name": "stdout",
          "text": [
            "Test RMSE: 0.083\n"
          ]
        }
      ],
      "source": [
        "rmse = sqrt(mean_squared_error(test_y, yhat))\n",
        "print('Test RMSE: %.3f' % rmse)"
      ]
    },
    {
      "cell_type": "code",
      "execution_count": null,
      "metadata": {
        "id": "xJW5CcWX5aEg"
      },
      "outputs": [],
      "source": [
        "prediction_copies = np.repeat(yhat, scaled.shape[1], axis=-1)\n",
        "#y_pred_future = scaler.inverse_transform(prediction_copies)[:,0]"
      ]
    },
    {
      "cell_type": "code",
      "execution_count": null,
      "metadata": {
        "id": "j49AOIwK5pE3"
      },
      "outputs": [],
      "source": [
        "#inv_yhat = concatenate((prediction_copies, test_X[:, -2:]), axis=1)\n",
        "inv_yhat = scaler.inverse_transform(prediction_copies)\n",
        "inv_yhat = inv_yhat[:,0]"
      ]
    },
    {
      "cell_type": "code",
      "execution_count": null,
      "metadata": {
        "colab": {
          "base_uri": "https://localhost:8080/"
        },
        "id": "jv3W6uqn5srY",
        "outputId": "8ae15ef6-f278-46d0-bf60-29c26f086ea4"
      },
      "outputs": [
        {
          "output_type": "stream",
          "name": "stdout",
          "text": [
            "Test MSE: 0.035\n",
            "Test RMSE: 0.188\n",
            "Test MAE: 0.133\n",
            "Test MAPE: 0.030\n"
          ]
        }
      ],
      "source": [
        "test_y = test_y.reshape((len(test_y), 1))\n",
        "#inv_y = concatenate((test_y, test_X[:, -2:]), axis=1)\n",
        "\n",
        "test_copies = np.repeat(test_y, scaled.shape[1], axis=-1)\n",
        "#y_pred_future = scaler.inverse_transform(prediction_copies)[:,0]\n",
        "\n",
        "inv_y = scaler.inverse_transform(test_copies)\n",
        "inv_y = inv_y[:,0]\n",
        "\n",
        "mse = mean_squared_error(inv_y, inv_yhat)\n",
        "print('Test MSE: %.3f' % mse)\n",
        "\n",
        "rmse = sqrt(mean_squared_error(inv_y, inv_yhat))\n",
        "print('Test RMSE: %.3f' % rmse)\n",
        "\n",
        "from sklearn.metrics import mean_absolute_error,mean_absolute_percentage_error\n",
        "mae = mean_absolute_error(inv_y, inv_yhat)\n",
        "print('Test MAE: %.3f' % mae)\n",
        "\n",
        "mape = mean_absolute_percentage_error(inv_y, inv_yhat)\n",
        "print('Test MAPE: %.3f' % mape)"
      ]
    },
    {
      "cell_type": "code",
      "execution_count": null,
      "metadata": {
        "colab": {
          "base_uri": "https://localhost:8080/"
        },
        "id": "vczPOPni50bM",
        "outputId": "fcfe9121-e40d-4ef8-cabc-e9d47f7711e6"
      },
      "outputs": [
        {
          "output_type": "stream",
          "name": "stdout",
          "text": [
            "[7.641065  7.544436  7.5684195 ... 5.7137675 6.071631  6.2318845]\n"
          ]
        }
      ],
      "source": [
        "#print(yhat)\n",
        "print(inv_yhat)"
      ]
    },
    {
      "cell_type": "code",
      "execution_count": null,
      "metadata": {
        "colab": {
          "base_uri": "https://localhost:8080/",
          "height": 421
        },
        "id": "zZ6SdnjA54dS",
        "outputId": "f6502225-c23b-445d-f12f-f0082909dc0b"
      },
      "outputs": [
        {
          "output_type": "display_data",
          "data": {
            "text/plain": [
              "<Figure size 720x432 with 1 Axes>"
            ],
            "image/png": "[encoded data removed]"
          },
          "metadata": {
            "needs_background": "light"
          }
        },
        {
          "output_type": "display_data",
          "data": {
            "text/plain": [
              "<Figure size 432x288 with 0 Axes>"
            ]
          },
          "metadata": {}
        }
      ],
      "source": [
        "from matplotlib import pyplot as plt\n",
        "\n",
        "#Plot the graph between actual vs predicted values\n",
        "plt.figure(figsize=(10,6))\n",
        "plt.plot(inv_y[:300], color= 'green',label = 'ACTUAL WIND SPEED ')\n",
        "plt.plot(inv_yhat[:300] , color = 'red',label = 'FORECASTED WIND SPEED ')\n",
        "plt.title(\"WIND SPEED FORECASTING USING L-BiLSTM\")\n",
        "plt.xlabel(\"TIME INTERVAL (1 DAY)\")\n",
        "plt.ylabel(\"SPEED OF WIND(KMPH)\")\n",
        "plt.legend()\n",
        "plt.show()\n",
        "plt.savefig('graph.png')"
      ]
    },
    {
      "cell_type": "code",
      "execution_count": null,
      "metadata": {
        "id": "w8-znAaP6YCW"
      },
      "outputs": [],
      "source": []
    },
    {
      "cell_type": "code",
      "execution_count": null,
      "metadata": {
        "colab": {
          "base_uri": "https://localhost:8080/"
        },
        "id": "8g1zDvtU6Z16",
        "outputId": "4d8874a3-fcdb-4ce3-fe8d-241efa2ee520"
      },
      "outputs": [
        {
          "output_type": "stream",
          "name": "stdout",
          "text": [
            "[7.6  7.64 7.6  7.53 7.54 7.42 6.97 6.69 6.65 6.61 6.64 6.58 6.41 6.22\n",
            " 6.05 5.95 5.84 5.8  5.81 5.84 5.79 5.49 6.01 6.67 7.01 7.13 7.19 7.2\n",
            " 6.99 6.5  6.08 5.98 6.17 6.37 6.39 6.29 6.2  6.13 6.12 6.15 6.14 6.19\n",
            " 6.26 6.27 6.22 5.97 6.53 7.88 8.73 9.18 9.45 9.57 9.34 8.82 8.   7.68\n",
            " 7.69 7.71 7.7  7.66 7.58 7.5  7.41 7.38 7.13 6.89 6.76 6.62 6.37 5.83\n",
            " 6.44 7.24 7.71 7.88 7.98 8.15 8.22 8.12 7.74 7.72 7.91 8.06 8.18 8.17\n",
            " 8.04 7.92 7.8  7.73 7.54 7.34 7.13 6.91 6.63 6.21 6.51 7.   6.93 6.88\n",
            " 6.88 6.94 7.01 6.91 6.73 6.66 6.63 6.65 6.77 6.94 7.14 7.22 7.28 7.35\n",
            " 7.43 7.51 7.59 7.69 7.74 7.72 7.83 8.06 8.34 8.58 8.66 8.58 8.27 8.06\n",
            " 8.06 8.18 8.28 8.27 8.3  8.3  8.14 7.9  7.57 7.28 6.92 6.66 6.54 6.51\n",
            " 6.56 6.53 7.06 7.15 6.98 6.99 6.94 6.93 6.83 6.64 6.51 6.55 6.57 6.54\n",
            " 6.46 6.27 5.91 5.72 5.67 5.52 5.37 5.35 5.28 5.18 5.08 4.87 4.73 4.87\n",
            " 5.02 4.99 4.88 4.85 4.55 4.18 3.98 3.92 3.83 3.61 3.33 2.89 2.38 2.1\n",
            " 1.84 1.53 1.39 1.43 1.5  1.43 1.13 0.98 1.03 0.86 0.74 0.49 0.35 0.57\n",
            " 1.1  1.61 2.1  2.53 2.85 3.06 2.86 2.48 2.08 1.7  1.25 0.84 0.8  0.97\n",
            " 1.3  1.77 2.29 2.71 3.12 3.57 4.1  4.62 5.03 5.13 5.03 4.89 4.59 4.56\n",
            " 4.73 4.89 5.24 5.45 5.54 5.59 5.52 5.37 4.95 4.53 4.23 3.9  3.66 3.59\n",
            " 3.89 4.18 4.16 4.16 4.22 4.26 4.18 4.02 3.52 3.01 2.81 2.8  3.32 3.97\n",
            " 4.52 5.01 5.35 5.46 5.09 4.62 4.19 3.72 3.33 3.15 3.76 4.23 4.45 4.57\n",
            " 4.57 4.47 4.19 3.85 3.63 3.69 3.8  3.97 4.22 4.4  4.36 4.25 4.08 3.96\n",
            " 3.93 3.95 4.06 4.24 4.28 4.09 4.27 4.32 4.1  3.85 3.66 3.46 3.31 3.26\n",
            " 3.33 3.54 3.68 3.6  3.49 3.32 3.05 2.74 2.36 1.94 1.54 1.17 0.9  0.76\n",
            " 0.68 0.91 1.49 1.63 1.74 1.74 1.55 1.23 1.16 1.68 2.7  3.46 4.23 4.45\n",
            " 4.36 4.19 3.96 3.73 3.53 3.22 2.78 2.39 2.16 2.02 1.84 1.58 1.39 1.23\n",
            " 1.56 2.22 2.77 3.11 3.3  3.5  3.4  3.16 2.99 3.01 3.03 3.02 2.92 2.97\n",
            " 3.13 3.35 3.56 3.68 3.72 3.72 3.68 3.48 3.79 4.14 4.53 4.84 5.   5.04\n",
            " 5.12 5.14 4.98 4.87 5.01 5.19 5.31 5.37 5.4  5.41 5.36 5.29 4.93 4.57\n",
            " 4.3  4.1  3.97 3.66 4.15 4.84 5.31 5.64 5.88 6.1  6.39 6.51 6.01 5.92\n",
            " 6.05 6.13 6.16 6.17 6.18 6.14 6.01 5.85 5.76 5.84 5.98 6.11 6.1  5.65\n",
            " 6.38 7.16 7.49 7.65 7.75 7.8  7.74 7.58 6.98 6.79 6.83 6.8  6.56 6.29\n",
            " 6.01 5.81 5.6  5.39 5.2  4.96 4.76 4.66 4.62 4.23 4.16 4.36 4.6  4.81\n",
            " 4.86 4.92 4.9  4.86 4.68 4.62 4.76 4.85 5.19 5.44 5.52 5.47 5.44 5.4\n",
            " 5.17 4.96 4.87 4.7  4.45 3.98 4.06 4.01 3.84 3.65 3.48 3.34 3.15 3.03\n",
            " 2.96 2.97 3.1  3.32 3.73 4.05 4.22 4.34 4.42 4.44 4.24 4.04 3.89 3.79\n",
            " 3.7  3.52 4.15 4.79 5.05 5.04 5.01 4.98 4.9  4.91 4.86 4.89 5.04 5.19\n",
            " 5.39 5.53 5.53 5.44 5.27 5.05 4.58 4.16 3.89 3.75 3.64 3.51 4.06 4.39\n",
            " 4.53 4.6  4.67 4.78 5.09 5.37 5.3  5.26 5.37 5.51 5.63 5.61 5.52 5.37\n",
            " 5.16 4.97 4.63 4.3  4.14 4.09 4.08 3.88 4.29 5.27 6.07 6.65 7.17 7.65\n",
            " 7.29 6.94 6.72 6.77 7.   7.3  7.53 7.61 7.62 7.6  7.53 7.45 7.17 6.94\n",
            " 6.78 6.63 6.45 6.06 6.35 6.99 7.25 7.24 7.18 7.1  6.87 6.41 5.97 6.\n",
            " 6.23 6.45 6.5  6.38 6.15 5.99 5.86 5.83 5.71 5.61 5.65 5.63 5.48 5.21\n",
            " 5.74 6.51 6.97 7.15 7.21 7.36 7.36 7.27 6.78 6.59 6.74 6.94 7.16 7.25\n",
            " 7.24 7.23 7.24 7.22 6.62 5.86 5.22 4.7  4.28 3.97 4.6  5.3  5.65 5.77\n",
            " 5.72 5.62 5.76 5.92 5.71 5.72 5.85 6.09 6.23 6.25 6.26 6.23 6.23 6.28\n",
            " 6.22 6.15 6.17 6.24 6.25 6.13 6.64 7.51 8.27 8.61 8.74 8.69 8.5  7.79\n",
            " 7.01 6.78 6.87 7.09 7.21 7.15 6.98 6.75 6.53 6.35 6.12 5.96 5.89 5.82\n",
            " 5.74 5.39 5.72 6.72 7.46 7.88 8.12 8.27 8.25 8.05 7.43 7.3  7.37 7.37\n",
            " 7.36 7.39 7.28 7.06 6.88 6.77 6.57 6.43 6.36 6.33 6.28 6.02 6.63 7.62\n",
            " 8.27 8.63 8.81 8.95 8.79 8.43 8.05 8.01 8.1  8.28 8.47 8.49 8.22 7.86\n",
            " 7.52 7.18 6.84 6.61 6.56 6.54 6.45 6.14 6.3  6.63 6.77 6.76 6.66 6.51\n",
            " 6.44 6.07 5.6  5.57 5.77 5.92 6.   6.15 6.34 6.56 6.83 7.11 7.21 7.1\n",
            " 6.98 6.89 6.8  6.58 6.51 7.12 7.75 8.07 8.13 8.07]\n"
          ]
        }
      ],
      "source": [
        "print(inv_y[:724])"
      ]
    },
    {
      "cell_type": "code",
      "execution_count": null,
      "metadata": {
        "colab": {
          "base_uri": "https://localhost:8080/"
        },
        "id": "ltyFdied6Gaf",
        "outputId": "215a86c5-3728-4c4b-a571-8d777964b700"
      },
      "outputs": [
        {
          "output_type": "stream",
          "name": "stdout",
          "text": [
            "[7.641065   7.544436   7.5684195  7.5152516  7.443925   7.560278\n",
            " 7.255353   6.5552735  6.5325937  6.720841   6.555766   6.6789007\n",
            " 6.465447   6.205487   6.0499477  5.9153924  5.890879   5.7261596\n",
            " 5.7871375  5.829116   5.8603272  5.7073793  5.2511945  6.4708905\n",
            " 7.0250497  7.0934224  7.1017833  7.1733217  7.147169   6.6829696\n",
            " 6.0068054  5.6967945  6.030779   6.385653   6.4966226  6.305044\n",
            " 6.122378   6.1024585  6.0586834  6.1165614  6.1690555  6.0957065\n",
            " 6.2408566  6.3054276  6.232306   6.1403923  5.7531137  7.043708\n",
            " 8.352891   8.975161   9.26111    9.47056    9.472068   8.977361\n",
            " 8.307773   7.4035463  7.584671   7.7858953  7.6848693  7.6313386\n",
            " 7.576237   7.469381   7.4101377  7.310576   7.3674445  6.8276043\n",
            " 6.727472   6.74616    6.518215   6.143755   5.516342   7.065179\n",
            " 7.5891447  7.8188252  7.827386   7.992061   8.266433   8.1807785\n",
            " 7.933347   7.3242383  7.799614   8.069431   8.099647   8.182919\n",
            " 8.038574   7.844109   7.7910023  7.6739025  7.667029   7.3237977\n",
            " 7.172635   6.965604   6.7413554  6.382481   5.8857     6.9933844\n",
            " 7.327782   6.7058706  6.8479495  6.8992143  6.9941936  7.04338\n",
            " 6.727715   6.525372   6.6500535  6.6118193  6.6723676  6.889459\n",
            " 7.0870724  7.2935686  7.184925   7.274131   7.3643923  7.4501753\n",
            " 7.530198   7.6097817  7.7248755  7.7113667  7.6346397  7.9182587\n",
            " 8.219272   8.484716   8.637401   8.550964   8.342984   7.865617\n",
            " 7.8297567  8.008865   8.166951   8.187187   8.045112   8.117995\n",
            " 8.065033   7.75282    7.496202   7.1046314  6.900844   6.4325924\n",
            " 6.379232   6.452196   6.4811087  6.578815   6.3764606  7.6057158\n",
            " 6.839601   6.472389   6.8129916  6.633578   6.751301   6.5357075\n",
            " 6.288695   6.329788   6.618111   6.4911566  6.423387   6.317464\n",
            " 6.0162454  5.4631324  5.647044   5.7010756  5.2507443  5.211599\n",
            " 5.379886   5.0878067  4.982198   4.902284   4.5225716  4.5671124\n",
            " 5.0390925  5.011514   4.709178   4.6165977  4.761135   4.078699\n",
            " 3.7438896  3.8428957  3.8667958  3.6530302  3.290119   2.9894588\n",
            " 2.3746574  1.891577   2.006525   1.6345239  1.2552567  1.3739595\n",
            " 1.5606265  1.56247    1.2676167  0.74330807 0.9287114  1.1311407\n",
            " 0.6039901  0.6571522  0.28752473 0.56349087 0.8753123  1.578002\n",
            " 2.0341294  2.4983099  2.8522625  3.0385413  3.1404448  2.4809558\n",
            " 2.0324233  1.740416   1.4367027  0.9195509  0.6653943  1.0457973\n",
            " 1.2346096  1.641665   2.2131398  2.7526643  3.0395935  3.4403167\n",
            " 3.931469   4.5348926  5.0144544  5.305743   5.098596   4.908508\n",
            " 4.7607007  4.3409348  4.6376805  4.9273214  5.010629   5.5508885\n",
            " 5.536704   5.541785   5.5904255  5.409036   5.211067   4.6331687\n",
            " 4.2402253  4.0639     3.6713662  3.5220513  3.6003404  4.18153\n",
            " 4.3931623  4.0763497  4.1788936  4.307665   4.287559   4.0626016\n",
            " 3.8437097  2.9546154  2.5855079  2.8454897  2.9078457  3.8605087\n",
            " 4.536447   4.929158   5.378729   5.553858   5.443201   4.7356663\n",
            " 4.2022443  3.875533   3.3499117  3.0874393  3.1425138  4.3248706\n",
            " 4.549456   4.5282993  4.619897   4.527643   4.3659267  3.9302955\n",
            " 3.5693355  3.5185893  3.8852565  3.9189355  4.1400805  4.4527287\n",
            " 4.5103707  4.257741   4.1389875  3.9348464  3.8925743  3.9460735\n",
            " 3.9847324  4.183411   4.405455   4.2581687  3.9142096  4.486045\n",
            " 4.311503   3.9036958  3.667159   3.5555587  3.3200226  3.2311506\n",
            " 3.2842038  3.4577425  3.7922654  3.7093825  3.3773255  3.3104506\n",
            " 3.0823271  2.7128067  2.41135    1.9782288  1.5716729  1.2520599\n",
            " 0.9370618  0.7934599  0.79143524 0.7323322  1.2848768  2.0481687\n",
            " 1.6593499  1.8575158  1.733283   1.355073   0.96864367 1.3040056\n",
            " 2.3142295  3.631291   4.021105   4.8018975  4.320272   4.0663943\n",
            " 3.9399774  3.687074   3.4929023  3.331305   2.865165   2.313581\n",
            " 2.0697517  2.0293574  1.9292629  1.6562738  1.3557172  1.3704901\n",
            " 1.1831717  2.0335646  2.8143559  3.2040658  3.3066106  3.3837502\n",
            " 3.65925    3.188369   2.87007    2.8566027  3.0913289  3.0081627\n",
            " 2.9697053  2.7888546  3.0835621  3.322304   3.5684369  3.7218745\n",
            " 3.7381551  3.723597   3.710452   3.6437364  3.3063169  4.1247954\n",
            " 4.429955   4.8454304  5.0383906  5.0537543  5.020974   5.195892\n",
            " 5.1288686  4.8235826  4.7992663  5.1878967  5.3382897  5.3650484\n",
            " 5.378405   5.3926535  5.3905334  5.2805567  5.215374   4.6359925\n",
            " 4.308858   4.143968   3.978287   3.8972864  3.419845   4.544432\n",
            " 5.3206105  5.5773625  5.8123345  6.000149   6.2307568  6.6033454\n",
            " 6.5007734  5.6414356  6.0222316  6.2098064  6.142365   6.138976\n",
            " 6.1471457  6.1672072  6.0670156  5.8522778  5.688709   5.7016125\n",
            " 5.9601297  6.0943527  6.181776   6.0281687  5.3782253  6.9957385\n",
            " 7.4989595  7.4990993  7.637006   7.7734604  7.783095   7.625478\n",
            " 7.402755   6.515248   6.8403354  6.9587984  6.7186966  6.262452\n",
            " 6.048153   5.776174   5.6739025  5.412868   5.2151365  5.057657\n",
            " 4.7678924  4.6239333  4.626694   4.618829   3.9557736  4.214113\n",
            " 4.566064   4.799598   4.9586487  4.836427   4.971969   4.853475\n",
            " 4.818975   4.5073686  4.622913   4.9324703  4.8980784  5.5030866\n",
            " 5.5804033  5.50301    5.3657646  5.4057584  5.346299   4.9396715\n",
            " 4.792736   4.845759   4.553926   4.256227   3.6321578  4.2709136\n",
            " 3.9547603  3.676689   3.493384   3.347443   3.2331233  2.9634504\n",
            " 2.9622343  2.9283347  3.0286696  3.2827373  3.5478218  4.1253505\n",
            " 4.2615294  4.2915535  4.408307   4.46375    4.4294844  4.055839\n",
            " 3.8940084  3.7953074  3.7351944  3.6439586  3.374561   4.634377\n",
            " 5.244689   5.1094675  4.9525676  4.9796824  4.956027   4.820917\n",
            " 4.953914   4.7985845  4.9425116  5.196664   5.2954764  5.5532484\n",
            " 5.598178   5.4674554  5.318953   5.089985   4.8420734  4.1811266\n",
            " 3.8793595  3.7660286  3.7030237  3.579402   3.4240518  4.5462456\n",
            " 4.562277   4.565842   4.6244335  4.724362   4.882441   5.390312\n",
            " 5.564152   5.143388   5.220476   5.49384    5.6126695  5.6958427\n",
            " 5.517807   5.389143   5.189984   4.9324083  4.8040643  4.32753\n",
            " 4.075192   4.0933094  4.0933213  4.088899   3.7016113  4.6440105\n",
            " 5.874248   6.3999557  6.86096    7.428879   7.8744564  6.8509483\n",
            " 6.6215906  6.5939827  6.9175744  7.219164   7.5145564  7.605023\n",
            " 7.553405   7.5501885  7.5309567  7.420759   7.356512   6.8481636\n",
            " 6.7942314  6.698738   6.517306   6.29736    5.7625723  6.7830424\n",
            " 7.391969   7.2571945  7.084725   7.090601   7.0087714  6.586775\n",
            " 5.978779   5.591724   6.209633   6.443147   6.5811834  6.4318852\n",
            " 6.1934705  5.9009933  5.880654   5.749513   5.8353343  5.5718317\n",
            " 5.5333805  5.7341166  5.5772657  5.3358207  5.007647   6.1181107\n",
            " 6.8805814  7.0959997  7.1278234  7.1645412  7.4813457  7.254183\n",
            " 7.1338396  6.3580785  6.5897737  6.9978824  7.104768   7.325772\n",
            " 7.211214   7.1473136  7.196834   7.226755   7.155388   6.172454\n",
            " 5.32421    4.8252697  4.3513026  4.0185323  3.7903323  5.050391\n",
            " 5.779114   5.7740903  5.771607   5.606382   5.4861913  5.9338756\n",
            " 6.023957   5.4171495  5.7989545  5.9773164  6.2910857  6.264337\n",
            " 6.186858   6.2373257  6.1621137  6.219368   6.320577   6.10763\n",
            " 6.0726995  6.2116585  6.3021593  6.2125483  5.989701   7.108041\n",
            " 7.912463   8.561158   8.663934   8.663723   8.483196   8.210582\n",
            " 7.203118   6.3973517  6.7961245  7.0672727  7.264089   7.1989202\n",
            " 6.982327   6.776154   6.514006   6.342081   6.219213   5.9057136\n",
            " 5.862215   5.86536    5.7519364  5.6609163  5.135686   6.0768704\n",
            " 7.2437086  7.7374344  7.979519   8.165821   8.290735   8.112851\n",
            " 7.7935944  6.9384513  7.402616   7.4760413  7.29925    7.3139834\n",
            " 7.389675   7.103696   6.8303304  6.7618933  6.71833    6.3559885\n",
            " 6.365625   6.3546424  6.328708   6.2277617  5.8077397  7.1693864\n",
            " 7.9986405  8.463665   8.714397   8.805157   8.949025   8.510983\n",
            " 8.050402   7.726693   8.049388   8.151506   8.36968    8.538865\n",
            " 8.36023    7.8614774  7.534687   7.263613   6.9204464  6.587109\n",
            " 6.5148687  6.6321564  6.5408463  6.343773   5.888225   6.6137924\n",
            " 6.891086   6.755541   6.673062   6.5250163  6.3548064  6.424997\n",
            " 5.7685366  5.2371364  5.7057557  5.966078   5.9837604  6.0042496\n",
            " 6.272391   6.48097    6.725091   7.0182586  7.2864814  7.1646557\n",
            " 6.9095716  6.8944387  6.844721   6.7363486  6.352041   6.556664\n",
            " 7.6337066  7.9878798  8.105045   8.02806   ]\n"
          ]
        }
      ],
      "source": [
        "x=print(inv_yhat[:724])"
      ]
    },
    {
      "cell_type": "code",
      "execution_count": null,
      "metadata": {
        "colab": {
          "base_uri": "https://localhost:8080/"
        },
        "id": "NxukD2d_7Ydk",
        "outputId": "7756761b-2804-4fcf-db70-103307dfe6e2"
      },
      "outputs": [
        {
          "output_type": "execute_result",
          "data": {
            "text/plain": [
              "<_io.TextIOWrapper name='new.csv' mode='r' encoding='UTF-8'>"
            ]
          },
          "metadata": {},
          "execution_count": 18
        }
      ],
      "source": [
        "from numpy import savetxt\n",
        "savetxt('new.csv', inv_yhat, delimiter='/n')\n",
        "open(\"new.csv\")"
      ]
    },
    {
      "cell_type": "code",
      "execution_count": null,
      "metadata": {
        "colab": {
          "base_uri": "https://localhost:8080/"
        },
        "id": "SXR9q1uB8dfD",
        "outputId": "f9da0d48-a820-4d94-ea9f-fb2f99337344"
      },
      "outputs": [
        {
          "output_type": "execute_result",
          "data": {
            "text/plain": [
              "<_io.TextIOWrapper name='newa.csv' mode='r' encoding='UTF-8'>"
            ]
          },
          "metadata": {},
          "execution_count": 19
        }
      ],
      "source": [
        "from numpy import savetxt\n",
        "savetxt('newa.csv', inv_y, delimiter='/n')\n",
        "open(\"newa.csv\")"
      ]
    }
  ],
  "metadata": {
    "colab": {
      "collapsed_sections": [],
      "name": "manjari-L-biLSTM.ipynb",
      "provenance": []
    },
    "kernelspec": {
      "display_name": "Python 3",
      "name": "python3"
    },
    "language_info": {
      "name": "python"
    }
  },
  "nbformat": 4,
  "nbformat_minor": 0
}