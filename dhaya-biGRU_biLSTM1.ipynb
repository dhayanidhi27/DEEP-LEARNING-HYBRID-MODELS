{
  "cells": [
    {
      "cell_type": "code",
      "execution_count": null,
      "metadata": {
        "id": "__ZAs5qkvQPW"
      },
      "outputs": [],
      "source": [
        "import pandas as pd\n",
        "from datetime import datetime\n",
        "from math import sqrt\n",
        "import numpy as np\n",
        "from numpy import concatenate\n",
        "from matplotlib import pyplot\n",
        "from pandas import read_csv\n",
        "from pandas import DataFrame\n",
        "from keras.layers import Dropout\n",
        "from keras.layers import TimeDistributed\n",
        "from tensorflow.keras.callbacks import ModelCheckpoint\n",
        "from tensorflow.keras.optimizers import Adam\n",
        "from pandas import concat\n",
        "from sklearn.preprocessing import MinMaxScaler\n",
        "from sklearn.preprocessing import StandardScaler\n",
        "from sklearn.preprocessing import LabelEncoder\n",
        "from sklearn.metrics import mean_squared_error\n",
        "from keras.models import Sequential\n",
        "from keras.layers import Dense\n",
        "from keras.layers import LSTM,Bidirectional,GRU\n",
        "import pandas as pd\n",
        "from keras.layers import Flatten\n",
        "from keras.layers.convolutional import Conv1D\n",
        "from keras.layers.convolutional import MaxPooling1D\n",
        "from keras.layers import SimpleRNN\n",
        "from tensorflow import optimizers"
      ]
    },
    {
      "cell_type": "code",
      "execution_count": null,
      "metadata": {
        "id": "d9gvWUY9v_Fy"
      },
      "outputs": [],
      "source": [
        "# load dataset\n",
        "dataset = read_csv('DATASETAIML3.csv', header=0, index_col=0)\n",
        "values = dataset.values"
      ]
    },
    {
      "cell_type": "code",
      "execution_count": null,
      "metadata": {
        "colab": {
          "base_uri": "https://localhost:8080/",
          "height": 206
        },
        "id": "kaLxyb38wzHO",
        "outputId": "61a80bb9-af89-46e7-db83-70b8c11716f6"
      },
      "outputs": [
        {
          "output_type": "execute_result",
          "data": {
            "text/plain": [
              "         Date  Time  WS [m/s]  DIR [°]\n",
              "0  1201950000     0      6.99    37.08\n",
              "1  1201950100   100      6.73    34.21\n",
              "2  1201950200   200      6.55    31.23\n",
              "3  1201950300   300      6.44    29.75\n",
              "4  1201950400   400      6.33    28.83"
            ],
            "text/html": [
              "\n",
              "  <div id=\"df-202af5d6-9190-4aee-8c47-4318123f7707\">\n",
              "    <div class=\"colab-df-container\">\n",
              "      <div>\n",
              "<style scoped>\n",
              "    .dataframe tbody tr th:only-of-type {\n",
              "        vertical-align: middle;\n",
              "    }\n",
              "\n",
              "    .dataframe tbody tr th {\n",
              "        vertical-align: top;\n",
              "    }\n",
              "\n",
              "    .dataframe thead th {\n",
              "        text-align: right;\n",
              "    }\n",
              "</style>\n",
              "<table border=\"1\" class=\"dataframe\">\n",
              "  <thead>\n",
              "    <tr style=\"text-align: right;\">\n",
              "      <th></th>\n",
              "      <th>Date</th>\n",
              "      <th>Time</th>\n",
              "      <th>WS [m/s]</th>\n",
              "      <th>DIR [°]</th>\n",
              "    </tr>\n",
              "  </thead>\n",
              "  <tbody>\n",
              "    <tr>\n",
              "      <th>0</th>\n",
              "      <td>1201950000</td>\n",
              "      <td>0</td>\n",
              "      <td>6.99</td>\n",
              "      <td>37.08</td>\n",
              "    </tr>\n",
              "    <tr>\n",
              "      <th>1</th>\n",
              "      <td>1201950100</td>\n",
              "      <td>100</td>\n",
              "      <td>6.73</td>\n",
              "      <td>34.21</td>\n",
              "    </tr>\n",
              "    <tr>\n",
              "      <th>2</th>\n",
              "      <td>1201950200</td>\n",
              "      <td>200</td>\n",
              "      <td>6.55</td>\n",
              "      <td>31.23</td>\n",
              "    </tr>\n",
              "    <tr>\n",
              "      <th>3</th>\n",
              "      <td>1201950300</td>\n",
              "      <td>300</td>\n",
              "      <td>6.44</td>\n",
              "      <td>29.75</td>\n",
              "    </tr>\n",
              "    <tr>\n",
              "      <th>4</th>\n",
              "      <td>1201950400</td>\n",
              "      <td>400</td>\n",
              "      <td>6.33</td>\n",
              "      <td>28.83</td>\n",
              "    </tr>\n",
              "  </tbody>\n",
              "</table>\n",
              "</div>\n",
              "      <button class=\"colab-df-convert\" onclick=\"convertToInteractive('df-202af5d6-9190-4aee-8c47-4318123f7707')\"\n",
              "              title=\"Convert this dataframe to an interactive table.\"\n",
              "              style=\"display:none;\">\n",
              "        \n",
              "  <svg xmlns=\"http://www.w3.org/2000/svg\" height=\"24px\"viewBox=\"0 0 24 24\"\n",
              "       width=\"24px\">\n",
              "    <path d=\"M0 0h24v24H0V0z\" fill=\"none\"/>\n",
              "    <path d=\"M18.56 5.44l.94 2.06.94-2.06 2.06-.94-2.06-.94-.94-2.06-.94 2.06-2.06.94zm-11 1L8.5 8.5l.94-2.06 2.06-.94-2.06-.94L8.5 2.5l-.94 2.06-2.06.94zm10 10l.94 2.06.94-2.06 2.06-.94-2.06-.94-.94-2.06-.94 2.06-2.06.94z\"/><path d=\"M17.41 7.96l-1.37-1.37c-.4-.4-.92-.59-1.43-.59-.52 0-1.04.2-1.43.59L10.3 9.45l-7.72 7.72c-.78.78-.78 2.05 0 2.83L4 21.41c.39.39.9.59 1.41.59.51 0 1.02-.2 1.41-.59l7.78-7.78 2.81-2.81c.8-.78.8-2.07 0-2.86zM5.41 20L4 18.59l7.72-7.72 1.47 1.35L5.41 20z\"/>\n",
              "  </svg>\n",
              "      </button>\n",
              "      \n",
              "  <style>\n",
              "    .colab-df-container {\n",
              "      display:flex;\n",
              "      flex-wrap:wrap;\n",
              "      gap: 12px;\n",
              "    }\n",
              "\n",
              "    .colab-df-convert {\n",
              "      background-color: #E8F0FE;\n",
              "      border: none;\n",
              "      border-radius: 50%;\n",
              "      cursor: pointer;\n",
              "      display: none;\n",
              "      fill: #1967D2;\n",
              "      height: 32px;\n",
              "      padding: 0 0 0 0;\n",
              "      width: 32px;\n",
              "    }\n",
              "\n",
              "    .colab-df-convert:hover {\n",
              "      background-color: #E2EBFA;\n",
              "      box-shadow: 0px 1px 2px rgba(60, 64, 67, 0.3), 0px 1px 3px 1px rgba(60, 64, 67, 0.15);\n",
              "      fill: #174EA6;\n",
              "    }\n",
              "\n",
              "    [theme=dark] .colab-df-convert {\n",
              "      background-color: #3B4455;\n",
              "      fill: #D2E3FC;\n",
              "    }\n",
              "\n",
              "    [theme=dark] .colab-df-convert:hover {\n",
              "      background-color: #434B5C;\n",
              "      box-shadow: 0px 1px 3px 1px rgba(0, 0, 0, 0.15);\n",
              "      filter: drop-shadow(0px 1px 2px rgba(0, 0, 0, 0.3));\n",
              "      fill: #FFFFFF;\n",
              "    }\n",
              "  </style>\n",
              "\n",
              "      <script>\n",
              "        const buttonEl =\n",
              "          document.querySelector('#df-202af5d6-9190-4aee-8c47-4318123f7707 button.colab-df-convert');\n",
              "        buttonEl.style.display =\n",
              "          google.colab.kernel.accessAllowed ? 'block' : 'none';\n",
              "\n",
              "        async function convertToInteractive(key) {\n",
              "          const element = document.querySelector('#df-202af5d6-9190-4aee-8c47-4318123f7707');\n",
              "          const dataTable =\n",
              "            await google.colab.kernel.invokeFunction('convertToInteractive',\n",
              "                                                     [key], {});\n",
              "          if (!dataTable) return;\n",
              "\n",
              "          const docLinkHtml = 'Like what you see? Visit the ' +\n",
              "            '<a target=\"_blank\" href=https://colab.research.google.com/notebooks/data_table.ipynb>data table notebook</a>'\n",
              "            + ' to learn more about interactive tables.';\n",
              "          element.innerHTML = '';\n",
              "          dataTable['output_type'] = 'display_data';\n",
              "          await google.colab.output.renderOutput(dataTable, element);\n",
              "          const docLink = document.createElement('div');\n",
              "          docLink.innerHTML = docLinkHtml;\n",
              "          element.appendChild(docLink);\n",
              "        }\n",
              "      </script>\n",
              "    </div>\n",
              "  </div>\n",
              "  "
            ]
          },
          "metadata": {},
          "execution_count": 3
        }
      ],
      "source": [
        "dataset.head()"
      ]
    },
    {
      "cell_type": "code",
      "execution_count": null,
      "metadata": {
        "colab": {
          "base_uri": "https://localhost:8080/"
        },
        "id": "dKQ8ZJk5xe3E",
        "outputId": "2d2eff38-17d6-4c98-c7d0-f440be5c1a03"
      },
      "outputs": [
        {
          "output_type": "stream",
          "name": "stdout",
          "text": [
            "         Date  WS [m/s]  DIR [°]\n",
            "0  1201950000      6.99    37.08\n",
            "1  1201950100      6.73    34.21\n",
            "2  1201950200      6.55    31.23\n",
            "3  1201950300      6.44    29.75\n",
            "4  1201950400      6.33    28.83\n"
          ]
        }
      ],
      "source": [
        "# dataset.dropna()\n",
        "dataset.drop(dataset.columns[[1]], axis = 1, inplace = True)\n",
        "print(dataset.head())"
      ]
    },
    {
      "cell_type": "code",
      "execution_count": null,
      "metadata": {
        "id": "OCwQqZ7sxoOg"
      },
      "outputs": [],
      "source": [
        "# convert series to supervised learning\n",
        "def series_to_supervised(data, n_in=1, n_out=1, dropnan=True):\n",
        "\tn_vars = 1 if type(data) is list else data.shape[1]\n",
        "\tdf = DataFrame(data)\n",
        "\tcols, names = list(), list()\n",
        "\t# input sequence (t-n, ... t-1)\n",
        "\tfor i in range(n_in, 0, -1):\n",
        "\t\tcols.append(df.shift(i))\n",
        "\t\tnames += [('var%d(t-%d)' % (j+1, i)) for j in range(n_vars)]\n",
        "\t# forecast sequence (t, t+1, ... t+n)\n",
        "\tfor i in range(0, n_out):\n",
        "\t\tcols.append(df.shift(-i))\n",
        "\t\tif i == 0:\n",
        "\t\t\tnames += [('var%d(t)' % (j+1)) for j in range(n_vars)]\n",
        "\t\telse:\n",
        "\t\t\tnames += [('var%d(t+%d)' % (j+1, i)) for j in range(n_vars)]\n",
        "\t# put it all together\n",
        "\tagg = concat(cols, axis=1)\n",
        "\tagg.columns = names\n",
        "\t# drop rows with NaN values\n",
        "\tif dropnan:\n",
        "\t\tagg.dropna(inplace=True)\n",
        "\treturn agg"
      ]
    },
    {
      "cell_type": "code",
      "execution_count": null,
      "metadata": {
        "colab": {
          "base_uri": "https://localhost:8080/"
        },
        "id": "w5GqOdnMx0ZB",
        "outputId": "cb5ea848-754a-4f5f-eb2c-0e4c95e8edec"
      },
      "outputs": [
        {
          "output_type": "stream",
          "name": "stdout",
          "text": [
            "\n",
            "[-1.41118727 -1.44509529 -1.48030291 ... -1.39405605 -1.44769451\n",
            " -1.4983793 ]\n"
          ]
        }
      ],
      "source": [
        "#dataset['Day'] = pd.to_datetime(dataset['Day'])\n",
        "dataset = dataset.set_index('Date')\n",
        "values = dataset.values\n",
        "encoder = LabelEncoder()\n",
        "values[:, 1] = encoder.fit_transform(values[:, 1])\n",
        "values = values.astype(float)\n",
        "scaler = StandardScaler()\n",
        "scaled = scaler.fit_transform(values)\n",
        "print()\n",
        "print(scaled[:, 1])"
      ]
    },
    {
      "cell_type": "code",
      "execution_count": null,
      "metadata": {
        "colab": {
          "base_uri": "https://localhost:8080/"
        },
        "id": "SiYDU1lsyU6k",
        "outputId": "f7d2e717-8c76-4484-d988-e20ea17f3058"
      },
      "outputs": [
        {
          "output_type": "stream",
          "name": "stdout",
          "text": [
            "(140000, 6) 140000 (140000,)\n",
            "(140000, 3, 2) (140000,) (35317, 3, 2) (35317,)\n"
          ]
        }
      ],
      "source": [
        "n_input = 3\n",
        "n_features = 2\n",
        "\n",
        "reframed = series_to_supervised(scaled, n_input, 1)\n",
        "#Splitting the dataset\n",
        "values = reframed.values\n",
        "train = values[:140000, :]\n",
        "test = values[140000:, :]\n",
        "\n",
        "n_obs = n_input * n_features\n",
        "train_X, train_y = train[:, :n_obs], train[:, -n_features]\n",
        "test_X, test_y = test[:, :n_obs], test[:, -n_features]\n",
        "print(train_X.shape, len(train_X), train_y.shape)\n",
        "\n",
        "train_X = train_X.reshape((train_X.shape[0], n_input, n_features))\n",
        "test_X = test_X.reshape((test_X.shape[0], n_input, n_features))\n",
        "print(train_X.shape, train_y.shape, test_X.shape, test_y.shape)"
      ]
    },
    {
      "cell_type": "code",
      "execution_count": null,
      "metadata": {
        "colab": {
          "base_uri": "https://localhost:8080/",
          "height": 1000
        },
        "id": "soJXD6dY4aYB",
        "outputId": "37797b5d-f7a3-4c2f-e974-195d92377097"
      },
      "outputs": [
        {
          "output_type": "stream",
          "name": "stdout",
          "text": [
            "Epoch 1/50\n",
            "1945/1945 - 62s - loss: 0.1102 - accuracy: 0.0000e+00 - val_loss: 0.1055 - val_accuracy: 0.0000e+00 - 62s/epoch - 32ms/step\n",
            "Epoch 2/50\n",
            "1945/1945 - 58s - loss: 0.0681 - accuracy: 0.0000e+00 - val_loss: 0.1154 - val_accuracy: 0.0000e+00 - 58s/epoch - 30ms/step\n",
            "Epoch 3/50\n",
            "1945/1945 - 55s - loss: 0.0665 - accuracy: 0.0000e+00 - val_loss: 0.0986 - val_accuracy: 0.0000e+00 - 55s/epoch - 28ms/step\n",
            "Epoch 4/50\n",
            "1945/1945 - 58s - loss: 0.0639 - accuracy: 0.0000e+00 - val_loss: 0.0825 - val_accuracy: 0.0000e+00 - 58s/epoch - 30ms/step\n",
            "Epoch 5/50\n",
            "1945/1945 - 55s - loss: 0.0631 - accuracy: 0.0000e+00 - val_loss: 0.0785 - val_accuracy: 0.0000e+00 - 55s/epoch - 28ms/step\n",
            "Epoch 6/50\n",
            "1945/1945 - 58s - loss: 0.0623 - accuracy: 0.0000e+00 - val_loss: 0.0732 - val_accuracy: 0.0000e+00 - 58s/epoch - 30ms/step\n",
            "Epoch 7/50\n",
            "1945/1945 - 55s - loss: 0.0620 - accuracy: 0.0000e+00 - val_loss: 0.0732 - val_accuracy: 0.0000e+00 - 55s/epoch - 28ms/step\n",
            "Epoch 8/50\n",
            "1945/1945 - 58s - loss: 0.0612 - accuracy: 0.0000e+00 - val_loss: 0.0715 - val_accuracy: 0.0000e+00 - 58s/epoch - 30ms/step\n",
            "Epoch 9/50\n",
            "1945/1945 - 55s - loss: 0.0605 - accuracy: 0.0000e+00 - val_loss: 0.0716 - val_accuracy: 0.0000e+00 - 55s/epoch - 28ms/step\n",
            "Epoch 10/50\n",
            "1945/1945 - 58s - loss: 0.0603 - accuracy: 0.0000e+00 - val_loss: 0.0677 - val_accuracy: 0.0000e+00 - 58s/epoch - 30ms/step\n",
            "Epoch 11/50\n",
            "1945/1945 - 55s - loss: 0.0601 - accuracy: 0.0000e+00 - val_loss: 0.0641 - val_accuracy: 0.0000e+00 - 55s/epoch - 29ms/step\n",
            "Epoch 12/50\n",
            "1945/1945 - 59s - loss: 0.0598 - accuracy: 0.0000e+00 - val_loss: 0.0656 - val_accuracy: 0.0000e+00 - 59s/epoch - 30ms/step\n",
            "Epoch 13/50\n",
            "1945/1945 - 55s - loss: 0.0594 - accuracy: 0.0000e+00 - val_loss: 0.0652 - val_accuracy: 0.0000e+00 - 55s/epoch - 28ms/step\n",
            "Epoch 14/50\n",
            "1945/1945 - 57s - loss: 0.0586 - accuracy: 0.0000e+00 - val_loss: 0.0637 - val_accuracy: 0.0000e+00 - 57s/epoch - 30ms/step\n",
            "Epoch 15/50\n",
            "1945/1945 - 55s - loss: 0.0588 - accuracy: 0.0000e+00 - val_loss: 0.0641 - val_accuracy: 0.0000e+00 - 55s/epoch - 28ms/step\n",
            "Epoch 16/50\n",
            "1945/1945 - 57s - loss: 0.0582 - accuracy: 0.0000e+00 - val_loss: 0.0626 - val_accuracy: 0.0000e+00 - 57s/epoch - 29ms/step\n",
            "Epoch 17/50\n",
            "1945/1945 - 54s - loss: 0.0584 - accuracy: 0.0000e+00 - val_loss: 0.0649 - val_accuracy: 0.0000e+00 - 54s/epoch - 28ms/step\n",
            "Epoch 18/50\n",
            "1945/1945 - 57s - loss: 0.0577 - accuracy: 0.0000e+00 - val_loss: 0.0609 - val_accuracy: 0.0000e+00 - 57s/epoch - 29ms/step\n",
            "Epoch 19/50\n",
            "1945/1945 - 54s - loss: 0.0573 - accuracy: 0.0000e+00 - val_loss: 0.0612 - val_accuracy: 0.0000e+00 - 54s/epoch - 28ms/step\n",
            "Epoch 20/50\n",
            "1945/1945 - 57s - loss: 0.0573 - accuracy: 0.0000e+00 - val_loss: 0.0605 - val_accuracy: 0.0000e+00 - 57s/epoch - 29ms/step\n",
            "Epoch 21/50\n",
            "1945/1945 - 54s - loss: 0.0574 - accuracy: 0.0000e+00 - val_loss: 0.0606 - val_accuracy: 0.0000e+00 - 54s/epoch - 28ms/step\n",
            "Epoch 22/50\n",
            "1945/1945 - 57s - loss: 0.0571 - accuracy: 0.0000e+00 - val_loss: 0.0632 - val_accuracy: 0.0000e+00 - 57s/epoch - 29ms/step\n",
            "Epoch 23/50\n",
            "1945/1945 - 54s - loss: 0.0569 - accuracy: 0.0000e+00 - val_loss: 0.0629 - val_accuracy: 0.0000e+00 - 54s/epoch - 28ms/step\n",
            "Epoch 24/50\n",
            "1945/1945 - 57s - loss: 0.0567 - accuracy: 0.0000e+00 - val_loss: 0.0618 - val_accuracy: 0.0000e+00 - 57s/epoch - 29ms/step\n",
            "Epoch 25/50\n",
            "1945/1945 - 54s - loss: 0.0566 - accuracy: 0.0000e+00 - val_loss: 0.0587 - val_accuracy: 0.0000e+00 - 54s/epoch - 28ms/step\n",
            "Epoch 26/50\n",
            "1945/1945 - 56s - loss: 0.0565 - accuracy: 0.0000e+00 - val_loss: 0.0599 - val_accuracy: 0.0000e+00 - 56s/epoch - 29ms/step\n",
            "Epoch 27/50\n",
            "1945/1945 - 55s - loss: 0.0563 - accuracy: 0.0000e+00 - val_loss: 0.0587 - val_accuracy: 0.0000e+00 - 55s/epoch - 28ms/step\n",
            "Epoch 28/50\n",
            "1945/1945 - 55s - loss: 0.0563 - accuracy: 0.0000e+00 - val_loss: 0.0591 - val_accuracy: 0.0000e+00 - 55s/epoch - 28ms/step\n",
            "Epoch 29/50\n",
            "1945/1945 - 55s - loss: 0.0562 - accuracy: 0.0000e+00 - val_loss: 0.0600 - val_accuracy: 0.0000e+00 - 55s/epoch - 28ms/step\n",
            "Epoch 30/50\n",
            "1945/1945 - 55s - loss: 0.0561 - accuracy: 0.0000e+00 - val_loss: 0.0606 - val_accuracy: 0.0000e+00 - 55s/epoch - 28ms/step\n",
            "Epoch 31/50\n",
            "1945/1945 - 56s - loss: 0.0561 - accuracy: 0.0000e+00 - val_loss: 0.0591 - val_accuracy: 0.0000e+00 - 56s/epoch - 29ms/step\n",
            "Epoch 32/50\n",
            "1945/1945 - 55s - loss: 0.0561 - accuracy: 0.0000e+00 - val_loss: 0.0596 - val_accuracy: 0.0000e+00 - 55s/epoch - 28ms/step\n",
            "Epoch 33/50\n",
            "1945/1945 - 55s - loss: 0.0559 - accuracy: 0.0000e+00 - val_loss: 0.0596 - val_accuracy: 0.0000e+00 - 55s/epoch - 28ms/step\n",
            "Epoch 34/50\n",
            "1945/1945 - 55s - loss: 0.0559 - accuracy: 0.0000e+00 - val_loss: 0.0593 - val_accuracy: 0.0000e+00 - 55s/epoch - 28ms/step\n",
            "Epoch 35/50\n",
            "1945/1945 - 55s - loss: 0.0558 - accuracy: 0.0000e+00 - val_loss: 0.0601 - val_accuracy: 0.0000e+00 - 55s/epoch - 28ms/step\n",
            "Epoch 36/50\n",
            "1945/1945 - 56s - loss: 0.0557 - accuracy: 0.0000e+00 - val_loss: 0.0600 - val_accuracy: 0.0000e+00 - 56s/epoch - 29ms/step\n",
            "Epoch 37/50\n",
            "1945/1945 - 55s - loss: 0.0558 - accuracy: 0.0000e+00 - val_loss: 0.0602 - val_accuracy: 0.0000e+00 - 55s/epoch - 28ms/step\n",
            "Epoch 38/50\n",
            "1945/1945 - 55s - loss: 0.0557 - accuracy: 0.0000e+00 - val_loss: 0.0589 - val_accuracy: 0.0000e+00 - 55s/epoch - 28ms/step\n",
            "Epoch 39/50\n",
            "1945/1945 - 55s - loss: 0.0556 - accuracy: 0.0000e+00 - val_loss: 0.0604 - val_accuracy: 0.0000e+00 - 55s/epoch - 28ms/step\n",
            "Epoch 40/50\n",
            "1945/1945 - 55s - loss: 0.0555 - accuracy: 0.0000e+00 - val_loss: 0.0583 - val_accuracy: 0.0000e+00 - 55s/epoch - 28ms/step\n",
            "Epoch 41/50\n",
            "1945/1945 - 55s - loss: 0.0554 - accuracy: 0.0000e+00 - val_loss: 0.0597 - val_accuracy: 0.0000e+00 - 55s/epoch - 28ms/step\n",
            "Epoch 42/50\n",
            "1945/1945 - 55s - loss: 0.0553 - accuracy: 0.0000e+00 - val_loss: 0.0581 - val_accuracy: 0.0000e+00 - 55s/epoch - 28ms/step\n",
            "Epoch 43/50\n",
            "1945/1945 - 55s - loss: 0.0553 - accuracy: 0.0000e+00 - val_loss: 0.0602 - val_accuracy: 0.0000e+00 - 55s/epoch - 28ms/step\n",
            "Epoch 44/50\n",
            "1945/1945 - 53s - loss: 0.0553 - accuracy: 0.0000e+00 - val_loss: 0.0571 - val_accuracy: 0.0000e+00 - 53s/epoch - 27ms/step\n",
            "Epoch 45/50\n",
            "1945/1945 - 56s - loss: 0.0554 - accuracy: 0.0000e+00 - val_loss: 0.0587 - val_accuracy: 0.0000e+00 - 56s/epoch - 29ms/step\n",
            "Epoch 46/50\n",
            "1945/1945 - 54s - loss: 0.0551 - accuracy: 0.0000e+00 - val_loss: 0.0589 - val_accuracy: 0.0000e+00 - 54s/epoch - 28ms/step\n",
            "Epoch 47/50\n",
            "1945/1945 - 56s - loss: 0.0552 - accuracy: 0.0000e+00 - val_loss: 0.0577 - val_accuracy: 0.0000e+00 - 56s/epoch - 29ms/step\n",
            "Epoch 48/50\n",
            "1945/1945 - 54s - loss: 0.0550 - accuracy: 0.0000e+00 - val_loss: 0.0580 - val_accuracy: 0.0000e+00 - 54s/epoch - 28ms/step\n",
            "Epoch 49/50\n",
            "1945/1945 - 56s - loss: 0.0551 - accuracy: 0.0000e+00 - val_loss: 0.0584 - val_accuracy: 0.0000e+00 - 56s/epoch - 29ms/step\n",
            "Epoch 50/50\n",
            "1945/1945 - 53s - loss: 0.0550 - accuracy: 0.0000e+00 - val_loss: 0.0598 - val_accuracy: 0.0000e+00 - 53s/epoch - 27ms/step\n"
          ]
        },
        {
          "output_type": "display_data",
          "data": {
            "text/plain": [
              "<Figure size 432x288 with 1 Axes>"
            ],
            "image/png": "[encoded data removed]"
          },
          "metadata": {
            "needs_background": "light"
          }
        }
      ],
      "source": [
        "model = Sequential()\n",
        "model.add(Bidirectional(GRU(100, activation='relu', return_sequences=True, input_shape=(n_input, n_features))))\n",
        "model.add(Bidirectional(LSTM(100,activation='relu')))\n",
        "#model.add(Dropout(0.2))\n",
        "model.add(Dense(1))\n",
        "model.compile(loss='mae', optimizer='adam',metrics=['accuracy'])\n",
        "# fit network\n",
        "history = model.fit(train_X, train_y, epochs=50, batch_size=72, validation_data=(test_X, test_y), verbose=2, shuffle=False)\n",
        "# plot history\n",
        "pyplot.plot(history.history['loss'], label='train')\n",
        "pyplot.plot(history.history['val_loss'], label='test')\n",
        "pyplot.legend()\n",
        "pyplot.show()"
      ]
    },
    {
      "cell_type": "code",
      "execution_count": null,
      "metadata": {
        "colab": {
          "base_uri": "https://localhost:8080/"
        },
        "id": "R0kc5WhK5JpJ",
        "outputId": "68184331-b8c3-41e0-aabe-21cbd7c92ca6"
      },
      "outputs": [
        {
          "output_type": "stream",
          "name": "stdout",
          "text": [
            "1104/1104 [==============================] - 7s 6ms/step\n",
            "(35317, 1)\n",
            "35317\n",
            "(35317,)\n"
          ]
        }
      ],
      "source": [
        "yhat = model.predict(test_X)\n",
        "test_X = test_X.reshape((test_X.shape[0], n_input*n_features))\n",
        "print(yhat.shape)\n",
        "print(len(yhat))\n",
        "print(test_y.shape)"
      ]
    },
    {
      "cell_type": "code",
      "execution_count": null,
      "metadata": {
        "colab": {
          "base_uri": "https://localhost:8080/"
        },
        "id": "Xkre04Do5U_i",
        "outputId": "8ef43faa-e869-43df-b992-1e3446ad10b3"
      },
      "outputs": [
        {
          "output_type": "stream",
          "name": "stdout",
          "text": [
            "Test RMSE: 0.084\n"
          ]
        }
      ],
      "source": [
        "rmse = sqrt(mean_squared_error(test_y, yhat))\n",
        "print('Test RMSE: %.3f' % rmse)"
      ]
    },
    {
      "cell_type": "code",
      "execution_count": null,
      "metadata": {
        "id": "xJW5CcWX5aEg"
      },
      "outputs": [],
      "source": [
        "prediction_copies = np.repeat(yhat, scaled.shape[1], axis=-1)\n",
        "#y_pred_future = scaler.inverse_transform(prediction_copies)[:,0]"
      ]
    },
    {
      "cell_type": "code",
      "execution_count": null,
      "metadata": {
        "id": "j49AOIwK5pE3"
      },
      "outputs": [],
      "source": [
        "#inv_yhat = concatenate((prediction_copies, test_X[:, -2:]), axis=1)\n",
        "inv_yhat = scaler.inverse_transform(prediction_copies)\n",
        "inv_yhat = inv_yhat[:,0]"
      ]
    },
    {
      "cell_type": "code",
      "execution_count": null,
      "metadata": {
        "colab": {
          "base_uri": "https://localhost:8080/"
        },
        "id": "jv3W6uqn5srY",
        "outputId": "cacdc03f-a7b2-4945-9e51-fa41f4b3b91d"
      },
      "outputs": [
        {
          "output_type": "stream",
          "name": "stdout",
          "text": [
            "Test MSE: 0.036\n",
            "Test RMSE: 0.190\n",
            "Test MAE: 0.135\n",
            "Test MAPE: 0.030\n"
          ]
        }
      ],
      "source": [
        "test_y = test_y.reshape((len(test_y), 1))\n",
        "#inv_y = concatenate((test_y, test_X[:, -2:]), axis=1)\n",
        "\n",
        "test_copies = np.repeat(test_y, scaled.shape[1], axis=-1)\n",
        "#y_pred_future = scaler.inverse_transform(prediction_copies)[:,0]\n",
        "\n",
        "inv_y = scaler.inverse_transform(test_copies)\n",
        "inv_y = inv_y[:,0]\n",
        "\n",
        "mse = mean_squared_error(inv_y, inv_yhat)\n",
        "print('Test MSE: %.3f' % mse)\n",
        "\n",
        "rmse = sqrt(mean_squared_error(inv_y, inv_yhat))\n",
        "print('Test RMSE: %.3f' % rmse)\n",
        "\n",
        "from sklearn.metrics import mean_absolute_error,mean_absolute_percentage_error\n",
        "mae = mean_absolute_error(inv_y, inv_yhat)\n",
        "print('Test MAE: %.3f' % mae)\n",
        "\n",
        "mape = mean_absolute_percentage_error(inv_y, inv_yhat)\n",
        "print('Test MAPE: %.3f' % mape)"
      ]
    },
    {
      "cell_type": "code",
      "execution_count": null,
      "metadata": {
        "colab": {
          "base_uri": "https://localhost:8080/"
        },
        "id": "vczPOPni50bM",
        "outputId": "e7fd965d-110c-4b55-8d26-155c29700daf"
      },
      "outputs": [
        {
          "output_type": "stream",
          "name": "stdout",
          "text": [
            "[7.594567  7.561203  7.558387  ... 5.719864  6.064406  6.2337394]\n"
          ]
        }
      ],
      "source": [
        "#print(yhat)\n",
        "print(inv_yhat)"
      ]
    },
    {
      "cell_type": "code",
      "execution_count": null,
      "metadata": {
        "colab": {
          "base_uri": "https://localhost:8080/",
          "height": 421
        },
        "id": "zZ6SdnjA54dS",
        "outputId": "a71b2b61-e8ce-4dbc-f677-b11c75269010"
      },
      "outputs": [
        {
          "output_type": "display_data",
          "data": {
            "text/plain": [
              "<Figure size 720x432 with 1 Axes>"
            ],
            "image/png": "[encoded data removed]"
          },
          "metadata": {
            "needs_background": "light"
          }
        },
        {
          "output_type": "display_data",
          "data": {
            "text/plain": [
              "<Figure size 432x288 with 0 Axes>"
            ]
          },
          "metadata": {}
        }
      ],
      "source": [
        "from matplotlib import pyplot as plt\n",
        "\n",
        "#Plot the graph between actual vs predicted values\n",
        "plt.figure(figsize=(10,6))\n",
        "plt.plot(inv_y[:300], color= 'green',label = 'ACTUAL WIND SPEED ')\n",
        "plt.plot(inv_yhat[:300] , color = 'red',label = 'FORECASTED WIND SPEED ')\n",
        "plt.title(\"WIND SPEED FORECASTING USING Bi-GRU-Bi-LSTM\")\n",
        "plt.xlabel(\"TIME INTERVAL (1 DAY)\")\n",
        "plt.ylabel(\"SPEED OF WIND(KMPH)\")\n",
        "plt.legend()\n",
        "plt.show()\n",
        "plt.savefig('graph.png')"
      ]
    },
    {
      "cell_type": "code",
      "execution_count": null,
      "metadata": {
        "id": "w8-znAaP6YCW"
      },
      "outputs": [],
      "source": []
    },
    {
      "cell_type": "code",
      "execution_count": null,
      "metadata": {
        "colab": {
          "base_uri": "https://localhost:8080/"
        },
        "id": "8g1zDvtU6Z16",
        "outputId": "4436de96-37a6-499a-832e-655e098bfc6c"
      },
      "outputs": [
        {
          "output_type": "stream",
          "name": "stdout",
          "text": [
            "[7.6  7.64 7.6  7.53 7.54 7.42 6.97 6.69 6.65 6.61 6.64 6.58 6.41 6.22\n",
            " 6.05 5.95 5.84 5.8  5.81 5.84 5.79 5.49 6.01 6.67 7.01 7.13 7.19 7.2\n",
            " 6.99 6.5  6.08 5.98 6.17 6.37 6.39 6.29 6.2  6.13 6.12 6.15 6.14 6.19\n",
            " 6.26 6.27 6.22 5.97 6.53 7.88 8.73 9.18 9.45 9.57 9.34 8.82 8.   7.68\n",
            " 7.69 7.71 7.7  7.66 7.58 7.5  7.41 7.38 7.13 6.89 6.76 6.62 6.37 5.83\n",
            " 6.44 7.24 7.71 7.88 7.98 8.15 8.22 8.12 7.74 7.72 7.91 8.06 8.18 8.17\n",
            " 8.04 7.92 7.8  7.73 7.54 7.34 7.13 6.91 6.63 6.21 6.51 7.   6.93 6.88\n",
            " 6.88 6.94 7.01 6.91 6.73 6.66 6.63 6.65 6.77 6.94 7.14 7.22 7.28 7.35\n",
            " 7.43 7.51 7.59 7.69 7.74 7.72 7.83 8.06 8.34 8.58 8.66 8.58 8.27 8.06\n",
            " 8.06 8.18 8.28 8.27 8.3  8.3  8.14 7.9  7.57 7.28 6.92 6.66 6.54 6.51\n",
            " 6.56 6.53 7.06 7.15 6.98 6.99 6.94 6.93 6.83 6.64 6.51 6.55 6.57 6.54\n",
            " 6.46 6.27 5.91 5.72 5.67 5.52 5.37 5.35 5.28 5.18 5.08 4.87 4.73 4.87\n",
            " 5.02 4.99 4.88 4.85 4.55 4.18 3.98 3.92 3.83 3.61 3.33 2.89 2.38 2.1\n",
            " 1.84 1.53 1.39 1.43 1.5  1.43 1.13 0.98 1.03 0.86 0.74 0.49 0.35 0.57\n",
            " 1.1  1.61 2.1  2.53 2.85 3.06 2.86 2.48 2.08 1.7  1.25 0.84 0.8  0.97\n",
            " 1.3  1.77 2.29 2.71 3.12 3.57 4.1  4.62 5.03 5.13 5.03 4.89 4.59 4.56\n",
            " 4.73 4.89 5.24 5.45 5.54 5.59 5.52 5.37 4.95 4.53 4.23 3.9  3.66 3.59\n",
            " 3.89 4.18 4.16 4.16 4.22 4.26 4.18 4.02 3.52 3.01 2.81 2.8  3.32 3.97\n",
            " 4.52 5.01 5.35 5.46 5.09 4.62 4.19 3.72 3.33 3.15 3.76 4.23 4.45 4.57\n",
            " 4.57 4.47 4.19 3.85 3.63 3.69 3.8  3.97 4.22 4.4  4.36 4.25 4.08 3.96\n",
            " 3.93 3.95 4.06 4.24 4.28 4.09 4.27 4.32 4.1  3.85 3.66 3.46 3.31 3.26\n",
            " 3.33 3.54 3.68 3.6  3.49 3.32 3.05 2.74 2.36 1.94 1.54 1.17 0.9  0.76\n",
            " 0.68 0.91 1.49 1.63 1.74 1.74 1.55 1.23 1.16 1.68 2.7  3.46 4.23 4.45\n",
            " 4.36 4.19 3.96 3.73 3.53 3.22 2.78 2.39 2.16 2.02 1.84 1.58 1.39 1.23\n",
            " 1.56 2.22 2.77 3.11 3.3  3.5  3.4  3.16 2.99 3.01 3.03 3.02 2.92 2.97\n",
            " 3.13 3.35 3.56 3.68 3.72 3.72 3.68 3.48 3.79 4.14 4.53 4.84 5.   5.04\n",
            " 5.12 5.14 4.98 4.87 5.01 5.19 5.31 5.37 5.4  5.41 5.36 5.29 4.93 4.57\n",
            " 4.3  4.1  3.97 3.66 4.15 4.84 5.31 5.64 5.88 6.1  6.39 6.51 6.01 5.92\n",
            " 6.05 6.13 6.16 6.17 6.18 6.14 6.01 5.85 5.76 5.84 5.98 6.11 6.1  5.65\n",
            " 6.38 7.16 7.49 7.65 7.75 7.8  7.74 7.58 6.98 6.79 6.83 6.8  6.56 6.29\n",
            " 6.01 5.81 5.6  5.39 5.2  4.96 4.76 4.66 4.62 4.23 4.16 4.36 4.6  4.81\n",
            " 4.86 4.92 4.9  4.86 4.68 4.62 4.76 4.85 5.19 5.44 5.52 5.47 5.44 5.4\n",
            " 5.17 4.96 4.87 4.7  4.45 3.98 4.06 4.01 3.84 3.65 3.48 3.34 3.15 3.03\n",
            " 2.96 2.97 3.1  3.32 3.73 4.05 4.22 4.34 4.42 4.44 4.24 4.04 3.89 3.79\n",
            " 3.7  3.52 4.15 4.79 5.05 5.04 5.01 4.98 4.9  4.91 4.86 4.89 5.04 5.19\n",
            " 5.39 5.53 5.53 5.44 5.27 5.05 4.58 4.16 3.89 3.75 3.64 3.51 4.06 4.39\n",
            " 4.53 4.6  4.67 4.78 5.09 5.37 5.3  5.26 5.37 5.51 5.63 5.61 5.52 5.37\n",
            " 5.16 4.97 4.63 4.3  4.14 4.09 4.08 3.88 4.29 5.27 6.07 6.65 7.17 7.65\n",
            " 7.29 6.94 6.72 6.77 7.   7.3  7.53 7.61 7.62 7.6  7.53 7.45 7.17 6.94\n",
            " 6.78 6.63 6.45 6.06 6.35 6.99 7.25 7.24 7.18 7.1  6.87 6.41 5.97 6.\n",
            " 6.23 6.45 6.5  6.38 6.15 5.99 5.86 5.83 5.71 5.61 5.65 5.63 5.48 5.21\n",
            " 5.74 6.51 6.97 7.15 7.21 7.36 7.36 7.27 6.78 6.59 6.74 6.94 7.16 7.25\n",
            " 7.24 7.23 7.24 7.22 6.62 5.86 5.22 4.7  4.28 3.97 4.6  5.3  5.65 5.77\n",
            " 5.72 5.62 5.76 5.92 5.71 5.72 5.85 6.09 6.23 6.25 6.26 6.23 6.23 6.28\n",
            " 6.22 6.15 6.17 6.24 6.25 6.13 6.64 7.51 8.27 8.61 8.74 8.69 8.5  7.79\n",
            " 7.01 6.78 6.87 7.09 7.21 7.15 6.98 6.75 6.53 6.35 6.12 5.96 5.89 5.82\n",
            " 5.74 5.39 5.72 6.72 7.46 7.88 8.12 8.27 8.25 8.05 7.43 7.3  7.37 7.37\n",
            " 7.36 7.39 7.28 7.06 6.88 6.77 6.57 6.43 6.36 6.33 6.28 6.02 6.63 7.62\n",
            " 8.27 8.63 8.81 8.95 8.79 8.43 8.05 8.01 8.1  8.28 8.47 8.49 8.22 7.86\n",
            " 7.52 7.18 6.84 6.61 6.56 6.54 6.45 6.14 6.3  6.63 6.77 6.76 6.66 6.51\n",
            " 6.44 6.07 5.6  5.57 5.77 5.92 6.   6.15 6.34 6.56 6.83 7.11 7.21 7.1\n",
            " 6.98 6.89 6.8  6.58 6.51 7.12 7.75 8.07 8.13 8.07]\n"
          ]
        }
      ],
      "source": [
        "print(inv_y[:724])"
      ]
    },
    {
      "cell_type": "code",
      "execution_count": null,
      "metadata": {
        "colab": {
          "base_uri": "https://localhost:8080/"
        },
        "id": "ltyFdied6Gaf",
        "outputId": "31a9a246-f36c-4135-adc6-45e2c48b05d6"
      },
      "outputs": [
        {
          "output_type": "stream",
          "name": "stdout",
          "text": [
            "[7.594567   7.561203   7.558387   7.480582   7.4145923  7.543907\n",
            " 7.2281055  6.5546336  6.5289345  6.7090416  6.545505   6.668821\n",
            " 6.4493327  6.187699   6.0239043  5.8999634  5.8822412  5.7165413\n",
            " 5.7747917  5.81626    5.835244   5.682051   5.2416763  6.4485006\n",
            " 6.9866915  7.110242   7.1070476  7.15963    7.130051   6.6944175\n",
            " 5.970385   5.661437   6.03003    6.366634   6.4915257  6.275993\n",
            " 6.090028   6.090307   6.046807   6.107423   6.157935   6.077863\n",
            " 6.224632   6.292585   6.2158837  6.1120653  5.74879    7.0369473\n",
            " 8.302821   9.002671   9.286196   9.496872   9.4743     8.880113\n",
            " 8.245862   7.253147   7.635685   7.804078   7.6731997  7.6159296\n",
            " 7.559562   7.4497137  7.3989415  7.298061   7.3626018  6.8296924\n",
            " 6.6772738  6.7095895  6.480878   6.137371   5.4765425  7.0235624\n",
            " 7.5769534  7.805117   7.858045   7.9738817  8.244518   8.171474\n",
            " 7.9027853  7.3120823  7.8206596  8.069987   8.089737   8.178413\n",
            " 8.024571   7.820106   7.7824206  7.662164   7.659481   7.295771\n",
            " 7.16456    6.947671   6.7074857  6.350829   5.855007   6.9915695\n",
            " 7.302827   6.7270627  6.8222404  6.8797636  6.9826913  7.028554\n",
            " 6.71622    6.514099   6.6380177  6.6081634  6.6646295  6.8942513\n",
            " 7.07864    7.284357   7.1862407  7.261481   7.3562827  7.4447374\n",
            " 7.5199075  7.5958123  7.7171545  7.6994705  7.6170263  7.9114747\n",
            " 8.20968    8.492177   8.64243    8.515615   8.250474   7.756682\n",
            " 7.796188   7.9641433  8.098244   8.084515   7.9278703  8.03663\n",
            " 7.9628353  7.626694   7.3981752  7.0389066  6.8757463  6.4564753\n",
            " 6.384552   6.4156904  6.4451184  6.5566278  6.3658805  7.6064005\n",
            " 6.66352    6.39688    6.899201   6.662972   6.7712     6.5162807\n",
            " 6.2555842  6.305213   6.601141   6.5156536  6.419813   6.3025994\n",
            " 6.000644   5.4517508  5.6186357  5.673326   5.233873   5.162798\n",
            " 5.2959986  5.088996   4.986137   4.9124265  4.5463295  4.5436425\n",
            " 4.980729   5.0540214  4.7722015  4.6422     4.7633758  4.0522504\n",
            " 3.7235816  3.8095133  3.8471887  3.6481137  3.2808309  2.9740155\n",
            " 2.363872   1.8721151  1.9902844  1.6307054  1.2497392  1.3698077\n",
            " 1.513773   1.5016499  1.2261353  0.70591354 0.8978138  1.101644\n",
            " 0.60499716 0.6477995  0.32613757 0.55467653 0.83719826 1.4932747\n",
            " 2.0397742  2.488468   2.8507926  3.0169919  3.1201699  2.44267\n",
            " 2.0068507  1.6963115  1.3705578  0.87622786 0.7105913  0.9195452\n",
            " 1.1478009  1.6331992  2.1944087  2.7047064  2.98345    3.419983\n",
            " 3.9197798  4.5173516  5.0006285  5.304652   5.1059227  4.8830495\n",
            " 4.718557   4.2869587  4.6273217  4.9204345  4.9953322  5.5718355\n",
            " 5.5517697  5.541611   5.58438    5.3765836  5.177458   4.568899\n",
            " 4.209337   4.015266   3.6177347  3.4733377  3.5714684  4.1901603\n",
            " 4.373773   4.0802693  4.1521535  4.2808247  4.267771   4.031179\n",
            " 3.7995734  2.8897593  2.5359204  2.798144   2.8851213  3.9255698\n",
            " 4.5421133  4.9255404  5.3842616  5.5705504  5.4413238  4.6658816\n",
            " 4.1772738  3.8332255  3.298938   3.0296226  3.0902243  4.4492908\n",
            " 4.544024   4.510221   4.6063724  4.5048323  4.325935   3.8761663\n",
            " 3.5203698  3.4748127  3.835246   3.8793142  4.1219544  4.446756\n",
            " 4.493299   4.22985    4.108108   3.8942494  3.8612564  3.9234428\n",
            " 3.964491   4.162086   4.3835278  4.2490354  3.8749893  4.490417\n",
            " 4.305853   3.851721   3.612262   3.5086663  3.268882   3.1857924\n",
            " 3.2442424  3.4247692  3.7548487  3.706547   3.3596642  3.296729\n",
            " 3.0622265  2.6976101  2.4019423  1.9668703  1.5555253  1.2321348\n",
            " 0.9098568  0.810822   0.7499814  0.6719737  1.2999144  1.998663\n",
            " 1.5582819  1.8015208  1.6753936  1.2956548  0.9150729  1.2568069\n",
            " 2.3643544  3.6655092  4.03834    4.837428   4.3569813  4.1150165\n",
            " 3.931208   3.658235   3.4574647  3.2942445  2.8444693  2.2981877\n",
            " 2.0601537  2.0357952  1.9344921  1.6534343  1.3113475  1.3015995\n",
            " 1.2537684  2.097565   2.8304946  3.1841557  3.2751281  3.3506565\n",
            " 3.6380177  3.1387737  2.8215191  2.8241093  3.0660381  2.9736264\n",
            " 2.9308145  2.7723727  3.071723   3.3083682  3.5558143  3.716102\n",
            " 3.7150447  3.6891384  3.6705709  3.597238   3.2401133  4.149583\n",
            " 4.4044337  4.835096   5.046301   5.0664997  5.011219   5.186248\n",
            " 5.1128974  4.786921   4.765597   5.18532    5.3407173  5.363781\n",
            " 5.3711     5.38589    5.3810725  5.2585073  5.184893   4.5708976\n",
            " 4.28302    4.0978594  3.9412057  3.8649209  3.3544953  4.6240773\n",
            " 5.3068895  5.5717106  5.8338914  6.004257   6.2333126  6.6181464\n",
            " 6.4827294  5.643466   6.0388465  6.2038918  6.134123   6.120002\n",
            " 6.1328487  6.1561894  6.051821   5.831015   5.676207   5.686935\n",
            " 5.9572477  6.073952   6.1749854  6.0064583  5.3469477  6.922559\n",
            " 7.482543   7.5262837  7.6524806  7.7536154  7.769337   7.5961385\n",
            " 7.368586   6.501644   6.8544393  6.961112   6.699597   6.258722\n",
            " 6.02136    5.7510595  5.6783667  5.393827   5.1988645  5.0308075\n",
            " 4.7505245  4.594645   4.5962634  4.5855064  3.9207897  4.204034\n",
            " 4.569502   4.7690496  4.944932   4.828957   4.948618   4.8298855\n",
            " 4.7915797  4.468445   4.5986543  4.924917   4.8782763  5.5288463\n",
            " 5.597019   5.4999533  5.3417583  5.3818455  5.320526   4.898857\n",
            " 4.7708654  4.819886   4.5244827  4.2188396  3.5484035  4.280457\n",
            " 3.9259336  3.6441557  3.45091    3.3068628  3.1942208  2.9070196\n",
            " 2.9185083  2.9067326  3.010671   3.2630672  3.5357795  4.124632\n",
            " 4.2457466  4.2686987  4.396853   4.44836    4.4100103  4.0030303\n",
            " 3.853712   3.7622538  3.6979656  3.5956557  3.3096478  4.731339\n",
            " 5.219501   5.1030526  4.945842   4.955252   4.9263144  4.786472\n",
            " 4.9261465  4.7712364  4.918209   5.1912856  5.293029   5.551489\n",
            " 5.6058736  5.451351   5.289973   5.056416   4.8055243  4.1281223\n",
            " 3.826398   3.7198892  3.666296   3.5316951  3.36747    4.624441\n",
            " 4.558597   4.5511575  4.6094747  4.707888   4.8649015  5.4017496\n",
            " 5.582421   5.133001   5.2018476  5.485552   5.607687   5.6951585\n",
            " 5.5001454  5.3611817  5.166897   4.9063253  4.780705   4.296226\n",
            " 4.025842   4.066786   4.071928   4.0613894  3.6451926  4.6934047\n",
            " 5.9337673  6.4872236  6.9428287  7.4480605  7.900556   6.925148\n",
            " 6.637791   6.588468   6.912076   7.2137465  7.5031223  7.609989\n",
            " 7.5532894  7.538018   7.5157733  7.401816   7.344642   6.8474965\n",
            " 6.7778707  6.6708655  6.488897   6.283784   5.744749   6.798618\n",
            " 7.381633   7.261567   7.0956936  7.0644827  6.988906   6.581563\n",
            " 5.942541   5.5513477  6.2019167  6.4375772  6.5794716  6.4153924\n",
            " 6.1615424  5.867675   5.8756003  5.741023   5.8222036  5.542275\n",
            " 5.518961   5.717945   5.5551176  5.320516   5.0025578  6.103954\n",
            " 6.89536    7.1143136  7.1246715  7.161767   7.4636655  7.2491994\n",
            " 7.1131444  6.3606305  6.582704   6.986228   7.093669   7.3139987\n",
            " 7.2182117  7.135867   7.176774   7.2086062  7.1365366  6.165125\n",
            " 5.2166715  4.731634   4.298539   3.9635894  3.7414868  5.152599\n",
            " 5.7599297  5.7997227  5.7743     5.597722   5.4690003  5.91333\n",
            " 6.004514   5.4131465  5.794416   5.9377995  6.274911   6.259584\n",
            " 6.15546    6.2189083  6.1421266  6.2088375  6.3113823  6.080485\n",
            " 6.0585513  6.19944    6.2880216  6.1950893  5.964253   7.117784\n",
            " 7.889996   8.572759   8.67776    8.657039   8.404596   8.118083\n",
            " 7.119706   6.2782016  6.859018   7.053441   7.258652   7.189661\n",
            " 6.9730906  6.755182   6.508435   6.3249383  6.2090425  5.8767\n",
            " 5.851397   5.853793   5.733653   5.634523   5.1210575  6.069447\n",
            " 7.196582   7.721113   7.981076   8.19547    8.289912   8.093256\n",
            " 7.755238   6.8852644  7.4301205  7.4808054  7.284153   7.296635\n",
            " 7.3827376  7.0872755  6.8122354  6.7446775  6.6906466  6.3330846\n",
            " 6.3443947  6.308685   6.2806563  6.188017   5.806082   7.1692605\n",
            " 7.967868   8.4314375  8.708017   8.8167     8.94793    8.448098\n",
            " 7.993867   7.712335   8.07756    8.154635   8.370422   8.532552\n",
            " 8.351212   7.8138905  7.5087733  7.2507424  6.916351   6.5474024\n",
            " 6.4815364  6.60994    6.4868174  6.3108506  5.89268    6.597223\n",
            " 6.8519692  6.730792   6.636907   6.5020475  6.3421297  6.408583\n",
            " 5.747738   5.2014666  5.7164216  5.973298   5.983686   5.9954534\n",
            " 6.2622633  6.480638   6.7147393  7.012315   7.2735376  7.190848\n",
            " 6.90743    6.845031   6.795142   6.689608   6.340385   6.520676\n",
            " 7.6351957  7.9375997  8.101576   8.0472975 ]\n"
          ]
        }
      ],
      "source": [
        "x=print(inv_yhat[:724])"
      ]
    },
    {
      "cell_type": "code",
      "execution_count": null,
      "metadata": {
        "colab": {
          "base_uri": "https://localhost:8080/"
        },
        "id": "NxukD2d_7Ydk",
        "outputId": "990ff796-b5b0-4b9a-da6d-26b2d322b93e"
      },
      "outputs": [
        {
          "output_type": "execute_result",
          "data": {
            "text/plain": [
              "<_io.TextIOWrapper name='M_BiGRU_Bi-LSTM.csv' mode='r' encoding='UTF-8'>"
            ]
          },
          "metadata": {},
          "execution_count": 18
        }
      ],
      "source": [
        "from numpy import savetxt\n",
        "savetxt('M_BiGRU_Bi-LSTM.csv', inv_yhat, delimiter='/n')\n",
        "open(\"M_BiGRU_Bi-LSTM.csv\")"
      ]
    },
    {
      "cell_type": "code",
      "execution_count": null,
      "metadata": {
        "colab": {
          "base_uri": "https://localhost:8080/"
        },
        "id": "SXR9q1uB8dfD",
        "outputId": "ace920c5-6225-4c2d-b1fe-4ff78955e45f"
      },
      "outputs": [
        {
          "output_type": "execute_result",
          "data": {
            "text/plain": [
              "<_io.TextIOWrapper name='newa.csv' mode='r' encoding='UTF-8'>"
            ]
          },
          "metadata": {},
          "execution_count": 19
        }
      ],
      "source": [
        "from numpy import savetxt\n",
        "savetxt('newa.csv', inv_y, delimiter='/n')\n",
        "open(\"newa.csv\")"
      ]
    }
  ],
  "metadata": {
    "colab": {
      "collapsed_sections": [],
      "name": "manjari-biGRU-biLSTM1.ipynb",
      "provenance": []
    },
    "kernelspec": {
      "display_name": "Python 3",
      "name": "python3"
    },
    "language_info": {
      "name": "python"
    }
  },
  "nbformat": 4,
  "nbformat_minor": 0
}