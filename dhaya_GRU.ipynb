{
  "nbformat": 4,
  "nbformat_minor": 0,
  "metadata": {
    "colab": {
      "name": "manjari_GRU.ipynb",
      "provenance": [],
      "collapsed_sections": []
    },
    "kernelspec": {
      "name": "python3",
      "display_name": "Python 3"
    },
    "language_info": {
      "name": "python"
    }
  },
  "cells": [
    {
      "cell_type": "code",
      "execution_count": null,
      "metadata": {
        "id": "__ZAs5qkvQPW"
      },
      "outputs": [],
      "source": [
        "from math import sqrt\n",
        "from numpy import concatenate\n",
        "from matplotlib import pyplot\n",
        "from pandas import read_csv\n",
        "from pandas import DataFrame\n",
        "from sklearn.preprocessing import StandardScaler\n",
        "from pandas import concat\n",
        "from sklearn.preprocessing import MinMaxScaler\n",
        "from sklearn.preprocessing import LabelEncoder\n",
        "from sklearn.metrics import mean_squared_error\n",
        "from keras.models import Sequential\n",
        "from keras.layers import Dense\n",
        "from keras.layers import LSTM,Bidirectional,GRU\n",
        "import numpy as np"
      ]
    },
    {
      "cell_type": "code",
      "source": [
        "# load dataset\n",
        "dataset = read_csv('DATASETAIML3.csv', header=0, index_col=0)\n",
        "values = dataset.values"
      ],
      "metadata": {
        "id": "d9gvWUY9v_Fy"
      },
      "execution_count": null,
      "outputs": []
    },
    {
      "cell_type": "code",
      "source": [
        "dataset.head()"
      ],
      "metadata": {
        "colab": {
          "base_uri": "https://localhost:8080/",
          "height": 206
        },
        "id": "kaLxyb38wzHO",
        "outputId": "63049f98-aef2-42cc-940a-f5a0439122d4"
      },
      "execution_count": null,
      "outputs": [
        {
          "output_type": "execute_result",
          "data": {
            "text/plain": [
              "         Date  Time  WS [m/s]  DIR [°]\n",
              "0  1201950000     0      6.99    37.08\n",
              "1  1201950100   100      6.73    34.21\n",
              "2  1201950200   200      6.55    31.23\n",
              "3  1201950300   300      6.44    29.75\n",
              "4  1201950400   400      6.33    28.83"
            ],
            "text/html": [
              "\n",
              "  <div id=\"df-aa40c2f1-8344-4377-ae23-2241f25a82dd\">\n",
              "    <div class=\"colab-df-container\">\n",
              "      <div>\n",
              "<style scoped>\n",
              "    .dataframe tbody tr th:only-of-type {\n",
              "        vertical-align: middle;\n",
              "    }\n",
              "\n",
              "    .dataframe tbody tr th {\n",
              "        vertical-align: top;\n",
              "    }\n",
              "\n",
              "    .dataframe thead th {\n",
              "        text-align: right;\n",
              "    }\n",
              "</style>\n",
              "<table border=\"1\" class=\"dataframe\">\n",
              "  <thead>\n",
              "    <tr style=\"text-align: right;\">\n",
              "      <th></th>\n",
              "      <th>Date</th>\n",
              "      <th>Time</th>\n",
              "      <th>WS [m/s]</th>\n",
              "      <th>DIR [°]</th>\n",
              "    </tr>\n",
              "  </thead>\n",
              "  <tbody>\n",
              "    <tr>\n",
              "      <th>0</th>\n",
              "      <td>1201950000</td>\n",
              "      <td>0</td>\n",
              "      <td>6.99</td>\n",
              "      <td>37.08</td>\n",
              "    </tr>\n",
              "    <tr>\n",
              "      <th>1</th>\n",
              "      <td>1201950100</td>\n",
              "      <td>100</td>\n",
              "      <td>6.73</td>\n",
              "      <td>34.21</td>\n",
              "    </tr>\n",
              "    <tr>\n",
              "      <th>2</th>\n",
              "      <td>1201950200</td>\n",
              "      <td>200</td>\n",
              "      <td>6.55</td>\n",
              "      <td>31.23</td>\n",
              "    </tr>\n",
              "    <tr>\n",
              "      <th>3</th>\n",
              "      <td>1201950300</td>\n",
              "      <td>300</td>\n",
              "      <td>6.44</td>\n",
              "      <td>29.75</td>\n",
              "    </tr>\n",
              "    <tr>\n",
              "      <th>4</th>\n",
              "      <td>1201950400</td>\n",
              "      <td>400</td>\n",
              "      <td>6.33</td>\n",
              "      <td>28.83</td>\n",
              "    </tr>\n",
              "  </tbody>\n",
              "</table>\n",
              "</div>\n",
              "      <button class=\"colab-df-convert\" onclick=\"convertToInteractive('df-aa40c2f1-8344-4377-ae23-2241f25a82dd')\"\n",
              "              title=\"Convert this dataframe to an interactive table.\"\n",
              "              style=\"display:none;\">\n",
              "        \n",
              "  <svg xmlns=\"http://www.w3.org/2000/svg\" height=\"24px\"viewBox=\"0 0 24 24\"\n",
              "       width=\"24px\">\n",
              "    <path d=\"M0 0h24v24H0V0z\" fill=\"none\"/>\n",
              "    <path d=\"M18.56 5.44l.94 2.06.94-2.06 2.06-.94-2.06-.94-.94-2.06-.94 2.06-2.06.94zm-11 1L8.5 8.5l.94-2.06 2.06-.94-2.06-.94L8.5 2.5l-.94 2.06-2.06.94zm10 10l.94 2.06.94-2.06 2.06-.94-2.06-.94-.94-2.06-.94 2.06-2.06.94z\"/><path d=\"M17.41 7.96l-1.37-1.37c-.4-.4-.92-.59-1.43-.59-.52 0-1.04.2-1.43.59L10.3 9.45l-7.72 7.72c-.78.78-.78 2.05 0 2.83L4 21.41c.39.39.9.59 1.41.59.51 0 1.02-.2 1.41-.59l7.78-7.78 2.81-2.81c.8-.78.8-2.07 0-2.86zM5.41 20L4 18.59l7.72-7.72 1.47 1.35L5.41 20z\"/>\n",
              "  </svg>\n",
              "      </button>\n",
              "      \n",
              "  <style>\n",
              "    .colab-df-container {\n",
              "      display:flex;\n",
              "      flex-wrap:wrap;\n",
              "      gap: 12px;\n",
              "    }\n",
              "\n",
              "    .colab-df-convert {\n",
              "      background-color: #E8F0FE;\n",
              "      border: none;\n",
              "      border-radius: 50%;\n",
              "      cursor: pointer;\n",
              "      display: none;\n",
              "      fill: #1967D2;\n",
              "      height: 32px;\n",
              "      padding: 0 0 0 0;\n",
              "      width: 32px;\n",
              "    }\n",
              "\n",
              "    .colab-df-convert:hover {\n",
              "      background-color: #E2EBFA;\n",
              "      box-shadow: 0px 1px 2px rgba(60, 64, 67, 0.3), 0px 1px 3px 1px rgba(60, 64, 67, 0.15);\n",
              "      fill: #174EA6;\n",
              "    }\n",
              "\n",
              "    [theme=dark] .colab-df-convert {\n",
              "      background-color: #3B4455;\n",
              "      fill: #D2E3FC;\n",
              "    }\n",
              "\n",
              "    [theme=dark] .colab-df-convert:hover {\n",
              "      background-color: #434B5C;\n",
              "      box-shadow: 0px 1px 3px 1px rgba(0, 0, 0, 0.15);\n",
              "      filter: drop-shadow(0px 1px 2px rgba(0, 0, 0, 0.3));\n",
              "      fill: #FFFFFF;\n",
              "    }\n",
              "  </style>\n",
              "\n",
              "      <script>\n",
              "        const buttonEl =\n",
              "          document.querySelector('#df-aa40c2f1-8344-4377-ae23-2241f25a82dd button.colab-df-convert');\n",
              "        buttonEl.style.display =\n",
              "          google.colab.kernel.accessAllowed ? 'block' : 'none';\n",
              "\n",
              "        async function convertToInteractive(key) {\n",
              "          const element = document.querySelector('#df-aa40c2f1-8344-4377-ae23-2241f25a82dd');\n",
              "          const dataTable =\n",
              "            await google.colab.kernel.invokeFunction('convertToInteractive',\n",
              "                                                     [key], {});\n",
              "          if (!dataTable) return;\n",
              "\n",
              "          const docLinkHtml = 'Like what you see? Visit the ' +\n",
              "            '<a target=\"_blank\" href=https://colab.research.google.com/notebooks/data_table.ipynb>data table notebook</a>'\n",
              "            + ' to learn more about interactive tables.';\n",
              "          element.innerHTML = '';\n",
              "          dataTable['output_type'] = 'display_data';\n",
              "          await google.colab.output.renderOutput(dataTable, element);\n",
              "          const docLink = document.createElement('div');\n",
              "          docLink.innerHTML = docLinkHtml;\n",
              "          element.appendChild(docLink);\n",
              "        }\n",
              "      </script>\n",
              "    </div>\n",
              "  </div>\n",
              "  "
            ]
          },
          "metadata": {},
          "execution_count": 3
        }
      ]
    },
    {
      "cell_type": "code",
      "source": [
        "# dataset.dropna()\n",
        "dataset.drop(dataset.columns[[1]], axis = 1, inplace = True)\n",
        "print(dataset.head())"
      ],
      "metadata": {
        "colab": {
          "base_uri": "https://localhost:8080/"
        },
        "id": "dKQ8ZJk5xe3E",
        "outputId": "75597b1b-2ef0-4c01-c971-b31cd89790fe"
      },
      "execution_count": null,
      "outputs": [
        {
          "output_type": "stream",
          "name": "stdout",
          "text": [
            "         Date  WS [m/s]  DIR [°]\n",
            "0  1201950000      6.99    37.08\n",
            "1  1201950100      6.73    34.21\n",
            "2  1201950200      6.55    31.23\n",
            "3  1201950300      6.44    29.75\n",
            "4  1201950400      6.33    28.83\n"
          ]
        }
      ]
    },
    {
      "cell_type": "code",
      "source": [
        "# convert series to supervised learning\n",
        "def series_to_supervised(data, n_in=1, n_out=1, dropnan=True):\n",
        "\tn_vars = 1 if type(data) is list else data.shape[1]\n",
        "\tdf = DataFrame(data)\n",
        "\tcols, names = list(), list()\n",
        "\t# input sequence (t-n, ... t-1)\n",
        "\tfor i in range(n_in, 0, -1):\n",
        "\t\tcols.append(df.shift(i))\n",
        "\t\tnames += [('var%d(t-%d)' % (j+1, i)) for j in range(n_vars)]\n",
        "\t# forecast sequence (t, t+1, ... t+n)\n",
        "\tfor i in range(0, n_out):\n",
        "\t\tcols.append(df.shift(-i))\n",
        "\t\tif i == 0:\n",
        "\t\t\tnames += [('var%d(t)' % (j+1)) for j in range(n_vars)]\n",
        "\t\telse:\n",
        "\t\t\tnames += [('var%d(t+%d)' % (j+1, i)) for j in range(n_vars)]\n",
        "\t# put it all together\n",
        "\tagg = concat(cols, axis=1)\n",
        "\tagg.columns = names\n",
        "\t# drop rows with NaN values\n",
        "\tif dropnan:\n",
        "\t\tagg.dropna(inplace=True)\n",
        "\treturn agg"
      ],
      "metadata": {
        "id": "OCwQqZ7sxoOg"
      },
      "execution_count": null,
      "outputs": []
    },
    {
      "cell_type": "code",
      "source": [
        "#dataset['Day'] = pd.to_datetime(dataset['Day'])\n",
        "dataset = dataset.set_index('Date')\n",
        "values = dataset.values\n",
        "encoder = LabelEncoder()\n",
        "values[:, 1] = encoder.fit_transform(values[:, 1])\n",
        "values = values.astype(float)\n",
        "scaler = StandardScaler()\n",
        "scaled = scaler.fit_transform(values)\n",
        "print()\n",
        "print(scaled[:, 1])"
      ],
      "metadata": {
        "colab": {
          "base_uri": "https://localhost:8080/"
        },
        "id": "w5GqOdnMx0ZB",
        "outputId": "08fddda2-d549-4ce8-a873-bc3ab7ad4d1c"
      },
      "execution_count": null,
      "outputs": [
        {
          "output_type": "stream",
          "name": "stdout",
          "text": [
            "\n",
            "[-1.41118727 -1.44509529 -1.48030291 ... -1.39405605 -1.44769451\n",
            " -1.4983793 ]\n"
          ]
        }
      ]
    },
    {
      "cell_type": "code",
      "source": [
        "n_input = 3\n",
        "n_features = 2\n",
        "\n",
        "reframed = series_to_supervised(scaled, n_input, 1)\n",
        "#Splitting the dataset\n",
        "values = reframed.values\n",
        "train = values[:140000, :]\n",
        "test = values[140000:, :]\n",
        "\n",
        "n_obs = n_input * n_features\n",
        "train_X, train_y = train[:, :n_obs], train[:, -n_features]\n",
        "test_X, test_y = test[:, :n_obs], test[:, -n_features]\n",
        "print(train_X.shape, len(train_X), train_y.shape)\n",
        "\n",
        "train_X = train_X.reshape((train_X.shape[0], n_input, n_features))\n",
        "test_X = test_X.reshape((test_X.shape[0], n_input, n_features))\n",
        "print(train_X.shape, train_y.shape, test_X.shape, test_y.shape)"
      ],
      "metadata": {
        "colab": {
          "base_uri": "https://localhost:8080/"
        },
        "id": "SiYDU1lsyU6k",
        "outputId": "25fc87ce-8891-406f-ea2f-91ebdade6629"
      },
      "execution_count": null,
      "outputs": [
        {
          "output_type": "stream",
          "name": "stdout",
          "text": [
            "(140000, 6) 140000 (140000,)\n",
            "(140000, 3, 2) (140000,) (35317, 3, 2) (35317,)\n"
          ]
        }
      ]
    },
    {
      "cell_type": "code",
      "source": [
        "model = Sequential()\n",
        "model.add(GRU(75,return_sequences=True,input_shape=(n_input,n_features )))\n",
        "model.add(GRU(units=30, return_sequences=True))\n",
        "model.add(GRU(units=30))\n",
        "#model.add(Dropout(0.4))\n",
        "model.add(Dense(units=1))\n",
        "\n",
        "model.compile(loss='mae', optimizer='adam')\n",
        "# fit network\n",
        "history = model.fit(train_X, train_y, epochs=50, batch_size=72, validation_data=(test_X, test_y), verbose=2, shuffle=False)\n",
        "# plot history\n",
        "pyplot.plot(history.history['loss'], label='train')\n",
        "pyplot.plot(history.history['val_loss'], label='test')\n",
        "pyplot.legend()\n",
        "pyplot.show()"
      ],
      "metadata": {
        "colab": {
          "base_uri": "https://localhost:8080/",
          "height": 1000
        },
        "id": "soJXD6dY4aYB",
        "outputId": "1adbea7c-492b-4d4f-ae89-b9e8ba05741f"
      },
      "execution_count": null,
      "outputs": [
        {
          "output_type": "stream",
          "name": "stdout",
          "text": [
            "Epoch 1/50\n",
            "1945/1945 - 30s - loss: 0.1016 - val_loss: 0.0742 - 30s/epoch - 15ms/step\n",
            "Epoch 2/50\n",
            "1945/1945 - 21s - loss: 0.0658 - val_loss: 0.0868 - 21s/epoch - 11ms/step\n",
            "Epoch 3/50\n",
            "1945/1945 - 17s - loss: 0.0646 - val_loss: 0.0993 - 17s/epoch - 9ms/step\n",
            "Epoch 4/50\n",
            "1945/1945 - 17s - loss: 0.0642 - val_loss: 0.0843 - 17s/epoch - 9ms/step\n",
            "Epoch 5/50\n",
            "1945/1945 - 17s - loss: 0.0634 - val_loss: 0.0810 - 17s/epoch - 9ms/step\n",
            "Epoch 6/50\n",
            "1945/1945 - 17s - loss: 0.0629 - val_loss: 0.0836 - 17s/epoch - 9ms/step\n",
            "Epoch 7/50\n",
            "1945/1945 - 18s - loss: 0.0625 - val_loss: 0.0824 - 18s/epoch - 9ms/step\n",
            "Epoch 8/50\n",
            "1945/1945 - 17s - loss: 0.0625 - val_loss: 0.0932 - 17s/epoch - 9ms/step\n",
            "Epoch 9/50\n",
            "1945/1945 - 17s - loss: 0.0621 - val_loss: 0.0818 - 17s/epoch - 9ms/step\n",
            "Epoch 10/50\n",
            "1945/1945 - 17s - loss: 0.0616 - val_loss: 0.0891 - 17s/epoch - 9ms/step\n",
            "Epoch 11/50\n",
            "1945/1945 - 17s - loss: 0.0612 - val_loss: 0.0812 - 17s/epoch - 9ms/step\n",
            "Epoch 12/50\n",
            "1945/1945 - 17s - loss: 0.0608 - val_loss: 0.0763 - 17s/epoch - 9ms/step\n",
            "Epoch 13/50\n",
            "1945/1945 - 17s - loss: 0.0605 - val_loss: 0.0803 - 17s/epoch - 9ms/step\n",
            "Epoch 14/50\n",
            "1945/1945 - 17s - loss: 0.0602 - val_loss: 0.0716 - 17s/epoch - 9ms/step\n",
            "Epoch 15/50\n",
            "1945/1945 - 17s - loss: 0.0596 - val_loss: 0.0681 - 17s/epoch - 9ms/step\n",
            "Epoch 16/50\n",
            "1945/1945 - 17s - loss: 0.0595 - val_loss: 0.0661 - 17s/epoch - 9ms/step\n",
            "Epoch 17/50\n",
            "1945/1945 - 17s - loss: 0.0594 - val_loss: 0.0673 - 17s/epoch - 9ms/step\n",
            "Epoch 18/50\n",
            "1945/1945 - 17s - loss: 0.0591 - val_loss: 0.0665 - 17s/epoch - 9ms/step\n",
            "Epoch 19/50\n",
            "1945/1945 - 17s - loss: 0.0587 - val_loss: 0.0624 - 17s/epoch - 9ms/step\n",
            "Epoch 20/50\n",
            "1945/1945 - 17s - loss: 0.0585 - val_loss: 0.0631 - 17s/epoch - 9ms/step\n",
            "Epoch 21/50\n",
            "1945/1945 - 17s - loss: 0.0581 - val_loss: 0.0676 - 17s/epoch - 9ms/step\n",
            "Epoch 22/50\n",
            "1945/1945 - 17s - loss: 0.0581 - val_loss: 0.0620 - 17s/epoch - 9ms/step\n",
            "Epoch 23/50\n",
            "1945/1945 - 18s - loss: 0.0579 - val_loss: 0.0642 - 18s/epoch - 9ms/step\n",
            "Epoch 24/50\n",
            "1945/1945 - 18s - loss: 0.0584 - val_loss: 0.0642 - 18s/epoch - 9ms/step\n",
            "Epoch 25/50\n",
            "1945/1945 - 18s - loss: 0.0577 - val_loss: 0.0605 - 18s/epoch - 9ms/step\n",
            "Epoch 26/50\n",
            "1945/1945 - 18s - loss: 0.0579 - val_loss: 0.0621 - 18s/epoch - 9ms/step\n",
            "Epoch 27/50\n",
            "1945/1945 - 18s - loss: 0.0580 - val_loss: 0.0619 - 18s/epoch - 9ms/step\n",
            "Epoch 28/50\n",
            "1945/1945 - 18s - loss: 0.0579 - val_loss: 0.0624 - 18s/epoch - 9ms/step\n",
            "Epoch 29/50\n",
            "1945/1945 - 18s - loss: 0.0578 - val_loss: 0.0613 - 18s/epoch - 9ms/step\n",
            "Epoch 30/50\n",
            "1945/1945 - 18s - loss: 0.0577 - val_loss: 0.0608 - 18s/epoch - 9ms/step\n",
            "Epoch 31/50\n",
            "1945/1945 - 17s - loss: 0.0573 - val_loss: 0.0592 - 17s/epoch - 9ms/step\n",
            "Epoch 32/50\n",
            "1945/1945 - 17s - loss: 0.0572 - val_loss: 0.0608 - 17s/epoch - 9ms/step\n",
            "Epoch 33/50\n",
            "1945/1945 - 17s - loss: 0.0574 - val_loss: 0.0604 - 17s/epoch - 9ms/step\n",
            "Epoch 34/50\n",
            "1945/1945 - 17s - loss: 0.0574 - val_loss: 0.0620 - 17s/epoch - 9ms/step\n",
            "Epoch 35/50\n",
            "1945/1945 - 17s - loss: 0.0573 - val_loss: 0.0592 - 17s/epoch - 9ms/step\n",
            "Epoch 36/50\n",
            "1945/1945 - 18s - loss: 0.0569 - val_loss: 0.0583 - 18s/epoch - 9ms/step\n",
            "Epoch 37/50\n",
            "1945/1945 - 17s - loss: 0.0571 - val_loss: 0.0602 - 17s/epoch - 9ms/step\n",
            "Epoch 38/50\n",
            "1945/1945 - 17s - loss: 0.0571 - val_loss: 0.0614 - 17s/epoch - 9ms/step\n",
            "Epoch 39/50\n",
            "1945/1945 - 17s - loss: 0.0571 - val_loss: 0.0611 - 17s/epoch - 9ms/step\n",
            "Epoch 40/50\n",
            "1945/1945 - 17s - loss: 0.0569 - val_loss: 0.0603 - 17s/epoch - 9ms/step\n",
            "Epoch 41/50\n",
            "1945/1945 - 17s - loss: 0.0566 - val_loss: 0.0600 - 17s/epoch - 9ms/step\n",
            "Epoch 42/50\n",
            "1945/1945 - 17s - loss: 0.0570 - val_loss: 0.0607 - 17s/epoch - 9ms/step\n",
            "Epoch 43/50\n",
            "1945/1945 - 17s - loss: 0.0568 - val_loss: 0.0605 - 17s/epoch - 9ms/step\n",
            "Epoch 44/50\n",
            "1945/1945 - 18s - loss: 0.0568 - val_loss: 0.0608 - 18s/epoch - 9ms/step\n",
            "Epoch 45/50\n",
            "1945/1945 - 17s - loss: 0.0566 - val_loss: 0.0612 - 17s/epoch - 9ms/step\n",
            "Epoch 46/50\n",
            "1945/1945 - 17s - loss: 0.0567 - val_loss: 0.0602 - 17s/epoch - 9ms/step\n",
            "Epoch 47/50\n",
            "1945/1945 - 17s - loss: 0.0566 - val_loss: 0.0606 - 17s/epoch - 9ms/step\n",
            "Epoch 48/50\n",
            "1945/1945 - 17s - loss: 0.0564 - val_loss: 0.0594 - 17s/epoch - 9ms/step\n",
            "Epoch 49/50\n",
            "1945/1945 - 17s - loss: 0.0564 - val_loss: 0.0590 - 17s/epoch - 9ms/step\n",
            "Epoch 50/50\n",
            "1945/1945 - 17s - loss: 0.0563 - val_loss: 0.0589 - 17s/epoch - 9ms/step\n"
          ]
        },
        {
          "output_type": "display_data",
          "data": {
            "text/plain": [
              "<Figure size 432x288 with 1 Axes>"
            ],
            "image/png": "[encoded data removed]"
          },
          "metadata": {
            "needs_background": "light"
          }
        }
      ]
    },
    {
      "cell_type": "code",
      "source": [
        "yhat = model.predict(test_X)\n",
        "test_X = test_X.reshape((test_X.shape[0], n_input*n_features))\n",
        "print(yhat.shape)\n",
        "print(len(yhat))\n",
        "print(test_y.shape)"
      ],
      "metadata": {
        "colab": {
          "base_uri": "https://localhost:8080/"
        },
        "id": "R0kc5WhK5JpJ",
        "outputId": "e3befaee-9127-495a-8c52-ca49fd9bc376"
      },
      "execution_count": null,
      "outputs": [
        {
          "output_type": "stream",
          "name": "stdout",
          "text": [
            "(35317, 1)\n",
            "35317\n",
            "(35317,)\n"
          ]
        }
      ]
    },
    {
      "cell_type": "code",
      "source": [
        "rmse = sqrt(mean_squared_error(test_y, yhat))\n",
        "print('Test RMSE: %.3f' % rmse)"
      ],
      "metadata": {
        "colab": {
          "base_uri": "https://localhost:8080/"
        },
        "id": "Xkre04Do5U_i",
        "outputId": "0ddd600c-1bdc-462c-a958-777d2d1b0fe6"
      },
      "execution_count": null,
      "outputs": [
        {
          "output_type": "stream",
          "name": "stdout",
          "text": [
            "Test RMSE: 0.084\n"
          ]
        }
      ]
    },
    {
      "cell_type": "code",
      "source": [
        "prediction_copies = np.repeat(yhat, scaled.shape[1], axis=-1)\n",
        "#y_pred_future = scaler.inverse_transform(prediction_copies)[:,0]"
      ],
      "metadata": {
        "id": "xJW5CcWX5aEg"
      },
      "execution_count": null,
      "outputs": []
    },
    {
      "cell_type": "code",
      "source": [
        "#inv_yhat = concatenate((prediction_copies, test_X[:, -2:]), axis=1)\n",
        "inv_yhat = scaler.inverse_transform(prediction_copies)\n",
        "inv_yhat = inv_yhat[:,0]"
      ],
      "metadata": {
        "id": "j49AOIwK5pE3"
      },
      "execution_count": null,
      "outputs": []
    },
    {
      "cell_type": "code",
      "source": [
        "test_y = test_y.reshape((len(test_y), 1))\n",
        "#inv_y = concatenate((test_y, test_X[:, -2:]), axis=1)\n",
        "\n",
        "test_copies = np.repeat(test_y, scaled.shape[1], axis=-1)\n",
        "#y_pred_future = scaler.inverse_transform(prediction_copies)[:,0]\n",
        "\n",
        "inv_y = scaler.inverse_transform(test_copies)\n",
        "inv_y = inv_y[:,0]\n",
        "\n",
        "mse = mean_squared_error(inv_y, inv_yhat)\n",
        "print('Test MSE: %.3f' % mse)\n",
        "\n",
        "rmse = sqrt(mean_squared_error(inv_y, inv_yhat))\n",
        "print('Test RMSE: %.3f' % rmse)\n",
        "\n",
        "from sklearn.metrics import mean_absolute_error,mean_absolute_percentage_error\n",
        "mae = mean_absolute_error(inv_y, inv_yhat)\n",
        "print('Test MAE: %.3f' % mae)\n",
        "\n",
        "mape = mean_absolute_percentage_error(inv_y, inv_yhat)\n",
        "print('Test MAPE: %.3f' % mape)"
      ],
      "metadata": {
        "colab": {
          "base_uri": "https://localhost:8080/"
        },
        "id": "jv3W6uqn5srY",
        "outputId": "55666141-fd2b-44a4-913b-478505307555"
      },
      "execution_count": null,
      "outputs": [
        {
          "output_type": "stream",
          "name": "stdout",
          "text": [
            "Test MSE: 0.036\n",
            "Test RMSE: 0.189\n",
            "Test MAE: 0.133\n",
            "Test MAPE: 0.031\n"
          ]
        }
      ]
    },
    {
      "cell_type": "code",
      "source": [
        "#print(yhat)\n",
        "print(inv_yhat)"
      ],
      "metadata": {
        "colab": {
          "base_uri": "https://localhost:8080/"
        },
        "id": "vczPOPni50bM",
        "outputId": "be9383e3-65e6-471a-a96a-27045ff1fecf"
      },
      "execution_count": null,
      "outputs": [
        {
          "output_type": "stream",
          "name": "stdout",
          "text": [
            "[7.6422305 7.5997787 7.608736  ... 5.689145  6.0223393 6.192825 ]\n"
          ]
        }
      ]
    },
    {
      "cell_type": "code",
      "source": [
        "from matplotlib import pyplot as plt\n",
        "\n",
        "#Plot the graph between actual vs predicted values\n",
        "plt.figure(figsize=(10,6))\n",
        "plt.plot(inv_y[:300], color= 'green',label = 'ACTUAL WIND SPEED ')\n",
        "plt.plot(inv_yhat[:300] , color = 'red',label = 'FORECASTED WIND SPEED ')\n",
        "plt.title(\"WIND SPEED FORECASTING USING GRU\")\n",
        "plt.xlabel(\"TIME INTERVAL (1 HOUR)\")\n",
        "plt.ylabel(\"SPEED OF WIND(KMPH)\")\n",
        "plt.legend()\n",
        "plt.show()\n",
        "plt.savefig('graph.png')"
      ],
      "metadata": {
        "colab": {
          "base_uri": "https://localhost:8080/",
          "height": 421
        },
        "id": "zZ6SdnjA54dS",
        "outputId": "b8f506c6-1103-402e-932b-ff7c25d052be"
      },
      "execution_count": null,
      "outputs": [
        {
          "output_type": "display_data",
          "data": {
            "text/plain": [
              "<Figure size 720x432 with 1 Axes>"
            ],
            "image/png": "[encoded data removed]"
          },
          "metadata": {
            "needs_background": "light"
          }
        },
        {
          "output_type": "display_data",
          "data": {
            "text/plain": [
              "<Figure size 432x288 with 0 Axes>"
            ]
          },
          "metadata": {}
        }
      ]
    },
    {
      "cell_type": "code",
      "source": [],
      "metadata": {
        "id": "w8-znAaP6YCW"
      },
      "execution_count": null,
      "outputs": []
    },
    {
      "cell_type": "code",
      "source": [
        "print(inv_y[:724])"
      ],
      "metadata": {
        "colab": {
          "base_uri": "https://localhost:8080/"
        },
        "id": "8g1zDvtU6Z16",
        "outputId": "7177d25c-3a4e-49cd-a588-b897fb9578ab"
      },
      "execution_count": null,
      "outputs": [
        {
          "output_type": "stream",
          "name": "stdout",
          "text": [
            "[7.6  7.64 7.6  7.53 7.54 7.42 6.97 6.69 6.65 6.61 6.64 6.58 6.41 6.22\n",
            " 6.05 5.95 5.84 5.8  5.81 5.84 5.79 5.49 6.01 6.67 7.01 7.13 7.19 7.2\n",
            " 6.99 6.5  6.08 5.98 6.17 6.37 6.39 6.29 6.2  6.13 6.12 6.15 6.14 6.19\n",
            " 6.26 6.27 6.22 5.97 6.53 7.88 8.73 9.18 9.45 9.57 9.34 8.82 8.   7.68\n",
            " 7.69 7.71 7.7  7.66 7.58 7.5  7.41 7.38 7.13 6.89 6.76 6.62 6.37 5.83\n",
            " 6.44 7.24 7.71 7.88 7.98 8.15 8.22 8.12 7.74 7.72 7.91 8.06 8.18 8.17\n",
            " 8.04 7.92 7.8  7.73 7.54 7.34 7.13 6.91 6.63 6.21 6.51 7.   6.93 6.88\n",
            " 6.88 6.94 7.01 6.91 6.73 6.66 6.63 6.65 6.77 6.94 7.14 7.22 7.28 7.35\n",
            " 7.43 7.51 7.59 7.69 7.74 7.72 7.83 8.06 8.34 8.58 8.66 8.58 8.27 8.06\n",
            " 8.06 8.18 8.28 8.27 8.3  8.3  8.14 7.9  7.57 7.28 6.92 6.66 6.54 6.51\n",
            " 6.56 6.53 7.06 7.15 6.98 6.99 6.94 6.93 6.83 6.64 6.51 6.55 6.57 6.54\n",
            " 6.46 6.27 5.91 5.72 5.67 5.52 5.37 5.35 5.28 5.18 5.08 4.87 4.73 4.87\n",
            " 5.02 4.99 4.88 4.85 4.55 4.18 3.98 3.92 3.83 3.61 3.33 2.89 2.38 2.1\n",
            " 1.84 1.53 1.39 1.43 1.5  1.43 1.13 0.98 1.03 0.86 0.74 0.49 0.35 0.57\n",
            " 1.1  1.61 2.1  2.53 2.85 3.06 2.86 2.48 2.08 1.7  1.25 0.84 0.8  0.97\n",
            " 1.3  1.77 2.29 2.71 3.12 3.57 4.1  4.62 5.03 5.13 5.03 4.89 4.59 4.56\n",
            " 4.73 4.89 5.24 5.45 5.54 5.59 5.52 5.37 4.95 4.53 4.23 3.9  3.66 3.59\n",
            " 3.89 4.18 4.16 4.16 4.22 4.26 4.18 4.02 3.52 3.01 2.81 2.8  3.32 3.97\n",
            " 4.52 5.01 5.35 5.46 5.09 4.62 4.19 3.72 3.33 3.15 3.76 4.23 4.45 4.57\n",
            " 4.57 4.47 4.19 3.85 3.63 3.69 3.8  3.97 4.22 4.4  4.36 4.25 4.08 3.96\n",
            " 3.93 3.95 4.06 4.24 4.28 4.09 4.27 4.32 4.1  3.85 3.66 3.46 3.31 3.26\n",
            " 3.33 3.54 3.68 3.6  3.49 3.32 3.05 2.74 2.36 1.94 1.54 1.17 0.9  0.76\n",
            " 0.68 0.91 1.49 1.63 1.74 1.74 1.55 1.23 1.16 1.68 2.7  3.46 4.23 4.45\n",
            " 4.36 4.19 3.96 3.73 3.53 3.22 2.78 2.39 2.16 2.02 1.84 1.58 1.39 1.23\n",
            " 1.56 2.22 2.77 3.11 3.3  3.5  3.4  3.16 2.99 3.01 3.03 3.02 2.92 2.97\n",
            " 3.13 3.35 3.56 3.68 3.72 3.72 3.68 3.48 3.79 4.14 4.53 4.84 5.   5.04\n",
            " 5.12 5.14 4.98 4.87 5.01 5.19 5.31 5.37 5.4  5.41 5.36 5.29 4.93 4.57\n",
            " 4.3  4.1  3.97 3.66 4.15 4.84 5.31 5.64 5.88 6.1  6.39 6.51 6.01 5.92\n",
            " 6.05 6.13 6.16 6.17 6.18 6.14 6.01 5.85 5.76 5.84 5.98 6.11 6.1  5.65\n",
            " 6.38 7.16 7.49 7.65 7.75 7.8  7.74 7.58 6.98 6.79 6.83 6.8  6.56 6.29\n",
            " 6.01 5.81 5.6  5.39 5.2  4.96 4.76 4.66 4.62 4.23 4.16 4.36 4.6  4.81\n",
            " 4.86 4.92 4.9  4.86 4.68 4.62 4.76 4.85 5.19 5.44 5.52 5.47 5.44 5.4\n",
            " 5.17 4.96 4.87 4.7  4.45 3.98 4.06 4.01 3.84 3.65 3.48 3.34 3.15 3.03\n",
            " 2.96 2.97 3.1  3.32 3.73 4.05 4.22 4.34 4.42 4.44 4.24 4.04 3.89 3.79\n",
            " 3.7  3.52 4.15 4.79 5.05 5.04 5.01 4.98 4.9  4.91 4.86 4.89 5.04 5.19\n",
            " 5.39 5.53 5.53 5.44 5.27 5.05 4.58 4.16 3.89 3.75 3.64 3.51 4.06 4.39\n",
            " 4.53 4.6  4.67 4.78 5.09 5.37 5.3  5.26 5.37 5.51 5.63 5.61 5.52 5.37\n",
            " 5.16 4.97 4.63 4.3  4.14 4.09 4.08 3.88 4.29 5.27 6.07 6.65 7.17 7.65\n",
            " 7.29 6.94 6.72 6.77 7.   7.3  7.53 7.61 7.62 7.6  7.53 7.45 7.17 6.94\n",
            " 6.78 6.63 6.45 6.06 6.35 6.99 7.25 7.24 7.18 7.1  6.87 6.41 5.97 6.\n",
            " 6.23 6.45 6.5  6.38 6.15 5.99 5.86 5.83 5.71 5.61 5.65 5.63 5.48 5.21\n",
            " 5.74 6.51 6.97 7.15 7.21 7.36 7.36 7.27 6.78 6.59 6.74 6.94 7.16 7.25\n",
            " 7.24 7.23 7.24 7.22 6.62 5.86 5.22 4.7  4.28 3.97 4.6  5.3  5.65 5.77\n",
            " 5.72 5.62 5.76 5.92 5.71 5.72 5.85 6.09 6.23 6.25 6.26 6.23 6.23 6.28\n",
            " 6.22 6.15 6.17 6.24 6.25 6.13 6.64 7.51 8.27 8.61 8.74 8.69 8.5  7.79\n",
            " 7.01 6.78 6.87 7.09 7.21 7.15 6.98 6.75 6.53 6.35 6.12 5.96 5.89 5.82\n",
            " 5.74 5.39 5.72 6.72 7.46 7.88 8.12 8.27 8.25 8.05 7.43 7.3  7.37 7.37\n",
            " 7.36 7.39 7.28 7.06 6.88 6.77 6.57 6.43 6.36 6.33 6.28 6.02 6.63 7.62\n",
            " 8.27 8.63 8.81 8.95 8.79 8.43 8.05 8.01 8.1  8.28 8.47 8.49 8.22 7.86\n",
            " 7.52 7.18 6.84 6.61 6.56 6.54 6.45 6.14 6.3  6.63 6.77 6.76 6.66 6.51\n",
            " 6.44 6.07 5.6  5.57 5.77 5.92 6.   6.15 6.34 6.56 6.83 7.11 7.21 7.1\n",
            " 6.98 6.89 6.8  6.58 6.51 7.12 7.75 8.07 8.13 8.07]\n"
          ]
        }
      ]
    },
    {
      "cell_type": "code",
      "source": [
        "x=print(inv_yhat[:724])"
      ],
      "metadata": {
        "colab": {
          "base_uri": "https://localhost:8080/"
        },
        "id": "ltyFdied6Gaf",
        "outputId": "7cab9e42-1683-43aa-d63d-793bf12379d5"
      },
      "execution_count": null,
      "outputs": [
        {
          "output_type": "stream",
          "name": "stdout",
          "text": [
            "[7.6422305  7.5997787  7.608736   7.540771   7.4640465  7.567119\n",
            " 7.2823806  6.4868007  6.4900794  6.676915   6.5395317  6.650616\n",
            " 6.4643946  6.2035856  6.031224   5.893248   5.8649416  5.7170196\n",
            " 5.7528667  5.78571    5.816034   5.684127   5.1674466  6.4956107\n",
            " 6.99906    7.097016   7.12555    7.199877   7.1704354  6.707454\n",
            " 5.9372654  5.678793   5.9847817  6.386079   6.4682226  6.2881427\n",
            " 6.116912   6.0863767  6.0394206  6.092027   6.142667   6.0776567\n",
            " 6.2028594  6.269599   6.2151575  6.1271915  5.695495   7.063726\n",
            " 8.463758   9.0139475  9.35985    9.575452   9.609734   9.117978\n",
            " 8.392472   7.318459   7.5981946  7.795829   7.7132893  7.667709\n",
            " 7.6073895  7.496714   7.4295325  7.3288107  7.3643208  6.870266\n",
            " 6.7111983  6.6971416  6.501617   6.1400685  5.3317885  7.0972342\n",
            " 7.5655017  7.8448043  7.8947496  8.018061   8.272179   8.236658\n",
            " 8.004898   7.3722916  7.8135886  8.086847   8.135482   8.23845\n",
            " 8.115825   7.906501   7.8298655  7.707069   7.6881433  7.3592105\n",
            " 7.1835046  6.963525   6.732752   6.3859353  5.8237233  6.958483\n",
            " 7.285941   6.7060246  6.832543   6.878133   6.9786077  7.0358095\n",
            " 6.748205   6.5339317  6.6188364  6.5910335  6.649646   6.855792\n",
            " 7.0419087  7.255959   7.2128797  7.2939677  7.382111   7.470029\n",
            " 7.5495214  7.6306295  7.7502193  7.7462     7.6728835  7.9368796\n",
            " 8.240996   8.531891   8.723477   8.664939   8.453535   7.94382\n",
            " 7.894044   8.0819025  8.25081    8.282201   8.15019    8.236619\n",
            " 8.181887   7.856207   7.5825067  7.1698685  6.9474416  6.478303\n",
            " 6.37238    6.4038897  6.43812    6.55029    6.3732667  7.6354475\n",
            " 6.8632407  6.513749   6.8595705  6.6479306  6.718233   6.48533\n",
            " 6.2430134  6.246245   6.474536   6.372312   6.302317   6.2161837\n",
            " 5.947877   5.46801    5.583318   5.627459   5.24522    5.1488647\n",
            " 5.300487   5.0678744  4.9688044  4.894894   4.541942   4.5747623\n",
            " 5.065595   5.0062375  4.722593   4.617991   4.754213   4.0453787\n",
            " 3.726568   3.8137126  3.848161   3.6373234  3.2693565  2.9857502\n",
            " 2.3813076  1.8703814  1.97017    1.610188   1.2306571  1.3429213\n",
            " 1.4981713  1.4774418  1.2080598  0.7383895  0.8926325  1.0806046\n",
            " 0.6204505  0.661839   0.42280248 0.60781336 0.765295   1.5057774\n",
            " 1.9864941  2.4841874  2.8489451  3.0444639  3.1442034  2.4837735\n",
            " 2.0364993  1.7161479  1.3898029  0.87921286 0.6633034  0.9545474\n",
            " 1.1704831  1.593245   2.1634796  2.7177255  2.9990737  3.4152522\n",
            " 3.9028282  4.494721   4.9606414  5.2519045  5.0869336  4.86575\n",
            " 4.734796   4.2779346  4.5931225  4.8907943  4.9814105  5.523173\n",
            " 5.5272436  5.525822   5.5679774  5.385325   5.189321   4.5200067\n",
            " 4.1807375  4.0173893  3.6332548  3.4982986  3.5698962  4.1591854\n",
            " 4.336677   4.0127773  4.1384454  4.2658367  4.26959    4.0497646\n",
            " 3.824958   2.9428854  2.5495195  2.792623   2.8642526  3.9420588\n",
            " 4.54843    4.9075327  5.352678   5.5344214  5.430812   4.6126328\n",
            " 4.151895   3.8159678  3.301472   3.0342546  3.0828516  4.4434566\n",
            " 4.528976   4.510523   4.6094756  4.5089803  4.334645   3.8847349\n",
            " 3.5302749  3.4775789  3.8317595  3.8876324  4.111297   4.435267\n",
            " 4.499742   4.2315392  4.113204   3.9004357  3.8597434  3.9145708\n",
            " 3.9583957  4.1448364  4.3645773  4.24128    3.8645077  4.454951\n",
            " 4.285028   3.8364756  3.6286926  3.5133584  3.279532   3.1913495\n",
            " 3.2422407  3.420297   3.7587368  3.7193072  3.3652036  3.304728\n",
            " 3.0722382  2.7068512  2.403703   1.9659107  1.5435209  1.2112551\n",
            " 0.91111565 0.79526806 0.76931524 0.7118597  1.2322879  1.9889925\n",
            " 1.6277523  1.8254895  1.7081757  1.3276858  0.9390278  1.218596\n",
            " 2.265104   3.7626462  4.00316    4.812096   4.2501864  4.037184\n",
            " 3.9131846  3.6519861  3.4538116  3.2942815  2.8312705  2.2819328\n",
            " 2.034068   1.9980111  1.8872154  1.6138039  1.3137922  1.2918816\n",
            " 1.1324935  1.9653845  2.8797047  3.2018576  3.298761   3.3669462\n",
            " 3.6435745  3.1490827  2.8488562  2.8354418  3.0799174  3.00257\n",
            " 2.9552076  2.7590647  3.0573573  3.2893553  3.5339348  3.702559\n",
            " 3.7177968  3.6999328  3.6836548  3.613583   3.2534468  4.1340113\n",
            " 4.383019   4.8019342  5.0129085  5.0437107  5.001823   5.151955\n",
            " 5.1001954  4.772731   4.766902   5.159437   5.3029313  5.3448124\n",
            " 5.3563285  5.3709507  5.3684807  5.260218   5.1880817  4.53695\n",
            " 4.259521   4.095398   3.9485729  3.8723488  3.3629043  4.5778704\n",
            " 5.3078675  5.5145106  5.775172   5.96373    6.1890864  6.5520597\n",
            " 6.4983697  5.428858   5.9925537  6.1838326  6.125803   6.1221886\n",
            " 6.129568   6.1474814  6.0538344  5.8422937  5.680085   5.6777096\n",
            " 5.9054575  6.037517   6.13651    6.0037603  5.1783075  7.0489335\n",
            " 7.4781365  7.5378575  7.6851463  7.7860894  7.8095126  7.6617\n",
            " 7.4294906  6.362833   6.7755527  6.920215   6.719475   6.264789\n",
            " 6.0294127  5.7512636  5.652189   5.40116    5.19453    5.026585\n",
            " 4.733119   4.591112   4.5774565  4.5672593  3.8586488  4.1540318\n",
            " 4.505853   4.7265654  4.912354   4.822261   4.935584   4.8300757\n",
            " 4.7914643  4.4664726  4.58249    4.90569    4.877104   5.4935474\n",
            " 5.5655828  5.485969   5.34372    5.379306   5.3211308  4.887504\n",
            " 4.763704   4.8011146  4.519101   4.2140465  3.5481174  4.2449036\n",
            " 3.9037411  3.6440647  3.4669406  3.3212326  3.20396    2.932278\n",
            " 2.9308436  2.8973162  2.9917665  3.2382646  3.5139258  4.1072197\n",
            " 4.244278   4.276152   4.3926005  4.444155   4.4121017  4.0015945\n",
            " 3.8640678  3.7703426  3.7090092  3.6145105  3.337068   4.6864176\n",
            " 5.190884   5.0769     4.9282546  4.942248   4.9190516  4.790904\n",
            " 4.909341   4.7729077  4.905613   5.156659   5.26645    5.513007\n",
            " 5.573904   5.4451413  5.3001456  5.070092   4.8208637  4.099982\n",
            " 3.8128788  3.707473   3.6651368  3.5444238  3.3807666  4.6233397\n",
            " 4.5370336  4.5536656  4.608703   4.6989026  4.8513436  5.361429\n",
            " 5.5425205  5.1031795  5.197168   5.4696884  5.585136   5.6706123\n",
            " 5.496751   5.372456   5.1776257  4.9213033  4.7814856  4.273892\n",
            " 4.010798   4.0446973  4.060921   4.0593476  3.654285   4.675652\n",
            " 5.9409523  6.45679    6.897471   7.4352903  7.918177   6.778232\n",
            " 6.6221576  6.5521336  6.876405   7.188689   7.488884   7.632987\n",
            " 7.5963697  7.586119   7.5594225  7.4482403  7.3746233  6.8846173\n",
            " 6.772122   6.672232   6.505488   6.2875276  5.6773276  6.762679\n",
            " 7.374703   7.28016    7.135367   7.1046834  7.0129995  6.6103334\n",
            " 5.9152446  5.5609145  6.189585   6.4239216  6.5566025  6.4343023\n",
            " 6.1871758  5.8920946  5.856435   5.734004   5.80161    5.552978\n",
            " 5.503462   5.669569   5.5481386  5.296075   4.94976    6.1469345\n",
            " 6.858157   7.087446   7.1503487  7.1928873  7.474985   7.2972665\n",
            " 7.1578074  6.2446966  6.528919   6.9486675  7.058967   7.285593\n",
            " 7.2464795  7.178819   7.203691   7.234082   7.1727953  5.9575286\n",
            " 5.1283216  4.6806903  4.300513   3.9691563  3.7504213  5.0957837\n",
            " 5.7446914  5.7611775  5.75313    5.5857406  5.4802766  5.9242334\n",
            " 5.9960675  5.351275   5.7704263  5.9443736  6.2565527  6.2426443\n",
            " 6.168679   6.215707   6.1458125  6.197051   6.2912793  6.0962205\n",
            " 6.057331   6.177294   6.2627616  6.1960135  5.9661016  7.115006\n",
            " 7.996246   8.637834   8.739548   8.777124   8.595822   8.301346\n",
            " 7.0850105  6.316132   6.7528214  7.0248117  7.2532883  7.221775\n",
            " 7.010885   6.782128   6.518863   6.329439   6.1930404  5.892137\n",
            " 5.833041   5.8335114  5.728759   5.6375318  5.029423   6.0752397\n",
            " 7.2402577  7.7237477  8.020804   8.209788   8.333687   8.188781\n",
            " 7.85923    6.8345227  7.372987   7.471747   7.3286104  7.331605\n",
            " 7.40388    7.1375732  6.844449   6.744354   6.695717   6.371047\n",
            " 6.329504   6.3084025  6.2878094  6.201623   5.7439847  7.164882\n",
            " 8.034538   8.4816475  8.762318   8.878608   9.025162   8.623757\n",
            " 8.1323185  7.7667375  8.080274   8.187648   8.408745   8.5813875\n",
            " 8.4530945  7.956298   7.5724883  7.2723618  6.9192076  6.573656\n",
            " 6.4697113  6.5713177  6.5046844  6.334556   5.827029   6.5391665\n",
            " 6.809489   6.756574   6.675798   6.532508   6.35589    6.3914113\n",
            " 5.6621747  5.16309    5.6846714  5.926167   5.9545417  5.983355\n",
            " 6.2211237  6.422315   6.656045   6.959059   7.232848   7.185687\n",
            " 6.942304   6.879519   6.820921   6.717896   6.3628325  6.495518\n",
            " 7.6045194  8.013865   8.15376    8.096275  ]\n"
          ]
        }
      ]
    },
    {
      "cell_type": "code",
      "source": [
        "from numpy import savetxt\n",
        "savetxt('/content/drive/MyDrive/Research Paper/M_GRU.csv', inv_yhat, delimiter='/n')\n",
        "open(\"M_GRU.csv\")"
      ],
      "metadata": {
        "colab": {
          "base_uri": "https://localhost:8080/",
          "height": 356
        },
        "id": "NxukD2d_7Ydk",
        "outputId": "90ef65be-708e-4d9f-d33f-7edc854da956"
      },
      "execution_count": null,
      "outputs": [
        {
          "output_type": "error",
          "ename": "FileNotFoundError",
          "evalue": "ignored",
          "traceback": [
            "\u001b[0;31m---------------------------------------------------------------------------\u001b[0m",
            "\u001b[0;31mFileNotFoundError\u001b[0m                         Traceback (most recent call last)",
            "\u001b[0;32m<ipython-input-18-af464c474c8c>\u001b[0m in \u001b[0;36m<module>\u001b[0;34m\u001b[0m\n\u001b[1;32m      1\u001b[0m \u001b[0;32mfrom\u001b[0m \u001b[0mnumpy\u001b[0m \u001b[0;32mimport\u001b[0m \u001b[0msavetxt\u001b[0m\u001b[0;34m\u001b[0m\u001b[0;34m\u001b[0m\u001b[0m\n\u001b[0;32m----> 2\u001b[0;31m \u001b[0msavetxt\u001b[0m\u001b[0;34m(\u001b[0m\u001b[0;34m'/content/drive/MyDrive/Research Paper/M_GRU.csv'\u001b[0m\u001b[0;34m,\u001b[0m \u001b[0minv_yhat\u001b[0m\u001b[0;34m,\u001b[0m \u001b[0mdelimiter\u001b[0m\u001b[0;34m=\u001b[0m\u001b[0;34m'/n'\u001b[0m\u001b[0;34m)\u001b[0m\u001b[0;34m\u001b[0m\u001b[0;34m\u001b[0m\u001b[0m\n\u001b[0m\u001b[1;32m      3\u001b[0m \u001b[0mopen\u001b[0m\u001b[0;34m(\u001b[0m\u001b[0;34m\"M_GRU.csv\"\u001b[0m\u001b[0;34m)\u001b[0m\u001b[0;34m\u001b[0m\u001b[0;34m\u001b[0m\u001b[0m\n",
            "\u001b[0;32m<__array_function__ internals>\u001b[0m in \u001b[0;36msavetxt\u001b[0;34m(*args, **kwargs)\u001b[0m\n",
            "\u001b[0;32m/usr/local/lib/python3.7/dist-packages/numpy/lib/npyio.py\u001b[0m in \u001b[0;36msavetxt\u001b[0;34m(fname, X, fmt, delimiter, newline, header, footer, comments, encoding)\u001b[0m\n\u001b[1;32m   1366\u001b[0m     \u001b[0;32mif\u001b[0m \u001b[0m_is_string_like\u001b[0m\u001b[0;34m(\u001b[0m\u001b[0mfname\u001b[0m\u001b[0;34m)\u001b[0m\u001b[0;34m:\u001b[0m\u001b[0;34m\u001b[0m\u001b[0;34m\u001b[0m\u001b[0m\n\u001b[1;32m   1367\u001b[0m         \u001b[0;31m# datasource doesn't support creating a new file ...\u001b[0m\u001b[0;34m\u001b[0m\u001b[0;34m\u001b[0m\u001b[0;34m\u001b[0m\u001b[0m\n\u001b[0;32m-> 1368\u001b[0;31m         \u001b[0mopen\u001b[0m\u001b[0;34m(\u001b[0m\u001b[0mfname\u001b[0m\u001b[0;34m,\u001b[0m \u001b[0;34m'wt'\u001b[0m\u001b[0;34m)\u001b[0m\u001b[0;34m.\u001b[0m\u001b[0mclose\u001b[0m\u001b[0;34m(\u001b[0m\u001b[0;34m)\u001b[0m\u001b[0;34m\u001b[0m\u001b[0;34m\u001b[0m\u001b[0m\n\u001b[0m\u001b[1;32m   1369\u001b[0m         \u001b[0mfh\u001b[0m \u001b[0;34m=\u001b[0m \u001b[0mnp\u001b[0m\u001b[0;34m.\u001b[0m\u001b[0mlib\u001b[0m\u001b[0;34m.\u001b[0m\u001b[0m_datasource\u001b[0m\u001b[0;34m.\u001b[0m\u001b[0mopen\u001b[0m\u001b[0;34m(\u001b[0m\u001b[0mfname\u001b[0m\u001b[0;34m,\u001b[0m \u001b[0;34m'wt'\u001b[0m\u001b[0;34m,\u001b[0m \u001b[0mencoding\u001b[0m\u001b[0;34m=\u001b[0m\u001b[0mencoding\u001b[0m\u001b[0;34m)\u001b[0m\u001b[0;34m\u001b[0m\u001b[0;34m\u001b[0m\u001b[0m\n\u001b[1;32m   1370\u001b[0m         \u001b[0mown_fh\u001b[0m \u001b[0;34m=\u001b[0m \u001b[0;32mTrue\u001b[0m\u001b[0;34m\u001b[0m\u001b[0;34m\u001b[0m\u001b[0m\n",
            "\u001b[0;31mFileNotFoundError\u001b[0m: [Errno 2] No such file or directory: '/content/drive/MyDrive/Research Paper/M_GRU.csv'"
          ]
        }
      ]
    },
    {
      "cell_type": "code",
      "source": [
        "from numpy import savetxt\n",
        "savetxt('newa.csv', inv_y, delimiter='/n')\n",
        "open(\"newa.csv\")"
      ],
      "metadata": {
        "id": "SXR9q1uB8dfD"
      },
      "execution_count": null,
      "outputs": []
    },
    {
      "cell_type": "code",
      "source": [
        "from google.colab import drive\n",
        "drive.mount('/content/drive')"
      ],
      "metadata": {
        "id": "QtsI-u9cpOHl"
      },
      "execution_count": null,
      "outputs": []
    }
  ]
}