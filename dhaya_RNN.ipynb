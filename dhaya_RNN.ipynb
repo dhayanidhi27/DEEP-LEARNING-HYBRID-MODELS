{
  "nbformat": 4,
  "nbformat_minor": 0,
  "metadata": {
    "colab": {
      "name": "manjari-RNN.ipynb",
      "provenance": [],
      "collapsed_sections": []
    },
    "kernelspec": {
      "name": "python3",
      "display_name": "Python 3"
    },
    "language_info": {
      "name": "python"
    }
  },
  "cells": [
    {
      "cell_type": "code",
      "execution_count": null,
      "metadata": {
        "id": "__ZAs5qkvQPW"
      },
      "outputs": [],
      "source": [
        "import pandas as pd\n",
        "from datetime import datetime\n",
        "from math import sqrt\n",
        "import numpy as np\n",
        "from numpy import concatenate\n",
        "from matplotlib import pyplot\n",
        "from pandas import read_csv\n",
        "from pandas import DataFrame\n",
        "from keras.layers import Dropout\n",
        "from keras.layers import TimeDistributed\n",
        "from tensorflow.keras.callbacks import ModelCheckpoint\n",
        "from tensorflow.keras.optimizers import Adam\n",
        "from pandas import concat\n",
        "from sklearn.preprocessing import StandardScaler\n",
        "from sklearn.preprocessing import MinMaxScaler\n",
        "from sklearn.preprocessing import LabelEncoder\n",
        "from sklearn.metrics import mean_squared_error\n",
        "from keras.models import Sequential\n",
        "from keras.layers import Dense\n",
        "from keras.layers import LSTM,Bidirectional\n",
        "import pandas as pd\n",
        "from keras.layers import Flatten\n",
        "from keras.layers.convolutional import Conv1D\n",
        "from keras.layers.convolutional import MaxPooling1D\n",
        "from keras.layers import SimpleRNN\n",
        "from tensorflow import optimizers"
      ]
    },
    {
      "cell_type": "code",
      "source": [],
      "metadata": {
        "id": "VdhizXoaTkaw"
      },
      "execution_count": null,
      "outputs": []
    },
    {
      "cell_type": "code",
      "source": [
        "# load dataset\n",
        "dataset = read_csv('DATASETAIML3.csv', header=0, index_col=0)\n",
        "values = dataset.values"
      ],
      "metadata": {
        "id": "d9gvWUY9v_Fy"
      },
      "execution_count": null,
      "outputs": []
    },
    {
      "cell_type": "code",
      "source": [
        "dataset.head()"
      ],
      "metadata": {
        "colab": {
          "base_uri": "https://localhost:8080/",
          "height": 206
        },
        "id": "kaLxyb38wzHO",
        "outputId": "c8f5f822-af18-4800-a9e7-e5868da05fbc"
      },
      "execution_count": null,
      "outputs": [
        {
          "output_type": "execute_result",
          "data": {
            "text/plain": [
              "         Date  Time  WS [m/s]  DIR [°]\n",
              "0  1201950000     0      6.99    37.08\n",
              "1  1201950100   100      6.73    34.21\n",
              "2  1201950200   200      6.55    31.23\n",
              "3  1201950300   300      6.44    29.75\n",
              "4  1201950400   400      6.33    28.83"
            ],
            "text/html": [
              "\n",
              "  <div id=\"df-b6e2fdb9-97d7-4011-ae09-7a267b778e26\">\n",
              "    <div class=\"colab-df-container\">\n",
              "      <div>\n",
              "<style scoped>\n",
              "    .dataframe tbody tr th:only-of-type {\n",
              "        vertical-align: middle;\n",
              "    }\n",
              "\n",
              "    .dataframe tbody tr th {\n",
              "        vertical-align: top;\n",
              "    }\n",
              "\n",
              "    .dataframe thead th {\n",
              "        text-align: right;\n",
              "    }\n",
              "</style>\n",
              "<table border=\"1\" class=\"dataframe\">\n",
              "  <thead>\n",
              "    <tr style=\"text-align: right;\">\n",
              "      <th></th>\n",
              "      <th>Date</th>\n",
              "      <th>Time</th>\n",
              "      <th>WS [m/s]</th>\n",
              "      <th>DIR [°]</th>\n",
              "    </tr>\n",
              "  </thead>\n",
              "  <tbody>\n",
              "    <tr>\n",
              "      <th>0</th>\n",
              "      <td>1201950000</td>\n",
              "      <td>0</td>\n",
              "      <td>6.99</td>\n",
              "      <td>37.08</td>\n",
              "    </tr>\n",
              "    <tr>\n",
              "      <th>1</th>\n",
              "      <td>1201950100</td>\n",
              "      <td>100</td>\n",
              "      <td>6.73</td>\n",
              "      <td>34.21</td>\n",
              "    </tr>\n",
              "    <tr>\n",
              "      <th>2</th>\n",
              "      <td>1201950200</td>\n",
              "      <td>200</td>\n",
              "      <td>6.55</td>\n",
              "      <td>31.23</td>\n",
              "    </tr>\n",
              "    <tr>\n",
              "      <th>3</th>\n",
              "      <td>1201950300</td>\n",
              "      <td>300</td>\n",
              "      <td>6.44</td>\n",
              "      <td>29.75</td>\n",
              "    </tr>\n",
              "    <tr>\n",
              "      <th>4</th>\n",
              "      <td>1201950400</td>\n",
              "      <td>400</td>\n",
              "      <td>6.33</td>\n",
              "      <td>28.83</td>\n",
              "    </tr>\n",
              "  </tbody>\n",
              "</table>\n",
              "</div>\n",
              "      <button class=\"colab-df-convert\" onclick=\"convertToInteractive('df-b6e2fdb9-97d7-4011-ae09-7a267b778e26')\"\n",
              "              title=\"Convert this dataframe to an interactive table.\"\n",
              "              style=\"display:none;\">\n",
              "        \n",
              "  <svg xmlns=\"http://www.w3.org/2000/svg\" height=\"24px\"viewBox=\"0 0 24 24\"\n",
              "       width=\"24px\">\n",
              "    <path d=\"M0 0h24v24H0V0z\" fill=\"none\"/>\n",
              "    <path d=\"M18.56 5.44l.94 2.06.94-2.06 2.06-.94-2.06-.94-.94-2.06-.94 2.06-2.06.94zm-11 1L8.5 8.5l.94-2.06 2.06-.94-2.06-.94L8.5 2.5l-.94 2.06-2.06.94zm10 10l.94 2.06.94-2.06 2.06-.94-2.06-.94-.94-2.06-.94 2.06-2.06.94z\"/><path d=\"M17.41 7.96l-1.37-1.37c-.4-.4-.92-.59-1.43-.59-.52 0-1.04.2-1.43.59L10.3 9.45l-7.72 7.72c-.78.78-.78 2.05 0 2.83L4 21.41c.39.39.9.59 1.41.59.51 0 1.02-.2 1.41-.59l7.78-7.78 2.81-2.81c.8-.78.8-2.07 0-2.86zM5.41 20L4 18.59l7.72-7.72 1.47 1.35L5.41 20z\"/>\n",
              "  </svg>\n",
              "      </button>\n",
              "      \n",
              "  <style>\n",
              "    .colab-df-container {\n",
              "      display:flex;\n",
              "      flex-wrap:wrap;\n",
              "      gap: 12px;\n",
              "    }\n",
              "\n",
              "    .colab-df-convert {\n",
              "      background-color: #E8F0FE;\n",
              "      border: none;\n",
              "      border-radius: 50%;\n",
              "      cursor: pointer;\n",
              "      display: none;\n",
              "      fill: #1967D2;\n",
              "      height: 32px;\n",
              "      padding: 0 0 0 0;\n",
              "      width: 32px;\n",
              "    }\n",
              "\n",
              "    .colab-df-convert:hover {\n",
              "      background-color: #E2EBFA;\n",
              "      box-shadow: 0px 1px 2px rgba(60, 64, 67, 0.3), 0px 1px 3px 1px rgba(60, 64, 67, 0.15);\n",
              "      fill: #174EA6;\n",
              "    }\n",
              "\n",
              "    [theme=dark] .colab-df-convert {\n",
              "      background-color: #3B4455;\n",
              "      fill: #D2E3FC;\n",
              "    }\n",
              "\n",
              "    [theme=dark] .colab-df-convert:hover {\n",
              "      background-color: #434B5C;\n",
              "      box-shadow: 0px 1px 3px 1px rgba(0, 0, 0, 0.15);\n",
              "      filter: drop-shadow(0px 1px 2px rgba(0, 0, 0, 0.3));\n",
              "      fill: #FFFFFF;\n",
              "    }\n",
              "  </style>\n",
              "\n",
              "      <script>\n",
              "        const buttonEl =\n",
              "          document.querySelector('#df-b6e2fdb9-97d7-4011-ae09-7a267b778e26 button.colab-df-convert');\n",
              "        buttonEl.style.display =\n",
              "          google.colab.kernel.accessAllowed ? 'block' : 'none';\n",
              "\n",
              "        async function convertToInteractive(key) {\n",
              "          const element = document.querySelector('#df-b6e2fdb9-97d7-4011-ae09-7a267b778e26');\n",
              "          const dataTable =\n",
              "            await google.colab.kernel.invokeFunction('convertToInteractive',\n",
              "                                                     [key], {});\n",
              "          if (!dataTable) return;\n",
              "\n",
              "          const docLinkHtml = 'Like what you see? Visit the ' +\n",
              "            '<a target=\"_blank\" href=https://colab.research.google.com/notebooks/data_table.ipynb>data table notebook</a>'\n",
              "            + ' to learn more about interactive tables.';\n",
              "          element.innerHTML = '';\n",
              "          dataTable['output_type'] = 'display_data';\n",
              "          await google.colab.output.renderOutput(dataTable, element);\n",
              "          const docLink = document.createElement('div');\n",
              "          docLink.innerHTML = docLinkHtml;\n",
              "          element.appendChild(docLink);\n",
              "        }\n",
              "      </script>\n",
              "    </div>\n",
              "  </div>\n",
              "  "
            ]
          },
          "metadata": {},
          "execution_count": 3
        }
      ]
    },
    {
      "cell_type": "code",
      "source": [
        "# dataset.dropna()\n",
        "dataset.drop(dataset.columns[[1]], axis = 1, inplace = True)\n",
        "print(dataset.head())"
      ],
      "metadata": {
        "colab": {
          "base_uri": "https://localhost:8080/"
        },
        "id": "dKQ8ZJk5xe3E",
        "outputId": "6c01aacb-d9bb-4988-fa6a-12ebb768a826"
      },
      "execution_count": null,
      "outputs": [
        {
          "output_type": "stream",
          "name": "stdout",
          "text": [
            "         Date  WS [m/s]  DIR [°]\n",
            "0  1201950000      6.99    37.08\n",
            "1  1201950100      6.73    34.21\n",
            "2  1201950200      6.55    31.23\n",
            "3  1201950300      6.44    29.75\n",
            "4  1201950400      6.33    28.83\n"
          ]
        }
      ]
    },
    {
      "cell_type": "code",
      "source": [
        "# convert series to supervised learning\n",
        "def series_to_supervised(data, n_in=1, n_out=1, dropnan=True):\n",
        "    n_vars = 1 if type(data) is list else data.shape[1]\n",
        "    df = DataFrame(data)\n",
        "    cols, names = list(), list()\n",
        "    # input sequence (t-n, ... t-1)\n",
        "    for i in range(n_in, 0, -1):\n",
        "        cols.append(df.shift(i))\n",
        "        names += [('var%d(t-%d)' % (j+1, i)) for j in range(n_vars)]\n",
        "    # forecast sequence (t, t+1, ... t+n)\n",
        "    for i in range(0, n_out):\n",
        "        cols.append(df.shift(-i))\n",
        "        if i == 0:\n",
        "            names += [('var%d(t)' % (j+1)) for j in range(n_vars)]\n",
        "        else:\n",
        "            names += [('var%d(t+%d)' % (j+1, i)) for j in range(n_vars)]\n",
        "    # put it all together\n",
        "    agg = concat(cols, axis=1)\n",
        "    agg.columns = names\n",
        "    # drop rows with NaN values\n",
        "    if dropnan:\n",
        "        agg.dropna(inplace=True)\n",
        "    return agg"
      ],
      "metadata": {
        "id": "OCwQqZ7sxoOg"
      },
      "execution_count": null,
      "outputs": []
    },
    {
      "cell_type": "code",
      "source": [
        "#dataset['Day'] = pd.to_datetime(dataset['Day'])\n",
        "dataset = dataset.set_index('Date')\n",
        "values = dataset.values\n",
        "encoder = LabelEncoder()\n",
        "values[:, 1] = encoder.fit_transform(values[:, 1])\n",
        "values = values.astype(float)\n",
        "scaler =  StandardScaler()\n",
        "scaled = scaler.fit_transform(values)\n",
        "print()\n",
        "print(scaled[:, 1])"
      ],
      "metadata": {
        "colab": {
          "base_uri": "https://localhost:8080/"
        },
        "id": "w5GqOdnMx0ZB",
        "outputId": "b65cf4d4-2364-4d4a-d39f-2b228fe64da3"
      },
      "execution_count": null,
      "outputs": [
        {
          "output_type": "stream",
          "name": "stdout",
          "text": [
            "\n",
            "[-1.41118727 -1.44509529 -1.48030291 ... -1.39405605 -1.44769451\n",
            " -1.4983793 ]\n"
          ]
        }
      ]
    },
    {
      "cell_type": "code",
      "source": [
        "n_input = 3\n",
        "n_features = 2\n",
        "\n",
        "reframed = series_to_supervised(scaled, n_input, 1)\n",
        "#Splitting the dataset\n",
        "values = reframed.values\n",
        "train = values[:140000, :]\n",
        "test = values[140000:, :]\n",
        "\n",
        "n_obs = n_input * n_features\n",
        "train_X, train_y = train[:, :n_obs], train[:, -n_features]\n",
        "test_X, test_y = test[:, :n_obs], test[:, -n_features]\n",
        "print(train_X.shape, len(train_X), train_y.shape)\n",
        "\n",
        "train_X = train_X.reshape((train_X.shape[0], n_input, n_features))\n",
        "test_X = test_X.reshape((test_X.shape[0], n_input, n_features))\n",
        "print(train_X.shape, train_y.shape, test_X.shape, test_y.shape)"
      ],
      "metadata": {
        "colab": {
          "base_uri": "https://localhost:8080/"
        },
        "id": "SiYDU1lsyU6k",
        "outputId": "f8041f72-0185-4ec3-e943-0a82e6440d83"
      },
      "execution_count": null,
      "outputs": [
        {
          "output_type": "stream",
          "name": "stdout",
          "text": [
            "(140000, 6) 140000 (140000,)\n",
            "(140000, 3, 2) (140000,) (35317, 3, 2) (35317,)\n"
          ]
        }
      ]
    },
    {
      "cell_type": "code",
      "source": [
        "model = Sequential()\n",
        "model.add(SimpleRNN(units=32, input_shape=(n_input, n_features), activation=\"relu\"))\n",
        "#model.add(Dropout(0.8))\n",
        "model.add(Dense(8, activation=\"relu\")) \n",
        "model.add(Dense(1))\n",
        "model.compile(loss='mean_squared_error', optimizer='adam')\n",
        "model.summary()\n",
        "\n",
        "# fit network\n",
        "history = model.fit(train_X, train_y, epochs=50, batch_size=72, validation_data=(test_X, test_y), verbose=2, shuffle=False)\n",
        "# plot history\n",
        "pyplot.plot(history.history['loss'], label='train')\n",
        "pyplot.plot(history.history['val_loss'], label='test')\n",
        "pyplot.legend()\n",
        "pyplot.show()"
      ],
      "metadata": {
        "colab": {
          "base_uri": "https://localhost:8080/",
          "height": 1000
        },
        "id": "soJXD6dY4aYB",
        "outputId": "c6a7a9d7-dae8-4e54-8e67-b616b516af06"
      },
      "execution_count": null,
      "outputs": [
        {
          "output_type": "stream",
          "name": "stdout",
          "text": [
            "Model: \"sequential\"\n",
            "_________________________________________________________________\n",
            " Layer (type)                Output Shape              Param #   \n",
            "=================================================================\n",
            " simple_rnn (SimpleRNN)      (None, 32)                1120      \n",
            "                                                                 \n",
            " dense (Dense)               (None, 8)                 264       \n",
            "                                                                 \n",
            " dense_1 (Dense)             (None, 1)                 9         \n",
            "                                                                 \n",
            "=================================================================\n",
            "Total params: 1,393\n",
            "Trainable params: 1,393\n",
            "Non-trainable params: 0\n",
            "_________________________________________________________________\n",
            "Epoch 1/50\n",
            "1945/1945 - 6s - loss: 0.0296 - val_loss: 0.0194 - 6s/epoch - 3ms/step\n",
            "Epoch 2/50\n",
            "1945/1945 - 5s - loss: 0.0092 - val_loss: 0.0152 - 5s/epoch - 3ms/step\n",
            "Epoch 3/50\n",
            "1945/1945 - 5s - loss: 0.0082 - val_loss: 0.0121 - 5s/epoch - 3ms/step\n",
            "Epoch 4/50\n",
            "1945/1945 - 6s - loss: 0.0081 - val_loss: 0.0117 - 6s/epoch - 3ms/step\n",
            "Epoch 5/50\n",
            "1945/1945 - 6s - loss: 0.0076 - val_loss: 0.0100 - 6s/epoch - 3ms/step\n",
            "Epoch 6/50\n",
            "1945/1945 - 5s - loss: 0.0072 - val_loss: 0.0148 - 5s/epoch - 3ms/step\n",
            "Epoch 7/50\n",
            "1945/1945 - 6s - loss: 0.0073 - val_loss: 0.0104 - 6s/epoch - 3ms/step\n",
            "Epoch 8/50\n",
            "1945/1945 - 6s - loss: 0.0071 - val_loss: 0.0105 - 6s/epoch - 3ms/step\n",
            "Epoch 9/50\n",
            "1945/1945 - 6s - loss: 0.0071 - val_loss: 0.0104 - 6s/epoch - 3ms/step\n",
            "Epoch 10/50\n",
            "1945/1945 - 5s - loss: 0.0070 - val_loss: 0.0095 - 5s/epoch - 3ms/step\n",
            "Epoch 11/50\n",
            "1945/1945 - 5s - loss: 0.0070 - val_loss: 0.0091 - 5s/epoch - 2ms/step\n",
            "Epoch 12/50\n",
            "1945/1945 - 6s - loss: 0.0069 - val_loss: 0.0090 - 6s/epoch - 3ms/step\n",
            "Epoch 13/50\n",
            "1945/1945 - 6s - loss: 0.0069 - val_loss: 0.0089 - 6s/epoch - 3ms/step\n",
            "Epoch 14/50\n",
            "1945/1945 - 6s - loss: 0.0068 - val_loss: 0.0089 - 6s/epoch - 3ms/step\n",
            "Epoch 15/50\n",
            "1945/1945 - 6s - loss: 0.0067 - val_loss: 0.0088 - 6s/epoch - 3ms/step\n",
            "Epoch 16/50\n",
            "1945/1945 - 6s - loss: 0.0067 - val_loss: 0.0091 - 6s/epoch - 3ms/step\n",
            "Epoch 17/50\n",
            "1945/1945 - 6s - loss: 0.0067 - val_loss: 0.0089 - 6s/epoch - 3ms/step\n",
            "Epoch 18/50\n",
            "1945/1945 - 5s - loss: 0.0067 - val_loss: 0.0089 - 5s/epoch - 3ms/step\n",
            "Epoch 19/50\n",
            "1945/1945 - 6s - loss: 0.0067 - val_loss: 0.0088 - 6s/epoch - 3ms/step\n",
            "Epoch 20/50\n",
            "1945/1945 - 5s - loss: 0.0066 - val_loss: 0.0090 - 5s/epoch - 3ms/step\n",
            "Epoch 21/50\n",
            "1945/1945 - 6s - loss: 0.0067 - val_loss: 0.0090 - 6s/epoch - 3ms/step\n",
            "Epoch 22/50\n",
            "1945/1945 - 5s - loss: 0.0067 - val_loss: 0.0089 - 5s/epoch - 2ms/step\n",
            "Epoch 23/50\n",
            "1945/1945 - 6s - loss: 0.0066 - val_loss: 0.0088 - 6s/epoch - 3ms/step\n",
            "Epoch 24/50\n",
            "1945/1945 - 5s - loss: 0.0066 - val_loss: 0.0086 - 5s/epoch - 3ms/step\n",
            "Epoch 25/50\n",
            "1945/1945 - 6s - loss: 0.0066 - val_loss: 0.0086 - 6s/epoch - 3ms/step\n",
            "Epoch 26/50\n",
            "1945/1945 - 6s - loss: 0.0066 - val_loss: 0.0086 - 6s/epoch - 3ms/step\n",
            "Epoch 27/50\n",
            "1945/1945 - 5s - loss: 0.0066 - val_loss: 0.0086 - 5s/epoch - 3ms/step\n",
            "Epoch 28/50\n",
            "1945/1945 - 5s - loss: 0.0065 - val_loss: 0.0084 - 5s/epoch - 3ms/step\n",
            "Epoch 29/50\n",
            "1945/1945 - 5s - loss: 0.0065 - val_loss: 0.0085 - 5s/epoch - 3ms/step\n",
            "Epoch 30/50\n",
            "1945/1945 - 5s - loss: 0.0065 - val_loss: 0.0087 - 5s/epoch - 3ms/step\n",
            "Epoch 31/50\n",
            "1945/1945 - 6s - loss: 0.0065 - val_loss: 0.0086 - 6s/epoch - 3ms/step\n",
            "Epoch 32/50\n",
            "1945/1945 - 5s - loss: 0.0065 - val_loss: 0.0086 - 5s/epoch - 3ms/step\n",
            "Epoch 33/50\n",
            "1945/1945 - 6s - loss: 0.0064 - val_loss: 0.0086 - 6s/epoch - 3ms/step\n",
            "Epoch 34/50\n",
            "1945/1945 - 5s - loss: 0.0065 - val_loss: 0.0087 - 5s/epoch - 3ms/step\n",
            "Epoch 35/50\n",
            "1945/1945 - 6s - loss: 0.0064 - val_loss: 0.0090 - 6s/epoch - 3ms/step\n",
            "Epoch 36/50\n",
            "1945/1945 - 5s - loss: 0.0064 - val_loss: 0.0085 - 5s/epoch - 3ms/step\n",
            "Epoch 37/50\n",
            "1945/1945 - 6s - loss: 0.0064 - val_loss: 0.0090 - 6s/epoch - 3ms/step\n",
            "Epoch 38/50\n",
            "1945/1945 - 5s - loss: 0.0064 - val_loss: 0.0082 - 5s/epoch - 3ms/step\n",
            "Epoch 39/50\n",
            "1945/1945 - 6s - loss: 0.0064 - val_loss: 0.0085 - 6s/epoch - 3ms/step\n",
            "Epoch 40/50\n",
            "1945/1945 - 6s - loss: 0.0064 - val_loss: 0.0084 - 6s/epoch - 3ms/step\n",
            "Epoch 41/50\n",
            "1945/1945 - 5s - loss: 0.0064 - val_loss: 0.0084 - 5s/epoch - 3ms/step\n",
            "Epoch 42/50\n",
            "1945/1945 - 5s - loss: 0.0064 - val_loss: 0.0083 - 5s/epoch - 3ms/step\n",
            "Epoch 43/50\n",
            "1945/1945 - 5s - loss: 0.0064 - val_loss: 0.0083 - 5s/epoch - 3ms/step\n",
            "Epoch 44/50\n",
            "1945/1945 - 5s - loss: 0.0064 - val_loss: 0.0081 - 5s/epoch - 3ms/step\n",
            "Epoch 45/50\n",
            "1945/1945 - 5s - loss: 0.0064 - val_loss: 0.0083 - 5s/epoch - 2ms/step\n",
            "Epoch 46/50\n",
            "1945/1945 - 5s - loss: 0.0063 - val_loss: 0.0084 - 5s/epoch - 3ms/step\n",
            "Epoch 47/50\n",
            "1945/1945 - 6s - loss: 0.0064 - val_loss: 0.0083 - 6s/epoch - 3ms/step\n",
            "Epoch 48/50\n",
            "1945/1945 - 6s - loss: 0.0063 - val_loss: 0.0084 - 6s/epoch - 3ms/step\n",
            "Epoch 49/50\n",
            "1945/1945 - 5s - loss: 0.0064 - val_loss: 0.0083 - 5s/epoch - 3ms/step\n",
            "Epoch 50/50\n",
            "1945/1945 - 6s - loss: 0.0063 - val_loss: 0.0082 - 6s/epoch - 3ms/step\n"
          ]
        },
        {
          "output_type": "display_data",
          "data": {
            "text/plain": [
              "<Figure size 432x288 with 1 Axes>"
            ],
            "image/png": "[encoded data removed]"
          },
          "metadata": {
            "needs_background": "light"
          }
        }
      ]
    },
    {
      "cell_type": "code",
      "source": [
        "yhat = model.predict(test_X)\n",
        "test_X = test_X.reshape((test_X.shape[0], n_input*n_features))\n",
        "print(yhat.shape)\n",
        "print(len(yhat))\n",
        "print(test_y.shape)"
      ],
      "metadata": {
        "id": "R0kc5WhK5JpJ",
        "colab": {
          "base_uri": "https://localhost:8080/"
        },
        "outputId": "e3c51553-d3d7-46fd-8a30-80d18d8a1403"
      },
      "execution_count": null,
      "outputs": [
        {
          "output_type": "stream",
          "name": "stdout",
          "text": [
            "1104/1104 [==============================] - 2s 2ms/step\n",
            "(35317, 1)\n",
            "35317\n",
            "(35317,)\n"
          ]
        }
      ]
    },
    {
      "cell_type": "code",
      "source": [
        "rmse = sqrt(mean_squared_error(test_y, yhat))\n",
        "print('Test RMSE: %.3f' % rmse)"
      ],
      "metadata": {
        "id": "Xkre04Do5U_i",
        "colab": {
          "base_uri": "https://localhost:8080/"
        },
        "outputId": "ad9220ae-ba47-4a77-afa4-73ec4d773019"
      },
      "execution_count": null,
      "outputs": [
        {
          "output_type": "stream",
          "name": "stdout",
          "text": [
            "Test RMSE: 0.091\n"
          ]
        }
      ]
    },
    {
      "cell_type": "code",
      "source": [
        "prediction_copies = np.repeat(yhat, scaled.shape[1], axis=-1)\n",
        "#y_pred_future = scaler.inverse_transform(prediction_copies)[:,0]"
      ],
      "metadata": {
        "id": "xJW5CcWX5aEg"
      },
      "execution_count": null,
      "outputs": []
    },
    {
      "cell_type": "code",
      "source": [
        "#inv_yhat = concatenate((prediction_copies, test_X[:, -2:]), axis=1)\n",
        "inv_yhat = scaler.inverse_transform(prediction_copies)\n",
        "inv_yhat = inv_yhat[:,0]"
      ],
      "metadata": {
        "id": "j49AOIwK5pE3"
      },
      "execution_count": null,
      "outputs": []
    },
    {
      "cell_type": "code",
      "source": [
        "test_y = test_y.reshape((len(test_y), 1))\n",
        "#inv_y = concatenate((test_y, test_X[:, -2:]), axis=1)\n",
        "\n",
        "test_copies = np.repeat(test_y, scaled.shape[1], axis=-1)\n",
        "#y_pred_future = scaler.inverse_transform(prediction_copies)[:,0]\n",
        "\n",
        "inv_y = scaler.inverse_transform(test_copies)\n",
        "inv_y = inv_y[:,0]\n",
        "\n",
        "mse = mean_squared_error(inv_y, inv_yhat)\n",
        "print('Test MSE: %.3f' % mse)\n",
        "\n",
        "rmse = sqrt(mean_squared_error(inv_y, inv_yhat))\n",
        "print('Test RMSE: %.3f' % rmse)\n",
        "\n",
        "from sklearn.metrics import mean_absolute_error,mean_absolute_percentage_error\n",
        "mae = mean_absolute_error(inv_y, inv_yhat)\n",
        "print('Test MAE: %.3f' % mae)\n",
        "\n",
        "mape = mean_absolute_percentage_error(inv_y, inv_yhat)\n",
        "print('Test MAPE: %.3f' % mape)"
      ],
      "metadata": {
        "id": "jv3W6uqn5srY",
        "colab": {
          "base_uri": "https://localhost:8080/"
        },
        "outputId": "ba5ebd82-43d0-401d-81bf-7fe308e8b38b"
      },
      "execution_count": null,
      "outputs": [
        {
          "output_type": "stream",
          "name": "stdout",
          "text": [
            "Test MSE: 0.042\n",
            "Test RMSE: 0.205\n",
            "Test MAE: 0.149\n",
            "Test MAPE: 0.033\n"
          ]
        }
      ]
    },
    {
      "cell_type": "code",
      "source": [
        "#print(yhat)\n",
        "print(inv_yhat)"
      ],
      "metadata": {
        "id": "vczPOPni50bM",
        "colab": {
          "base_uri": "https://localhost:8080/"
        },
        "outputId": "89c08cbe-6070-4292-b121-81add61f2c4e"
      },
      "execution_count": null,
      "outputs": [
        {
          "output_type": "stream",
          "name": "stdout",
          "text": [
            "[7.7131286 7.5781837 7.5678062 ... 5.737529  6.0398045 6.195079 ]\n"
          ]
        }
      ]
    },
    {
      "cell_type": "code",
      "source": [
        "from matplotlib import pyplot as plt\n",
        "\n",
        "#Plot the graph between actual vs predicted values\n",
        "plt.figure(figsize=(10,6))\n",
        "plt.plot(inv_y[:300], color= 'green',label = 'ACTUAL WIND SPEED ')\n",
        "plt.plot(inv_yhat[:300] , color = 'red',label = 'FORECASTED WIND SPEED ')\n",
        "plt.title(\"WIND SPEED FORECASTING USING RNN\")\n",
        "plt.xlabel(\"TIME INTERVAL (1 HOUR)\")\n",
        "plt.ylabel(\"SPEED OF WIND(KMPH)\")\n",
        "plt.legend()\n",
        "plt.show()\n",
        "plt.savefig('graph.png')"
      ],
      "metadata": {
        "id": "zZ6SdnjA54dS",
        "colab": {
          "base_uri": "https://localhost:8080/",
          "height": 421
        },
        "outputId": "e5316e47-7356-4ee3-ef73-5d80b5c31f4f"
      },
      "execution_count": null,
      "outputs": [
        {
          "output_type": "display_data",
          "data": {
            "text/plain": [
              "<Figure size 720x432 with 1 Axes>"
            ],
            "image/png": "[encoded data removed]"
          },
          "metadata": {
            "needs_background": "light"
          }
        },
        {
          "output_type": "display_data",
          "data": {
            "text/plain": [
              "<Figure size 432x288 with 0 Axes>"
            ]
          },
          "metadata": {}
        }
      ]
    },
    {
      "cell_type": "code",
      "source": [],
      "metadata": {
        "id": "w8-znAaP6YCW"
      },
      "execution_count": null,
      "outputs": []
    },
    {
      "cell_type": "code",
      "source": [
        "print(inv_y[:724])"
      ],
      "metadata": {
        "id": "8g1zDvtU6Z16",
        "colab": {
          "base_uri": "https://localhost:8080/"
        },
        "outputId": "8a7cc0b0-e19d-4f28-ac1a-771168c0a53d"
      },
      "execution_count": null,
      "outputs": [
        {
          "output_type": "stream",
          "name": "stdout",
          "text": [
            "[7.6  7.64 7.6  7.53 7.54 7.42 6.97 6.69 6.65 6.61 6.64 6.58 6.41 6.22\n",
            " 6.05 5.95 5.84 5.8  5.81 5.84 5.79 5.49 6.01 6.67 7.01 7.13 7.19 7.2\n",
            " 6.99 6.5  6.08 5.98 6.17 6.37 6.39 6.29 6.2  6.13 6.12 6.15 6.14 6.19\n",
            " 6.26 6.27 6.22 5.97 6.53 7.88 8.73 9.18 9.45 9.57 9.34 8.82 8.   7.68\n",
            " 7.69 7.71 7.7  7.66 7.58 7.5  7.41 7.38 7.13 6.89 6.76 6.62 6.37 5.83\n",
            " 6.44 7.24 7.71 7.88 7.98 8.15 8.22 8.12 7.74 7.72 7.91 8.06 8.18 8.17\n",
            " 8.04 7.92 7.8  7.73 7.54 7.34 7.13 6.91 6.63 6.21 6.51 7.   6.93 6.88\n",
            " 6.88 6.94 7.01 6.91 6.73 6.66 6.63 6.65 6.77 6.94 7.14 7.22 7.28 7.35\n",
            " 7.43 7.51 7.59 7.69 7.74 7.72 7.83 8.06 8.34 8.58 8.66 8.58 8.27 8.06\n",
            " 8.06 8.18 8.28 8.27 8.3  8.3  8.14 7.9  7.57 7.28 6.92 6.66 6.54 6.51\n",
            " 6.56 6.53 7.06 7.15 6.98 6.99 6.94 6.93 6.83 6.64 6.51 6.55 6.57 6.54\n",
            " 6.46 6.27 5.91 5.72 5.67 5.52 5.37 5.35 5.28 5.18 5.08 4.87 4.73 4.87\n",
            " 5.02 4.99 4.88 4.85 4.55 4.18 3.98 3.92 3.83 3.61 3.33 2.89 2.38 2.1\n",
            " 1.84 1.53 1.39 1.43 1.5  1.43 1.13 0.98 1.03 0.86 0.74 0.49 0.35 0.57\n",
            " 1.1  1.61 2.1  2.53 2.85 3.06 2.86 2.48 2.08 1.7  1.25 0.84 0.8  0.97\n",
            " 1.3  1.77 2.29 2.71 3.12 3.57 4.1  4.62 5.03 5.13 5.03 4.89 4.59 4.56\n",
            " 4.73 4.89 5.24 5.45 5.54 5.59 5.52 5.37 4.95 4.53 4.23 3.9  3.66 3.59\n",
            " 3.89 4.18 4.16 4.16 4.22 4.26 4.18 4.02 3.52 3.01 2.81 2.8  3.32 3.97\n",
            " 4.52 5.01 5.35 5.46 5.09 4.62 4.19 3.72 3.33 3.15 3.76 4.23 4.45 4.57\n",
            " 4.57 4.47 4.19 3.85 3.63 3.69 3.8  3.97 4.22 4.4  4.36 4.25 4.08 3.96\n",
            " 3.93 3.95 4.06 4.24 4.28 4.09 4.27 4.32 4.1  3.85 3.66 3.46 3.31 3.26\n",
            " 3.33 3.54 3.68 3.6  3.49 3.32 3.05 2.74 2.36 1.94 1.54 1.17 0.9  0.76\n",
            " 0.68 0.91 1.49 1.63 1.74 1.74 1.55 1.23 1.16 1.68 2.7  3.46 4.23 4.45\n",
            " 4.36 4.19 3.96 3.73 3.53 3.22 2.78 2.39 2.16 2.02 1.84 1.58 1.39 1.23\n",
            " 1.56 2.22 2.77 3.11 3.3  3.5  3.4  3.16 2.99 3.01 3.03 3.02 2.92 2.97\n",
            " 3.13 3.35 3.56 3.68 3.72 3.72 3.68 3.48 3.79 4.14 4.53 4.84 5.   5.04\n",
            " 5.12 5.14 4.98 4.87 5.01 5.19 5.31 5.37 5.4  5.41 5.36 5.29 4.93 4.57\n",
            " 4.3  4.1  3.97 3.66 4.15 4.84 5.31 5.64 5.88 6.1  6.39 6.51 6.01 5.92\n",
            " 6.05 6.13 6.16 6.17 6.18 6.14 6.01 5.85 5.76 5.84 5.98 6.11 6.1  5.65\n",
            " 6.38 7.16 7.49 7.65 7.75 7.8  7.74 7.58 6.98 6.79 6.83 6.8  6.56 6.29\n",
            " 6.01 5.81 5.6  5.39 5.2  4.96 4.76 4.66 4.62 4.23 4.16 4.36 4.6  4.81\n",
            " 4.86 4.92 4.9  4.86 4.68 4.62 4.76 4.85 5.19 5.44 5.52 5.47 5.44 5.4\n",
            " 5.17 4.96 4.87 4.7  4.45 3.98 4.06 4.01 3.84 3.65 3.48 3.34 3.15 3.03\n",
            " 2.96 2.97 3.1  3.32 3.73 4.05 4.22 4.34 4.42 4.44 4.24 4.04 3.89 3.79\n",
            " 3.7  3.52 4.15 4.79 5.05 5.04 5.01 4.98 4.9  4.91 4.86 4.89 5.04 5.19\n",
            " 5.39 5.53 5.53 5.44 5.27 5.05 4.58 4.16 3.89 3.75 3.64 3.51 4.06 4.39\n",
            " 4.53 4.6  4.67 4.78 5.09 5.37 5.3  5.26 5.37 5.51 5.63 5.61 5.52 5.37\n",
            " 5.16 4.97 4.63 4.3  4.14 4.09 4.08 3.88 4.29 5.27 6.07 6.65 7.17 7.65\n",
            " 7.29 6.94 6.72 6.77 7.   7.3  7.53 7.61 7.62 7.6  7.53 7.45 7.17 6.94\n",
            " 6.78 6.63 6.45 6.06 6.35 6.99 7.25 7.24 7.18 7.1  6.87 6.41 5.97 6.\n",
            " 6.23 6.45 6.5  6.38 6.15 5.99 5.86 5.83 5.71 5.61 5.65 5.63 5.48 5.21\n",
            " 5.74 6.51 6.97 7.15 7.21 7.36 7.36 7.27 6.78 6.59 6.74 6.94 7.16 7.25\n",
            " 7.24 7.23 7.24 7.22 6.62 5.86 5.22 4.7  4.28 3.97 4.6  5.3  5.65 5.77\n",
            " 5.72 5.62 5.76 5.92 5.71 5.72 5.85 6.09 6.23 6.25 6.26 6.23 6.23 6.28\n",
            " 6.22 6.15 6.17 6.24 6.25 6.13 6.64 7.51 8.27 8.61 8.74 8.69 8.5  7.79\n",
            " 7.01 6.78 6.87 7.09 7.21 7.15 6.98 6.75 6.53 6.35 6.12 5.96 5.89 5.82\n",
            " 5.74 5.39 5.72 6.72 7.46 7.88 8.12 8.27 8.25 8.05 7.43 7.3  7.37 7.37\n",
            " 7.36 7.39 7.28 7.06 6.88 6.77 6.57 6.43 6.36 6.33 6.28 6.02 6.63 7.62\n",
            " 8.27 8.63 8.81 8.95 8.79 8.43 8.05 8.01 8.1  8.28 8.47 8.49 8.22 7.86\n",
            " 7.52 7.18 6.84 6.61 6.56 6.54 6.45 6.14 6.3  6.63 6.77 6.76 6.66 6.51\n",
            " 6.44 6.07 5.6  5.57 5.77 5.92 6.   6.15 6.34 6.56 6.83 7.11 7.21 7.1\n",
            " 6.98 6.89 6.8  6.58 6.51 7.12 7.75 8.07 8.13 8.07]\n"
          ]
        }
      ]
    },
    {
      "cell_type": "code",
      "source": [
        "x=print(inv_yhat[:724])"
      ],
      "metadata": {
        "id": "ltyFdied6Gaf",
        "colab": {
          "base_uri": "https://localhost:8080/"
        },
        "outputId": "d15ee186-3128-4cfa-c355-3c3e4f0712cf"
      },
      "execution_count": null,
      "outputs": [
        {
          "output_type": "stream",
          "name": "stdout",
          "text": [
            "[7.7131286  7.5781837  7.5678062  7.5048     7.4332643  7.5327563\n",
            " 7.242056   6.5536976  6.537244   6.6700425  6.520082   6.6237526\n",
            " 6.446057   6.2061515  6.0386276  5.901094   5.8713017  5.7410603\n",
            " 5.791932   5.816974   5.8419805  5.715275   5.443923   6.531429\n",
            " 7.136906   7.141315   7.0837235  7.1466317  7.119594   6.6968393\n",
            " 6.0477552  5.7754025  5.941621   6.342449   6.474451   6.288587\n",
            " 6.114568   6.0839334  6.032485   6.0769677  6.1345544  6.0803986\n",
            " 6.217485   6.290303   6.232742   6.1465178  5.85345    7.1306825\n",
            " 8.489936   9.028046   9.354784   9.462494   9.457563   8.920632\n",
            " 8.253348   7.2661886  7.5984297  7.7657237  7.665516   7.619881\n",
            " 7.5632687  7.460148   7.403257   7.304326   7.339981   6.8449264\n",
            " 6.717061   6.716344   6.532653   6.274431   5.7639503  7.071283\n",
            " 7.653038   7.9016137  7.838046   7.967255   8.225942   8.158263\n",
            " 7.9198165  7.323435   7.784302   8.043186   8.063834   8.164451\n",
            " 8.031336   7.8350616  7.7813225  7.6659293  7.6557117  7.330795\n",
            " 7.166219   6.957738   6.7392526  6.408487   5.991912   6.9896574\n",
            " 7.3717675  6.6817684  6.82279    6.8577275  6.949882   6.999627\n",
            " 6.7212915  6.5327215  6.6104746  6.5752344  6.6300144  6.831263\n",
            " 7.013385   7.224504   7.169516   7.257353   7.34497    7.4304943\n",
            " 7.5061464  7.5846233  7.7016554  7.687939   7.6141214  7.8821163\n",
            " 8.174829   8.458859   8.634366   8.55823    8.353464   7.8552794\n",
            " 7.824435   7.967305   8.133329   8.176963   8.057763   8.132163\n",
            " 8.100437   7.818093   7.550125   7.1843047  6.9470086  6.528355\n",
            " 6.385266   6.3919325  6.4353313  6.5375166  6.376011   7.477469\n",
            " 6.817225   6.4898634  6.736231   6.5965858  6.6368694  6.443844\n",
            " 6.2158194  6.1973267  6.3910117  6.33065    6.2743692  6.1908827\n",
            " 5.934022   5.4550524  5.563629   5.589299   5.24503    5.122058\n",
            " 5.2418876  5.0802574  4.97798    4.901877   4.6003027  4.591829\n",
            " 4.9917827  5.055631   4.821532   4.6799684  4.7515244  4.1014633\n",
            " 3.7550113  3.7943814  3.843361   3.6616209  3.303976   3.0325968\n",
            " 2.4307892  1.8769331  1.9282842  1.637619   1.266859   1.3478632\n",
            " 1.5695667  1.5488415  1.311789   0.8215132  0.93868065 1.128427\n",
            " 0.536232   0.6400418  0.32688192 0.6647773  0.93018246 1.6019888\n",
            " 2.057092   2.551815   2.902149   3.107864   3.2057493  2.517979\n",
            " 2.076067   1.7448187  1.4202437  0.9878483  0.8398328  1.0313153\n",
            " 1.250082   1.6840773  2.2383645  2.7406986  3.0261247  3.43956\n",
            " 3.92529    4.5261426  5.007111   5.2744613  5.115412   4.9443016\n",
            " 4.8197594  4.37962    4.65911    4.93808    5.0122147  5.5044017\n",
            " 5.4884996  5.5207562  5.570842   5.397019   5.2313156  4.8547072\n",
            " 4.342959   4.121576   3.7783556  3.539608   3.6254902  4.2400894\n",
            " 4.4326572  4.0988817  4.200979   4.3182397  4.27748    4.0560665\n",
            " 3.8442225  2.9836242  2.610762   2.8035595  2.9109373  3.955785\n",
            " 4.5481167  4.9323688  5.3477488  5.513132   5.4036026  4.65723\n",
            " 4.2250338  3.9013472  3.373292   3.0903015  3.1312177  4.4924088\n",
            " 4.5667257  4.559173   4.6414285  4.556893   4.3904138  3.927587\n",
            " 3.5777638  3.5200834  3.8704956  3.9375722  4.1572566  4.4668283\n",
            " 4.5276556  4.261399   4.1599045  3.9596238  3.910638   3.9514158\n",
            " 3.9933743  4.1823792  4.407093   4.293477   3.9565792  4.538237\n",
            " 4.351148   3.8927257  3.6892154  3.575001   3.3409414  3.2337232\n",
            " 3.269907   3.4254813  3.7401428  3.7396288  3.413313   3.330778\n",
            " 3.0995357  2.7290332  2.4207876  1.9857521  1.5607214  1.2227559\n",
            " 0.92173195 0.7935691  0.7750349  0.7478738  1.3185511  2.0641375\n",
            " 1.5969095  1.8899653  1.7578187  1.3720322  0.9538183  1.2709689\n",
            " 2.3951368  3.7406518  3.9784863  4.8232193  4.355105   4.110234\n",
            " 3.9644265  3.7057064  3.5087862  3.3532531  2.9005764  2.3533852\n",
            " 2.0657613  2.0055282  1.9172113  1.6582837  1.3532515  1.3735843\n",
            " 1.2561908  2.088635   2.9362762  3.2248743  3.3357382  3.407432\n",
            " 3.6763117  3.1887913  2.8978457  2.8675334  3.1136658  3.0702755\n",
            " 3.0223932  2.834406   3.1173038  3.3554823  3.5835762  3.7532372\n",
            " 3.767327   3.7336738  3.7200422  3.65632    3.3121572  4.167641\n",
            " 4.425715   4.849802   5.0403056  5.061195   5.0485015  5.2103167\n",
            " 5.1648517  4.878787   4.8584466  5.205177   5.3131366  5.3465614\n",
            " 5.364263   5.3854656  5.383234   5.2951994  5.248533   4.809922\n",
            " 4.4115114  4.182468   4.0061197  3.9259944  3.5377433  4.673987\n",
            " 5.3265357  5.5282187  5.777665   6.0065413  6.201224   6.6017904\n",
            " 6.4965224  5.859079   6.011291   6.1920924  6.1365614  6.113323\n",
            " 6.116653   6.1370997  6.048621   5.8440485  5.689501   5.698753\n",
            " 5.938722   6.0456576  6.169236   6.0319667  5.653405   7.0747304\n",
            " 7.584515   7.552273   7.6448584  7.744577   7.76528    7.610727\n",
            " 7.3918223  6.553182   6.8115396  6.895305   6.6927743  6.270946\n",
            " 6.0575757  5.7825427  5.6775136  5.458348   5.271323   5.118032\n",
            " 4.9200377  4.7093744  4.647893   4.66278    4.3656025  4.274677\n",
            " 4.599727   4.7813134  4.944431   4.863228   4.986974   4.8911395\n",
            " 4.8637166  4.5463166  4.645027   4.9445915  4.9174833  5.476427\n",
            " 5.5202665  5.474209   5.3577256  5.3821864  5.325925   4.9436865\n",
            " 4.862352   4.8874044  4.6394105  4.3783107  3.7697284  4.2913027\n",
            " 3.9706216  3.676193   3.4934986  3.3533618  3.2395635  2.986843\n",
            " 2.979894   2.9542246  3.0516052  3.301676   3.5603912  4.1300607\n",
            " 4.2854333  4.3148975  4.430075   4.4876785  4.4583435  4.049702\n",
            " 3.9133499  3.8138502  3.7502215  3.6558263  3.3836982  4.7742105\n",
            " 5.233917   5.116933   4.9812455  5.0265274  4.995862   4.8659\n",
            " 4.978319   4.8441405  4.9658613  5.1829195  5.274335   5.5071235\n",
            " 5.5762405  5.4668627  5.318845   5.126517   4.9322596  4.307811\n",
            " 3.918678   3.7664456  3.7126212  3.591972   3.4363678  4.6541734\n",
            " 4.5877686  4.594073   4.652406   4.7447734  4.894436   5.3598356\n",
            " 5.508484   5.0845046  5.24276    5.487969   5.589638   5.685784\n",
            " 5.529797   5.4102273  5.215562   4.984599   4.863536   4.3583617\n",
            " 4.0960765  4.093862   4.1036487  4.1055784  3.7048287  4.7411776\n",
            " 5.9831305  6.511639   6.988847   7.4850364  7.922747   7.0817466\n",
            " 6.65887    6.5812063  6.8508034  7.144251   7.458544   7.595435\n",
            " 7.536328   7.534993   7.5160117  7.4118376  7.3484507  6.868207\n",
            " 6.772185   6.677536   6.5188456  6.3119564  5.938819   6.802895\n",
            " 7.4658766  7.2799497  7.0840716  7.0742097  6.987629   6.6104236\n",
            " 5.9930406  5.6745563  6.1556582  6.407979   6.555191   6.418004\n",
            " 6.1759653  5.9088306  5.8679347  5.7384257  5.825288   5.5874724\n",
            " 5.5376606  5.7098856  5.599099   5.4293942  5.1884365  6.2084727\n",
            " 7.0168505  7.1917925  7.14873    7.1719484  7.4477496  7.250273\n",
            " 7.1266227  6.4214272  6.5579615  6.9200573  7.030537   7.2507286\n",
            " 7.1998243  7.1400123  7.17203    7.201606   7.140803   6.2996707\n",
            " 5.492337   5.0138783  4.464936   4.0578656  3.824473   5.20776\n",
            " 5.742627   5.740376   5.7859683  5.600857   5.521154   5.928152\n",
            " 6.031555   5.433837   5.780565   5.9632583  6.273662   6.2776318\n",
            " 6.1684136  6.197315   6.127273   6.177885   6.2675924  6.0847883\n",
            " 6.0558376  6.183422   6.279416   6.212827   5.9899354  7.1964974\n",
            " 8.022541   8.62686    8.683792   8.666214   8.477822   8.203604\n",
            " 7.212339   6.4156365  6.8105297  6.9919653  7.2104597  7.189373\n",
            " 6.9717455  6.7692423  6.528977   6.3480306  6.1974397  5.90129\n",
            " 5.8420367  5.853907   5.7669134  5.676658   5.356985   6.109821\n",
            " 7.36813    7.7714524  8.0309515  8.15763    8.262207   8.09885\n",
            " 7.7840004  6.9776664  7.370308   7.446877   7.2903     7.2996316\n",
            " 7.3743277  7.107991   6.8322573  6.74293    6.6960263  6.3772354\n",
            " 6.345894   6.337803   6.315166   6.226621   5.957781   7.2435346\n",
            " 8.070819   8.498234   8.7289295  8.782103   8.930076   8.471598\n",
            " 8.028537   7.7181454  8.045908   8.134483   8.350806   8.510975\n",
            " 8.351877   7.8547163  7.5315256  7.256658   6.9165506  6.591341\n",
            " 6.489412   6.5981607  6.535984   6.360452   6.0740304  6.5880494\n",
            " 6.9067993  6.784057   6.6908736  6.53961    6.3655825  6.3985033\n",
            " 5.846517   5.2939286  5.722832   5.9444594  5.96344    5.993664\n",
            " 6.2693105  6.4685774  6.696294   7.014025   7.288599   7.1949224\n",
            " 6.9405904  6.90221    6.8492045  6.7480392  6.4691215  6.5378966\n",
            " 7.747953   8.083321   8.142424   8.030717  ]\n"
          ]
        }
      ]
    },
    {
      "cell_type": "code",
      "source": [
        "from numpy import savetxt\n",
        "savetxt('new.csv', inv_yhat, delimiter='/n')\n",
        "open(\"new.csv\")"
      ],
      "metadata": {
        "id": "NxukD2d_7Ydk",
        "colab": {
          "base_uri": "https://localhost:8080/"
        },
        "outputId": "7edca8f6-173c-42e3-cc71-4e2e3916657d"
      },
      "execution_count": null,
      "outputs": [
        {
          "output_type": "execute_result",
          "data": {
            "text/plain": [
              "<_io.TextIOWrapper name='new.csv' mode='r' encoding='UTF-8'>"
            ]
          },
          "metadata": {},
          "execution_count": 18
        }
      ]
    },
    {
      "cell_type": "code",
      "source": [
        "from numpy import savetxt\n",
        "savetxt('newa.csv', inv_y, delimiter='/n')\n",
        "open(\"newa.csv\")"
      ],
      "metadata": {
        "id": "SXR9q1uB8dfD",
        "colab": {
          "base_uri": "https://localhost:8080/"
        },
        "outputId": "11bbe88f-cd8d-417b-ec2a-019db269fb99"
      },
      "execution_count": null,
      "outputs": [
        {
          "output_type": "execute_result",
          "data": {
            "text/plain": [
              "<_io.TextIOWrapper name='newa.csv' mode='r' encoding='UTF-8'>"
            ]
          },
          "metadata": {},
          "execution_count": 19
        }
      ]
    }
  ]
}