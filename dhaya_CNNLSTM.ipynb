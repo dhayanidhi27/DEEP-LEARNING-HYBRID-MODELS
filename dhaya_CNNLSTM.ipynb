{
  "nbformat": 4,
  "nbformat_minor": 0,
  "metadata": {
    "colab": {
      "name": "manjari_CNNLSTM.ipynb",
      "provenance": [],
      "collapsed_sections": []
    },
    "kernelspec": {
      "name": "python3",
      "display_name": "Python 3"
    },
    "language_info": {
      "name": "python"
    }
  },
  "cells": [
    {
      "cell_type": "code",
      "execution_count": null,
      "metadata": {
        "id": "__ZAs5qkvQPW"
      },
      "outputs": [],
      "source": [
        "import pandas as pd\n",
        "from datetime import datetime\n",
        "from math import sqrt\n",
        "import numpy as np\n",
        "from numpy import concatenate\n",
        "from matplotlib import pyplot\n",
        "from pandas import read_csv\n",
        "from pandas import DataFrame\n",
        "from keras.layers import Dropout\n",
        "from keras.layers import TimeDistributed\n",
        "from tensorflow.keras.callbacks import ModelCheckpoint\n",
        "from tensorflow.keras.optimizers import Adam\n",
        "from pandas import concat\n",
        "from sklearn.preprocessing import StandardScaler\n",
        "from sklearn.preprocessing import MinMaxScaler\n",
        "from sklearn.preprocessing import LabelEncoder\n",
        "from sklearn.metrics import mean_squared_error\n",
        "from keras.models import Sequential\n",
        "from keras.layers import Dense\n",
        "from keras.layers import LSTM,Bidirectional\n",
        "import pandas as pd\n",
        "from keras.layers import Flatten\n",
        "from keras.layers.convolutional import Conv1D\n",
        "from keras.layers.convolutional import MaxPooling1D\n",
        "from keras.layers import SimpleRNN\n",
        "from tensorflow import optimizers\n"
      ]
    },
    {
      "cell_type": "code",
      "source": [
        "# load dataset\n",
        "dataset = read_csv('DATASETAIML3.csv', header=0, index_col=0)\n",
        "values = dataset.values"
      ],
      "metadata": {
        "id": "d9gvWUY9v_Fy"
      },
      "execution_count": null,
      "outputs": []
    },
    {
      "cell_type": "code",
      "source": [
        "dataset.head()"
      ],
      "metadata": {
        "colab": {
          "base_uri": "https://localhost:8080/",
          "height": 206
        },
        "id": "kaLxyb38wzHO",
        "outputId": "59e82265-e4fd-418c-ecba-6f41b40c9ef4"
      },
      "execution_count": null,
      "outputs": [
        {
          "output_type": "execute_result",
          "data": {
            "text/plain": [
              "         Date  Time  WS [m/s]  DIR [°]\n",
              "0  1201950000     0      6.99    37.08\n",
              "1  1201950100   100      6.73    34.21\n",
              "2  1201950200   200      6.55    31.23\n",
              "3  1201950300   300      6.44    29.75\n",
              "4  1201950400   400      6.33    28.83"
            ],
            "text/html": [
              "\n",
              "  <div id=\"df-443d0d2a-4276-4cb0-bbd0-6faa291e3639\">\n",
              "    <div class=\"colab-df-container\">\n",
              "      <div>\n",
              "<style scoped>\n",
              "    .dataframe tbody tr th:only-of-type {\n",
              "        vertical-align: middle;\n",
              "    }\n",
              "\n",
              "    .dataframe tbody tr th {\n",
              "        vertical-align: top;\n",
              "    }\n",
              "\n",
              "    .dataframe thead th {\n",
              "        text-align: right;\n",
              "    }\n",
              "</style>\n",
              "<table border=\"1\" class=\"dataframe\">\n",
              "  <thead>\n",
              "    <tr style=\"text-align: right;\">\n",
              "      <th></th>\n",
              "      <th>Date</th>\n",
              "      <th>Time</th>\n",
              "      <th>WS [m/s]</th>\n",
              "      <th>DIR [°]</th>\n",
              "    </tr>\n",
              "  </thead>\n",
              "  <tbody>\n",
              "    <tr>\n",
              "      <th>0</th>\n",
              "      <td>1201950000</td>\n",
              "      <td>0</td>\n",
              "      <td>6.99</td>\n",
              "      <td>37.08</td>\n",
              "    </tr>\n",
              "    <tr>\n",
              "      <th>1</th>\n",
              "      <td>1201950100</td>\n",
              "      <td>100</td>\n",
              "      <td>6.73</td>\n",
              "      <td>34.21</td>\n",
              "    </tr>\n",
              "    <tr>\n",
              "      <th>2</th>\n",
              "      <td>1201950200</td>\n",
              "      <td>200</td>\n",
              "      <td>6.55</td>\n",
              "      <td>31.23</td>\n",
              "    </tr>\n",
              "    <tr>\n",
              "      <th>3</th>\n",
              "      <td>1201950300</td>\n",
              "      <td>300</td>\n",
              "      <td>6.44</td>\n",
              "      <td>29.75</td>\n",
              "    </tr>\n",
              "    <tr>\n",
              "      <th>4</th>\n",
              "      <td>1201950400</td>\n",
              "      <td>400</td>\n",
              "      <td>6.33</td>\n",
              "      <td>28.83</td>\n",
              "    </tr>\n",
              "  </tbody>\n",
              "</table>\n",
              "</div>\n",
              "      <button class=\"colab-df-convert\" onclick=\"convertToInteractive('df-443d0d2a-4276-4cb0-bbd0-6faa291e3639')\"\n",
              "              title=\"Convert this dataframe to an interactive table.\"\n",
              "              style=\"display:none;\">\n",
              "        \n",
              "  <svg xmlns=\"http://www.w3.org/2000/svg\" height=\"24px\"viewBox=\"0 0 24 24\"\n",
              "       width=\"24px\">\n",
              "    <path d=\"M0 0h24v24H0V0z\" fill=\"none\"/>\n",
              "    <path d=\"M18.56 5.44l.94 2.06.94-2.06 2.06-.94-2.06-.94-.94-2.06-.94 2.06-2.06.94zm-11 1L8.5 8.5l.94-2.06 2.06-.94-2.06-.94L8.5 2.5l-.94 2.06-2.06.94zm10 10l.94 2.06.94-2.06 2.06-.94-2.06-.94-.94-2.06-.94 2.06-2.06.94z\"/><path d=\"M17.41 7.96l-1.37-1.37c-.4-.4-.92-.59-1.43-.59-.52 0-1.04.2-1.43.59L10.3 9.45l-7.72 7.72c-.78.78-.78 2.05 0 2.83L4 21.41c.39.39.9.59 1.41.59.51 0 1.02-.2 1.41-.59l7.78-7.78 2.81-2.81c.8-.78.8-2.07 0-2.86zM5.41 20L4 18.59l7.72-7.72 1.47 1.35L5.41 20z\"/>\n",
              "  </svg>\n",
              "      </button>\n",
              "      \n",
              "  <style>\n",
              "    .colab-df-container {\n",
              "      display:flex;\n",
              "      flex-wrap:wrap;\n",
              "      gap: 12px;\n",
              "    }\n",
              "\n",
              "    .colab-df-convert {\n",
              "      background-color: #E8F0FE;\n",
              "      border: none;\n",
              "      border-radius: 50%;\n",
              "      cursor: pointer;\n",
              "      display: none;\n",
              "      fill: #1967D2;\n",
              "      height: 32px;\n",
              "      padding: 0 0 0 0;\n",
              "      width: 32px;\n",
              "    }\n",
              "\n",
              "    .colab-df-convert:hover {\n",
              "      background-color: #E2EBFA;\n",
              "      box-shadow: 0px 1px 2px rgba(60, 64, 67, 0.3), 0px 1px 3px 1px rgba(60, 64, 67, 0.15);\n",
              "      fill: #174EA6;\n",
              "    }\n",
              "\n",
              "    [theme=dark] .colab-df-convert {\n",
              "      background-color: #3B4455;\n",
              "      fill: #D2E3FC;\n",
              "    }\n",
              "\n",
              "    [theme=dark] .colab-df-convert:hover {\n",
              "      background-color: #434B5C;\n",
              "      box-shadow: 0px 1px 3px 1px rgba(0, 0, 0, 0.15);\n",
              "      filter: drop-shadow(0px 1px 2px rgba(0, 0, 0, 0.3));\n",
              "      fill: #FFFFFF;\n",
              "    }\n",
              "  </style>\n",
              "\n",
              "      <script>\n",
              "        const buttonEl =\n",
              "          document.querySelector('#df-443d0d2a-4276-4cb0-bbd0-6faa291e3639 button.colab-df-convert');\n",
              "        buttonEl.style.display =\n",
              "          google.colab.kernel.accessAllowed ? 'block' : 'none';\n",
              "\n",
              "        async function convertToInteractive(key) {\n",
              "          const element = document.querySelector('#df-443d0d2a-4276-4cb0-bbd0-6faa291e3639');\n",
              "          const dataTable =\n",
              "            await google.colab.kernel.invokeFunction('convertToInteractive',\n",
              "                                                     [key], {});\n",
              "          if (!dataTable) return;\n",
              "\n",
              "          const docLinkHtml = 'Like what you see? Visit the ' +\n",
              "            '<a target=\"_blank\" href=https://colab.research.google.com/notebooks/data_table.ipynb>data table notebook</a>'\n",
              "            + ' to learn more about interactive tables.';\n",
              "          element.innerHTML = '';\n",
              "          dataTable['output_type'] = 'display_data';\n",
              "          await google.colab.output.renderOutput(dataTable, element);\n",
              "          const docLink = document.createElement('div');\n",
              "          docLink.innerHTML = docLinkHtml;\n",
              "          element.appendChild(docLink);\n",
              "        }\n",
              "      </script>\n",
              "    </div>\n",
              "  </div>\n",
              "  "
            ]
          },
          "metadata": {},
          "execution_count": 3
        }
      ]
    },
    {
      "cell_type": "code",
      "source": [
        "# dataset.dropna()\n",
        "dataset.drop(dataset.columns[[1]], axis = 1, inplace = True)\n",
        "print(dataset.head())"
      ],
      "metadata": {
        "colab": {
          "base_uri": "https://localhost:8080/"
        },
        "id": "dKQ8ZJk5xe3E",
        "outputId": "ee4a6f9b-319b-4cd5-8c96-c532de92003b"
      },
      "execution_count": null,
      "outputs": [
        {
          "output_type": "stream",
          "name": "stdout",
          "text": [
            "         Date  WS [m/s]  DIR [°]\n",
            "0  1201950000      6.99    37.08\n",
            "1  1201950100      6.73    34.21\n",
            "2  1201950200      6.55    31.23\n",
            "3  1201950300      6.44    29.75\n",
            "4  1201950400      6.33    28.83\n"
          ]
        }
      ]
    },
    {
      "cell_type": "code",
      "source": [
        "# convert series to supervised learning\n",
        "def series_to_supervised(data, n_in=1, n_out=1, dropnan=True):\n",
        "\tn_vars = 1 if type(data) is list else data.shape[1]\n",
        "\tdf = DataFrame(data)\n",
        "\tcols, names = list(), list()\n",
        "\t# input sequence (t-n, ... t-1)\n",
        "\tfor i in range(n_in, 0, -1):\n",
        "\t\tcols.append(df.shift(i))\n",
        "\t\tnames += [('var%d(t-%d)' % (j+1, i)) for j in range(n_vars)]\n",
        "\t# forecast sequence (t, t+1, ... t+n)\n",
        "\tfor i in range(0, n_out):\n",
        "\t\tcols.append(df.shift(-i))\n",
        "\t\tif i == 0:\n",
        "\t\t\tnames += [('var%d(t)' % (j+1)) for j in range(n_vars)]\n",
        "\t\telse:\n",
        "\t\t\tnames += [('var%d(t+%d)' % (j+1, i)) for j in range(n_vars)]\n",
        "\t# put it all together\n",
        "\tagg = concat(cols, axis=1)\n",
        "\tagg.columns = names\n",
        "\t# drop rows with NaN values\n",
        "\tif dropnan:\n",
        "\t\tagg.dropna(inplace=True)\n",
        "\treturn agg"
      ],
      "metadata": {
        "id": "OCwQqZ7sxoOg"
      },
      "execution_count": null,
      "outputs": []
    },
    {
      "cell_type": "code",
      "source": [
        "#dataset['Day'] = pd.to_datetime(dataset['Day'])\n",
        "dataset = dataset.set_index('Date')\n",
        "values = dataset.values\n",
        "encoder = LabelEncoder()\n",
        "values[:, 1] = encoder.fit_transform(values[:, 1])\n",
        "values = values.astype(float)\n",
        "scaler = StandardScaler()\n",
        "scaled = scaler.fit_transform(values)\n",
        "print()\n",
        "print(scaled[:, 1])"
      ],
      "metadata": {
        "colab": {
          "base_uri": "https://localhost:8080/"
        },
        "id": "w5GqOdnMx0ZB",
        "outputId": "7ac599c2-edaa-4fd8-dd78-8bd1fcdf1281"
      },
      "execution_count": null,
      "outputs": [
        {
          "output_type": "stream",
          "name": "stdout",
          "text": [
            "\n",
            "[-1.41118727 -1.44509529 -1.48030291 ... -1.39405605 -1.44769451\n",
            " -1.4983793 ]\n"
          ]
        }
      ]
    },
    {
      "cell_type": "code",
      "source": [
        "n_input = 3\n",
        "n_features = 2\n",
        "\n",
        "reframed = series_to_supervised(scaled, n_input, 1)\n",
        "#Splitting the dataset\n",
        "values = reframed.values\n",
        "train = values[:140000, :]\n",
        "test = values[140000:, :]\n",
        "\n",
        "n_obs = n_input * n_features\n",
        "train_X, train_y = train[:, :n_obs], train[:, -n_features]\n",
        "test_X, test_y = test[:, :n_obs], test[:, -n_features]\n",
        "print(train_X.shape, len(train_X), train_y.shape)\n",
        "\n",
        "train_X = train_X.reshape((train_X.shape[0], n_input, n_features))\n",
        "test_X = test_X.reshape((test_X.shape[0], n_input, n_features))\n",
        "print(train_X.shape, train_y.shape, test_X.shape, test_y.shape)"
      ],
      "metadata": {
        "colab": {
          "base_uri": "https://localhost:8080/"
        },
        "id": "SiYDU1lsyU6k",
        "outputId": "e9e5356e-ccde-470b-9547-1612b5269731"
      },
      "execution_count": null,
      "outputs": [
        {
          "output_type": "stream",
          "name": "stdout",
          "text": [
            "(140000, 6) 140000 (140000,)\n",
            "(140000, 3, 2) (140000,) (35317, 3, 2) (35317,)\n"
          ]
        }
      ]
    },
    {
      "cell_type": "code",
      "source": [
        "model = Sequential()\n",
        "model.add(Conv1D(filters=64, kernel_size=2, activation='relu', input_shape=(n_input, n_features)))\n",
        "model.add(MaxPooling1D(pool_size=2))\n",
        "model.add(LSTM(100, activation='relu', input_shape=(n_input, n_features)))\n",
        "#model.add(LSTM(100,activation=\"relu\",input_shape=(n_input, n_features)))'\n",
        "#model.add(Dropout(0.6))\n",
        "model.add(Dense(1))\n",
        "\n",
        "model.compile(optimizer='adam', loss='mse')\n",
        "# fit network\n",
        "history = model.fit(train_X, train_y, epochs=50, batch_size=72, validation_data=(test_X, test_y), verbose=2, shuffle=False)\n",
        "# plot history\n",
        "pyplot.plot(history.history['loss'], label='train')\n",
        "pyplot.plot(history.history['val_loss'], label='test')\n",
        "pyplot.legend()\n",
        "pyplot.show()"
      ],
      "metadata": {
        "colab": {
          "base_uri": "https://localhost:8080/",
          "height": 1000
        },
        "id": "soJXD6dY4aYB",
        "outputId": "ddfd546a-578a-4fb0-87c2-44efc6b520ab"
      },
      "execution_count": null,
      "outputs": [
        {
          "output_type": "stream",
          "name": "stdout",
          "text": [
            "Epoch 1/50\n",
            "1945/1945 - 10s - loss: 0.0520 - val_loss: 0.0269 - 10s/epoch - 5ms/step\n",
            "Epoch 2/50\n",
            "1945/1945 - 8s - loss: 0.0173 - val_loss: 0.0243 - 8s/epoch - 4ms/step\n",
            "Epoch 3/50\n",
            "1945/1945 - 8s - loss: 0.0164 - val_loss: 0.0232 - 8s/epoch - 4ms/step\n",
            "Epoch 4/50\n",
            "1945/1945 - 7s - loss: 0.0159 - val_loss: 0.0235 - 7s/epoch - 4ms/step\n",
            "Epoch 5/50\n",
            "1945/1945 - 6s - loss: 0.0156 - val_loss: 0.0241 - 6s/epoch - 3ms/step\n",
            "Epoch 6/50\n",
            "1945/1945 - 6s - loss: 0.0152 - val_loss: 0.0243 - 6s/epoch - 3ms/step\n",
            "Epoch 7/50\n",
            "1945/1945 - 7s - loss: 0.0150 - val_loss: 0.0244 - 7s/epoch - 3ms/step\n",
            "Epoch 8/50\n",
            "1945/1945 - 6s - loss: 0.0147 - val_loss: 0.0243 - 6s/epoch - 3ms/step\n",
            "Epoch 9/50\n",
            "1945/1945 - 6s - loss: 0.0145 - val_loss: 0.0239 - 6s/epoch - 3ms/step\n",
            "Epoch 10/50\n",
            "1945/1945 - 7s - loss: 0.0143 - val_loss: 0.0234 - 7s/epoch - 4ms/step\n",
            "Epoch 11/50\n",
            "1945/1945 - 7s - loss: 0.0140 - val_loss: 0.0230 - 7s/epoch - 4ms/step\n",
            "Epoch 12/50\n",
            "1945/1945 - 8s - loss: 0.0138 - val_loss: 0.0223 - 8s/epoch - 4ms/step\n",
            "Epoch 13/50\n",
            "1945/1945 - 8s - loss: 0.0135 - val_loss: 0.0217 - 8s/epoch - 4ms/step\n",
            "Epoch 14/50\n",
            "1945/1945 - 8s - loss: 0.0134 - val_loss: 0.0230 - 8s/epoch - 4ms/step\n",
            "Epoch 15/50\n",
            "1945/1945 - 8s - loss: 0.0132 - val_loss: 0.0228 - 8s/epoch - 4ms/step\n",
            "Epoch 16/50\n",
            "1945/1945 - 7s - loss: 0.0131 - val_loss: 0.0218 - 7s/epoch - 4ms/step\n",
            "Epoch 17/50\n",
            "1945/1945 - 6s - loss: 0.0130 - val_loss: 0.0212 - 6s/epoch - 3ms/step\n",
            "Epoch 18/50\n",
            "1945/1945 - 7s - loss: 0.0128 - val_loss: 0.0199 - 7s/epoch - 4ms/step\n",
            "Epoch 19/50\n",
            "1945/1945 - 7s - loss: 0.0127 - val_loss: 0.0196 - 7s/epoch - 3ms/step\n",
            "Epoch 20/50\n",
            "1945/1945 - 7s - loss: 0.0125 - val_loss: 0.0193 - 7s/epoch - 4ms/step\n",
            "Epoch 21/50\n",
            "1945/1945 - 7s - loss: 0.0124 - val_loss: 0.0185 - 7s/epoch - 3ms/step\n",
            "Epoch 22/50\n",
            "1945/1945 - 7s - loss: 0.0123 - val_loss: 0.0186 - 7s/epoch - 3ms/step\n",
            "Epoch 23/50\n",
            "1945/1945 - 8s - loss: 0.0123 - val_loss: 0.0173 - 8s/epoch - 4ms/step\n",
            "Epoch 24/50\n",
            "1945/1945 - 8s - loss: 0.0121 - val_loss: 0.0177 - 8s/epoch - 4ms/step\n",
            "Epoch 25/50\n",
            "1945/1945 - 8s - loss: 0.0120 - val_loss: 0.0168 - 8s/epoch - 4ms/step\n",
            "Epoch 26/50\n",
            "1945/1945 - 8s - loss: 0.0119 - val_loss: 0.0173 - 8s/epoch - 4ms/step\n",
            "Epoch 27/50\n",
            "1945/1945 - 8s - loss: 0.0118 - val_loss: 0.0172 - 8s/epoch - 4ms/step\n",
            "Epoch 28/50\n",
            "1945/1945 - 8s - loss: 0.0116 - val_loss: 0.0181 - 8s/epoch - 4ms/step\n",
            "Epoch 29/50\n",
            "1945/1945 - 8s - loss: 0.0117 - val_loss: 0.0156 - 8s/epoch - 4ms/step\n",
            "Epoch 30/50\n",
            "1945/1945 - 8s - loss: 0.0115 - val_loss: 0.0173 - 8s/epoch - 4ms/step\n",
            "Epoch 31/50\n",
            "1945/1945 - 8s - loss: 0.0113 - val_loss: 0.0179 - 8s/epoch - 4ms/step\n",
            "Epoch 32/50\n",
            "1945/1945 - 8s - loss: 0.0112 - val_loss: 0.0157 - 8s/epoch - 4ms/step\n",
            "Epoch 33/50\n",
            "1945/1945 - 8s - loss: 0.0111 - val_loss: 0.0162 - 8s/epoch - 4ms/step\n",
            "Epoch 34/50\n",
            "1945/1945 - 8s - loss: 0.0110 - val_loss: 0.0148 - 8s/epoch - 4ms/step\n",
            "Epoch 35/50\n",
            "1945/1945 - 8s - loss: 0.0108 - val_loss: 0.0157 - 8s/epoch - 4ms/step\n",
            "Epoch 36/50\n",
            "1945/1945 - 8s - loss: 0.0108 - val_loss: 0.0151 - 8s/epoch - 4ms/step\n",
            "Epoch 37/50\n",
            "1945/1945 - 9s - loss: 0.0107 - val_loss: 0.0149 - 9s/epoch - 5ms/step\n",
            "Epoch 38/50\n",
            "1945/1945 - 8s - loss: 0.0105 - val_loss: 0.0149 - 8s/epoch - 4ms/step\n",
            "Epoch 39/50\n",
            "1945/1945 - 8s - loss: 0.0106 - val_loss: 0.0138 - 8s/epoch - 4ms/step\n",
            "Epoch 40/50\n",
            "1945/1945 - 8s - loss: 0.0105 - val_loss: 0.0156 - 8s/epoch - 4ms/step\n",
            "Epoch 41/50\n",
            "1945/1945 - 8s - loss: 0.0103 - val_loss: 0.0149 - 8s/epoch - 4ms/step\n",
            "Epoch 42/50\n",
            "1945/1945 - 8s - loss: 0.0103 - val_loss: 0.0147 - 8s/epoch - 4ms/step\n",
            "Epoch 43/50\n",
            "1945/1945 - 8s - loss: 0.0101 - val_loss: 0.0148 - 8s/epoch - 4ms/step\n",
            "Epoch 44/50\n",
            "1945/1945 - 8s - loss: 0.0101 - val_loss: 0.0142 - 8s/epoch - 4ms/step\n",
            "Epoch 45/50\n",
            "1945/1945 - 8s - loss: 0.0100 - val_loss: 0.0142 - 8s/epoch - 4ms/step\n",
            "Epoch 46/50\n",
            "1945/1945 - 8s - loss: 0.0099 - val_loss: 0.0127 - 8s/epoch - 4ms/step\n",
            "Epoch 47/50\n",
            "1945/1945 - 8s - loss: 0.0099 - val_loss: 0.0124 - 8s/epoch - 4ms/step\n",
            "Epoch 48/50\n",
            "1945/1945 - 9s - loss: 0.0097 - val_loss: 0.0129 - 9s/epoch - 5ms/step\n",
            "Epoch 49/50\n",
            "1945/1945 - 8s - loss: 0.0097 - val_loss: 0.0124 - 8s/epoch - 4ms/step\n",
            "Epoch 50/50\n",
            "1945/1945 - 8s - loss: 0.0097 - val_loss: 0.0124 - 8s/epoch - 4ms/step\n"
          ]
        },
        {
          "output_type": "display_data",
          "data": {
            "text/plain": [
              "<Figure size 432x288 with 1 Axes>"
            ],
            "image/png": "[encoded data removed]"
          },
          "metadata": {
            "needs_background": "light"
          }
        }
      ]
    },
    {
      "cell_type": "code",
      "source": [
        "yhat = model.predict(test_X)\n",
        "test_X = test_X.reshape((test_X.shape[0], n_input*n_features))\n",
        "print(yhat.shape)\n",
        "print(len(yhat))\n",
        "print(test_y.shape)"
      ],
      "metadata": {
        "id": "R0kc5WhK5JpJ",
        "colab": {
          "base_uri": "https://localhost:8080/"
        },
        "outputId": "bc5c4761-5958-4427-fe25-c392b4c259b4"
      },
      "execution_count": null,
      "outputs": [
        {
          "output_type": "stream",
          "name": "stdout",
          "text": [
            "(35317, 1)\n",
            "35317\n",
            "(35317,)\n"
          ]
        }
      ]
    },
    {
      "cell_type": "code",
      "source": [
        "rmse = sqrt(mean_squared_error(test_y, yhat))\n",
        "print('Test RMSE: %.3f' % rmse)"
      ],
      "metadata": {
        "id": "Xkre04Do5U_i",
        "colab": {
          "base_uri": "https://localhost:8080/"
        },
        "outputId": "eb564cf4-db53-4e9f-f5b5-9e4674ea8640"
      },
      "execution_count": null,
      "outputs": [
        {
          "output_type": "stream",
          "name": "stdout",
          "text": [
            "Test RMSE: 0.111\n"
          ]
        }
      ]
    },
    {
      "cell_type": "code",
      "source": [
        "prediction_copies = np.repeat(yhat, scaled.shape[1], axis=-1)\n",
        "#y_pred_future = scaler.inverse_transform(prediction_copies)[:,0]"
      ],
      "metadata": {
        "id": "xJW5CcWX5aEg"
      },
      "execution_count": null,
      "outputs": []
    },
    {
      "cell_type": "code",
      "source": [
        "#inv_yhat = concatenate((prediction_copies, test_X[:, -2:]), axis=1)\n",
        "inv_yhat = scaler.inverse_transform(prediction_copies)\n",
        "inv_yhat = inv_yhat[:,0]"
      ],
      "metadata": {
        "id": "j49AOIwK5pE3"
      },
      "execution_count": null,
      "outputs": []
    },
    {
      "cell_type": "code",
      "source": [
        "test_y = test_y.reshape((len(test_y), 1))\n",
        "#inv_y = concatenate((test_y, test_X[:, -2:]), axis=1)\n",
        "\n",
        "test_copies = np.repeat(test_y, scaled.shape[1], axis=-1)\n",
        "#y_pred_future = scaler.inverse_transform(prediction_copies)[:,0]\n",
        "\n",
        "inv_y = scaler.inverse_transform(test_copies)\n",
        "inv_y = inv_y[:,0]\n",
        "\n",
        "mse = mean_squared_error(inv_y, inv_yhat)\n",
        "print('Test MSE: %.3f' % mse)\n",
        "\n",
        "rmse = sqrt(mean_squared_error(inv_y, inv_yhat))\n",
        "print('Test RMSE: %.3f' % rmse)\n",
        "\n",
        "from sklearn.metrics import mean_absolute_error,mean_absolute_percentage_error\n",
        "mae = mean_absolute_error(inv_y, inv_yhat)\n",
        "print('Test MAE: %.3f' % mae)\n",
        "\n",
        "mape = mean_absolute_percentage_error(inv_y, inv_yhat)\n",
        "print('Test MAPE: %.3f' % mape)"
      ],
      "metadata": {
        "id": "jv3W6uqn5srY",
        "colab": {
          "base_uri": "https://localhost:8080/"
        },
        "outputId": "3f3033a8-2b08-46f3-f9bd-4f2443beeb2d"
      },
      "execution_count": null,
      "outputs": [
        {
          "output_type": "stream",
          "name": "stdout",
          "text": [
            "Test MSE: 0.063\n",
            "Test RMSE: 0.251\n",
            "Test MAE: 0.190\n",
            "Test MAPE: 0.042\n"
          ]
        }
      ]
    },
    {
      "cell_type": "code",
      "source": [
        "#print(yhat)\n",
        "print(inv_yhat)"
      ],
      "metadata": {
        "id": "vczPOPni50bM",
        "colab": {
          "base_uri": "https://localhost:8080/"
        },
        "outputId": "8995b4f5-b484-4eb3-b3ad-0366d1cbe7ef"
      },
      "execution_count": null,
      "outputs": [
        {
          "output_type": "stream",
          "name": "stdout",
          "text": [
            "[7.773803  7.6773767 7.676763  ... 5.6989036 6.0567255 6.2427526]\n"
          ]
        }
      ]
    },
    {
      "cell_type": "code",
      "source": [
        "from matplotlib import pyplot as plt\n",
        "\n",
        "#Plot the graph between actual vs predicted values\n",
        "plt.figure(figsize=(10,6))\n",
        "plt.plot(inv_y[:300], color= 'green',label = 'ACTUAL WIND SPEED ')\n",
        "plt.plot(inv_yhat[:300] , color = 'red',label = 'FORECASTED WIND SPEED ')\n",
        "plt.title(\"WIND SPEED FORECASTING USING CNN-LSTM\")\n",
        "plt.xlabel(\"TIME INTERVAL (1 DAY)\")\n",
        "plt.ylabel(\"SPEED OF WIND(KMPH)\")\n",
        "plt.legend()\n",
        "plt.show()\n",
        "plt.savefig('graph.png')"
      ],
      "metadata": {
        "id": "zZ6SdnjA54dS",
        "colab": {
          "base_uri": "https://localhost:8080/",
          "height": 421
        },
        "outputId": "78311de1-f10c-49a8-aea9-69eabbeff624"
      },
      "execution_count": null,
      "outputs": [
        {
          "output_type": "display_data",
          "data": {
            "text/plain": [
              "<Figure size 720x432 with 1 Axes>"
            ],
            "image/png": "[encoded data removed]"
          },
          "metadata": {
            "needs_background": "light"
          }
        },
        {
          "output_type": "display_data",
          "data": {
            "text/plain": [
              "<Figure size 432x288 with 0 Axes>"
            ]
          },
          "metadata": {}
        }
      ]
    },
    {
      "cell_type": "code",
      "source": [],
      "metadata": {
        "id": "w8-znAaP6YCW"
      },
      "execution_count": null,
      "outputs": []
    },
    {
      "cell_type": "code",
      "source": [
        "print(inv_y[:724])"
      ],
      "metadata": {
        "id": "8g1zDvtU6Z16",
        "colab": {
          "base_uri": "https://localhost:8080/"
        },
        "outputId": "8933d32a-05cd-4478-cd22-af80ac0aa11e"
      },
      "execution_count": null,
      "outputs": [
        {
          "output_type": "stream",
          "name": "stdout",
          "text": [
            "[7.6  7.64 7.6  7.53 7.54 7.42 6.97 6.69 6.65 6.61 6.64 6.58 6.41 6.22\n",
            " 6.05 5.95 5.84 5.8  5.81 5.84 5.79 5.49 6.01 6.67 7.01 7.13 7.19 7.2\n",
            " 6.99 6.5  6.08 5.98 6.17 6.37 6.39 6.29 6.2  6.13 6.12 6.15 6.14 6.19\n",
            " 6.26 6.27 6.22 5.97 6.53 7.88 8.73 9.18 9.45 9.57 9.34 8.82 8.   7.68\n",
            " 7.69 7.71 7.7  7.66 7.58 7.5  7.41 7.38 7.13 6.89 6.76 6.62 6.37 5.83\n",
            " 6.44 7.24 7.71 7.88 7.98 8.15 8.22 8.12 7.74 7.72 7.91 8.06 8.18 8.17\n",
            " 8.04 7.92 7.8  7.73 7.54 7.34 7.13 6.91 6.63 6.21 6.51 7.   6.93 6.88\n",
            " 6.88 6.94 7.01 6.91 6.73 6.66 6.63 6.65 6.77 6.94 7.14 7.22 7.28 7.35\n",
            " 7.43 7.51 7.59 7.69 7.74 7.72 7.83 8.06 8.34 8.58 8.66 8.58 8.27 8.06\n",
            " 8.06 8.18 8.28 8.27 8.3  8.3  8.14 7.9  7.57 7.28 6.92 6.66 6.54 6.51\n",
            " 6.56 6.53 7.06 7.15 6.98 6.99 6.94 6.93 6.83 6.64 6.51 6.55 6.57 6.54\n",
            " 6.46 6.27 5.91 5.72 5.67 5.52 5.37 5.35 5.28 5.18 5.08 4.87 4.73 4.87\n",
            " 5.02 4.99 4.88 4.85 4.55 4.18 3.98 3.92 3.83 3.61 3.33 2.89 2.38 2.1\n",
            " 1.84 1.53 1.39 1.43 1.5  1.43 1.13 0.98 1.03 0.86 0.74 0.49 0.35 0.57\n",
            " 1.1  1.61 2.1  2.53 2.85 3.06 2.86 2.48 2.08 1.7  1.25 0.84 0.8  0.97\n",
            " 1.3  1.77 2.29 2.71 3.12 3.57 4.1  4.62 5.03 5.13 5.03 4.89 4.59 4.56\n",
            " 4.73 4.89 5.24 5.45 5.54 5.59 5.52 5.37 4.95 4.53 4.23 3.9  3.66 3.59\n",
            " 3.89 4.18 4.16 4.16 4.22 4.26 4.18 4.02 3.52 3.01 2.81 2.8  3.32 3.97\n",
            " 4.52 5.01 5.35 5.46 5.09 4.62 4.19 3.72 3.33 3.15 3.76 4.23 4.45 4.57\n",
            " 4.57 4.47 4.19 3.85 3.63 3.69 3.8  3.97 4.22 4.4  4.36 4.25 4.08 3.96\n",
            " 3.93 3.95 4.06 4.24 4.28 4.09 4.27 4.32 4.1  3.85 3.66 3.46 3.31 3.26\n",
            " 3.33 3.54 3.68 3.6  3.49 3.32 3.05 2.74 2.36 1.94 1.54 1.17 0.9  0.76\n",
            " 0.68 0.91 1.49 1.63 1.74 1.74 1.55 1.23 1.16 1.68 2.7  3.46 4.23 4.45\n",
            " 4.36 4.19 3.96 3.73 3.53 3.22 2.78 2.39 2.16 2.02 1.84 1.58 1.39 1.23\n",
            " 1.56 2.22 2.77 3.11 3.3  3.5  3.4  3.16 2.99 3.01 3.03 3.02 2.92 2.97\n",
            " 3.13 3.35 3.56 3.68 3.72 3.72 3.68 3.48 3.79 4.14 4.53 4.84 5.   5.04\n",
            " 5.12 5.14 4.98 4.87 5.01 5.19 5.31 5.37 5.4  5.41 5.36 5.29 4.93 4.57\n",
            " 4.3  4.1  3.97 3.66 4.15 4.84 5.31 5.64 5.88 6.1  6.39 6.51 6.01 5.92\n",
            " 6.05 6.13 6.16 6.17 6.18 6.14 6.01 5.85 5.76 5.84 5.98 6.11 6.1  5.65\n",
            " 6.38 7.16 7.49 7.65 7.75 7.8  7.74 7.58 6.98 6.79 6.83 6.8  6.56 6.29\n",
            " 6.01 5.81 5.6  5.39 5.2  4.96 4.76 4.66 4.62 4.23 4.16 4.36 4.6  4.81\n",
            " 4.86 4.92 4.9  4.86 4.68 4.62 4.76 4.85 5.19 5.44 5.52 5.47 5.44 5.4\n",
            " 5.17 4.96 4.87 4.7  4.45 3.98 4.06 4.01 3.84 3.65 3.48 3.34 3.15 3.03\n",
            " 2.96 2.97 3.1  3.32 3.73 4.05 4.22 4.34 4.42 4.44 4.24 4.04 3.89 3.79\n",
            " 3.7  3.52 4.15 4.79 5.05 5.04 5.01 4.98 4.9  4.91 4.86 4.89 5.04 5.19\n",
            " 5.39 5.53 5.53 5.44 5.27 5.05 4.58 4.16 3.89 3.75 3.64 3.51 4.06 4.39\n",
            " 4.53 4.6  4.67 4.78 5.09 5.37 5.3  5.26 5.37 5.51 5.63 5.61 5.52 5.37\n",
            " 5.16 4.97 4.63 4.3  4.14 4.09 4.08 3.88 4.29 5.27 6.07 6.65 7.17 7.65\n",
            " 7.29 6.94 6.72 6.77 7.   7.3  7.53 7.61 7.62 7.6  7.53 7.45 7.17 6.94\n",
            " 6.78 6.63 6.45 6.06 6.35 6.99 7.25 7.24 7.18 7.1  6.87 6.41 5.97 6.\n",
            " 6.23 6.45 6.5  6.38 6.15 5.99 5.86 5.83 5.71 5.61 5.65 5.63 5.48 5.21\n",
            " 5.74 6.51 6.97 7.15 7.21 7.36 7.36 7.27 6.78 6.59 6.74 6.94 7.16 7.25\n",
            " 7.24 7.23 7.24 7.22 6.62 5.86 5.22 4.7  4.28 3.97 4.6  5.3  5.65 5.77\n",
            " 5.72 5.62 5.76 5.92 5.71 5.72 5.85 6.09 6.23 6.25 6.26 6.23 6.23 6.28\n",
            " 6.22 6.15 6.17 6.24 6.25 6.13 6.64 7.51 8.27 8.61 8.74 8.69 8.5  7.79\n",
            " 7.01 6.78 6.87 7.09 7.21 7.15 6.98 6.75 6.53 6.35 6.12 5.96 5.89 5.82\n",
            " 5.74 5.39 5.72 6.72 7.46 7.88 8.12 8.27 8.25 8.05 7.43 7.3  7.37 7.37\n",
            " 7.36 7.39 7.28 7.06 6.88 6.77 6.57 6.43 6.36 6.33 6.28 6.02 6.63 7.62\n",
            " 8.27 8.63 8.81 8.95 8.79 8.43 8.05 8.01 8.1  8.28 8.47 8.49 8.22 7.86\n",
            " 7.52 7.18 6.84 6.61 6.56 6.54 6.45 6.14 6.3  6.63 6.77 6.76 6.66 6.51\n",
            " 6.44 6.07 5.6  5.57 5.77 5.92 6.   6.15 6.34 6.56 6.83 7.11 7.21 7.1\n",
            " 6.98 6.89 6.8  6.58 6.51 7.12 7.75 8.07 8.13 8.07]\n"
          ]
        }
      ]
    },
    {
      "cell_type": "code",
      "source": [
        "x=print(inv_yhat[:724])"
      ],
      "metadata": {
        "id": "ltyFdied6Gaf",
        "colab": {
          "base_uri": "https://localhost:8080/"
        },
        "outputId": "2821655c-55ee-4776-d2a4-e95fffaa6efb"
      },
      "execution_count": null,
      "outputs": [
        {
          "output_type": "stream",
          "name": "stdout",
          "text": [
            "[7.773803   7.6773767  7.676763   7.438866   7.320569   7.3731575\n",
            " 7.2322793  6.6199985  6.4950624  6.5063767  6.414101   6.4578075\n",
            " 6.435775   6.1638327  5.9720497  5.8549023  5.8282456  5.7512436\n",
            " 5.751391   5.7899566  5.842943   5.8292365  5.4413643  6.1735353\n",
            " 7.0858636  7.023963   7.16172    7.1086874  7.0725403  6.733477\n",
            " 5.963416   5.752488   5.8456955  6.0357866  6.4628577  6.417842\n",
            " 6.138214   6.032672   5.9882855  6.0043883  6.0581627  6.1177635\n",
            " 6.122639   6.2313366  6.289329   6.1686935  5.8678117  6.820446\n",
            " 8.958238   8.714904   9.342305   9.322918   9.223249   8.824352\n",
            " 8.316683   7.368143   7.3403053  7.400849   7.4929957  7.5109987\n",
            " 7.4475527  7.3277483  7.248257   7.1755714  7.1815963  6.9031835\n",
            " 6.6184206  6.572057   6.458347   6.214017   5.5614786  6.593285\n",
            " 7.7504406  7.8197875  8.019495   7.9704757  8.068625   8.145252\n",
            " 7.867533   7.329421   7.4518247  7.7138014  8.04391    8.103662\n",
            " 8.02429    7.734235   7.598776   7.498142   7.4740696  7.214566\n",
            " 7.0187593  6.853476   6.638696   6.2998676  5.862274   6.5511265\n",
            " 7.3480973  7.106761   6.742408   6.76909    6.7919946  6.8843303\n",
            " 6.723863   6.4256387  6.488307   6.445881   6.4638643  6.6634574\n",
            " 7.0045347  7.240029   7.282969   7.1303706  7.169071   7.2601666\n",
            " 7.3574123  7.4258623  7.539386   7.610511   7.5379195  7.6008787\n",
            " 7.9635773  8.349466   8.582275   8.52831    8.2468815  7.81069\n",
            " 7.6281652  7.642637   7.8711824  8.057805   7.989674   7.9486804\n",
            " 7.976935   7.645449   7.370918   7.016161   6.8977017  6.390286\n",
            " 6.2543616  6.2440195  6.2513423  6.2700086  6.288895   6.8328543\n",
            " 6.85861    6.553529   6.564355   6.372014   6.404336   6.2183003\n",
            " 6.0196795  6.0383887  6.0048776  6.0855966  6.0165396  5.9166455\n",
            " 5.6760206  5.223415   5.314396   5.3426566  5.1557055  5.0232644\n",
            " 5.072833   4.992974   4.8994904  4.8237686  4.5306907  4.496987\n",
            " 4.670873   4.9415164  4.885406   4.6097527  4.5872555  4.114812\n",
            " 3.74899    3.6729403  3.7159553  3.642077   3.3791487  3.086613\n",
            " 2.5079498  1.9864635  1.9475212  1.6957016  1.2988033  1.3456197\n",
            " 1.5049953  1.5985289  1.4933991  1.0051284  0.89808226 1.0981874\n",
            " 1.0560579  0.69336367 0.38820365 0.6731696  0.91991234 1.5689874\n",
            " 1.9352934  2.406527   2.7663746  3.0098424  3.1648693  3.162131\n",
            " 2.2368963  1.8167706  1.4724512  1.0068684  0.9328985  1.1171446\n",
            " 1.2519517  1.4800816  2.0535524  2.5693915  2.9198635  3.2983453\n",
            " 3.8065844  4.4418015  4.9349875  5.222757   5.1992702  5.141466\n",
            " 4.852705   4.4035964  4.5693946  4.7526727  4.948452   5.5084543\n",
            " 5.5200014  5.5726357  5.5982614  5.519368   5.292057   4.68894\n",
            " 4.2941365  4.1178775  3.7897744  3.5474262  3.5801654  3.9878333\n",
            " 4.3373375  4.3778133  4.246627   4.340631   4.37996    4.2929792\n",
            " 3.985927   3.1811051  2.7258062  2.7291427  2.9403148  3.5983148\n",
            " 4.394176   4.7934823  5.25359    5.434134   5.4730706  4.794897\n",
            " 4.199754   3.9097621  3.428034   3.1320212  3.1144464  4.006786\n",
            " 4.497092   4.542137   4.6258297  4.667549   4.5090513  4.0657434\n",
            " 3.7016287  3.583079   3.7401247  3.8495061  4.07596    4.3729954\n",
            " 4.490714   4.5222883  4.26725    4.0510387  3.948946   3.9874897\n",
            " 4.0310187  4.169726   4.340164   4.4357176  4.212368   4.3802853\n",
            " 4.435725   4.2342033  3.8194292  3.6520844  3.4729648  3.3264735\n",
            " 3.3180807  3.4397054  3.6386142  3.6869667  3.4773376  3.3250122\n",
            " 3.0787687  2.773386   2.481265   2.069018   1.6543131  1.3134847\n",
            " 0.9931283  0.794497   0.7320061  0.82689285 1.2827597  2.0222974\n",
            " 2.2942696  1.8603256  1.9306645  1.6286736  1.2298598  1.3573775\n",
            " 2.0612054  3.4959857  3.755252   4.6376815  4.30766    4.174338\n",
            " 3.99827    3.7457743  3.5389144  3.3530908  2.9564471  2.3977456\n",
            " 2.0932276  1.9952509  1.8701477  1.6884503  1.5115952  1.497808\n",
            " 1.4292502  1.9612131  2.7231817  3.038675   3.276772   3.3896503\n",
            " 3.5562243  3.529059   3.0456681  2.9278507  2.987504   3.0667467\n",
            " 3.1526556  3.1159425  3.1963933  3.3402882  3.506712   3.7095888\n",
            " 3.849184   3.8997192  3.8664184  3.7492065  3.5222425  3.8879356\n",
            " 4.379242   4.7605834  4.983656   5.051803   5.087107   5.1215997\n",
            " 5.1879897  5.0085726  4.8251767  5.012826   5.3001623  5.353711\n",
            " 5.396283   5.370074   5.3732104  5.327343   5.244264   4.716924\n",
            " 4.3594775  4.1985006  4.045102   3.9265723  3.659643   4.256909\n",
            " 5.4028344  5.4823427  5.746294   5.9627886  6.224445   6.5892215\n",
            " 6.5512457  5.924426   5.9266143  5.9946218  6.1329465  6.117535\n",
            " 6.077327   6.062152   6.032515   5.85433    5.692342   5.6736975\n",
            " 5.8655715  6.058592   6.165986   6.217331   5.5749707  6.66319\n",
            " 7.630366   7.5277042  7.817131   7.7323256  7.6970315  7.570498\n",
            " 7.3354034  6.5778165  6.727354   6.667409   6.6466813  6.273742\n",
            " 5.96994    5.722751   5.628252   5.4315023  5.2637978  5.111299\n",
            " 4.8861094  4.686858   4.6305995  4.6264954  4.2448964  4.2168765\n",
            " 4.4603186  4.702471   4.9013147  4.9133377  4.9515424  4.933129\n",
            " 4.840548   4.5900793  4.618821   4.727653   4.864651   5.44847\n",
            " 5.5488057  5.5561104  5.4498463  5.348315   5.320446   5.0403185\n",
            " 4.8539047  4.82951    4.6576967  4.365669   3.8151515  4.225276\n",
            " 4.1712747  3.9110494  3.6734269  3.4951794  3.3245397  3.0988276\n",
            " 2.9869442  3.017182   3.1277697  3.3019078  3.4660327  3.9645395\n",
            " 4.22069    4.332003   4.403378   4.478423   4.514818   4.29977\n",
            " 3.9931848  3.844956   3.7468321  3.6602328  3.4781165  4.4042053\n",
            " 5.2351656  5.110601   5.173616   5.037515   4.983667   4.907444\n",
            " 4.9440246  4.885794   4.900194   5.092353   5.2652636  5.503416\n",
            " 5.567256   5.5751376  5.374656   5.1326604  4.875035   4.1835327\n",
            " 3.9079735  3.764681   3.7021985  3.5956156  3.4941468  4.3096995\n",
            " 4.528729   4.606787   4.640164   4.683922   4.803563   5.305611\n",
            " 5.5268006  5.4243503  5.1859207  5.275399   5.5764556  5.661281\n",
            " 5.5909405  5.348533   5.1429076  4.9119434  4.809381   4.3737836\n",
            " 4.128023   4.1040096  4.1013966  4.118145   3.9339035  4.389385\n",
            " 6.109017   6.324673   6.776205   7.427273   7.918584   7.3618827\n",
            " 6.614826   6.4508367  6.5583987  6.997385   7.5457077  7.6947913\n",
            " 7.6744847  7.4793577  7.3946805  7.2926626  7.197694   6.831399\n",
            " 6.6315885  6.5373898  6.415554   6.2544556  5.791609   6.403285\n",
            " 7.4707174  7.2593403  7.3476305  7.0205617  6.9338384  6.5446606\n",
            " 5.9504905  5.6287055  5.8702927  6.307293   6.558517   6.5281725\n",
            " 6.2536225  5.872751   5.8105836  5.7375093  5.7612896  5.682675\n",
            " 5.565988   5.663429   5.7172155  5.496054   5.1643863  5.925495\n",
            " 7.046569   7.051183   7.200566   7.268818   7.278892   7.2933893\n",
            " 7.072542   6.3431773  6.4487677  6.535322   7.0614595  7.3108\n",
            " 7.3361874  7.1052074  7.035647   7.042029   7.036889   6.0470343\n",
            " 5.123535   4.758756   4.377015   4.0966215  3.9075599  4.7737675\n",
            " 5.799135   5.614817   5.72838    5.768154   5.5200944  5.661241\n",
            " 5.969699   5.527923   5.511322   5.7980514  6.2317576  6.269931\n",
            " 6.2608767  6.1259227  6.1041036  6.083513   6.157563   6.177229\n",
            " 6.0292473  6.075534   6.17094    6.252587   6.0797615  6.9322577\n",
            " 8.1049795  8.488575   8.731241   8.732507   8.40436    8.049737\n",
            " 7.1394277  6.508397   6.66961    6.6168847  7.087993   7.3114433\n",
            " 7.0387855  6.6460743  6.387293   6.240344   6.116903   5.8684797\n",
            " 5.814807   5.8182416  5.7708764  5.70158    5.285334   5.801199\n",
            " 7.560687   7.653511   7.978745   8.300239   8.285813   8.095605\n",
            " 7.704093   6.8845997  7.1235657  7.1262493  7.1998634  7.141806\n",
            " 7.147827   7.0735     6.7670255  6.609137   6.5705132  6.3375077\n",
            " 6.2630234  6.2548933  6.2677374  6.2443705  5.97398    6.9724717\n",
            " 8.319321   8.36201    8.834677   8.79294    8.70038    8.454938\n",
            " 7.997902   7.6099997  7.6817856  7.8336563  8.14401    8.415418\n",
            " 8.401608   7.8530617  7.3852625  7.0709     6.778575   6.4634185\n",
            " 6.337003   6.453742   6.4556403  6.3649373  6.017556   6.414489\n",
            " 6.850384   6.7829833  6.8399615  6.5564003  6.3264885  6.295968\n",
            " 5.7900567  5.2387295  5.5563173  5.8286324  5.979071   6.042512\n",
            " 6.2664914  6.488894   6.709409   7.0586796  7.3744984  7.395043\n",
            " 7.058938   6.8435082  6.773095   6.664319   6.3921323  6.475226\n",
            " 7.5661044  8.199587   8.245623   8.231549  ]\n"
          ]
        }
      ]
    },
    {
      "cell_type": "code",
      "source": [
        "from numpy import savetxt\n",
        "savetxt('new.csv', inv_yhat, delimiter='/n')\n",
        "open(\"new.csv\")"
      ],
      "metadata": {
        "id": "NxukD2d_7Ydk",
        "colab": {
          "base_uri": "https://localhost:8080/"
        },
        "outputId": "e875cbcc-3da7-4856-8f1c-bb473db70134"
      },
      "execution_count": null,
      "outputs": [
        {
          "output_type": "execute_result",
          "data": {
            "text/plain": [
              "<_io.TextIOWrapper name='new.csv' mode='r' encoding='UTF-8'>"
            ]
          },
          "metadata": {},
          "execution_count": 18
        }
      ]
    },
    {
      "cell_type": "code",
      "source": [
        "from numpy import savetxt\n",
        "savetxt('newa.csv', inv_y, delimiter='/n')\n",
        "open(\"newa.csv\")"
      ],
      "metadata": {
        "id": "SXR9q1uB8dfD",
        "colab": {
          "base_uri": "https://localhost:8080/"
        },
        "outputId": "e096da29-1d49-4ab4-dc6f-e7eb889e9181"
      },
      "execution_count": null,
      "outputs": [
        {
          "output_type": "execute_result",
          "data": {
            "text/plain": [
              "<_io.TextIOWrapper name='newa.csv' mode='r' encoding='UTF-8'>"
            ]
          },
          "metadata": {},
          "execution_count": 19
        }
      ]
    }
  ]
}