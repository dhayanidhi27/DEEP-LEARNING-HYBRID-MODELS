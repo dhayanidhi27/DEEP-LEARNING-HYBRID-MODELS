{
  "nbformat": 4,
  "nbformat_minor": 0,
  "metadata": {
    "colab": {
      "name": " manjari-biLSTM.ipynb",
      "provenance": [],
      "collapsed_sections": []
    },
    "kernelspec": {
      "name": "python3",
      "display_name": "Python 3"
    },
    "language_info": {
      "name": "python"
    }
  },
  "cells": [
    {
      "cell_type": "code",
      "execution_count": null,
      "metadata": {
        "id": "__ZAs5qkvQPW"
      },
      "outputs": [],
      "source": [
        "import pandas as pd\n",
        "from datetime import datetime\n",
        "from math import sqrt\n",
        "import numpy as np\n",
        "from numpy import concatenate\n",
        "from matplotlib import pyplot\n",
        "from pandas import read_csv\n",
        "from pandas import DataFrame\n",
        "from keras.layers import Dropout\n",
        "from keras.layers import TimeDistributed\n",
        "from tensorflow.keras.callbacks import ModelCheckpoint\n",
        "from tensorflow.keras.optimizers import Adam\n",
        "from pandas import concat\n",
        "from sklearn.preprocessing import MinMaxScaler\n",
        "from sklearn.preprocessing import StandardScaler\n",
        "from sklearn.preprocessing import LabelEncoder\n",
        "from sklearn.metrics import mean_squared_error\n",
        "from keras.models import Sequential\n",
        "from keras.layers import Dense\n",
        "from keras.layers import LSTM,Bidirectional\n",
        "import pandas as pd\n",
        "from keras.layers import Flatten\n",
        "from keras.layers.convolutional import Conv1D\n",
        "from keras.layers.convolutional import MaxPooling1D\n",
        "from keras.layers import SimpleRNN\n",
        "from tensorflow import optimizers\n"
      ]
    },
    {
      "cell_type": "code",
      "source": [
        "# load dataset\n",
        "dataset = read_csv('DATASETAIML3.csv', header=0, index_col=0)\n",
        "values = dataset.values"
      ],
      "metadata": {
        "id": "d9gvWUY9v_Fy"
      },
      "execution_count": null,
      "outputs": []
    },
    {
      "cell_type": "code",
      "source": [
        "dataset.head()"
      ],
      "metadata": {
        "colab": {
          "base_uri": "https://localhost:8080/",
          "height": 206
        },
        "id": "kaLxyb38wzHO",
        "outputId": "a1d410d7-998c-4f5d-d92d-0863648c988e"
      },
      "execution_count": null,
      "outputs": [
        {
          "output_type": "execute_result",
          "data": {
            "text/plain": [
              "         Date  Time  WS [m/s]  DIR [°]\n",
              "0  1201950000     0      6.99    37.08\n",
              "1  1201950100   100      6.73    34.21\n",
              "2  1201950200   200      6.55    31.23\n",
              "3  1201950300   300      6.44    29.75\n",
              "4  1201950400   400      6.33    28.83"
            ],
            "text/html": [
              "\n",
              "  <div id=\"df-92935d5e-89ab-4265-ac27-b32bbddca3d9\">\n",
              "    <div class=\"colab-df-container\">\n",
              "      <div>\n",
              "<style scoped>\n",
              "    .dataframe tbody tr th:only-of-type {\n",
              "        vertical-align: middle;\n",
              "    }\n",
              "\n",
              "    .dataframe tbody tr th {\n",
              "        vertical-align: top;\n",
              "    }\n",
              "\n",
              "    .dataframe thead th {\n",
              "        text-align: right;\n",
              "    }\n",
              "</style>\n",
              "<table border=\"1\" class=\"dataframe\">\n",
              "  <thead>\n",
              "    <tr style=\"text-align: right;\">\n",
              "      <th></th>\n",
              "      <th>Date</th>\n",
              "      <th>Time</th>\n",
              "      <th>WS [m/s]</th>\n",
              "      <th>DIR [°]</th>\n",
              "    </tr>\n",
              "  </thead>\n",
              "  <tbody>\n",
              "    <tr>\n",
              "      <th>0</th>\n",
              "      <td>1201950000</td>\n",
              "      <td>0</td>\n",
              "      <td>6.99</td>\n",
              "      <td>37.08</td>\n",
              "    </tr>\n",
              "    <tr>\n",
              "      <th>1</th>\n",
              "      <td>1201950100</td>\n",
              "      <td>100</td>\n",
              "      <td>6.73</td>\n",
              "      <td>34.21</td>\n",
              "    </tr>\n",
              "    <tr>\n",
              "      <th>2</th>\n",
              "      <td>1201950200</td>\n",
              "      <td>200</td>\n",
              "      <td>6.55</td>\n",
              "      <td>31.23</td>\n",
              "    </tr>\n",
              "    <tr>\n",
              "      <th>3</th>\n",
              "      <td>1201950300</td>\n",
              "      <td>300</td>\n",
              "      <td>6.44</td>\n",
              "      <td>29.75</td>\n",
              "    </tr>\n",
              "    <tr>\n",
              "      <th>4</th>\n",
              "      <td>1201950400</td>\n",
              "      <td>400</td>\n",
              "      <td>6.33</td>\n",
              "      <td>28.83</td>\n",
              "    </tr>\n",
              "  </tbody>\n",
              "</table>\n",
              "</div>\n",
              "      <button class=\"colab-df-convert\" onclick=\"convertToInteractive('df-92935d5e-89ab-4265-ac27-b32bbddca3d9')\"\n",
              "              title=\"Convert this dataframe to an interactive table.\"\n",
              "              style=\"display:none;\">\n",
              "        \n",
              "  <svg xmlns=\"http://www.w3.org/2000/svg\" height=\"24px\"viewBox=\"0 0 24 24\"\n",
              "       width=\"24px\">\n",
              "    <path d=\"M0 0h24v24H0V0z\" fill=\"none\"/>\n",
              "    <path d=\"M18.56 5.44l.94 2.06.94-2.06 2.06-.94-2.06-.94-.94-2.06-.94 2.06-2.06.94zm-11 1L8.5 8.5l.94-2.06 2.06-.94-2.06-.94L8.5 2.5l-.94 2.06-2.06.94zm10 10l.94 2.06.94-2.06 2.06-.94-2.06-.94-.94-2.06-.94 2.06-2.06.94z\"/><path d=\"M17.41 7.96l-1.37-1.37c-.4-.4-.92-.59-1.43-.59-.52 0-1.04.2-1.43.59L10.3 9.45l-7.72 7.72c-.78.78-.78 2.05 0 2.83L4 21.41c.39.39.9.59 1.41.59.51 0 1.02-.2 1.41-.59l7.78-7.78 2.81-2.81c.8-.78.8-2.07 0-2.86zM5.41 20L4 18.59l7.72-7.72 1.47 1.35L5.41 20z\"/>\n",
              "  </svg>\n",
              "      </button>\n",
              "      \n",
              "  <style>\n",
              "    .colab-df-container {\n",
              "      display:flex;\n",
              "      flex-wrap:wrap;\n",
              "      gap: 12px;\n",
              "    }\n",
              "\n",
              "    .colab-df-convert {\n",
              "      background-color: #E8F0FE;\n",
              "      border: none;\n",
              "      border-radius: 50%;\n",
              "      cursor: pointer;\n",
              "      display: none;\n",
              "      fill: #1967D2;\n",
              "      height: 32px;\n",
              "      padding: 0 0 0 0;\n",
              "      width: 32px;\n",
              "    }\n",
              "\n",
              "    .colab-df-convert:hover {\n",
              "      background-color: #E2EBFA;\n",
              "      box-shadow: 0px 1px 2px rgba(60, 64, 67, 0.3), 0px 1px 3px 1px rgba(60, 64, 67, 0.15);\n",
              "      fill: #174EA6;\n",
              "    }\n",
              "\n",
              "    [theme=dark] .colab-df-convert {\n",
              "      background-color: #3B4455;\n",
              "      fill: #D2E3FC;\n",
              "    }\n",
              "\n",
              "    [theme=dark] .colab-df-convert:hover {\n",
              "      background-color: #434B5C;\n",
              "      box-shadow: 0px 1px 3px 1px rgba(0, 0, 0, 0.15);\n",
              "      filter: drop-shadow(0px 1px 2px rgba(0, 0, 0, 0.3));\n",
              "      fill: #FFFFFF;\n",
              "    }\n",
              "  </style>\n",
              "\n",
              "      <script>\n",
              "        const buttonEl =\n",
              "          document.querySelector('#df-92935d5e-89ab-4265-ac27-b32bbddca3d9 button.colab-df-convert');\n",
              "        buttonEl.style.display =\n",
              "          google.colab.kernel.accessAllowed ? 'block' : 'none';\n",
              "\n",
              "        async function convertToInteractive(key) {\n",
              "          const element = document.querySelector('#df-92935d5e-89ab-4265-ac27-b32bbddca3d9');\n",
              "          const dataTable =\n",
              "            await google.colab.kernel.invokeFunction('convertToInteractive',\n",
              "                                                     [key], {});\n",
              "          if (!dataTable) return;\n",
              "\n",
              "          const docLinkHtml = 'Like what you see? Visit the ' +\n",
              "            '<a target=\"_blank\" href=https://colab.research.google.com/notebooks/data_table.ipynb>data table notebook</a>'\n",
              "            + ' to learn more about interactive tables.';\n",
              "          element.innerHTML = '';\n",
              "          dataTable['output_type'] = 'display_data';\n",
              "          await google.colab.output.renderOutput(dataTable, element);\n",
              "          const docLink = document.createElement('div');\n",
              "          docLink.innerHTML = docLinkHtml;\n",
              "          element.appendChild(docLink);\n",
              "        }\n",
              "      </script>\n",
              "    </div>\n",
              "  </div>\n",
              "  "
            ]
          },
          "metadata": {},
          "execution_count": 36
        }
      ]
    },
    {
      "cell_type": "code",
      "source": [
        "# dataset.dropna()\n",
        "dataset.drop(dataset.columns[[1]], axis = 1, inplace = True)\n",
        "print(dataset.head())"
      ],
      "metadata": {
        "colab": {
          "base_uri": "https://localhost:8080/"
        },
        "id": "dKQ8ZJk5xe3E",
        "outputId": "176cbb96-9380-4383-9e46-ba3fe08f7159"
      },
      "execution_count": null,
      "outputs": [
        {
          "output_type": "stream",
          "name": "stdout",
          "text": [
            "         Date  WS [m/s]  DIR [°]\n",
            "0  1201950000      6.99    37.08\n",
            "1  1201950100      6.73    34.21\n",
            "2  1201950200      6.55    31.23\n",
            "3  1201950300      6.44    29.75\n",
            "4  1201950400      6.33    28.83\n"
          ]
        }
      ]
    },
    {
      "cell_type": "code",
      "source": [
        "# convert series to supervised learning\n",
        "def series_to_supervised(data, n_in=1, n_out=1, dropnan=True):\n",
        "\tn_vars = 1 if type(data) is list else data.shape[1]\n",
        "\tdf = DataFrame(data)\n",
        "\tcols, names = list(), list()\n",
        "\t# input sequence (t-n, ... t-1)\n",
        "\tfor i in range(n_in, 0, -1):\n",
        "\t\tcols.append(df.shift(i))\n",
        "\t\tnames += [('var%d(t-%d)' % (j+1, i)) for j in range(n_vars)]\n",
        "\t# forecast sequence (t, t+1, ... t+n)\n",
        "\tfor i in range(0, n_out):\n",
        "\t\tcols.append(df.shift(-i))\n",
        "\t\tif i == 0:\n",
        "\t\t\tnames += [('var%d(t)' % (j+1)) for j in range(n_vars)]\n",
        "\t\telse:\n",
        "\t\t\tnames += [('var%d(t+%d)' % (j+1, i)) for j in range(n_vars)]\n",
        "\t# put it all together\n",
        "\tagg = concat(cols, axis=1)\n",
        "\tagg.columns = names\n",
        "\t# drop rows with NaN values\n",
        "\tif dropnan:\n",
        "\t\tagg.dropna(inplace=True)\n",
        "\treturn agg"
      ],
      "metadata": {
        "id": "OCwQqZ7sxoOg"
      },
      "execution_count": null,
      "outputs": []
    },
    {
      "cell_type": "code",
      "source": [
        "#dataset['Day'] = pd.to_datetime(dataset['Day'])\n",
        "dataset = dataset.set_index('Date')\n",
        "values = dataset.values\n",
        "encoder = LabelEncoder()\n",
        "values[:, 1] = encoder.fit_transform(values[:, 1])\n",
        "values = values.astype(float)\n",
        "scaler = StandardScaler()\n",
        "scaled = scaler.fit_transform(values)\n",
        "print()\n",
        "print(scaled[:, 1])"
      ],
      "metadata": {
        "colab": {
          "base_uri": "https://localhost:8080/"
        },
        "id": "w5GqOdnMx0ZB",
        "outputId": "77f82f8a-7211-4619-ea0d-6aeaca9a47de"
      },
      "execution_count": null,
      "outputs": [
        {
          "output_type": "stream",
          "name": "stdout",
          "text": [
            "\n",
            "[-1.41118727 -1.44509529 -1.48030291 ... -1.39405605 -1.44769451\n",
            " -1.4983793 ]\n"
          ]
        }
      ]
    },
    {
      "cell_type": "code",
      "source": [
        "n_input = 3\n",
        "n_features = 2\n",
        "\n",
        "reframed = series_to_supervised(scaled, n_input, 1)\n",
        "#Splitting the dataset\n",
        "values = reframed.values\n",
        "train = values[:140000, :]\n",
        "test = values[140000:, :]\n",
        "\n",
        "n_obs = n_input * n_features\n",
        "train_X, train_y = train[:, :n_obs], train[:, -n_features]\n",
        "test_X, test_y = test[:, :n_obs], test[:, -n_features]\n",
        "print(train_X.shape, len(train_X), train_y.shape)\n",
        "\n",
        "train_X = train_X.reshape((train_X.shape[0], n_input, n_features))\n",
        "test_X = test_X.reshape((test_X.shape[0], n_input, n_features))\n",
        "print(train_X.shape, train_y.shape, test_X.shape, test_y.shape)"
      ],
      "metadata": {
        "colab": {
          "base_uri": "https://localhost:8080/"
        },
        "id": "SiYDU1lsyU6k",
        "outputId": "4fecdde9-096c-45d9-8ff7-f4eab085ca48"
      },
      "execution_count": null,
      "outputs": [
        {
          "output_type": "stream",
          "name": "stdout",
          "text": [
            "(140000, 6) 140000 (140000,)\n",
            "(140000, 3, 2) (140000,) (35317, 3, 2) (35317,)\n"
          ]
        }
      ]
    },
    {
      "cell_type": "code",
      "source": [
        "model = Sequential()\n",
        "model.add(Bidirectional(LSTM(100, input_shape=(n_input,n_features))))\n",
        "#model.add(Dropout(0.2))\n",
        "model.add(Dense(1))\n",
        "model.compile(loss='mae', optimizer='adam',metrics=['accuracy'])\n",
        "# fit network\n",
        "history = model.fit(train_X, train_y, epochs=50, batch_size=72, validation_data=(test_X, test_y), verbose=2, shuffle=False)\n",
        "# plot history\n",
        "pyplot.plot(history.history['loss'], label='train')\n",
        "pyplot.plot(history.history['val_loss'], label='test')\n",
        "pyplot.legend()\n",
        "pyplot.show()"
      ],
      "metadata": {
        "colab": {
          "base_uri": "https://localhost:8080/",
          "height": 1000
        },
        "id": "soJXD6dY4aYB",
        "outputId": "95a46573-0d4d-49a2-e60c-db05effbb224"
      },
      "execution_count": null,
      "outputs": [
        {
          "output_type": "stream",
          "name": "stdout",
          "text": [
            "Epoch 1/50\n",
            "1945/1945 - 33s - loss: 0.1113 - accuracy: 0.0000e+00 - val_loss: 0.0839 - val_accuracy: 0.0000e+00 - 33s/epoch - 17ms/step\n",
            "Epoch 2/50\n",
            "1945/1945 - 24s - loss: 0.0695 - accuracy: 0.0000e+00 - val_loss: 0.0940 - val_accuracy: 0.0000e+00 - 24s/epoch - 12ms/step\n",
            "Epoch 3/50\n",
            "1945/1945 - 15s - loss: 0.0647 - accuracy: 0.0000e+00 - val_loss: 0.0789 - val_accuracy: 0.0000e+00 - 15s/epoch - 8ms/step\n",
            "Epoch 4/50\n",
            "1945/1945 - 15s - loss: 0.0632 - accuracy: 0.0000e+00 - val_loss: 0.0765 - val_accuracy: 0.0000e+00 - 15s/epoch - 8ms/step\n",
            "Epoch 5/50\n",
            "1945/1945 - 16s - loss: 0.0624 - accuracy: 0.0000e+00 - val_loss: 0.0717 - val_accuracy: 0.0000e+00 - 16s/epoch - 8ms/step\n",
            "Epoch 6/50\n",
            "1945/1945 - 17s - loss: 0.0619 - accuracy: 0.0000e+00 - val_loss: 0.0678 - val_accuracy: 0.0000e+00 - 17s/epoch - 9ms/step\n",
            "Epoch 7/50\n",
            "1945/1945 - 16s - loss: 0.0616 - accuracy: 0.0000e+00 - val_loss: 0.0662 - val_accuracy: 0.0000e+00 - 16s/epoch - 8ms/step\n",
            "Epoch 8/50\n",
            "1945/1945 - 16s - loss: 0.0612 - accuracy: 0.0000e+00 - val_loss: 0.0660 - val_accuracy: 0.0000e+00 - 16s/epoch - 8ms/step\n",
            "Epoch 9/50\n",
            "1945/1945 - 18s - loss: 0.0606 - accuracy: 0.0000e+00 - val_loss: 0.0663 - val_accuracy: 0.0000e+00 - 18s/epoch - 9ms/step\n",
            "Epoch 10/50\n",
            "1945/1945 - 16s - loss: 0.0600 - accuracy: 0.0000e+00 - val_loss: 0.0660 - val_accuracy: 0.0000e+00 - 16s/epoch - 8ms/step\n",
            "Epoch 11/50\n",
            "1945/1945 - 15s - loss: 0.0595 - accuracy: 0.0000e+00 - val_loss: 0.0653 - val_accuracy: 0.0000e+00 - 15s/epoch - 8ms/step\n",
            "Epoch 12/50\n",
            "1945/1945 - 17s - loss: 0.0591 - accuracy: 0.0000e+00 - val_loss: 0.0636 - val_accuracy: 0.0000e+00 - 17s/epoch - 9ms/step\n",
            "Epoch 13/50\n",
            "1945/1945 - 15s - loss: 0.0585 - accuracy: 0.0000e+00 - val_loss: 0.0624 - val_accuracy: 0.0000e+00 - 15s/epoch - 8ms/step\n",
            "Epoch 14/50\n",
            "1945/1945 - 15s - loss: 0.0583 - accuracy: 0.0000e+00 - val_loss: 0.0611 - val_accuracy: 0.0000e+00 - 15s/epoch - 8ms/step\n",
            "Epoch 15/50\n",
            "1945/1945 - 15s - loss: 0.0581 - accuracy: 0.0000e+00 - val_loss: 0.0618 - val_accuracy: 0.0000e+00 - 15s/epoch - 8ms/step\n",
            "Epoch 16/50\n",
            "1945/1945 - 15s - loss: 0.0578 - accuracy: 0.0000e+00 - val_loss: 0.0615 - val_accuracy: 0.0000e+00 - 15s/epoch - 8ms/step\n",
            "Epoch 17/50\n",
            "1945/1945 - 17s - loss: 0.0576 - accuracy: 0.0000e+00 - val_loss: 0.0604 - val_accuracy: 0.0000e+00 - 17s/epoch - 9ms/step\n",
            "Epoch 18/50\n",
            "1945/1945 - 16s - loss: 0.0575 - accuracy: 0.0000e+00 - val_loss: 0.0595 - val_accuracy: 0.0000e+00 - 16s/epoch - 8ms/step\n",
            "Epoch 19/50\n",
            "1945/1945 - 15s - loss: 0.0573 - accuracy: 0.0000e+00 - val_loss: 0.0596 - val_accuracy: 0.0000e+00 - 15s/epoch - 8ms/step\n",
            "Epoch 20/50\n",
            "1945/1945 - 16s - loss: 0.0571 - accuracy: 0.0000e+00 - val_loss: 0.0597 - val_accuracy: 0.0000e+00 - 16s/epoch - 8ms/step\n",
            "Epoch 21/50\n",
            "1945/1945 - 15s - loss: 0.0570 - accuracy: 0.0000e+00 - val_loss: 0.0599 - val_accuracy: 0.0000e+00 - 15s/epoch - 8ms/step\n",
            "Epoch 22/50\n",
            "1945/1945 - 17s - loss: 0.0569 - accuracy: 0.0000e+00 - val_loss: 0.0597 - val_accuracy: 0.0000e+00 - 17s/epoch - 9ms/step\n",
            "Epoch 23/50\n",
            "1945/1945 - 16s - loss: 0.0569 - accuracy: 0.0000e+00 - val_loss: 0.0597 - val_accuracy: 0.0000e+00 - 16s/epoch - 8ms/step\n",
            "Epoch 24/50\n",
            "1945/1945 - 16s - loss: 0.0566 - accuracy: 0.0000e+00 - val_loss: 0.0608 - val_accuracy: 0.0000e+00 - 16s/epoch - 8ms/step\n",
            "Epoch 25/50\n",
            "1945/1945 - 16s - loss: 0.0567 - accuracy: 0.0000e+00 - val_loss: 0.0597 - val_accuracy: 0.0000e+00 - 16s/epoch - 8ms/step\n",
            "Epoch 26/50\n",
            "1945/1945 - 16s - loss: 0.0566 - accuracy: 0.0000e+00 - val_loss: 0.0599 - val_accuracy: 0.0000e+00 - 16s/epoch - 8ms/step\n",
            "Epoch 27/50\n",
            "1945/1945 - 16s - loss: 0.0565 - accuracy: 0.0000e+00 - val_loss: 0.0594 - val_accuracy: 0.0000e+00 - 16s/epoch - 8ms/step\n",
            "Epoch 28/50\n",
            "1945/1945 - 17s - loss: 0.0564 - accuracy: 0.0000e+00 - val_loss: 0.0605 - val_accuracy: 0.0000e+00 - 17s/epoch - 9ms/step\n",
            "Epoch 29/50\n",
            "1945/1945 - 16s - loss: 0.0564 - accuracy: 0.0000e+00 - val_loss: 0.0603 - val_accuracy: 0.0000e+00 - 16s/epoch - 8ms/step\n",
            "Epoch 30/50\n",
            "1945/1945 - 16s - loss: 0.0563 - accuracy: 0.0000e+00 - val_loss: 0.0606 - val_accuracy: 0.0000e+00 - 16s/epoch - 8ms/step\n",
            "Epoch 31/50\n",
            "1945/1945 - 16s - loss: 0.0563 - accuracy: 0.0000e+00 - val_loss: 0.0602 - val_accuracy: 0.0000e+00 - 16s/epoch - 8ms/step\n",
            "Epoch 32/50\n",
            "1945/1945 - 16s - loss: 0.0561 - accuracy: 0.0000e+00 - val_loss: 0.0601 - val_accuracy: 0.0000e+00 - 16s/epoch - 8ms/step\n",
            "Epoch 33/50\n",
            "1945/1945 - 17s - loss: 0.0561 - accuracy: 0.0000e+00 - val_loss: 0.0595 - val_accuracy: 0.0000e+00 - 17s/epoch - 9ms/step\n",
            "Epoch 34/50\n",
            "1945/1945 - 15s - loss: 0.0560 - accuracy: 0.0000e+00 - val_loss: 0.0596 - val_accuracy: 0.0000e+00 - 15s/epoch - 8ms/step\n",
            "Epoch 35/50\n",
            "1945/1945 - 16s - loss: 0.0560 - accuracy: 0.0000e+00 - val_loss: 0.0596 - val_accuracy: 0.0000e+00 - 16s/epoch - 8ms/step\n",
            "Epoch 36/50\n",
            "1945/1945 - 15s - loss: 0.0559 - accuracy: 0.0000e+00 - val_loss: 0.0591 - val_accuracy: 0.0000e+00 - 15s/epoch - 8ms/step\n",
            "Epoch 37/50\n",
            "1945/1945 - 16s - loss: 0.0558 - accuracy: 0.0000e+00 - val_loss: 0.0590 - val_accuracy: 0.0000e+00 - 16s/epoch - 8ms/step\n",
            "Epoch 38/50\n",
            "1945/1945 - 16s - loss: 0.0558 - accuracy: 0.0000e+00 - val_loss: 0.0594 - val_accuracy: 0.0000e+00 - 16s/epoch - 8ms/step\n",
            "Epoch 39/50\n",
            "1945/1945 - 16s - loss: 0.0557 - accuracy: 0.0000e+00 - val_loss: 0.0584 - val_accuracy: 0.0000e+00 - 16s/epoch - 8ms/step\n",
            "Epoch 40/50\n",
            "1945/1945 - 15s - loss: 0.0556 - accuracy: 0.0000e+00 - val_loss: 0.0585 - val_accuracy: 0.0000e+00 - 15s/epoch - 8ms/step\n",
            "Epoch 41/50\n",
            "1945/1945 - 15s - loss: 0.0556 - accuracy: 0.0000e+00 - val_loss: 0.0579 - val_accuracy: 0.0000e+00 - 15s/epoch - 8ms/step\n",
            "Epoch 42/50\n",
            "1945/1945 - 15s - loss: 0.0555 - accuracy: 0.0000e+00 - val_loss: 0.0591 - val_accuracy: 0.0000e+00 - 15s/epoch - 8ms/step\n",
            "Epoch 43/50\n",
            "1945/1945 - 15s - loss: 0.0554 - accuracy: 0.0000e+00 - val_loss: 0.0592 - val_accuracy: 0.0000e+00 - 15s/epoch - 8ms/step\n",
            "Epoch 44/50\n",
            "1945/1945 - 16s - loss: 0.0554 - accuracy: 0.0000e+00 - val_loss: 0.0586 - val_accuracy: 0.0000e+00 - 16s/epoch - 8ms/step\n",
            "Epoch 45/50\n",
            "1945/1945 - 16s - loss: 0.0554 - accuracy: 0.0000e+00 - val_loss: 0.0583 - val_accuracy: 0.0000e+00 - 16s/epoch - 8ms/step\n",
            "Epoch 46/50\n",
            "1945/1945 - 15s - loss: 0.0553 - accuracy: 0.0000e+00 - val_loss: 0.0591 - val_accuracy: 0.0000e+00 - 15s/epoch - 8ms/step\n",
            "Epoch 47/50\n",
            "1945/1945 - 16s - loss: 0.0553 - accuracy: 0.0000e+00 - val_loss: 0.0592 - val_accuracy: 0.0000e+00 - 16s/epoch - 8ms/step\n",
            "Epoch 48/50\n",
            "1945/1945 - 16s - loss: 0.0552 - accuracy: 0.0000e+00 - val_loss: 0.0589 - val_accuracy: 0.0000e+00 - 16s/epoch - 8ms/step\n",
            "Epoch 49/50\n",
            "1945/1945 - 17s - loss: 0.0552 - accuracy: 0.0000e+00 - val_loss: 0.0583 - val_accuracy: 0.0000e+00 - 17s/epoch - 9ms/step\n",
            "Epoch 50/50\n",
            "1945/1945 - 16s - loss: 0.0552 - accuracy: 0.0000e+00 - val_loss: 0.0587 - val_accuracy: 0.0000e+00 - 16s/epoch - 8ms/step\n"
          ]
        },
        {
          "output_type": "display_data",
          "data": {
            "text/plain": [
              "<Figure size 432x288 with 1 Axes>"
            ],
            "image/png": "[encoded data removed]"
          },
          "metadata": {
            "needs_background": "light"
          }
        }
      ]
    },
    {
      "cell_type": "code",
      "source": [
        "yhat = model.predict(test_X)\n",
        "test_X = test_X.reshape((test_X.shape[0], n_input*n_features))\n",
        "print(yhat.shape)\n",
        "print(len(yhat))\n",
        "print(test_y.shape)"
      ],
      "metadata": {
        "id": "R0kc5WhK5JpJ",
        "colab": {
          "base_uri": "https://localhost:8080/"
        },
        "outputId": "9cedc696-5ea5-42d2-f639-508d2a914c8d"
      },
      "execution_count": null,
      "outputs": [
        {
          "output_type": "stream",
          "name": "stdout",
          "text": [
            "(35317, 1)\n",
            "35317\n",
            "(35317,)\n"
          ]
        }
      ]
    },
    {
      "cell_type": "code",
      "source": [
        "rmse = sqrt(mean_squared_error(test_y, yhat))\n",
        "print('Test RMSE: %.3f' % rmse)"
      ],
      "metadata": {
        "id": "Xkre04Do5U_i",
        "colab": {
          "base_uri": "https://localhost:8080/"
        },
        "outputId": "7033f222-9e3a-4cfc-afda-f0b130a4ebb3"
      },
      "execution_count": null,
      "outputs": [
        {
          "output_type": "stream",
          "name": "stdout",
          "text": [
            "Test RMSE: 0.083\n"
          ]
        }
      ]
    },
    {
      "cell_type": "code",
      "source": [
        "prediction_copies = np.repeat(yhat, scaled.shape[1], axis=-1)\n",
        "#y_pred_future = scaler.inverse_transform(prediction_copies)[:,0]"
      ],
      "metadata": {
        "id": "xJW5CcWX5aEg"
      },
      "execution_count": null,
      "outputs": []
    },
    {
      "cell_type": "code",
      "source": [
        "#inv_yhat = concatenate((prediction_copies, test_X[:, -2:]), axis=1)\n",
        "inv_yhat = scaler.inverse_transform(prediction_copies)\n",
        "inv_yhat = inv_yhat[:,0]"
      ],
      "metadata": {
        "id": "j49AOIwK5pE3"
      },
      "execution_count": null,
      "outputs": []
    },
    {
      "cell_type": "code",
      "source": [
        "test_y = test_y.reshape((len(test_y), 1))\n",
        "#inv_y = concatenate((test_y, test_X[:, -2:]), axis=1)\n",
        "\n",
        "test_copies = np.repeat(test_y, scaled.shape[1], axis=-1)\n",
        "#y_pred_future = scaler.inverse_transform(prediction_copies)[:,0]\n",
        "\n",
        "inv_y = scaler.inverse_transform(test_copies)\n",
        "inv_y = inv_y[:,0]\n",
        "\n",
        "mse = mean_squared_error(inv_y, inv_yhat)\n",
        "print('Test MSE: %.3f' % mse)\n",
        "\n",
        "rmse = sqrt(mean_squared_error(inv_y, inv_yhat))\n",
        "print('Test RMSE: %.3f' % rmse)\n",
        "\n",
        "from sklearn.metrics import mean_absolute_error,mean_absolute_percentage_error\n",
        "mae = mean_absolute_error(inv_y, inv_yhat)\n",
        "print('Test MAE: %.3f' % mae)\n",
        "\n",
        "mape = mean_absolute_percentage_error(inv_y, inv_yhat)\n",
        "print('Test MAPE: %.3f' % mape)"
      ],
      "metadata": {
        "id": "jv3W6uqn5srY",
        "colab": {
          "base_uri": "https://localhost:8080/"
        },
        "outputId": "20773ae6-c016-4ac9-cd66-0d9bc4c66f62"
      },
      "execution_count": null,
      "outputs": [
        {
          "output_type": "stream",
          "name": "stdout",
          "text": [
            "Test MSE: 0.035\n",
            "Test RMSE: 0.188\n",
            "Test MAE: 0.133\n",
            "Test MAPE: 0.031\n"
          ]
        }
      ]
    },
    {
      "cell_type": "code",
      "source": [
        "#print(yhat)\n",
        "print(inv_yhat)"
      ],
      "metadata": {
        "id": "vczPOPni50bM",
        "colab": {
          "base_uri": "https://localhost:8080/"
        },
        "outputId": "8ef15208-9fc1-4a7d-9436-e92454f78562"
      },
      "execution_count": null,
      "outputs": [
        {
          "output_type": "stream",
          "name": "stdout",
          "text": [
            "[7.641266  7.592912  7.5829616 ... 5.71437   6.0453873 6.217496 ]\n"
          ]
        }
      ]
    },
    {
      "cell_type": "code",
      "source": [
        "from matplotlib import pyplot as plt\n",
        "\n",
        "#Plot the graph between actual vs predicted values\n",
        "plt.figure(figsize=(10,6))\n",
        "plt.plot(inv_y[:724], color= 'green',label = 'ACTUAL WIND SPEED ')\n",
        "plt.plot(inv_yhat[:724] , color = 'red',label = 'FORECASTED WIND SPEED ')\n",
        "plt.title(\"WIND SPEED FORECASTING USING LSTM\")\n",
        "plt.xlabel(\"TIME INTERVAL (1 DAY)\")\n",
        "plt.ylabel(\"SPEED OF WIND(KMPH)\")\n",
        "plt.legend()\n",
        "plt.show()\n",
        "plt.savefig('graph.png')"
      ],
      "metadata": {
        "id": "zZ6SdnjA54dS",
        "colab": {
          "base_uri": "https://localhost:8080/",
          "height": 421
        },
        "outputId": "420c66bf-a6fa-4e01-dc1c-221316a116e9"
      },
      "execution_count": null,
      "outputs": [
        {
          "output_type": "display_data",
          "data": {
            "text/plain": [
              "<Figure size 720x432 with 1 Axes>"
            ],
            "image/png": "[encoded data removed]"
          },
          "metadata": {
            "needs_background": "light"
          }
        },
        {
          "output_type": "display_data",
          "data": {
            "text/plain": [
              "<Figure size 432x288 with 0 Axes>"
            ]
          },
          "metadata": {}
        }
      ]
    },
    {
      "cell_type": "code",
      "source": [],
      "metadata": {
        "id": "w8-znAaP6YCW"
      },
      "execution_count": null,
      "outputs": []
    },
    {
      "cell_type": "code",
      "source": [
        "print(inv_y[:724])"
      ],
      "metadata": {
        "id": "8g1zDvtU6Z16",
        "colab": {
          "base_uri": "https://localhost:8080/"
        },
        "outputId": "4da23539-ba0a-4929-d3c6-4a1280e47836"
      },
      "execution_count": null,
      "outputs": [
        {
          "output_type": "stream",
          "name": "stdout",
          "text": [
            "[7.6  7.64 7.6  7.53 7.54 7.42 6.97 6.69 6.65 6.61 6.64 6.58 6.41 6.22\n",
            " 6.05 5.95 5.84 5.8  5.81 5.84 5.79 5.49 6.01 6.67 7.01 7.13 7.19 7.2\n",
            " 6.99 6.5  6.08 5.98 6.17 6.37 6.39 6.29 6.2  6.13 6.12 6.15 6.14 6.19\n",
            " 6.26 6.27 6.22 5.97 6.53 7.88 8.73 9.18 9.45 9.57 9.34 8.82 8.   7.68\n",
            " 7.69 7.71 7.7  7.66 7.58 7.5  7.41 7.38 7.13 6.89 6.76 6.62 6.37 5.83\n",
            " 6.44 7.24 7.71 7.88 7.98 8.15 8.22 8.12 7.74 7.72 7.91 8.06 8.18 8.17\n",
            " 8.04 7.92 7.8  7.73 7.54 7.34 7.13 6.91 6.63 6.21 6.51 7.   6.93 6.88\n",
            " 6.88 6.94 7.01 6.91 6.73 6.66 6.63 6.65 6.77 6.94 7.14 7.22 7.28 7.35\n",
            " 7.43 7.51 7.59 7.69 7.74 7.72 7.83 8.06 8.34 8.58 8.66 8.58 8.27 8.06\n",
            " 8.06 8.18 8.28 8.27 8.3  8.3  8.14 7.9  7.57 7.28 6.92 6.66 6.54 6.51\n",
            " 6.56 6.53 7.06 7.15 6.98 6.99 6.94 6.93 6.83 6.64 6.51 6.55 6.57 6.54\n",
            " 6.46 6.27 5.91 5.72 5.67 5.52 5.37 5.35 5.28 5.18 5.08 4.87 4.73 4.87\n",
            " 5.02 4.99 4.88 4.85 4.55 4.18 3.98 3.92 3.83 3.61 3.33 2.89 2.38 2.1\n",
            " 1.84 1.53 1.39 1.43 1.5  1.43 1.13 0.98 1.03 0.86 0.74 0.49 0.35 0.57\n",
            " 1.1  1.61 2.1  2.53 2.85 3.06 2.86 2.48 2.08 1.7  1.25 0.84 0.8  0.97\n",
            " 1.3  1.77 2.29 2.71 3.12 3.57 4.1  4.62 5.03 5.13 5.03 4.89 4.59 4.56\n",
            " 4.73 4.89 5.24 5.45 5.54 5.59 5.52 5.37 4.95 4.53 4.23 3.9  3.66 3.59\n",
            " 3.89 4.18 4.16 4.16 4.22 4.26 4.18 4.02 3.52 3.01 2.81 2.8  3.32 3.97\n",
            " 4.52 5.01 5.35 5.46 5.09 4.62 4.19 3.72 3.33 3.15 3.76 4.23 4.45 4.57\n",
            " 4.57 4.47 4.19 3.85 3.63 3.69 3.8  3.97 4.22 4.4  4.36 4.25 4.08 3.96\n",
            " 3.93 3.95 4.06 4.24 4.28 4.09 4.27 4.32 4.1  3.85 3.66 3.46 3.31 3.26\n",
            " 3.33 3.54 3.68 3.6  3.49 3.32 3.05 2.74 2.36 1.94 1.54 1.17 0.9  0.76\n",
            " 0.68 0.91 1.49 1.63 1.74 1.74 1.55 1.23 1.16 1.68 2.7  3.46 4.23 4.45\n",
            " 4.36 4.19 3.96 3.73 3.53 3.22 2.78 2.39 2.16 2.02 1.84 1.58 1.39 1.23\n",
            " 1.56 2.22 2.77 3.11 3.3  3.5  3.4  3.16 2.99 3.01 3.03 3.02 2.92 2.97\n",
            " 3.13 3.35 3.56 3.68 3.72 3.72 3.68 3.48 3.79 4.14 4.53 4.84 5.   5.04\n",
            " 5.12 5.14 4.98 4.87 5.01 5.19 5.31 5.37 5.4  5.41 5.36 5.29 4.93 4.57\n",
            " 4.3  4.1  3.97 3.66 4.15 4.84 5.31 5.64 5.88 6.1  6.39 6.51 6.01 5.92\n",
            " 6.05 6.13 6.16 6.17 6.18 6.14 6.01 5.85 5.76 5.84 5.98 6.11 6.1  5.65\n",
            " 6.38 7.16 7.49 7.65 7.75 7.8  7.74 7.58 6.98 6.79 6.83 6.8  6.56 6.29\n",
            " 6.01 5.81 5.6  5.39 5.2  4.96 4.76 4.66 4.62 4.23 4.16 4.36 4.6  4.81\n",
            " 4.86 4.92 4.9  4.86 4.68 4.62 4.76 4.85 5.19 5.44 5.52 5.47 5.44 5.4\n",
            " 5.17 4.96 4.87 4.7  4.45 3.98 4.06 4.01 3.84 3.65 3.48 3.34 3.15 3.03\n",
            " 2.96 2.97 3.1  3.32 3.73 4.05 4.22 4.34 4.42 4.44 4.24 4.04 3.89 3.79\n",
            " 3.7  3.52 4.15 4.79 5.05 5.04 5.01 4.98 4.9  4.91 4.86 4.89 5.04 5.19\n",
            " 5.39 5.53 5.53 5.44 5.27 5.05 4.58 4.16 3.89 3.75 3.64 3.51 4.06 4.39\n",
            " 4.53 4.6  4.67 4.78 5.09 5.37 5.3  5.26 5.37 5.51 5.63 5.61 5.52 5.37\n",
            " 5.16 4.97 4.63 4.3  4.14 4.09 4.08 3.88 4.29 5.27 6.07 6.65 7.17 7.65\n",
            " 7.29 6.94 6.72 6.77 7.   7.3  7.53 7.61 7.62 7.6  7.53 7.45 7.17 6.94\n",
            " 6.78 6.63 6.45 6.06 6.35 6.99 7.25 7.24 7.18 7.1  6.87 6.41 5.97 6.\n",
            " 6.23 6.45 6.5  6.38 6.15 5.99 5.86 5.83 5.71 5.61 5.65 5.63 5.48 5.21\n",
            " 5.74 6.51 6.97 7.15 7.21 7.36 7.36 7.27 6.78 6.59 6.74 6.94 7.16 7.25\n",
            " 7.24 7.23 7.24 7.22 6.62 5.86 5.22 4.7  4.28 3.97 4.6  5.3  5.65 5.77\n",
            " 5.72 5.62 5.76 5.92 5.71 5.72 5.85 6.09 6.23 6.25 6.26 6.23 6.23 6.28\n",
            " 6.22 6.15 6.17 6.24 6.25 6.13 6.64 7.51 8.27 8.61 8.74 8.69 8.5  7.79\n",
            " 7.01 6.78 6.87 7.09 7.21 7.15 6.98 6.75 6.53 6.35 6.12 5.96 5.89 5.82\n",
            " 5.74 5.39 5.72 6.72 7.46 7.88 8.12 8.27 8.25 8.05 7.43 7.3  7.37 7.37\n",
            " 7.36 7.39 7.28 7.06 6.88 6.77 6.57 6.43 6.36 6.33 6.28 6.02 6.63 7.62\n",
            " 8.27 8.63 8.81 8.95 8.79 8.43 8.05 8.01 8.1  8.28 8.47 8.49 8.22 7.86\n",
            " 7.52 7.18 6.84 6.61 6.56 6.54 6.45 6.14 6.3  6.63 6.77 6.76 6.66 6.51\n",
            " 6.44 6.07 5.6  5.57 5.77 5.92 6.   6.15 6.34 6.56 6.83 7.11 7.21 7.1\n",
            " 6.98 6.89 6.8  6.58 6.51 7.12 7.75 8.07 8.13 8.07]\n"
          ]
        }
      ]
    },
    {
      "cell_type": "code",
      "source": [
        "x=print(inv_yhat[:724])"
      ],
      "metadata": {
        "id": "ltyFdied6Gaf",
        "colab": {
          "base_uri": "https://localhost:8080/"
        },
        "outputId": "fc2d57f9-11eb-479e-82fb-7e8dcafc1ee6"
      },
      "execution_count": null,
      "outputs": [
        {
          "output_type": "stream",
          "name": "stdout",
          "text": [
            "[7.641266   7.592912   7.5829616  7.508073   7.4301405  7.5301576\n",
            " 7.246814   6.473469   6.4785523  6.64401    6.519342   6.6303782\n",
            " 6.4493704  6.1924953  6.0250006  5.8923745  5.869141   5.7292056\n",
            " 5.770333   5.812318   5.844382   5.7168126  5.2145677  6.502438\n",
            " 7.0034533  7.1064854  7.112742   7.1705484  7.1336703  6.681688\n",
            " 5.934093   5.685779   5.949204   6.3633614  6.46514    6.2798576\n",
            " 6.1060696  6.0729523  6.0298104  6.0886993  6.1481996  6.090439\n",
            " 6.218375   6.289615   6.2375293  6.148871   5.731      7.055952\n",
            " 8.539123   9.075276   9.330275   9.498342   9.509276   8.987543\n",
            " 8.296297   7.2826576  7.5709615  7.745718   7.667086   7.6201243\n",
            " 7.558632   7.4507256  7.3882675  7.2914505  7.332228   6.8460693\n",
            " 6.701626   6.693024   6.5140057  6.171836   5.4165864  6.981421\n",
            " 7.5098267  7.847496   7.8721666  7.979336   8.230362   8.179325\n",
            " 7.9378552  7.3205376  7.763449   8.042179   8.082156   8.179413\n",
            " 8.043747   7.834635   7.7701654  7.6526575  7.6403723  7.316394\n",
            " 7.1518335  6.943112   6.7218933  6.3897843  5.8520827  6.900976\n",
            " 7.2934303  6.700702   6.818082   6.860533   6.958585   7.013845\n",
            " 6.7249665  6.515501   6.597239   6.5752897  6.635806   6.84406\n",
            " 7.0347533  7.2464995  7.193103   7.267962   7.3531423  7.4389544\n",
            " 7.5155816  7.5936365  7.7098036  7.699046   7.6219482  7.8870134\n",
            " 8.189194   8.468629   8.635567   8.546043   8.339164   7.8343935\n",
            " 7.8185816  7.989122   8.136803   8.137726   7.975156   8.066858\n",
            " 8.002648   7.6838593  7.4354477  7.063218   6.8754773  6.445247\n",
            " 6.344051   6.3672423  6.3992567  6.508065   6.3426867  7.451898\n",
            " 6.726538   6.3328395  6.6023707  6.391877   6.444983   6.2491255\n",
            " 6.0342937  6.0306873  6.2443924  6.2091794  6.1812854  6.0976467\n",
            " 5.8352246  5.3627176  5.3948874  5.4181695  5.1091943  5.0133114\n",
            " 5.158812   4.9993334  4.8931713  4.8067613  4.4746923  4.4469686\n",
            " 4.883482   4.92537    4.6703696  4.5331745  4.6416483  4.000794\n",
            " 3.671738   3.735087   3.799933   3.6205766  3.258695   2.9509041\n",
            " 2.3298638  1.8201585  1.8803494  1.5689254  1.209322   1.2996917\n",
            " 1.4964814  1.5178351  1.2619686  0.7685418  0.82879543 1.0070629\n",
            " 0.57681036 0.57849264 0.2644787  0.63529205 0.92007685 1.431962\n",
            " 1.9671907  2.4646204  2.824672   3.010879   3.1036181  2.4016516\n",
            " 1.973458   1.6496129  1.3317742  0.8478999  0.5772438  0.87508106\n",
            " 1.121572   1.55937    2.1597576  2.7141743  2.9982114  3.4302306\n",
            " 3.9253352  4.5171933  4.987529   5.284564   5.1138434  4.8792334\n",
            " 4.742161   4.275494   4.602596   4.912879   4.995766   5.549542\n",
            " 5.5400853  5.536317   5.579313   5.3944716  5.196966   4.517533\n",
            " 4.177775   4.0078187  3.625435   3.4739594  3.547952   4.153144\n",
            " 4.358963   4.0638366  4.1486773  4.279483   4.2783513  4.048301\n",
            " 3.8175795  2.9072416  2.5158505  2.7293818  2.8413303  3.9852262\n",
            " 4.563344   4.9240665  5.3657575  5.544637   5.4360847  4.5888395\n",
            " 4.1481776  3.8053665  3.2807567  3.0043478  3.0543473  4.566845\n",
            " 4.5566998  4.5287685  4.6169405  4.5118694  4.3354063  3.8746417\n",
            " 3.5188885  3.465986   3.8374453  3.896146   4.1205096  4.4457035\n",
            " 4.5057883  4.223215   4.1072054  3.8905182  3.8527822  3.9122171\n",
            " 3.9585176  4.1510067  4.3730054  4.2479153  3.8709311  4.473916\n",
            " 4.3040266  3.8444166  3.6218603  3.5051496  3.27304    3.1825776\n",
            " 3.2347388  3.4118154  3.7416372  3.7004716  3.3367279  3.2736657\n",
            " 3.0337586  2.6633043  2.354307   1.9165323  1.5007424  1.1702766\n",
            " 0.8576932  0.69848156 0.6579547  0.6096573  1.1334195  2.0035996\n",
            " 1.569952   1.7880182  1.6693363  1.3055444  0.9272814  1.1769133\n",
            " 2.235904   3.6751742  3.9543803  4.77515    4.311696   4.0675535\n",
            " 3.9250386  3.652456   3.4418032  3.275184   2.8188357  2.2700818\n",
            " 2.004453   1.9622512  1.8790374  1.6238942  1.32201    1.2883716\n",
            " 1.1304336  1.9006968  2.8464873  3.184651   3.279035   3.350106\n",
            " 3.6314285  3.1130035  2.8134239  2.7925224  3.030892   2.9634552\n",
            " 2.9189143  2.728443   3.0396724  3.2889068  3.540537   3.7083867\n",
            " 3.718666   3.696589   3.6785872  3.608101   3.2550676  4.159857\n",
            " 4.403395   4.8253145  5.0349536  5.0601487  5.015935   5.1709986\n",
            " 5.1166134  4.7832937  4.7773867  5.1787963  5.319893   5.358036\n",
            " 5.368798   5.382946   5.380068   5.2699976  5.1969614  4.529112\n",
            " 4.2528505  4.085071   3.9358413  3.8614554  3.379322   4.64279\n",
            " 5.301799   5.557077   5.804158   5.9920616  6.214613   6.5742865\n",
            " 6.5114937  5.424194   5.954427   6.1827807  6.1356525  6.1284876\n",
            " 6.133789   6.1511683  6.0588055  5.847648   5.685157   5.6827354\n",
            " 5.922227   6.0670123  6.168716   6.0428934  5.2487597  7.0278\n",
            " 7.4704685  7.5408416  7.6670794  7.755195   7.7710037  7.6178594\n",
            " 7.3916035  6.3520684  6.743613   6.888626   6.699798   6.2487965\n",
            " 6.0203404  5.750368   5.653946   5.4124217  5.2062263  5.038924\n",
            " 4.7462087  4.6026883  4.591918   4.5923448  3.93852    4.1523643\n",
            " 4.5027356  4.7340117  4.929976   4.8404217  4.951197   4.8408647\n",
            " 4.8017783  4.4683757  4.590172   4.923208   4.884906   5.51941\n",
            " 5.5785146  5.4947934  5.3509274  5.3854995  5.3276854  4.8835325\n",
            " 4.7607193  4.8090067  4.525878   4.216933   3.5532582  4.247557\n",
            " 3.9203815  3.647401   3.4605966  3.3082914  3.1847398  2.9078205\n",
            " 2.9040556  2.8764634  2.979075   3.2382991  3.522809   4.136192\n",
            " 4.265887   4.2884903  4.4017515  4.453447   4.4178653  3.9882836\n",
            " 3.8515441  3.7584758  3.697689   3.6016216  3.3255143  4.8045917\n",
            " 5.2090726  5.136059   4.953707   4.9627075  4.9371037  4.807065\n",
            " 4.9251785  4.7849474  4.9191923  5.1737804  5.27987    5.5324945\n",
            " 5.5912657  5.458481   5.310832   5.0780225  4.825721   4.087952\n",
            " 3.7980032  3.691175   3.655494   3.53721    3.3758795  4.724462\n",
            " 4.573909   4.566918   4.616979   4.70927    4.864166   5.3836436\n",
            " 5.5559382  5.1024175  5.2029185  5.4755125  5.5936584  5.677782\n",
            " 5.503343   5.3771367  5.1810308  4.923393   4.781445   4.26277\n",
            " 3.997764   4.037685   4.0582275  4.0572476  3.6474164  4.7420783\n",
            " 6.0044074  6.4942055  6.9230256  7.450694   7.9123626  6.6934304\n",
            " 6.6089354  6.529318   6.839498   7.1665306  7.4729795  7.60494\n",
            " 7.5514755  7.538424   7.5130525  7.403777   7.3344145  6.8532677\n",
            " 6.753665   6.661061   6.504141   6.296861   5.7125874  6.7129107\n",
            " 7.38744    7.282158   7.1159525  7.078658   6.985537   6.5903835\n",
            " 5.9141145  5.5680857  6.144878   6.4259357  6.562035   6.429906\n",
            " 6.177342   5.8864565  5.8512173  5.736048   5.8097916  5.570728\n",
            " 5.5269146  5.695335   5.588907   5.3465695  5.0036807  6.1620235\n",
            " 6.8443546  7.0963316  7.1549067  7.1812754  7.453357   7.2696137\n",
            " 7.1269674  6.2267246  6.5020723  6.9218006  7.053834   7.2767286\n",
            " 7.2252383  7.1500797  7.1735272  7.2039595  7.142345   5.921191\n",
            " 5.1587954  4.708572   4.3040085  3.962379   3.7370224  5.2448506\n",
            " 5.76077    5.799356   5.7705655  5.5964956  5.4853845  5.9113374\n",
            " 5.99902    5.35027    5.750496   5.94066    6.2578235  6.2434826\n",
            " 6.163068   6.2062435  6.137868   6.1894307  6.2875705  6.096288\n",
            " 6.061352   6.185508   6.277948   6.2144165  5.9886827  7.117536\n",
            " 8.039512   8.66839    8.672064   8.672047   8.482929   8.201067\n",
            " 7.001527   6.3391333  6.7263947  6.981348   7.2257867  7.1898136\n",
            " 6.970441   6.750266   6.498907   6.3147006  6.181222   5.8902035\n",
            " 5.836446   5.8474402  5.7548003  5.6670427  5.0812488  6.0674486\n",
            " 7.264891   7.734971   8.022946   8.176571   8.2813635  8.118427\n",
            " 7.7918234  6.796383   7.325993   7.4368067  7.296656   7.2985\n",
            " 7.370843   7.103097   6.821063   6.727884   6.682567   6.3700757\n",
            " 6.333905   6.3224583  6.305536   6.226649   5.799866   7.1130376\n",
            " 8.008416   8.508122   8.747298   8.821577   8.958195   8.522638\n",
            " 8.054672   7.720483   8.027367   8.13314    8.355753   8.522805\n",
            " 8.371887   7.86493    7.5133495  7.233529   6.8974175  6.5650544\n",
            " 6.464681   6.5658045  6.51354    6.355515   5.877521   6.494134\n",
            " 6.795058   6.764864   6.6793036  6.530911   6.354049   6.3866463\n",
            " 5.677084   5.1850033  5.655088   5.94773    5.9798765  6.006135\n",
            " 6.2434335  6.448285   6.683123   6.976076   7.2436223  7.188104\n",
            " 6.9438024  6.874071   6.8115206  6.715983   6.380549   6.4900827\n",
            " 7.576444   8.032228   8.150643   8.054767  ]\n"
          ]
        }
      ]
    },
    {
      "cell_type": "code",
      "source": [
        "from numpy import savetxt\n",
        "savetxt('new.csv', inv_yhat, delimiter='/n')\n",
        "open(\"new.csv\")"
      ],
      "metadata": {
        "id": "NxukD2d_7Ydk",
        "colab": {
          "base_uri": "https://localhost:8080/"
        },
        "outputId": "3639cd33-1479-4512-97c6-99d640932c26"
      },
      "execution_count": null,
      "outputs": [
        {
          "output_type": "execute_result",
          "data": {
            "text/plain": [
              "<_io.TextIOWrapper name='new.csv' mode='r' encoding='UTF-8'>"
            ]
          },
          "metadata": {},
          "execution_count": 51
        }
      ]
    },
    {
      "cell_type": "code",
      "source": [
        "from numpy import savetxt\n",
        "savetxt('newa.csv', inv_y, delimiter='/n')\n",
        "open(\"newa.csv\")"
      ],
      "metadata": {
        "id": "SXR9q1uB8dfD",
        "colab": {
          "base_uri": "https://localhost:8080/"
        },
        "outputId": "332f98e1-e132-4ed5-e73b-f5ecc1cdc7bf"
      },
      "execution_count": null,
      "outputs": [
        {
          "output_type": "execute_result",
          "data": {
            "text/plain": [
              "<_io.TextIOWrapper name='newa.csv' mode='r' encoding='UTF-8'>"
            ]
          },
          "metadata": {},
          "execution_count": 52
        }
      ]
    }
  ]
}